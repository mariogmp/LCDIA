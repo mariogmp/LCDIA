{
 "cells": [
  {
   "cell_type": "code",
   "execution_count": 9,
   "metadata": {},
   "outputs": [],
   "source": [
    "import geocov19_functions_util as util\n",
    "import pandas as pd\n",
    "\n",
    "from statistics import mean"
   ]
  },
  {
   "cell_type": "code",
   "execution_count": 10,
   "metadata": {},
   "outputs": [],
   "source": [
    "def insert_periods(df):\n",
    "    \n",
    "    # Criando nova coluna no dataframe\n",
    "    df['period'] = 'NaN'\n",
    "    \n",
    "    # Percorrendo as linhas do dataframe e atualizando valores\n",
    "    for index, row in df.iterrows():       \n",
    "        date = util.str_to_datetime(row['created_at'])\n",
    "        year = str(date.year)\n",
    "        month = str(date.month).zfill(2)\n",
    "        period = year + \"_\" + month\n",
    "        df.loc[index,'period'] =  period\n",
    "\n",
    "    return df"
   ]
  },
  {
   "cell_type": "code",
   "execution_count": 11,
   "metadata": {},
   "outputs": [],
   "source": [
    "# Função para montar um df de Quantificadores por Período (mês e ano) a partir do df de Tweets\n",
    "def building_periods_df(df):\n",
    "\n",
    "    period_set = set()  \n",
    "    \n",
    "    for item in df.period:\n",
    "        period_set.add(item)\n",
    "    \n",
    "    # Listas utilizadas para montagem do df\n",
    "    period_list = list(period_set)\n",
    "    period_list.sort()\n",
    "    score_mean_list = []\n",
    "        \n",
    "    # Populando quantificadores para cada mês e ano\n",
    "    for index in period_list:\n",
    "        # Média de scores do período\n",
    "        score_mean = mean(df['score'].loc[df['period'] == index])\n",
    "        score_mean_list.append(score_mean)\n",
    "    \n",
    "    # Dicionário utilizado como parâmetro para a montagem\n",
    "    data={'period': pd.Series(period_list),'score_mean':pd.Series(score_mean_list)}\n",
    "    \n",
    "    # Criando df\n",
    "    df = pd.DataFrame(data)\n",
    "    \n",
    "    return df "
   ]
  },
  {
   "cell_type": "code",
   "execution_count": 12,
   "metadata": {},
   "outputs": [],
   "source": [
    "def generate_period_graphic(df_original):\n",
    "    \n",
    "    df = building_periods_df(df_original)\n",
    "    \n",
    "    # Executando merge nos dataframes de períodos para recuperar período de tweets em comum\n",
    "    x = df.period\n",
    "    y = df.score_mean\n",
    "    \n",
    "    label = 'Período'\n",
    "    color = 'red'\n",
    "    xLabel = 'Período (Ano_Mês)'\n",
    "    yLabel = 'Média Score'\n",
    "    title = 'Total de Tweets'\n",
    "      \n",
    "    plt.rcParams['figure.figsize'] = (18,9)\n",
    "    plt.plot(x,y,color=color, linestyle='solid', linewidth=2,label=label)\n",
    "\n",
    "    plt.xticks(rotation=20)\n",
    "    plt.legend(fontsize=15)\n",
    "    plt.xlabel(xLabel,fontsize=15)\n",
    "    plt.ylabel(yLabel,fontsize=15)\n",
    "    plt.title(title)\n",
    "    plt.show()"
   ]
  },
  {
   "cell_type": "code",
   "execution_count": null,
   "metadata": {},
   "outputs": [],
   "source": []
  }
 ],
 "metadata": {
  "kernelspec": {
   "display_name": "Python 3",
   "language": "python",
   "name": "python3"
  },
  "language_info": {
   "codemirror_mode": {
    "name": "ipython",
    "version": 3
   },
   "file_extension": ".py",
   "mimetype": "text/x-python",
   "name": "python",
   "nbconvert_exporter": "python",
   "pygments_lexer": "ipython3",
   "version": "3.7.6"
  }
 },
 "nbformat": 4,
 "nbformat_minor": 4
}
