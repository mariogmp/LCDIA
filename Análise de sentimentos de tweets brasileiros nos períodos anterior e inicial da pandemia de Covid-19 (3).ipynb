{
 "cells": [
  {
   "cell_type": "markdown",
   "metadata": {},
   "source": [
    "![title](images/menu_sentimentos.png)"
   ]
  },
  {
   "cell_type": "markdown",
   "metadata": {},
   "source": [
    "# Análises de sentimentos dos tweets"
   ]
  },
  {
   "cell_type": "markdown",
   "metadata": {},
   "source": [
    "Este etapa aborda o processo de **análise de sentimentos** dos *tweets* selecionados na base de dados.\n",
    "\n",
    "Foram experimentadas duas ferramentas neste processo, o **VADER (Valence Aware Dictionary and sEntiment Reasoner)**, modelo baseado em regras, especialmente refinado para a análise de sentimentos expressos em redes sociais (1) e o **SenticNet**, ferramenta que explora técnicas de Inteligência Artificial e Web Semântica (2). Estas ferramentas serão abordadas mais detalhadamente a seguir.\n",
    "\n",
    "Ambas retornam um *score* de sentimento para frases/palavras submetidas à analise que variam de **-1 (extremamente negativo) a 1 (extremamente positivo)**, além de outros resultados. Neste trabalho, os *tweets* selecionados na etapa passada são submetidos à análise pelas ferramentas citadas.\n",
    "\n",
    "Neste *notebook* abordaremos o processo de análise de sentimentos e os resultados obtidos com a utilização do VADER e do SenticNet. Por fim, **com base nesses resultados, foi escolhido um deles para ser utilizado na análise de resultados deste trabalho**."
   ]
  },
  {
   "cell_type": "markdown",
   "metadata": {},
   "source": [
    "**Importações**"
   ]
  },
  {
   "cell_type": "code",
   "execution_count": 1,
   "metadata": {},
   "outputs": [],
   "source": [
    "#from googletrans import Translator\n",
    "from google_trans_new import google_translator\n",
    "\n",
    "import sys\n",
    "import pandas as pd\n",
    "import time"
   ]
  },
  {
   "cell_type": "markdown",
   "metadata": {},
   "source": [
    "**Conexão ao banco de dados**"
   ]
  },
  {
   "cell_type": "code",
   "execution_count": 2,
   "metadata": {},
   "outputs": [],
   "source": [
    "# Criando estrutura do banco de dados\n",
    "from pymongo import MongoClient\n",
    "\n",
    "# Conexão com o servidor do MongoDB\n",
    "client = MongoClient('localhost', 27017)\n",
    "\n",
    "# Conexão com a base de dados do mongoDB\n",
    "db = client.SpedDB\n",
    "\n",
    "# Coleção onde serão inseridos os dados\n",
    "#collection = db.tweets_brasil_test2\n",
    "collection = db.tweets_brasil"
   ]
  },
  {
   "cell_type": "markdown",
   "metadata": {},
   "source": [
    "## Analisadores de sentimentos"
   ]
  },
  {
   "cell_type": "markdown",
   "metadata": {},
   "source": [
    "### VADER"
   ]
  },
  {
   "cell_type": "markdown",
   "metadata": {},
   "source": [
    "O **VADER** é um **modelo simples para análise de sentimentos baseados em regras, desenvolvido especialmente para o contexto de redes sociais**, sem requerer treinamento.\n",
    "\n",
    "Tendo como foco a análise de textos de redes sociais, este modelo, por exemplo, é capaz de avaliar padrões como excesso de pontuações, utilização de letras maiúsculas e conjunções que podem inverter a polaridade do sentimento da mensagem (4).\n",
    "\n",
    "Em seu artigo de apresentação, o VADER foi comparado com 11 analisadores de sentimentos altamente recomendáveis (como LIWC, ANEW, SentiWordNet e outros), incluindo analisadores baseados em *machine learning* (com a utilização dos algoritmos Naive Bayes, Maximum Entropy e Support Vector Machine(SVM). Em relação a estes analisadores, o VADER obteve uma performance comparável e, em muitos casos, até melhor (3).\n",
    "\n",
    "A seguir, ilustramos a submissão de um **texto** à análise de sentimentos pelo VADER."
   ]
  },
  {
   "cell_type": "code",
   "execution_count": 3,
   "metadata": {},
   "outputs": [
    {
     "name": "stdout",
     "output_type": "stream",
     "text": [
      "{'neg': 0.0, 'neu': 0.556, 'pos': 0.444, 'compound': 0.4926}\n"
     ]
    }
   ],
   "source": [
    "from vaderSentiment.vaderSentiment import SentimentIntensityAnalyzer\n",
    "\n",
    "analyzer = SentimentIntensityAnalyzer()\n",
    "\n",
    "text = \"It was a good movie!\"\n",
    "vs = analyzer.polarity_scores(text)\n",
    "print(vs)"
   ]
  },
  {
   "cell_type": "markdown",
   "metadata": {},
   "source": [
    "A chamada ao VADER realizada no item anterior nos retorna os *scores* em quatro categorias:\n",
    "\n",
    "- **Negative**\n",
    "- **Neutral**\n",
    "- **Positive**\n",
    "- **Compound** (normalização dos *scores* computados acima)\n",
    "\n",
    "O *compound* foi utilizado como resultado das análises de textos analisados neste trabalho.\n",
    "\n",
    "A seguir, ilustramos outro exemplo de utilização do VADER, com a mesma frase, pouco modificada."
   ]
  },
  {
   "cell_type": "code",
   "execution_count": 4,
   "metadata": {},
   "outputs": [
    {
     "name": "stdout",
     "output_type": "stream",
     "text": [
      "{'neg': 0.0, 'neu': 0.496, 'pos': 0.504, 'compound': 0.6209}\n"
     ]
    }
   ],
   "source": [
    "text = \"It was a good movie!!!!!\"\n",
    "vs = analyzer.polarity_scores(text)\n",
    "print(vs)"
   ]
  },
  {
   "cell_type": "markdown",
   "metadata": {},
   "source": [
    "Notamos, no exemplo anterior, que a **repetição da pontuação de exclamação** alterou **positivamente** os resultados retornados pelo VADER.\n",
    "\n",
    "A seguir é exibido outro exemplo:"
   ]
  },
  {
   "cell_type": "code",
   "execution_count": 5,
   "metadata": {},
   "outputs": [
    {
     "name": "stdout",
     "output_type": "stream",
     "text": [
      "{'neg': 0.0, 'neu': 0.404, 'pos': 0.596, 'compound': 0.7096}\n"
     ]
    }
   ],
   "source": [
    "text = \"It was a good movie :)\"\n",
    "vs = analyzer.polarity_scores(text)\n",
    "print(vs)"
   ]
  },
  {
   "cell_type": "markdown",
   "metadata": {},
   "source": [
    "A frase dessa vez, teve as exclamações trocadas pelos **caracteres \":)\"**, que simbolizam um rosto feliz. Os resultados foram alterados **positivamente**.\n",
    "\n",
    "Por fim, é mostrado um exemplo frase que expressa desaprovação:"
   ]
  },
  {
   "cell_type": "code",
   "execution_count": 6,
   "metadata": {},
   "outputs": [
    {
     "name": "stdout",
     "output_type": "stream",
     "text": [
      "{'neg': 0.541, 'neu': 0.459, 'pos': 0.0, 'compound': -0.6917}\n"
     ]
    }
   ],
   "source": [
    "text = \"It was a TERRIBLE movie!!!\"\n",
    "vs = analyzer.polarity_scores(text)\n",
    "print(vs)"
   ]
  },
  {
   "cell_type": "markdown",
   "metadata": {},
   "source": [
    "A frase contém uma **palavra de sentido negativo escrita em maiúsculas** (que na linguagem informal das redes sociais simbiliza grito, raiva) e é finalizada com **seguidas exclamações**, tendo resultados negativos retornados pelo VADER."
   ]
  },
  {
   "cell_type": "markdown",
   "metadata": {},
   "source": [
    "### SenticNet"
   ]
  },
  {
   "cell_type": "markdown",
   "metadata": {},
   "source": [
    "O **SenticNet** é um **analisador de sentimento que detecta polaridades e reconhece emoções, utilizando-se de informações denotativas e conotativas associadas a palavras e expressões** ao invés de depender simplesmente da frequência de ocorrẽncia de palavras.\n",
    "\n",
    "A base de conhecimento do SenticNet, disponibilizada em diversas línguas, fornece um conjunto de 200.000 conceitos de linguagem natural, com definições **semânticas, *sentics* e polaridades associadas**.\n",
    "\n",
    "As **semânticas definem informações denotativas** associadas a palavras e expressões, os ***sentics* definem informações conotativas** (valores de categorização de emoções em quatro dimensões afetivas) e as **polaridades retornam um número de -1 (extremamente positiva) e 1 (extremamente negativa)**, tal como o VADER, visto anteriormente.\n",
    "\n",
    "O SenticNet pode ser associado ao termo **Sentic Computing**, paradigma multidisciplinar que foca em uma **representação semântica de conceitos de linguagem natural e estrutura da frase**, indo além da ideia de abordagens estatísticas para a análise de sentimento (3).\n",
    "\n",
    "Neste trabalho, foi utilizada a **base de conhecimento em inglês**, pois, nos testes realizados, esta base retornou mais resultados do que a base em língua portuguesa.\n",
    "\n",
    "A seguir, ilustramos a submissão de uma **palavra com sentimento positivo** à análise de sentimentos pelo SenticNet(4)."
   ]
  },
  {
   "cell_type": "code",
   "execution_count": 7,
   "metadata": {},
   "outputs": [
    {
     "name": "stdout",
     "output_type": "stream",
     "text": [
      "{'polarity_value': 'positive', 'polarity_intense': '0.83', 'moodtags': ['#joy', '#admiration'], 'sentics': {'pleasantness': '1', 'attention': '0', 'sensitivity': '0', 'aptitude': '0.66'}, 'semantics': ['tenderness', 'affection', 'kindness', 'care', 'passion']}\n"
     ]
    }
   ],
   "source": [
    "from senticnet.senticnet import SenticNet\n",
    "\n",
    "sn = SenticNet()\n",
    "text = 'love'\n",
    "concept_info = sn.concept(text)\n",
    "print(concept_info)"
   ]
  },
  {
   "cell_type": "markdown",
   "metadata": {},
   "source": [
    "Podemos detalhar os resultados acima retornados pelo SenticNet da seguinte forma:\n",
    "\n",
    "- **polarity_value**: Resultado da polaridade (positiva ou negativa);\n",
    "- **polarity_intense**: Resultado consolidado da polaridade (tomando como base todos os outros resultados denotativos e conotativos);\n",
    "- **mood_tags**: *Tags* associadas à palavra; \n",
    "- **sentics**: Sentimentos denotativos (agradabilidade, atenção, sensibilidade, aptidão);\n",
    "- **semantics**: Significados semânticos para a palavra (No exemplo: ternura, afeto, bondade, cuidado, paixão).\n",
    "\n",
    "Segue abaixo um exemplo da utilização do SenticNet para uma **palavra com sentimento negativo**:"
   ]
  },
  {
   "cell_type": "code",
   "execution_count": 8,
   "metadata": {},
   "outputs": [
    {
     "name": "stdout",
     "output_type": "stream",
     "text": [
      "{'polarity_value': 'negative', 'polarity_intense': '-0.83', 'moodtags': ['#anger', '#disgust'], 'sentics': {'pleasantness': '-0.71', 'attention': '0', 'sensitivity': '0.83', 'aptitude': '-0.96'}, 'semantics': ['angry', 'mad', 'hatred', 'anger', 'resentment']}\n"
     ]
    }
   ],
   "source": [
    "from senticnet.senticnet import SenticNet\n",
    "\n",
    "sn = SenticNet()\n",
    "text = 'hate'\n",
    "concept_info = sn.concept(text)\n",
    "print(concept_info)"
   ]
  },
  {
   "cell_type": "markdown",
   "metadata": {},
   "source": [
    "Para a realização do cálculo de sentimentos dos *tweets* deste trabalho utilizando o SenticNet, foram calculadas *scores* de sentimentos em palavras válidas presentes no texto. Este procedimento será detalhado mais adiante."
   ]
  },
  {
   "cell_type": "markdown",
   "metadata": {},
   "source": [
    "## Pré-processamento"
   ]
  },
  {
   "cell_type": "markdown",
   "metadata": {},
   "source": [
    "**Recuperação de tweets a serem analisados**"
   ]
  },
  {
   "cell_type": "markdown",
   "metadata": {},
   "source": [
    "Na célula a seguir são recuperados os *tweets* aptos ao procedimento de análise de sentimentos. Estes registros são **resultados do procedimento de seleção, realizado na etapa anterior**."
   ]
  },
  {
   "cell_type": "code",
   "execution_count": 3,
   "metadata": {},
   "outputs": [],
   "source": [
    "# Recuperando tweets selecionados da base\n",
    "tweets = collection.find({'translated_text':{'$eq':None},'lang': 'pt', 'geo_source':{'$ne':'tweet_text'}}, {'tweet_id':1,'text':1,'hash_text':1, 'translated_text':1, '_id': 0})"
   ]
  },
  {
   "cell_type": "markdown",
   "metadata": {},
   "source": [
    "**Calculando hash para todos os textos**"
   ]
  },
  {
   "cell_type": "code",
   "execution_count": 4,
   "metadata": {},
   "outputs": [],
   "source": [
    "# Função para tradução de textos utilizando a ferramenta Googletrans\n",
    "def calc_hash(tweets):\n",
    "    \n",
    "    for tweet in tweets:\n",
    "        \n",
    "        hash_text = hash(tweet['text'])        \n",
    "        collection.update_one({\"tweet_id\": tweet['tweet_id']}, {'$set':{'hash_text': hash_text}}) "
   ]
  },
  {
   "cell_type": "code",
   "execution_count": 4,
   "metadata": {},
   "outputs": [],
   "source": [
    "tweets = list(tweets)"
   ]
  },
  {
   "cell_type": "code",
   "execution_count": 5,
   "metadata": {},
   "outputs": [
    {
     "data": {
      "text/plain": [
       "527266"
      ]
     },
     "execution_count": 5,
     "metadata": {},
     "output_type": "execute_result"
    }
   ],
   "source": [
    "len(tweets)"
   ]
  },
  {
   "cell_type": "code",
   "execution_count": 7,
   "metadata": {},
   "outputs": [],
   "source": [
    "calc_hash(tweets)"
   ]
  },
  {
   "cell_type": "code",
   "execution_count": null,
   "metadata": {},
   "outputs": [],
   "source": [
    "collection.create_index('hash_text')"
   ]
  },
  {
   "cell_type": "markdown",
   "metadata": {},
   "source": [
    "**Tradução dos tweets selecionados**"
   ]
  },
  {
   "cell_type": "code",
   "execution_count": 6,
   "metadata": {},
   "outputs": [],
   "source": [
    "def return_tweet_translated(hash_text): \n",
    "    tweet = collection.find_one({'hash_text':hash_text, 'translated_text':{'$ne':None}}, {'translated_text':1, '_id': 0}) \n",
    "    return tweet"
   ]
  },
  {
   "cell_type": "code",
   "execution_count": 7,
   "metadata": {},
   "outputs": [],
   "source": [
    "# Função para tradução de textos utilizando a ferramenta Googletrans\n",
    "def translate_tweets_texts(tweets):\n",
    "    \n",
    "    start = 0\n",
    "    \n",
    "    # Tempo mínimo necessário entre uma chamada e outra da API de tradução (para evitar bloqueio do IP)\n",
    "    min_time = 3\n",
    "    \n",
    "    for tweet in tweets:\n",
    "        \n",
    "        try:\n",
    "            translated = '' \n",
    "\n",
    "            # Verificando se o texto já não foi traduzido anteriormente\n",
    "            tweet_returned = return_tweet_translated(tweet['hash_text'])\n",
    "\n",
    "            if (tweet_returned != None):           \n",
    "                translated = tweet_returned['translated_text']      \n",
    "            else:  \n",
    "                \n",
    "                #translator = Translator()\n",
    "                #translated = translator.translate(text, dest='en').text   \n",
    "\n",
    "                end = time.time()\n",
    "                total_time = end - start\n",
    "\n",
    "                if (total_time < min_time):\n",
    "                    sleep_time = min_time - total_time  \n",
    "                    time.sleep(sleep_time)\n",
    "\n",
    "                translator = google_translator() \n",
    "\n",
    "                # Início da contagem do tempo de chamada à API de tradução\n",
    "                start = time.time()  \n",
    "\n",
    "                translated = translator.translate(tweet['text'], lang_tgt='en')\n",
    "\n",
    "            collection.update_one({\"tweet_id\": tweet['tweet_id']}, {'$set':{'translated_text': translated}}) \n",
    "        \n",
    "        except:\n",
    "            print(\"Erro no processamento do tweet\", tweet['tweet_id']) "
   ]
  },
  {
   "cell_type": "code",
   "execution_count": null,
   "metadata": {},
   "outputs": [
    {
     "name": "stdout",
     "output_type": "stream",
     "text": [
      "Erro no processamento do tweet 1248455872084205570\n"
     ]
    }
   ],
   "source": [
    "translate_tweets_texts(tweets)"
   ]
  },
  {
   "cell_type": "markdown",
   "metadata": {},
   "source": [
    "## Processamento das análises de sentimentos"
   ]
  },
  {
   "cell_type": "markdown",
   "metadata": {},
   "source": [
    "### Processamento das análises de sentimentos utilizando o VADER"
   ]
  },
  {
   "cell_type": "markdown",
   "metadata": {},
   "source": [
    "A função abaixo submete **o texto** do *tweet* à análise de sentimentos pelo VADER. É necessária a **tradução prévia do texto para o inglês**, tarefa realizada pela ferramenta **Googletrans** (3).\n",
    "\n",
    "A implementação abaixo percorre a lista de registros retornada pelo banco de dados, efetua a tradução do texto, submete este dado ao VADER e atualiza o registro com o *score* de sentimento resultante."
   ]
  },
  {
   "cell_type": "code",
   "execution_count": 55,
   "metadata": {},
   "outputs": [],
   "source": [
    "# Função para o cálculo do score de sentimento de um texto utilizando a ferramenta VaderSentiment.\n",
    "def calculate_vader_scores(tweets):\n",
    "    \n",
    "    for tweet in tweets:\n",
    "        \n",
    "        # Efetuando o cálculo do score de sentimento para o texto traduzido\n",
    "        analyzer = SentimentIntensityAnalyzer()\n",
    "        vs = analyzer.polarity_scores(tweet['translated_text'])\n",
    "        \n",
    "        # Recuperando o score e adicionando em uma nova célula do dataframe\n",
    "        collection.update_one({\"tweet_id\": tweet['tweet_id']}, {'$set':{\"score\": vs['compound']}}) "
   ]
  },
  {
   "cell_type": "code",
   "execution_count": 44,
   "metadata": {},
   "outputs": [
    {
     "data": {
      "text/plain": [
       "97"
      ]
     },
     "execution_count": 44,
     "metadata": {},
     "output_type": "execute_result"
    }
   ],
   "source": [
    "len(tweets)"
   ]
  },
  {
   "cell_type": "code",
   "execution_count": 45,
   "metadata": {
    "scrolled": true
   },
   "outputs": [],
   "source": [
    "calculate_vader_scores(tweets)"
   ]
  },
  {
   "cell_type": "markdown",
   "metadata": {},
   "source": [
    "### Processamento das análises de sentimentos utilizando o SenticNet"
   ]
  },
  {
   "cell_type": "markdown",
   "metadata": {},
   "source": [
    "**Funções para processamento e limpeza de textos**"
   ]
  },
  {
   "cell_type": "markdown",
   "metadata": {},
   "source": [
    "As funções seguintes são utilizadas em procedimentos de **processamento** (como tokenização) e **limpeza de palavras** de textos dos *tweets* (como remoção de *stopwords*, remoção de *urls*, caracteres indesejados e outros).\n",
    "\n",
    "Estas funções foram utilizadas para o processamento da análise de sentimentos realizada pelo **SenticNet**, que **diferentemente do VADER que analisa todo o texto, realiza a análise por palavra ou expressão**. Portanto, havia a necessidade de se submeter apenas palavras \"válidas\" à análise por esta ferramenta."
   ]
  },
  {
   "cell_type": "code",
   "execution_count": 59,
   "metadata": {},
   "outputs": [],
   "source": [
    "import spacy\n",
    "\n",
    "nlp = spacy.load(\"en_core_web_sm\")"
   ]
  },
  {
   "cell_type": "code",
   "execution_count": 60,
   "metadata": {},
   "outputs": [],
   "source": [
    "def process_tweet(text):\n",
    "\n",
    "    tokens = []\n",
    "     \n",
    "    spacy_res = nlp(text.lower())\n",
    "    for res in spacy_res:\n",
    "        if (res.is_stop == False and res.pos_ not in ['PUNCT'] and 'http' not in res.text):\n",
    "            if (res.pos_ == 'VERB'):\n",
    "                tokens.append(res.lemma_)\n",
    "            else: \n",
    "                tokens.append(res.text)                  \n",
    "    return tokens"
   ]
  },
  {
   "cell_type": "markdown",
   "metadata": {},
   "source": [
    "A função abaixo submete **as palavras contidas no texto** do *tweet* à análise de sentimentos pelo SenticNet. Antes dessa submissão, é necessário que se realize procedimentos no texto do tweet como: **tokenização do texto, limpeza de *urls*, remoção de *stopwords*, remoção de caracteres inválidos**. Estes procedimentos são necessários para que possamos submeter ao SenticNet somente **palavras válidas**.\n",
    "\n",
    "Observa-se que com a utilização do SenticNet, pelas suas características, **perde-se a capacidade de analisar pontuações ou caracteres comumente utilizados nas redes sociais**, diferente do ocorrido com a utilização do VADER.\n",
    "\n",
    "Adotamos como regra, com a finalidade de **diminuir a probabilidade de resultados incorretos no cálculo final dos sentimentos das frases**, que somente seriam considerados para a análise, **textos que possuíssem no mínimo metade de palavras com resultados retornados pelo SenticNet** (a ferramenta somente retorna resultados para palavras que constem em sua base de conhecimento)."
   ]
  },
  {
   "cell_type": "code",
   "execution_count": 61,
   "metadata": {},
   "outputs": [],
   "source": [
    "# Funções para o cálculo da intensidade da polaridade de um texto utilizando a ferramenta SenticNet.\n",
    "def calculate_senticnet_scores(tweets):\n",
    "        \n",
    "    for tweet in tweets:        \n",
    "        try:  \n",
    "            # Realizando a limpeza da frase\n",
    "            words = process_tweet(tweet['translated_text'])\n",
    "\n",
    "            # Efetuando o cálculo do score de sentimento para o texto\n",
    "            polarity = calculate_senticnet_words_scores(words)\n",
    "\n",
    "            # Recuperando o score e adicionando em uma nova célula do dataframe\n",
    "            collection.update_one({\"tweet_id\": tweet['tweet_id']},{'$set':{\"polarity\": polarity}})  \n",
    "        \n",
    "        except Exception as e:\n",
    "            print(e)\n",
    "            e = sys.exc_info()[1]\n",
    "            print (\"Unexpected error:\", e)\n",
    "              "
   ]
  },
  {
   "cell_type": "code",
   "execution_count": 62,
   "metadata": {},
   "outputs": [],
   "source": [
    "# Função para realizar o cálculo de polaridades do SenticNet\n",
    "\n",
    "# Foram considerados para o cálculo somente textos em que no mínimo 50% das palavras tenham tido polaridade \n",
    "# retornada pela base de conhecimento do SenticNet em inglês).\n",
    "def calculate_senticnet_words_scores(words):\n",
    "        \n",
    "    if(len(words) > 0):\n",
    "        min_words_count = len(words)/2\n",
    "        found_words = 0\n",
    "        total_polarity_value = 0\n",
    "        language_code = 'en'\n",
    "\n",
    "        for word in words:\n",
    "            word = word.lower()\n",
    "            try:\n",
    "                sn = SenticNet('en')\n",
    "                polarity_str = sn.polarity_intense(word)\n",
    "                polarity_value = float(polarity_str)      \n",
    "                total_polarity_value = total_polarity_value + polarity_value\n",
    "                found_words = found_words + 1\n",
    "            except KeyError:\n",
    "                e = sys.exc_info()[1]\n",
    "                print (\"Word not found:\", e)\n",
    "\n",
    "        # O cálculo será considerado somente se ao menos metade das palavras forem encontradas na base de conhecimento do SenticNet\n",
    "        if found_words < min_words_count:\n",
    "            return None\n",
    "        else:\n",
    "            polarity = total_polarity_value / found_words\n",
    "            return polarity\n",
    "    else:\n",
    "        return None"
   ]
  },
  {
   "cell_type": "code",
   "execution_count": 63,
   "metadata": {},
   "outputs": [
    {
     "name": "stdout",
     "output_type": "stream",
     "text": [
      "Word not found: '🥰'\n",
      "Word not found: '🏻'\n",
      "Word not found: '🏫'\n",
      "Word not found: '📗'\n",
      "Word not found: '📒'\n",
      "Word not found: '📚'\n",
      "Word not found: '👧'\n",
      "Word not found: 'coronavirus'\n",
      "Word not found: '#'\n",
      "Word not found: 'cuvid19'\n",
      "Word not found: '#'\n",
      "Word not found: 'coronavirus'\n",
      "Word not found: '#'\n",
      "Word not found: '#'\n",
      "Word not found: 'johnlennon'\n",
      "Word not found: 'são'\n",
      "Word not found: 'bernardo'\n",
      "Word not found: 'campo'\n",
      "Word not found: 'brazil'\n",
      "Word not found: '@imprensacubatao'\n",
      "Word not found: 'measures'\n",
      "Word not found: 'covid-19'\n",
      "Word not found: '/'\n",
      "Word not found: 'cubataonoticias'\n",
      "Word not found: 'italian'\n",
      "Word not found: 'universities'\n",
      "Word not found: 'd'\n",
      "Word not found: 'effects'\n",
      "Word not found: '//t.co'\n",
      "Word not found: '/'\n",
      "Word not found: 'pqvlxs3gq1'\n",
      "Word not found: '\\n'\n",
      "Word not found: '\\n'\n",
      "Word not found: '🏍'\n",
      "Word not found: '🛵'\n",
      "Word not found: '🏍'\n",
      "Word not found: '🛵'\n",
      "Word not found: '🏍'\n",
      "Word not found: '🛵'\n",
      "Word not found: '🏍'\n",
      "Word not found: '🛵'\n",
      "Word not found: '\\n'\n",
      "Word not found: 'covid-19'\n",
      "Word not found: 'guarulhos'\n",
      "Word not found: 'thousands'\n",
      "Word not found: 'analyzed'\n",
      "Word not found: 'cases'\n",
      "Word not found: 'covid-19'\n",
      "Word not found: '❤'\n",
      "Word not found: 'comments'\n",
      "Word not found: '@lucidiotsila'\n",
      "Word not found: 'pedro'\n",
      "Word not found: '#'\n",
      "Word not found: 'instagram'\n",
      "Word not found: 'want'\n",
      "Word not found: 'marcelomonteiro6871'\n",
      "Word not found: '#'\n",
      "Word not found: 'apartment21'\n",
      "Word not found: '#'\n",
      "Word not found: 'ap21'\n",
      "Word not found: '#'\n",
      "Word not found: 'forcasa'\n",
      "Word not found: '#'\n",
      "Word not found: 'coronavirus'\n",
      "Word not found: '#'\n",
      "Word not found: 'covid19'\n",
      "Word not found: '21'\n",
      "Word not found: '#'\n",
      "Word not found: '#'\n",
      "Word not found: 'coronavirus'\n",
      "Word not found: '#'\n",
      "Word not found: 'coronavirusworld'\n",
      "Word not found: 'culpadocorona'\n",
      "Word not found: 'brasilia'\n",
      "Word not found: 'brazil'\n",
      "Word not found: 'covid-19'\n",
      "Word not found: '2019'\n",
      "Word not found: 'sars'\n",
      "Word not found: 'cov-2'\n",
      "Word not found: '#'\n",
      "Word not found: 'coronavirus'\n",
      "Word not found: 'numbers'\n",
      "Word not found: '#'\n",
      "Word not found: 'paraíba'\n",
      "Word not found: 'secretariat'\n",
      "Word not found: 'saude'\n",
      "Word not found: '#'\n",
      "Word not found: 'chegodento'\n",
      "Word not found: '#'\n",
      "Word not found: 'deueshbom'\n",
      "Word not found: '#'\n",
      "Word not found: 'paraíba'\n",
      "Word not found: 'coronaviru'\n",
      "Word not found: '#'\n",
      "Word not found: 'boatarde'\n",
      "Word not found: 'joão'\n",
      "Word not found: 'pessoa'\n",
      "Word not found: 'brazil'\n",
      "Word not found: '📷'\n",
      "Word not found: '🌜'\n",
      "Word not found: '#'\n",
      "Word not found: 'feemcasa'\n",
      "Word not found: 'passinho'\n",
      "Word not found: '/'\n",
      "Word not found: 'rs'\n",
      "Word not found: '03/30/2020'\n",
      "Word not found: '10:30'\n",
      "Word not found: 'p.m.'\n",
      "Word not found: 't.co/2a9nhmffq7'\n",
      "Word not found: '30/03/2020'\n",
      "Word not found: '\\n\\n'\n",
      "Word not found: '#'\n",
      "Word not found: 'rlanguage'\n",
      "Word not found: '#'\n",
      "Word not found: 'flexdashboar'\n",
      "Word not found: '#'\n",
      "Word not found: '#'\n",
      "Word not found: 'covid19'\n",
      "Word not found: 'covid'\n",
      "Word not found: '#'\n",
      "Word not found: 'rstat'\n",
      "Word not found: '#'\n",
      "Word not found: 'analisede'\n",
      "Word not found: '#'\n",
      "Word not found: '#'\n",
      "Word not found: '#'\n",
      "Word not found: 'rmarkdown'\n",
      "Word not found: '#'\n",
      "Word not found: 'statistics'\n",
      "Word not found: '#'\n",
      "Word not found: 'rstudio'\n",
      "Word not found: 'ilheus'\n",
      "Word not found: '🔴'\n",
      "Word not found: '⚫'\n",
      "Word not found: '#'\n",
      "Word not found: 'saúdesandorilho'\n",
      "Word not found: '🔴'\n",
      "Word not found: '⚫'\n",
      "Word not found: '#'\n",
      "Word not found: 'sanderilho'\n",
      "Word not found: '#'\n",
      "Word not found: 'cuvid19'\n",
      "Word not found: '@flamengo'\n",
      "Word not found: '15'\n",
      "Word not found: 'kafta'\n",
      "Word not found: 'xpetolanches'\n",
      "Word not found: 'burgers'\n",
      "Word not found: '#'\n",
      "Word not found: 'curitiba'\n",
      "Word not found: '#'\n",
      "Word not found: 'quercentena'\n",
      "Word not found: '#'\n",
      "Word not found: 'solamento'\n",
      "Word not found: '#'\n",
      "Word not found: 'coronavirus'\n",
      "Word not found: '#'\n",
      "Word not found: 'craftburger'\n",
      "Word not found: '/'\n",
      "Word not found: 'dxip35rt1i'\n",
      "Word not found: 'crops'\n",
      "Word not found: '#'\n",
      "Word not found: 'oagronoope'\n",
      "Word not found: '#'\n",
      "Word not found: 'cuvid19'\n",
      "Word not found: '#'\n",
      "Word not found: 'fiquemcasa'\n",
      "Word not found: 'ribeirão'\n",
      "Word not found: 'preto'\n",
      "Word not found: '#'\n",
      "Word not found: 'enchenine'\n",
      "Word not found: '#'\n",
      "Word not found: 'quantena'\n",
      "Word not found: '#'\n",
      "Word not found: 'emcasa'\n",
      "Word not found: '#'\n",
      "Word not found: 'covid19'\n",
      "Word not found: 'coronavirus'\n",
      "Word not found: 'trees'\n",
      "Word not found: 'visits'\n",
      "Word not found: 'virtual'\n",
      "Word not found: 'coronaviru'\n",
      "Word not found: '#'\n",
      "Word not found: 'covid19'\n",
      "Word not found: '#'\n",
      "Word not found: 'proprendorism'\n",
      "Word not found: '#'\n",
      "Word not found: '#'\n",
      "Word not found: 'açosmesculpa'\n",
      "Word not found: '#'\n",
      "Word not found: 'leandrolima'\n",
      "Word not found: '#'\n",
      "Word not found: 'opoderasmeta'\n",
      "Word not found: '#'\n",
      "Word not found: '#'\n",
      "Word not found: 'emprise'\n",
      "Word not found: '#'\n",
      "Word not found: 'brazil'\n",
      "Word not found: 'photos'\n",
      "Word not found: '@talbulgareli'\n",
      "Word not found: '#'\n",
      "Word not found: 'coronavirus'\n",
      "Word not found: 'ning7em'\n",
      "Word not found: 'q'\n",
      "Word not found: 'u'\n",
      "Word not found: 'r'\n",
      "Word not found: 'n'\n",
      "Word not found: 't'\n",
      "Word not found: 'n'\n",
      "Word not found: '16'\n",
      "Word not found: '🤠'\n",
      "Word not found: '🤠'\n",
      "Word not found: '🤠'\n",
      "Word not found: '🤠'\n",
      "Word not found: '🤠'\n",
      "Word not found: '🤠'\n",
      "Word not found: '🤠'\n",
      "Word not found: '🤠'\n",
      "Word not found: '🤠'\n",
      "Word not found: '🤠'\n",
      "Word not found: '🤠'\n",
      "Word not found: '🤠'\n",
      "Word not found: '#'\n",
      "Word not found: 'repost'\n",
      "Word not found: '@'\n",
      "Word not found: 'livestock_brasil'\n",
      "Word not found: '•'\n",
      "Word not found: '•'\n",
      "Word not found: '•'\n",
      "Word not found: '•'\n",
      "Word not found: '•'\n",
      "Word not found: '•'\n",
      "Word not found: '•'\n",
      "Word not found: '•'\n",
      "Word not found: '•'\n",
      "Word not found: '•'\n",
      "Word not found: '•'\n",
      "Word not found: '•'\n",
      "Word not found: '•'\n",
      "Word not found: '•'\n",
      "Word not found: '•'\n",
      "Word not found: '•'\n",
      "Word not found: '•'\n",
      "Word not found: '•'\n",
      "Word not found: '•'\n",
      "Word not found: '•'\n",
      "Word not found: '•'\n",
      "Word not found: '•'\n",
      "Word not found: '•'\n",
      "Word not found: '•'\n",
      "Word not found: '•'\n",
      "Word not found: '•'\n",
      "Word not found: '•'\n",
      "Word not found: '•'\n",
      "Word not found: '•'\n",
      "Word not found: '•'\n",
      "Word not found: '•'\n",
      "Word not found: '•'\n",
      "Word not found: '•'\n",
      "Word not found: '•'\n",
      "Word not found: '•'\n",
      "Word not found: '•'\n",
      "Word not found: '•'\n",
      "Word not found: '•'\n",
      "Word not found: '•'\n",
      "Word not found: '•'\n",
      "Word not found: '•'\n",
      "Word not found: '•'\n",
      "Word not found: '•'\n",
      "Word not found: '•'\n",
      "Word not found: '•'\n",
      "Word not found: '•'\n",
      "Word not found: '•'\n",
      "Word not found: '•'\n",
      "Word not found: '•'\n",
      "Word not found: '•'\n",
      "Word not found: '•'\n",
      "Word not found: '•'\n",
      "Word not found: '•'\n",
      "Word not found: '•'\n",
      "Word not found: '•'\n",
      "Word not found: '•'\n",
      "Word not found: '•'\n",
      "Word not found: '•'\n",
      "Word not found: '•'\n",
      "Word not found: '•'\n",
      "Word not found: '•'\n",
      "Word not found: '•'\n",
      "Word not found: '•'\n",
      "Word not found: '•'\n",
      "Word not found: '•'\n",
      "Word not found: '•'\n",
      "Word not found: '•'\n",
      "Word not found: '•'\n",
      "Word not found: '•'\n",
      "Word not found: '•'\n",
      "Word not found: '•'\n",
      "Word not found: '•'\n",
      "Word not found: '•'\n",
      "Word not found: '•'\n",
      "Word not found: '•'\n",
      "Word not found: '•'\n",
      "Word not found: '•'\n",
      "Word not found: '•'\n",
      "Word not found: '•'\n",
      "Word not found: '•'\n",
      "Word not found: '•'\n",
      "Word not found: '•'\n",
      "Word not found: '•'\n",
      "Word not found: '•'\n",
      "Word not found: '•'\n",
      "Word not found: '•'\n",
      "Word not found: '•'\n",
      "Word not found: '•'\n",
      "Word not found: '•'\n",
      "Word not found: '•'\n",
      "Word not found: '•'\n",
      "Word not found: '•'\n",
      "Word not found: '•'\n",
      "Word not found: '•'\n",
      "Word not found: '•'\n",
      "Word not found: '•'\n",
      "Word not found: '•'\n",
      "Word not found: '•'\n",
      "Word not found: '•'\n",
      "Word not found: '•'\n",
      "Word not found: '•'\n",
      "Word not found: '•'\n",
      "Word not found: '•'\n",
      "Word not found: '•'\n",
      "Word not found: '•'\n",
      "Word not found: '•'\n",
      "Word not found: '•'\n",
      "Word not found: '•'\n",
      "Word not found: '•'\n",
      "Word not found: '•'\n",
      "Word not found: '•'\n",
      "Word not found: '•'\n",
      "Word not found: '•'\n",
      "Word not found: '•'\n",
      "Word not found: '•'\n",
      "Word not found: '•'\n",
      "Word not found: '+'\n",
      "Word not found: 'aligator'\n",
      "Word not found: 'marília'\n",
      "Word not found: 'av'\n",
      "Word not found: 'getulio'\n",
      "Word not found: 'vargas'\n",
      "Word not found: 'beans'\n",
      "Word not found: '#'\n",
      "Word not found: 'cuvid19'\n",
      "Word not found: '#'\n",
      "Word not found: 'feijao'\n",
      "Word not found: '#'\n",
      "Word not found: 'kuka'\n",
      "Word not found: 'caruaru'\n",
      "Word not found: 'g'\n",
      "Word not found: 'times'\n",
      "Word not found: 'coronavirus'\n",
      "Word not found: 'masks'\n",
      "Word not found: 'masks'\n",
      "Word not found: 'theca'\n"
     ]
    },
    {
     "name": "stdout",
     "output_type": "stream",
     "text": [
      "Word not found: 'rolet'\n",
      "Word not found: 'flamengo'\n",
      "Word not found: 'kkkk'\n",
      "Word not found: 'sailings'\n",
      "Word not found: 'burials'\n",
      "Word not found: 'covid-19'\n",
      "Word not found: 'announces'\n",
      "Word not found: 'measures'\n",
      "Word not found: 'votes'\n",
      "Word not found: 'burials'\n",
      "Word not found: 'victims'\n",
      "Word not found: '//'\n",
      "Word not found: 't'\n",
      "Word not found: '.co'\n",
      "Word not found: '/'\n",
      "Word not found: 'want'\n",
      "Word not found: 'cuteness'\n",
      "Word not found: '❤'\n",
      "Word not found: '❤'\n",
      "Word not found: '❤'\n",
      "Word not found: 'cololavíux'\n",
      "Word not found: '🤣'\n",
      "Word not found: '🤣'\n",
      "Word not found: '🤣'\n",
      "Word not found: '#'\n",
      "Word not found: 'coronavirus'\n",
      "Word not found: '#'\n",
      "Word not found: 'covid19'\n",
      "Word not found: 'covovidbrasil'\n",
      "Word not found: 'brazil'\n",
      "Word not found: 'bananinhas'\n",
      "Word not found: '😷'\n",
      "Word not found: '#'\n",
      "Word not found: 'floripa'\n",
      "Word not found: 'tv'\n",
      "Word not found: 'dogs'\n",
      "Word not found: '🐶'\n",
      "Word not found: '#'\n",
      "Word not found: 'quarantena'\n",
      "Word not found: '#'\n",
      "Word not found: '#'\n",
      "Word not found: 'picoftheday'\n",
      "Word not found: '#'\n",
      "Word not found: '#'\n",
      "Word not found: '#'\n",
      "Word not found: '#'\n",
      "Word not found: 'instagood'\n",
      "Word not found: '#'\n",
      "Word not found: 'likefiflike'\n",
      "Word not found: '#'\n",
      "Word not found: 'instagram'\n",
      "Word not found: '#'\n",
      "Word not found: 'boysp'\n",
      "Word not found: '#'\n",
      "Word not found: 'gayboy'\n",
      "Word not found: '#'\n",
      "Word not found: '#'\n",
      "Word not found: 'instaboy'\n",
      "Word not found: '#'\n",
      "Word not found: 'insta'\n",
      "Word not found: '#'\n",
      "Word not found: 'want'\n",
      "Word not found: 'rumes'\n",
      "Word not found: '🥺'\n",
      "Word not found: '🤣'\n",
      "Word not found: '😂'\n",
      "Word not found: '🤣'\n",
      "Word not found: '😂'\n",
      "Word not found: '🤣'\n",
      "Word not found: '😍'\n",
      "Word not found: '😍'\n",
      "Word not found: '#'\n",
      "Word not found: 'tobias'\n",
      "Word not found: '#'\n",
      "Word not found: '#'\n",
      "Word not found: 'quarentena'\n",
      "Word not found: '#'\n",
      "Word not found: 'coronaviruspandemic'\n",
      "Word not found: 'manaus'\n",
      "Word not found: 'brazil'\n",
      "Word not found: 'ne'\n",
      "Word not found: 'covid-19'\n",
      "Word not found: '#'\n",
      "Word not found: '#'\n",
      "Word not found: 'solamentosocial'\n",
      "Word not found: '@tvmirante'\n",
      "Word not found: 'redeglobo'\n",
      "Word not found: '#'\n",
      "Word not found: 'jornalhoje'\n",
      "Word not found: 'são'\n",
      "Word not found: 'luís'\n",
      "Word not found: 'brazil'\n",
      "Word not found: 'stayhome'\n",
      "Word not found: '#'\n",
      "Word not found: 'staysafe'\n",
      "Word not found: '#'\n",
      "Word not found: 'dontpanic'\n",
      "Word not found: 'rio'\n",
      "Word not found: 'de'\n",
      "Word not found: 'janeiro'\n",
      "Word not found: 'rio'\n",
      "Word not found: 'de'\n",
      "Word not found: 'janeiro'\n",
      "Word not found: 'changes'\n",
      "Word not found: 'fgts'\n",
      "Word not found: '#'\n",
      "Word not found: 'studies'\n",
      "Word not found: '#'\n",
      "Word not found: 'fgts'\n",
      "Word not found: 'withdrawals'\n",
      "Word not found: '#'\n",
      "Word not found: 'covid'\n",
      "Word not found: '#'\n",
      "Word not found: 'maidpoweramor'\n",
      "Word not found: '_'\n",
      "Word not found: 'agenção'\n",
      "Word not found: '_'\n",
      "Word not found: 'steps'\n",
      "Word not found: 'customers'\n",
      "Word not found: 'friends'\n",
      "Word not found: 'catanja'\n",
      "Word not found: 'crafts'\n",
      "Word not found: 'containment'\n",
      "Word not found: 'measures'\n",
      "Word not found: 'covid-19'\n",
      "Word not found: 'caps'\n",
      "Word not found: 'masks'\n",
      "Word not found: '#'\n",
      "Word not found: '#'\n",
      "Word not found: 'coronavirusbrazil'\n",
      "Word not found: '#'\n",
      "Word not found: 'covid-19'\n",
      "Word not found: '#'\n",
      "Word not found: 'coronga'\n",
      "Word not found: '#'\n",
      "Word not found: 'renf'\n",
      "Word not found: 'jesus'\n",
      "Word not found: '//'\n",
      "Word not found: 't.'\n",
      "Word not found: 'co'\n",
      "Word not found: '/'\n",
      "Word not found: '9ubbhbhea'\n",
      "Word not found: 'governors'\n",
      "Word not found: '50'\n",
      "Word not found: 'measures'\n",
      "Word not found: 'covid-19'\n",
      "Word not found: 'coronavirus'\n",
      "Word not found: '#'\n",
      "Word not found: '#'\n",
      "Word not found: 'matogrossodosul'\n",
      "Word not found: '#'\n",
      "Word not found: 'governors'\n",
      "Word not found: '#'\n",
      "Word not found: 'pandemia'\n",
      "Word not found: 'mato'\n",
      "Word not found: 'grosso'\n",
      "Word not found: 'sul'\n",
      "Word not found: 'monique'\n",
      "Word not found: '#'\n",
      "Word not found: '#'\n",
      "Word not found: '#'\n",
      "Word not found: 'coronavirus'\n",
      "Word not found: '#'\n",
      "Word not found: 'skills'\n",
      "Word not found: '#'\n",
      "Word not found: 'aninhaav'\n",
      "Word not found: '#'\n",
      "Word not found: 'instagram'\n",
      "Word not found: '#'\n",
      "Word not found: '#'\n",
      "Word not found: '#'\n",
      "Word not found: 'bessa'\n",
      "Word not found: 'joão'\n",
      "Word not found: 'like'\n",
      "Word not found: '#'\n",
      "Word not found: 'covid19'\n",
      "Word not found: 'coronaviru'\n",
      "Word not found: '#'\n",
      "Word not found: 'nakedgun'\n",
      "Word not found: '#'\n",
      "Word not found: 'corrakeapoliciavemai'\n",
      "Word not found: 'sao'\n",
      "Word not found: 'paulo'\n",
      "Word not found: 'brazil'\n",
      "Word not found: 'saudades'\n",
      "Word not found: '🦁'\n",
      "Word not found: '🐻'\n",
      "Word not found: '🐯'\n",
      "Word not found: 'ignacio.reporte'\n",
      "Word not found: '@julianrengifo'\n",
      "Word not found: '#'\n",
      "Word not found: 'friendshipgoals'\n",
      "Word not found: 'roldacamera'\n",
      "Word not found: '#'\n",
      "Word not found: '#'\n",
      "Word not found: 'stayhome'\n",
      "Word not found: 'friends'\n",
      "Word not found: '🤗'\n",
      "Word not found: '/'\n",
      "Word not found: 'u60nnj1mek'\n",
      "Word not found: 'oxeeee'\n",
      "Word not found: '#'\n",
      "Word not found: 'coronavirus'\n",
      "Word not found: '_'\n",
      "Word not found: 'agenção'\n",
      "Word not found: '_'\n",
      "Word not found: 'steps'\n",
      "Word not found: 'customers'\n",
      "Word not found: 'friends'\n",
      "Word not found: 'catanja'\n",
      "Word not found: 'crafts'\n",
      "Word not found: 'containment'\n",
      "Word not found: 'measures'\n",
      "Word not found: 'covid-19'\n",
      "Word not found: 'caps'\n",
      "Word not found: 'masks'\n",
      "Word not found: '🤦'\n",
      "Word not found: '🏻'\n",
      "Word not found: '♀'\n",
      "Word not found: '️'\n",
      "Word not found: '🤦'\n",
      "Word not found: '🏻'\n",
      "Word not found: '♀'\n",
      "Word not found: '️'\n",
      "Word not found: '🤦'\n",
      "Word not found: '🏻'\n",
      "Word not found: '♀'\n",
      "Word not found: '️'\n",
      "Word not found: '🤦'\n",
      "Word not found: '🏻'\n",
      "Word not found: '♀'\n",
      "Word not found: '️'\n",
      "Word not found: '🤦'\n",
      "Word not found: '🏻'\n",
      "Word not found: '♀'\n",
      "Word not found: '️'\n",
      "Word not found: '🤷'\n",
      "Word not found: '🏻'\n",
      "Word not found: '♀'\n",
      "Word not found: '️'\n",
      "Word not found: '🤷'\n",
      "Word not found: '🏻'\n",
      "Word not found: '♀'\n",
      "Word not found: '️'\n",
      "Word not found: '🤷'\n",
      "Word not found: '🏻'\n",
      "Word not found: '♀'\n",
      "Word not found: '️'\n",
      "Word not found: '🤷'\n",
      "Word not found: '🏻'\n",
      "Word not found: '♀'\n",
      "Word not found: '️'\n",
      "Word not found: '🤷'\n",
      "Word not found: '🏻'\n",
      "Word not found: '♀'\n",
      "Word not found: '️'\n",
      "Word not found: '#'\n",
      "Word not found: 'coronavirus'\n",
      "Word not found: 'beaches'\n",
      "Word not found: '//'\n",
      "Word not found: 't'\n",
      "Word not found: '.co'\n",
      "Word not found: '/'\n",
      "Word not found: '8ejw22qxgi'\n",
      "Word not found: 'closed'\n",
      "Word not found: '⠀'\n",
      "Word not found: '⠀'\n",
      "Word not found: 'illusions'\n",
      "Word not found: '|'\n",
      "Word not found: 'illusions'\n",
      "Word not found: 'unfoldings'\n",
      "Word not found: 'covid-19'\n",
      "Word not found: 'rio'\n",
      "Word not found: 'de'\n",
      "Word not found: 'janeiro'\n",
      "Word not found: 'guidelines'\n",
      "Word not found: 'paracelso'\n",
      "Word not found: '16th'\n",
      "Word not found: 'stayhome'\n",
      "Word not found: '#'\n",
      "Word not found: 'quarentine'\n",
      "Word not found: '#'\n",
      "Word not found: 'homeoffice'\n",
      "Word not found: '#'\n",
      "Word not found: 'lar'\n",
      "Word not found: '#'\n",
      "Word not found: 'coronaviru'\n",
      "Word not found: '#'\n",
      "Word not found: '#'\n",
      "Word not found: 'likeme'\n",
      "Word not found: '#'\n",
      "Word not found: 'likefirlike'\n",
      "Word not found: '#'\n",
      "Word not found: 'photooftheday'\n",
      "Word not found: '#'\n",
      "Word not found: '//'\n",
      "Word not found: 't.co/x9w3sug6xc'\n",
      "Word not found: '#'\n",
      "Word not found: 'cuvid19'\n",
      "Word not found: '#'\n",
      "Word not found: 'jovempan'\n",
      "Word not found: '#'\n",
      "Word not found: 'radiojovempan'\n",
      "Word not found: '#'\n",
      "Word not found: '#'\n",
      "Word not found: 'agrifeteradium'\n",
      "Word not found: 'jovempanlondrina'\n",
      "Word not found: '#'\n",
      "Word not found: 'ibope'\n",
      "Word not found: '#'\n",
      "Word not found: '#'\n",
      "Word not found: 'fm'\n",
      "Word not found: '#'\n",
      "Word not found: '#'\n",
      "Word not found: 'musica'\n",
      "Word not found: '#'\n",
      "Word not found: 'londrina'\n",
      "Word not found: '🙄'\n",
      "Word not found: 'loves'\n",
      "Word not found: '🥰'\n",
      "Word not found: '🙏'\n",
      "Word not found: '💗'\n",
      "Word not found: '#'\n",
      "Word not found: 'coronaviru'\n",
      "Word not found: '#'\n",
      "Word not found: 'todoscontraocoronavirus'\n",
      "Word not found: '#'\n",
      "Word not found: 'cabalogo'\n",
      "Word not found: 'niterói'\n",
      "Word not found: 'rio'\n",
      "Word not found: 'de'\n",
      "Word not found: 'janeiro'\n",
      "Word not found: 'brazil'\n",
      "Word not found: 'coronavirus'\n",
      "Word not found: 'covid-19'\n",
      "Word not found: 'favela'\n",
      "Word not found: 'cotidian'\n",
      "Word not found: '#'\n",
      "Word not found: 'favela'\n",
      "Word not found: '#'\n",
      "Word not found: 'cidededeus'\n",
      "Word not found: '#'\n",
      "Word not found: 'coronavirus'\n",
      "Word not found: '#'\n",
      "Word not found: '#'\n",
      "Word not found: 'cuvid19'\n",
      "Word not found: '#'\n",
      "Word not found: 'riodejaneiro'\n",
      "Word not found: '#'\n",
      "Word not found: 'brazil'\n",
      "Word not found: '#'\n",
      "Word not found: 'lookcomplexo'\n",
      "Word not found: '#'\n",
      "Word not found: 'goodvibes'\n",
      "Word not found: '#'\n",
      "Word not found: '#'\n",
      "Word not found: '#'\n",
      "Word not found: 'instaman'\n",
      "Word not found: '#'\n",
      "Word not found: 'instaboy'\n",
      "Word not found: '#'\n",
      "Word not found: 'homeoffice'\n",
      "Word not found: '#'\n",
      "Word not found: '#'\n",
      "Word not found: 'stayhome'\n",
      "Word not found: '#'\n",
      "Word not found: 'staysafe'\n",
      "Word not found: 'são'\n",
      "Word not found: 'paulo'\n",
      "Word not found: 'brazil'\n",
      "Word not found: '#'\n",
      "Word not found: 'quantena'\n",
      "Word not found: '#'\n",
      "Word not found: 'quarantinacoronavirus'\n",
      "Word not found: '#'\n",
      "Word not found: 'coronachan'\n",
      "Word not found: '#'\n",
      "Word not found: 'coronachallenge'\n",
      "Word not found: 'coronavirusbrazil'\n",
      "Word not found: '#'\n",
      "Word not found: 'coronavirus'\n",
      "Word not found: '#'\n",
      "Word not found: 'nes8bit'\n",
      "Word not found: '#'\n",
      "Word not found: 'nintendinho'\n",
      "Word not found: '#'\n",
      "Word not found: 'famiclones'\n",
      "Word not found: 'bragança'\n",
      "Word not found: 'sao'\n",
      "Word not found: 'paulo'\n",
      "Word not found: 'brazil'\n",
      "Word not found: 'macula'\n",
      "Word not found: 'disfebation'\n",
      "Word not found: 'childforward'\n",
      "Word not found: '#'\n",
      "Word not found: 'ods35'\n",
      "Word not found: '#'\n",
      "Word not found: 'faisueapar'\n",
      "Word not found: '#'\n",
      "Word not found: 'cuvid19'\n",
      "Word not found: '14'\n",
      "Word not found: '/'\n",
      "Word not found: '14'\n",
      "Word not found: '#'\n",
      "Word not found: '#'\n",
      "Word not found: 'quarantineeandchill'\n",
      "Word not found: '#'\n",
      "Word not found: 'stayhome'\n",
      "Word not found: '#'\n",
      "Word not found: 'staysafe'\n",
      "Word not found: '#'\n",
      "Word not found: 'stayathome'\n",
      "Word not found: '#'\n",
      "Word not found: 'fiqueemcasa'\n",
      "Word not found: 'bandeirante'\n",
      "Word not found: '😍'\n",
      "Word not found: '😍'\n",
      "Word not found: '😂'\n",
      "Word not found: '😂'\n",
      "Word not found: '😂'\n",
      "Word not found: '😘'\n",
      "Word not found: '😘'\n",
      "Word not found: '😘'\n",
      "Word not found: '😘'\n",
      "Word not found: '😊'\n",
      "Word not found: '😊'\n",
      "Word not found: '#'\n",
      "Word not found: 'manaus'\n",
      "Word not found: '#'\n",
      "Word not found: 'amazonas'\n",
      "Word not found: '#'\n",
      "Word not found: '#'\n",
      "Word not found: 'centrohistorico'\n",
      "Word not found: '#'\n",
      "Word not found: 'instamanaus'\n",
      "Word not found: '#'\n",
      "Word not found: 'manauscity'\n",
      "Word not found: '🏠'\n",
      "Word not found: 'paço'\n",
      "Word not found: 'da'\n",
      "Word not found: '#'\n",
      "Word not found: 'coronavirus'\n",
      "Word not found: '#'\n",
      "Word not found: 'quarantena'\n",
      "Word not found: '#'\n",
      "Word not found: 'ficaemcasa'\n",
      "Word not found: 'itu'\n",
      "Word not found: 'sao'\n",
      "Word not found: 'paulo'\n",
      "Word not found: 'brazil'\n"
     ]
    },
    {
     "name": "stdout",
     "output_type": "stream",
     "text": [
      "Word not found: '_'\n",
      "Word not found: 'agenção'\n",
      "Word not found: '_'\n",
      "Word not found: 'steps'\n",
      "Word not found: 'customers'\n",
      "Word not found: 'friends'\n",
      "Word not found: 'catanja'\n",
      "Word not found: 'crafts'\n",
      "Word not found: 'containment'\n",
      "Word not found: 'measures'\n",
      "Word not found: 'covid-19'\n",
      "Word not found: 'caps'\n",
      "Word not found: 'masks'\n",
      "Word not found: 'cuvid-19'\n",
      "Word not found: 'ma'\n",
      "Word not found: 'cases'\n",
      "Word not found: '791'\n",
      "Word not found: 'suspects'\n",
      "Word not found: '222'\n",
      "Word not found: '31'\n",
      "Word not found: '1'\n",
      "Word not found: 'se'\n",
      "Word not found: '30'\n",
      "Word not found: '/03/2020'\n",
      "Word not found: '\\n'\n",
      "Word not found: '#'\n",
      "Word not found: 'covid'\n",
      "Word not found: '#'\n",
      "Word not found: '#'\n",
      "Word not found: 'maranhão'\n",
      "Word not found: '#'\n",
      "Word not found: 'maranhao'\n",
      "Word not found: '#'\n",
      "Word not found: 'saoluismaranhao'\n",
      "Word not found: '#'\n",
      "Word not found: 'fiqueemcasa'\n",
      "Word not found: '_'\n",
      "Word not found: 'agenção'\n",
      "Word not found: '_'\n",
      "Word not found: 'steps'\n",
      "Word not found: 'customers'\n",
      "Word not found: 'friends'\n",
      "Word not found: 'catanja'\n",
      "Word not found: 'crafts'\n",
      "Word not found: 'containment'\n",
      "Word not found: 'measures'\n",
      "Word not found: 'covid-19'\n",
      "Word not found: 'caps'\n",
      "Word not found: 'masks'\n",
      "Word not found: 'promive'\n",
      "Word not found: 'salvador'\n",
      "Word not found: '#'\n",
      "Word not found: 'xôcoronavirus'\n",
      "Word not found: '💥'\n",
      "Word not found: '💥'\n",
      "Word not found: '💥'\n",
      "Word not found: '#'\n",
      "Word not found: 'cuidados'\n",
      "Word not found: 'salvador'\n",
      "Word not found: 'bahia'\n",
      "Word not found: 'brazil'\n",
      "Word not found: 'ssa'\n",
      "Word not found: 'managers'\n",
      "Word not found: 'brazil'\n",
      "Word not found: 'joão'\n",
      "Word not found: 'pessoa'\n",
      "Word not found: 'pref'\n",
      "Word not found: '@luciano_caraxa'\n",
      "Word not found: 'actions'\n",
      "Word not found: 'recipe'\n",
      "Word not found: '#'\n",
      "Word not found: 'cinnamonroll'\n",
      "Word not found: '#'\n",
      "Word not found: 'delish'\n",
      "Word not found: '#'\n",
      "Word not found: '#'\n",
      "Word not found: '#'\n",
      "Word not found: 'quarantena'\n",
      "Word not found: 'são'\n",
      "Word not found: 'paulo'\n",
      "Word not found: 'brazil'\n",
      "Word not found: 'g'\n",
      "Word not found: 'jairmessiasbolsonaro'\n",
      "Word not found: '#'\n",
      "Word not found: 'bolsonaro'\n",
      "Word not found: '#'\n",
      "Word not found: 'fluzinha'\n",
      "Word not found: 'coronavirus'\n",
      "Word not found: '#'\n",
      "Word not found: 'atter'\n",
      "Word not found: 'salvador'\n",
      "Word not found: 'bahia'\n",
      "Word not found: 'brazil'\n",
      "Word not found: 'coronavirus'\n",
      "Word not found: '#'\n",
      "Word not found: '#'\n",
      "Word not found: 'certificadigital'\n",
      "Word not found: 's'\n",
      "Word not found: '#'\n",
      "Word not found: 'haronanvirus'\n",
      "Word not found: '#'\n",
      "Word not found: 'covıd19'\n",
      "Word not found: '#'\n",
      "Word not found: 'aulaonline'\n",
      "Word not found: '#'\n",
      "Word not found: 'amor'\n",
      "Word not found: '#'\n",
      "Word not found: '#'\n",
      "Word not found: 'homeoffice'\n",
      "Word not found: '#'\n",
      "Word not found: 'crabarhoemcasa'\n",
      "Word not found: '#'\n",
      "Word not found: 'trabalhoemequipe'\n",
      "Word not found: '#'\n",
      "Word not found: '💚'\n",
      "Word not found: 'comments'\n",
      "Word not found: '12'\n",
      "Word not found: '98281'\n",
      "Word not found: '-'\n",
      "Word not found: '5550'\n",
      "Word not found: '🥰'\n",
      "Word not found: '#'\n",
      "Word not found: 'herbalifenutrition'\n",
      "Word not found: '#'\n",
      "Word not found: 'socialdistance'\n",
      "Word not found: 'brazil'\n",
      "Word not found: '/'\n",
      "Word not found: 'z4h7nj5i0'\n",
      "Word not found: 't'\n",
      "Word not found: 'covid-19'\n",
      "Word not found: 'coronavirus'\n",
      "Word not found: 'privileged'\n",
      "Word not found: '😉'\n",
      "Word not found: '_'\n",
      "Word not found: 'agenção'\n",
      "Word not found: '_'\n",
      "Word not found: 'steps'\n",
      "Word not found: 'customers'\n",
      "Word not found: 'friends'\n",
      "Word not found: 'catanja'\n",
      "Word not found: 'crafts'\n",
      "Word not found: 'containment'\n",
      "Word not found: 'measures'\n",
      "Word not found: 'covid-19'\n",
      "Word not found: 'caps'\n",
      "Word not found: 'masks'\n",
      "Word not found: 'virologist'\n",
      "Word not found: 'attila'\n",
      "Word not found: 'lamarino'\n",
      "Word not found: 'coronavirus'\n",
      "Word not found: '#'\n",
      "Word not found: 'atilalamarino'\n",
      "Word not found: '_'\n",
      "Word not found: 'agenção'\n",
      "Word not found: '_'\n",
      "Word not found: 'steps'\n",
      "Word not found: 'customers'\n",
      "Word not found: 'friends'\n",
      "Word not found: 'catanja'\n",
      "Word not found: 'crafts'\n",
      "Word not found: 'containment'\n",
      "Word not found: 'measures'\n",
      "Word not found: 'covid-19'\n",
      "Word not found: 'caps'\n",
      "Word not found: 'masks'\n",
      "Word not found: '_'\n",
      "Word not found: 'agenção'\n",
      "Word not found: '_'\n",
      "Word not found: 'steps'\n",
      "Word not found: 'customers'\n",
      "Word not found: 'friends'\n",
      "Word not found: 'catanja'\n",
      "Word not found: 'crafts'\n",
      "Word not found: 'containment'\n",
      "Word not found: 'measures'\n",
      "Word not found: 'covid-19'\n",
      "Word not found: 'caps'\n",
      "Word not found: 'masks'\n",
      "Word not found: '#'\n",
      "Word not found: 'repost'\n",
      "Word not found: 'arthur_dinizzz'\n",
      "Word not found: '•'\n",
      "Word not found: '•'\n",
      "Word not found: '•'\n",
      "Word not found: '•'\n",
      "Word not found: '•'\n",
      "Word not found: '•'\n",
      "Word not found: '•'\n",
      "Word not found: '•'\n",
      "Word not found: '•'\n",
      "Word not found: '•'\n",
      "Word not found: '•'\n",
      "Word not found: '•'\n",
      "Word not found: '•'\n",
      "Word not found: '•'\n",
      "Word not found: '•'\n",
      "Word not found: '•'\n",
      "Word not found: '•'\n",
      "Word not found: '•'\n",
      "Word not found: '•'\n",
      "Word not found: '•'\n",
      "Word not found: '•'\n",
      "Word not found: '•'\n",
      "Word not found: '•'\n",
      "Word not found: '•'\n",
      "Word not found: '•'\n",
      "Word not found: '•'\n",
      "Word not found: '•'\n",
      "Word not found: '•'\n",
      "Word not found: '•'\n",
      "Word not found: '•'\n",
      "Word not found: '•'\n",
      "Word not found: '•'\n",
      "Word not found: '•'\n",
      "Word not found: '•'\n",
      "Word not found: '•'\n",
      "Word not found: '•'\n",
      "Word not found: '•'\n",
      "Word not found: '•'\n",
      "Word not found: '•'\n",
      "Word not found: '•'\n",
      "Word not found: '•'\n",
      "Word not found: '•'\n",
      "Word not found: '•'\n",
      "Word not found: '•'\n",
      "Word not found: '•'\n",
      "Word not found: '•'\n",
      "Word not found: '•'\n",
      "Word not found: '•'\n",
      "Word not found: '•'\n",
      "Word not found: '•'\n",
      "Word not found: '•'\n",
      "Word not found: '•'\n",
      "Word not found: '•'\n",
      "Word not found: '•'\n",
      "Word not found: 'heroes'\n",
      "Word not found: '🤣'\n",
      "Word not found: '😔'\n",
      "Word not found: '#'\n",
      "Word not found: 'day15'\n",
      "Word not found: '#'\n",
      "Word not found: '#'\n",
      "Word not found: 'tattoos'\n",
      "Word not found: 'manaus'\n",
      "Word not found: 'brazil'\n",
      "Word not found: '#'\n",
      "Word not found: 'conexaceara'\n",
      "Word not found: 'tuesday'\n",
      "Word not found: 'cearenses'\n",
      "Word not found: 'italy'\n",
      "Word not found: 'ceará'\n",
      "Word not found: '10:30'\n",
      "Word not found: 'p.m.'\n",
      "Word not found: 'coronavirus'\n",
      "Word not found: 'cookies'\n",
      "Word not found: 'like'\n",
      "Word not found: 'coronaviru'\n",
      "Word not found: '#'\n",
      "Word not found: '#'\n",
      "Word not found: 'bolinhos'\n",
      "Word not found: '#'\n",
      "Word not found: 'bilinhosvoronas'\n",
      "Word not found: 'brazil'\n",
      "Word not found: 'suriname'\n",
      "Word not found: 'bethlehem'\n",
      "Word not found: '/'\n",
      "Word not found: 'sxu6s2tk77*··o'\n",
      "Word not found: 'fernando'\n",
      "Word not found: 'sette'\n",
      "Word not found: 'rights'\n",
      "Word not found: 'rights'\n",
      "Word not found: '#'\n",
      "Word not found: 'coronavirus'\n",
      "Word not found: '#'\n",
      "Word not found: 'covid19'\n",
      "Word not found: '#'\n",
      "Word not found: 'pará'\n",
      "Word not found: '#'\n",
      "Word not found: '#'\n",
      "Word not found: 'shippingpara'\n",
      "Word not found: '#'\n",
      "Word not found: 'nikon'\n",
      "Word not found: '#'\n",
      "Word not found: '#'\n",
      "Word not found: 'readings'\n",
      "Word not found: '90'\n",
      "Word not found: 'years'\n",
      "Word not found: '#'\n",
      "Word not found: 'johngrisham'\n",
      "Word not found: '#'\n",
      "Word not found: 'coronavirus'\n",
      "Word not found: '#'\n",
      "Word not found: 'pandemia2020'\n",
      "Word not found: 'macaé'\n",
      "Word not found: 'hpm'\n",
      "Word not found: '🦇'\n",
      "Word not found: '🇧'\n",
      "Word not found: '🇷'\n",
      "Word not found: 'covid-19'\n",
      "Word not found: '🦠'\n",
      "Word not found: 'brazil'\n",
      "Word not found: 'pv18xn52ps'\n",
      "Word not found: '_'\n",
      "Word not found: 'agenção'\n",
      "Word not found: '_'\n",
      "Word not found: 'steps'\n",
      "Word not found: 'customers'\n",
      "Word not found: 'friends'\n",
      "Word not found: 'catanja'\n",
      "Word not found: 'crafts'\n",
      "Word not found: 'containment'\n",
      "Word not found: 'measures'\n",
      "Word not found: 'covid-19'\n",
      "Word not found: 'caps'\n",
      "Word not found: 'masks'\n",
      "Word not found: '_'\n",
      "Word not found: 'agenção'\n",
      "Word not found: '_'\n",
      "Word not found: 'steps'\n",
      "Word not found: 'customers'\n",
      "Word not found: 'friends'\n",
      "Word not found: 'catanja'\n",
      "Word not found: 'crafts'\n",
      "Word not found: 'containment'\n",
      "Word not found: 'measures'\n",
      "Word not found: 'covid-19'\n",
      "Word not found: 'caps'\n",
      "Word not found: 'masks'\n",
      "Word not found: '#'\n",
      "Word not found: 'mps'\n",
      "Word not found: '#'\n",
      "Word not found: 'reformatrabista'\n",
      "Word not found: '#'\n",
      "Word not found: 'advocacia'\n",
      "Word not found: '#'\n",
      "Word not found: 'advogadorabalhista'\n",
      "Word not found: '#'\n",
      "Word not found: 'direitodotomarto'\n",
      "Word not found: '⚖'\n",
      "Word not found: '️'\n",
      "Word not found: '#'\n",
      "Word not found: 'pandemia'\n",
      "Word not found: '#'\n",
      "Word not found: 'covid19'\n",
      "Word not found: 'advocateantualize'\n",
      "Word not found: '#'\n",
      "Word not found: 'studarcombomhumor'\n",
      "Word not found: '🦉'\n",
      "Word not found: 'raoni'\n",
      "Word not found: 'boaventura'\n",
      "Word not found: 'cuvid-19'\n",
      "Word not found: 'belo'\n",
      "Word not found: 'horizonte'\n",
      "Word not found: 'brazil'\n",
      "Word not found: 'like'\n",
      "Word not found: '#'\n",
      "Word not found: 'coronavirus'\n",
      "Word not found: '#'\n",
      "Word not found: 'xuxa'\n",
      "Word not found: 'engenho'\n",
      "Word not found: 'de'\n",
      "Word not found: 'rio'\n",
      "Word not found: 'de'\n",
      "Word not found: 'janeiro'\n",
      "Word not found: 'brazil'\n",
      "Word not found: 'want'\n",
      "Word not found: 'like'\n"
     ]
    },
    {
     "name": "stdout",
     "output_type": "stream",
     "text": [
      "Word not found: '☀'\n",
      "Word not found: '️'\n",
      "Word not found: '🌊'\n",
      "Word not found: '👁'\n",
      "Word not found: 'donmanbrasil'\n",
      "Word not found: '#'\n",
      "Word not found: 'stayhome'\n",
      "Word not found: '#'\n",
      "Word not found: 'seguro'\n",
      "Word not found: '#'\n",
      "Word not found: 'feemcasa'\n",
      "Word not found: '#'\n",
      "Word not found: 'lockdown'\n",
      "Word not found: '#'\n",
      "Word not found: 'loche'\n",
      "Word not found: '#'\n",
      "Word not found: 'jajapassa'\n",
      "Word not found: '#'\n",
      "Word not found: 'nofimdomdo'\n",
      "Word not found: '#'\n",
      "Word not found: 'nordestino'\n",
      "Word not found: '#'\n",
      "Word not found: 'publi'\n",
      "Word not found: '#'\n",
      "Word not found: '#'\n",
      "Word not found: 'instaman'\n",
      "Word not found: '#'\n",
      "Word not found: 'masculino'\n",
      "Word not found: '#'\n",
      "Word not found: 'instalife'\n",
      "Word not found: '#'\n",
      "Word not found: 'instapubli'\n",
      "Word not found: 'fortaleza'\n",
      "Word not found: 'brazil'\n",
      "Word not found: '🚺'\n",
      "Word not found: '💜'\n",
      "Word not found: '•'\n",
      "Word not found: '#'\n",
      "Word not found: 'tuesdaythoughts'\n",
      "Word not found: 'ulbra'\n",
      "Word not found: 'governors'\n",
      "Word not found: 'payments'\n",
      "Word not found: 'tuesday'\n",
      "Word not found: 'agglomerations'\n",
      "Word not found: 'eduardoriedelopicial'\n",
      "Word not found: '#'\n",
      "Word not found: 'governors'\n",
      "Word not found: 'coronavirus'\n",
      "Word not found: '#'\n",
      "Word not found: 'covid19'\n",
      "Word not found: 'mato'\n",
      "Word not found: 'grosso'\n",
      "Word not found: 'sul'\n",
      "Word not found: 'hynization'\n",
      "Word not found: 'exercises'\n",
      "Word not found: 'agglomerations'\n",
      "Word not found: '#'\n",
      "Word not found: 'naopercoofoco'\n",
      "Word not found: 'fe'\n",
      "Word not found: '#'\n",
      "Word not found: 'treasipsar'\n",
      "Word not found: '•'\n",
      "Word not found: '•'\n",
      "Word not found: '•'\n",
      "Word not found: '😷'\n",
      "Word not found: '.co'\n",
      "Word not found: '/'\n",
      "Word not found: 'acmpykbohk'\n",
      "Word not found: 'fields'\n",
      "Word not found: 'goytacazes'\n",
      "Word not found: '11:23'\n",
      "Word not found: 'avenida'\n",
      "Word not found: 'paulista'\n",
      "Word not found: 'cars'\n",
      "Word not found: '🚘'\n",
      "Word not found: '#'\n",
      "Word not found: 'avenidapaulista'\n",
      "Word not found: '#'\n",
      "Word not found: 'saopaulo'\n",
      "Word not found: '#'\n",
      "Word not found: '#'\n",
      "Word not found: 'coronavirus'\n",
      "Word not found: 'são'\n",
      "Word not found: 'paulo'\n",
      "Word not found: 'brazil'\n"
     ]
    }
   ],
   "source": [
    "calculate_senticnet_scores(tweets)"
   ]
  },
  {
   "cell_type": "markdown",
   "metadata": {},
   "source": [
    "## Problemas comuns ao processo de análise de sentimentos"
   ]
  },
  {
   "cell_type": "markdown",
   "metadata": {},
   "source": [
    "**Caso 1**: Sentimento negativo retornado para frase com sentido positivo"
   ]
  },
  {
   "cell_type": "markdown",
   "metadata": {},
   "source": [
    "A imagem a seguir ilustra um *tweet* contendo uma notícia positiva acerta de descobertas ao combate do novo coronavírus. Possivelmente, a palavra \"isolado\", *isolate* na tradução para o inglês, influenciou o resultado negativo para o sentimento da frase."
   ]
  },
  {
   "cell_type": "markdown",
   "metadata": {},
   "source": [
    "![title](images/tweet1.png)"
   ]
  },
  {
   "cell_type": "code",
   "execution_count": 64,
   "metadata": {},
   "outputs": [
    {
     "data": {
      "text/plain": [
       "{'tweet_id': 1223984594057408512,\n",
       " 'created_at': datetime.datetime(2020, 2, 2, 15, 0, 42),\n",
       " 'geo_source': 'user_location',\n",
       " 'state': 'Rio de Janeiro',\n",
       " 'city': 'Rio de Janeiro',\n",
       " 'text': 'RT @o_antagonista: Cientistas italianos isolam novo coronavírus\\nhttps://t.co/ZN2ttytrGf',\n",
       " 'score': -0.2023,\n",
       " 'polarity': None}"
      ]
     },
     "execution_count": 64,
     "metadata": {},
     "output_type": "execute_result"
    }
   ],
   "source": [
    "res = collection.find_one({'tweet_id': 1223984594057408512}, {'tweet_id':1,'state':1,'city':1,'text':1,'geo_source':1,'score':1,'polarity':1,'created_at':1,'_id':0})\n",
    "res"
   ]
  },
  {
   "cell_type": "code",
   "execution_count": 65,
   "metadata": {},
   "outputs": [
    {
     "data": {
      "text/plain": [
       "'RT @o_anthagonist: Italian scientists isolated new coronavirus * · * https: //t.co/zn2ttytrgf '"
      ]
     },
     "execution_count": 65,
     "metadata": {},
     "output_type": "execute_result"
    }
   ],
   "source": [
    "from google_trans_new import google_translator \n",
    "translator = google_translator() \n",
    "translated = translator.translate(res['text'], lang_tgt='en')\n",
    "translated"
   ]
  },
  {
   "cell_type": "code",
   "execution_count": 66,
   "metadata": {},
   "outputs": [
    {
     "name": "stdout",
     "output_type": "stream",
     "text": [
      "{'neg': 1.0, 'neu': 0.0, 'pos': 0.0, 'compound': -0.2023}\n"
     ]
    }
   ],
   "source": [
    "analyzer = SentimentIntensityAnalyzer()\n",
    "vs = analyzer.polarity_scores(\"isolate\")\n",
    "print(vs)"
   ]
  },
  {
   "cell_type": "markdown",
   "metadata": {},
   "source": [
    "**Caso 2**: Sentimento positivo retornado para frase com sentido negativo"
   ]
  },
  {
   "cell_type": "markdown",
   "metadata": {},
   "source": [
    "A imagem a seguir ilustra um *tweet*, claramente negativo, que teve sentimentos positivos retornados por ambas as ferramentas. Possivelmente influenciados pelas ocorrências das palavras \"Deus\" e \"amor\", traduzidos para *God* e *love*."
   ]
  },
  {
   "cell_type": "markdown",
   "metadata": {},
   "source": [
    "![title](images/tweet2.png)"
   ]
  },
  {
   "cell_type": "code",
   "execution_count": 67,
   "metadata": {},
   "outputs": [
    {
     "data": {
      "text/plain": [
       "{'tweet_id': 1223986684112592897,\n",
       " 'created_at': datetime.datetime(2020, 2, 2, 15, 9),\n",
       " 'geo_source': 'user_location',\n",
       " 'state': 'Ceará',\n",
       " 'city': 'Graça',\n",
       " 'text': 'Meu Deus!!! E a humanidade acha tempo para corrupção, e tanta falta de amor....😪😪 https://t.co/4PSI4LvgUg',\n",
       " 'score': 0.6806,\n",
       " 'polarity': 0.23357142857142854}"
      ]
     },
     "execution_count": 67,
     "metadata": {},
     "output_type": "execute_result"
    }
   ],
   "source": [
    "res = collection.find_one({'tweet_id': 1223986684112592897}, {'tweet_id':1,'state':1,'city':1,'text':1,'geo_source':1,'score':1,'polarity':1,'created_at':1,'_id':0})\n",
    "res"
   ]
  },
  {
   "cell_type": "code",
   "execution_count": 68,
   "metadata": {},
   "outputs": [
    {
     "data": {
      "text/plain": [
       "'My God!!! And humanity finds time for corruption, and so much lack of love .... 😪😪 https://t.co/4psi4lvgug '"
      ]
     },
     "execution_count": 68,
     "metadata": {},
     "output_type": "execute_result"
    }
   ],
   "source": [
    "from google_trans_new import google_translator \n",
    "translator = google_translator() \n",
    "translated = translator.translate(res['text'], lang_tgt='en')\n",
    "translated"
   ]
  },
  {
   "cell_type": "code",
   "execution_count": 69,
   "metadata": {},
   "outputs": [
    {
     "name": "stdout",
     "output_type": "stream",
     "text": [
      "{'neg': 0.0, 'neu': 0.0, 'pos': 1.0, 'compound': 0.2732}\n"
     ]
    }
   ],
   "source": [
    "analyzer = SentimentIntensityAnalyzer()\n",
    "vs = analyzer.polarity_scores(\"god\")\n",
    "print(vs)"
   ]
  },
  {
   "cell_type": "code",
   "execution_count": 70,
   "metadata": {},
   "outputs": [
    {
     "name": "stdout",
     "output_type": "stream",
     "text": [
      "{'neg': 0.0, 'neu': 0.0, 'pos': 1.0, 'compound': 0.6369}\n"
     ]
    }
   ],
   "source": [
    "analyzer = SentimentIntensityAnalyzer()\n",
    "vs = analyzer.polarity_scores(\"love\")\n",
    "print(vs)"
   ]
  },
  {
   "cell_type": "code",
   "execution_count": 71,
   "metadata": {},
   "outputs": [
    {
     "name": "stdout",
     "output_type": "stream",
     "text": [
      "{'polarity_value': 'positive', 'polarity_intense': '0.864', 'moodtags': ['#joy', '#admiration'], 'sentics': {'pleasantness': '0.878', 'attention': '0', 'sensitivity': '0', 'aptitude': '0.85'}, 'semantics': ['dogma', 'goddess', 'saint', 'holy_man', 'minister']}\n"
     ]
    }
   ],
   "source": [
    "sn = SenticNet('en')\n",
    "concept_info = sn.concept(\"god\")\n",
    "print(concept_info)"
   ]
  },
  {
   "cell_type": "code",
   "execution_count": 72,
   "metadata": {},
   "outputs": [
    {
     "name": "stdout",
     "output_type": "stream",
     "text": [
      "{'polarity_value': 'positive', 'polarity_intense': '0.83', 'moodtags': ['#joy', '#admiration'], 'sentics': {'pleasantness': '1', 'attention': '0', 'sensitivity': '0', 'aptitude': '0.66'}, 'semantics': ['tenderness', 'affection', 'kindness', 'care', 'passion']}\n"
     ]
    }
   ],
   "source": [
    "sn = SenticNet('en')\n",
    "concept_info = sn.concept(\"love\")\n",
    "print(concept_info)"
   ]
  },
  {
   "cell_type": "markdown",
   "metadata": {},
   "source": [
    "**Caso 3**: Frases contendo ironia/sarcasmo"
   ]
  },
  {
   "cell_type": "markdown",
   "metadata": {},
   "source": [
    "A imagem que ilustra o próximo exemplo, contendo traços sarcásticos no texto, resultou sentimentos positivos retornados pelo VADER e pelo SenticNet (média de palavras com sentimentos retornados). Este resultado possivelmente foi influenciado pela ocorrência da palavra \"bom\", traduzido para *good*. "
   ]
  },
  {
   "cell_type": "markdown",
   "metadata": {},
   "source": [
    "![title](images/tweet3.png)"
   ]
  },
  {
   "cell_type": "code",
   "execution_count": 73,
   "metadata": {},
   "outputs": [
    {
     "data": {
      "text/plain": [
       "{'tweet_id': 1223941605037572097,\n",
       " 'created_at': datetime.datetime(2020, 2, 2, 12, 9, 53),\n",
       " 'geo_source': 'place',\n",
       " 'state': 'Ceará',\n",
       " 'city': 'Caucaia',\n",
       " 'text': '@luiscomele @folha Traz eles e deixa aí na tua casa. Bom que pega coronavirus em vc e no seu bairro inteiro.',\n",
       " 'score': 0.4019,\n",
       " 'polarity': 0.4766666666666666}"
      ]
     },
     "execution_count": 73,
     "metadata": {},
     "output_type": "execute_result"
    }
   ],
   "source": [
    "res = collection.find_one({'tweet_id': 1223941605037572097}, {'tweet_id':1,'state':1,'city':1,'text':1,'geo_source':1,'created_at':1,'score':1,'polarity':1,'_id':0})\n",
    "res"
   ]
  },
  {
   "cell_type": "code",
   "execution_count": 74,
   "metadata": {},
   "outputs": [
    {
     "data": {
      "text/plain": [
       "'@LuisComele @folha brings them and leaves there in your house. Good that catches coronavirus in you and your entire neighborhood. '"
      ]
     },
     "execution_count": 74,
     "metadata": {},
     "output_type": "execute_result"
    }
   ],
   "source": [
    "from google_trans_new import google_translator \n",
    "translator = google_translator() \n",
    "translated = translator.translate(res['text'], lang_tgt='en')\n",
    "translated"
   ]
  },
  {
   "cell_type": "code",
   "execution_count": 75,
   "metadata": {},
   "outputs": [
    {
     "name": "stdout",
     "output_type": "stream",
     "text": [
      "{'neg': 0.0, 'neu': 0.0, 'pos': 1.0, 'compound': 0.4404}\n"
     ]
    }
   ],
   "source": [
    "analyzer = SentimentIntensityAnalyzer()\n",
    "vs = analyzer.polarity_scores(\"good\")\n",
    "print(vs)"
   ]
  },
  {
   "cell_type": "code",
   "execution_count": 76,
   "metadata": {},
   "outputs": [
    {
     "name": "stdout",
     "output_type": "stream",
     "text": [
      "{'polarity_value': 'positive', 'polarity_intense': '0.849', 'moodtags': ['#joy', '#interest'], 'sentics': {'pleasantness': '0.922', 'attention': '0.776', 'sensitivity': '0', 'aptitude': '0'}, 'semantics': ['uncommon', 'niceness', 'great', 'hard_find', 'pleasant']}\n"
     ]
    }
   ],
   "source": [
    "sn = SenticNet('en')\n",
    "concept_info = sn.concept(\"good\")\n",
    "print(concept_info)"
   ]
  },
  {
   "cell_type": "markdown",
   "metadata": {},
   "source": [
    "A imagem a seguir ilustra uma frase, claramente irônica, que teve resultados positivos retornados pela ferramenta VADER, possivelmente influenciados pela ocorrência das palavras \"legal\" e \"parabéns\"."
   ]
  },
  {
   "cell_type": "markdown",
   "metadata": {},
   "source": [
    "![title](images/tweet4.png)"
   ]
  },
  {
   "cell_type": "code",
   "execution_count": 77,
   "metadata": {},
   "outputs": [
    {
     "data": {
      "text/plain": [
       "{'tweet_id': 1224090135706423301,\n",
       " 'created_at': datetime.datetime(2020, 2, 2, 22, 0, 5),\n",
       " 'geo_source': 'user_location',\n",
       " 'state': 'São Paulo',\n",
       " 'city': 'Campinas',\n",
       " 'text': '@Estadao Legal! Agora @jairbolsonaro vai trazer os brasileiros para disseminarem o coronavirus aqui no Brasil! Parabéns!',\n",
       " 'score': 0.7412,\n",
       " 'polarity': None}"
      ]
     },
     "execution_count": 77,
     "metadata": {},
     "output_type": "execute_result"
    }
   ],
   "source": [
    "res = collection.find_one({'tweet_id': 1224090135706423301}, {'tweet_id':1,'state':1,'city':1,'text':1,'geo_source':1,'created_at':1,'score':1,'polarity':1,'_id':0})\n",
    "res"
   ]
  },
  {
   "cell_type": "markdown",
   "metadata": {},
   "source": [
    "## Resultados - VADER X SenticNet"
   ]
  },
  {
   "cell_type": "markdown",
   "metadata": {},
   "source": [
    "Nos itens a seguir apresentamos resultados quantitativos do processamento da análise de sentimentos realizadas pelo VADER e pelo SenticNet."
   ]
  },
  {
   "cell_type": "markdown",
   "metadata": {},
   "source": [
    "### Recuperação dos resultados - VADER"
   ]
  },
  {
   "cell_type": "markdown",
   "metadata": {},
   "source": [
    "Quantidade de *tweets* recuperados:"
   ]
  },
  {
   "cell_type": "code",
   "execution_count": 81,
   "metadata": {},
   "outputs": [],
   "source": [
    "# Recuperando tweets da base\n",
    "df_vader = pd.DataFrame.from_records(collection.find({'text':{'$ne':None}, 'lang':'pt', 'score': {'$ne':None}, 'geo_source':{'$ne':'tweet_text'}}, {'state':1,'city':1,'lang':1,'geo_source':1,'score':1,'text':1,'tweet_id':1, '_id': 0}))"
   ]
  },
  {
   "cell_type": "code",
   "execution_count": 82,
   "metadata": {},
   "outputs": [
    {
     "data": {
      "text/plain": [
       "1219482"
      ]
     },
     "execution_count": 82,
     "metadata": {},
     "output_type": "execute_result"
    }
   ],
   "source": [
    "df_vader.shape[0]"
   ]
  },
  {
   "cell_type": "markdown",
   "metadata": {},
   "source": [
    "Métricas estatísticas:"
   ]
  },
  {
   "cell_type": "code",
   "execution_count": 83,
   "metadata": {},
   "outputs": [
    {
     "data": {
      "text/plain": [
       "count    1219482.000000\n",
       "mean          -0.043961\n",
       "std            0.431356\n",
       "min           -0.999600\n",
       "25%           -0.381800\n",
       "50%            0.000000\n",
       "75%            0.250000\n",
       "max            0.999800\n",
       "Name: score, dtype: object"
      ]
     },
     "execution_count": 83,
     "metadata": {},
     "output_type": "execute_result"
    }
   ],
   "source": [
    "df_vader[\"score\"].describe().apply(lambda x: format(x, 'f'))"
   ]
  },
  {
   "cell_type": "markdown",
   "metadata": {},
   "source": [
    "### Recuperação dos resultados - SenticNet"
   ]
  },
  {
   "cell_type": "markdown",
   "metadata": {},
   "source": [
    "Quantidade de *tweets* recuperados:"
   ]
  },
  {
   "cell_type": "code",
   "execution_count": 86,
   "metadata": {},
   "outputs": [],
   "source": [
    "# Recuperando tweets da base\n",
    "df_senticnet = pd.DataFrame.from_records(collection.find({'text':{'$ne':None}, 'lang':'pt', 'polarity': {'$ne':None}, 'geo_source':{'$ne':'tweet_text'}}, {'state':1,'city':1,'lang':1,'geo_source':1,'polarity':1,'text':1,'tweet_id':1,'_id': 0}))"
   ]
  },
  {
   "cell_type": "code",
   "execution_count": 87,
   "metadata": {},
   "outputs": [
    {
     "data": {
      "text/plain": [
       "448782"
      ]
     },
     "execution_count": 87,
     "metadata": {},
     "output_type": "execute_result"
    }
   ],
   "source": [
    "df_senticnet.shape[0]"
   ]
  },
  {
   "cell_type": "markdown",
   "metadata": {},
   "source": [
    "Métricas estatísticas:"
   ]
  },
  {
   "cell_type": "code",
   "execution_count": 88,
   "metadata": {
    "scrolled": true
   },
   "outputs": [
    {
     "data": {
      "text/plain": [
       "count    448782.000000\n",
       "mean          0.164848\n",
       "std           0.292479\n",
       "min          -1.000000\n",
       "25%          -0.008500\n",
       "50%           0.167833\n",
       "75%           0.351597\n",
       "max           1.000000\n",
       "Name: polarity, dtype: float64"
      ]
     },
     "execution_count": 88,
     "metadata": {},
     "output_type": "execute_result"
    }
   ],
   "source": [
    "df_senticnet['polarity'].describe()"
   ]
  },
  {
   "cell_type": "markdown",
   "metadata": {},
   "source": [
    "#### BoxPlot VaderSentiment X SenticNet"
   ]
  },
  {
   "cell_type": "code",
   "execution_count": 89,
   "metadata": {},
   "outputs": [
    {
     "data": {
      "image/png": "[encoded data removed]",
      "text/plain": [
       "<Figure size 648x360 with 1 Axes>"
      ]
     },
     "metadata": {
      "needs_background": "light"
     },
     "output_type": "display_data"
    }
   ],
   "source": [
    "result = pd.merge(df_vader, df_senticnet, on=\"tweet_id\")\n",
    "boxplot = result.boxplot(column=['score', 'polarity'], grid=True, figsize=(9, 5))"
   ]
  },
  {
   "cell_type": "markdown",
   "metadata": {},
   "source": [
    "No item anterior, que exibe o *bloxplot* dos *scores* retornados por ambas as ferramentas, percebe-se que **os resultados obtidos com o VADER apresentam-se melhor distribuídos do que os resultados provenientes da utilização do SenticNet**. Este concentra a maioria dos resultados com *scores* positivos.\n",
    "\n",
    "Nos resultados também foram vistos que o **quantitativo de registros válidos após as análises com o SenticNet foram bem inferior à quantidade de registros analisados pelo VADER** (cerca de 1/3 dos resultados deste último).\n",
    "\n",
    "Pelos dados expostos acima, e também pela característica do *VADER* de considerar elementos de linguagem informal, amplamente utilizados nas redes sociais, como repetição de pontuações e *emoticons*, por exemplo, escolhemos este modelo como o **analisador de sentimento a ter os resultados considerados neste trabalho**."
   ]
  },
  {
   "cell_type": "markdown",
   "metadata": {},
   "source": [
    "***\n",
    "**Resumo**\n",
    "\n",
    "Este *notebook* abordou as duas ferramentas de análise de sentimentos experimentadas neste trabalho, o **VADER** e o **SenticNET** apresentando suas principais características e exemplos de utilização.\n",
    "\n",
    "Ambas as ferramentas foram utilizadas para o **procedimento de análises de sentimentos dos *tweets* selecionados na etapa anterior**.\n",
    "\n",
    "Por fim, foi realizada uma comparação entre os *scores* de sentimentos de ambas por meio de quantitativos e métricas estatísticas, balizando, juntamente com outros fatores, a **escolha pelo VADER** como a ferramenta a ser utilizada para as análises a serem realizadas neste trabalho."
   ]
  },
  {
   "cell_type": "markdown",
   "metadata": {},
   "source": [
    "***\n",
    "**Fontes**"
   ]
  },
  {
   "cell_type": "markdown",
   "metadata": {},
   "source": [
    "(1) VADER: A Parsimonious Rule-based Model for Sentiment Analysis of Social Media Text\n",
    "\n",
    "(2) SenticNet 6: Ensemble Application of Symbolic and Subsymbolic AI for Sentiment Analysis\n",
    "\n",
    "(3) Free Google Translator API for Pyhton - https://pypi.org/project/googletrans/\n",
    "\n",
    "(4) SenticNet Pyhton Package - https://pypi.org/project/senticnet/\n",
    "\n",
    "(5) Spacy - https://spacy.io/"
   ]
  }
 ],
 "metadata": {
  "authors": [
   {
    "name": "Mario Gibson Maia Pinto"
   }
  ],
  "kernelspec": {
   "display_name": "Python 3",
   "language": "python",
   "name": "python3"
  },
  "language_info": {
   "codemirror_mode": {
    "name": "ipython",
    "version": 3
   },
   "file_extension": ".py",
   "mimetype": "text/x-python",
   "name": "python",
   "nbconvert_exporter": "python",
   "pygments_lexer": "ipython3",
   "version": "3.7.6"
  }
 },
 "nbformat": 4,
 "nbformat_minor": 4
}
