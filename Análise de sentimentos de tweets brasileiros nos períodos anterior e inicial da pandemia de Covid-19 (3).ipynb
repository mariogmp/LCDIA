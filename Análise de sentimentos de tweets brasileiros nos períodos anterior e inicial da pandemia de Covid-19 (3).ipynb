{
 "cells": [
  {
   "cell_type": "markdown",
   "metadata": {},
   "source": [
    "![title](images/menu_sentimentos.png)"
   ]
  },
  {
   "cell_type": "markdown",
   "metadata": {},
   "source": [
    "# Processamento das análises de sentimentos"
   ]
  },
  {
   "cell_type": "markdown",
   "metadata": {},
   "source": [
    "Este etapa aborda o processo de **análise de sentimentos** dos *tweets* selecionados na base de dados.\n",
    "\n",
    "Foram experimentadas duas ferramentas neste processo, o **VADER (Valence Aware Dictionary and sEntiment Reasoner)**, modelo baseado em regras, especialmente refinado para a análise de sentimentos expressos em redes sociais (1) e o **SenticNet**, ferramenta que explora técnicas de Inteligência Artificial e Web Semântica (2). Estas ferramentas serão abordadas mais detalhadamente a seguir.\n",
    "\n",
    "Ambas retornam um *score* de sentimento para frases/palavras submetidas à analise que variam de **-1 (extremamente negativo) a 1 (extremamente positivo)**, além de outros resultados. Neste trabalho, os *tweets* selecionados na etapa passada são submetidos à análise pelas ferramentas citadas.\n",
    "\n",
    "Neste *notebook* abordaremos o processo de análise de sentimentos e os resultados obtidos com a utilização do VADER e do SenticNet. Por fim, **com base nesses resultados, foi escolhido um deles para ser utilizado na análise de resultados deste trabalho**."
   ]
  },
  {
   "cell_type": "markdown",
   "metadata": {},
   "source": [
    "## Importações"
   ]
  },
  {
   "cell_type": "code",
   "execution_count": 112,
   "metadata": {},
   "outputs": [],
   "source": [
    "from googletrans import Translator\n",
    "\n",
    "import sys\n",
    "import pandas as pd"
   ]
  },
  {
   "cell_type": "markdown",
   "metadata": {},
   "source": [
    "## Analisadores de sentimentos experimentados"
   ]
  },
  {
   "cell_type": "markdown",
   "metadata": {},
   "source": [
    "### VADER"
   ]
  },
  {
   "cell_type": "markdown",
   "metadata": {},
   "source": [
    "O **VADER** é um **modelo simples para análise de sentimentos baseados em regras, desenvolvido especialmente para o contexto de redes sociais**, sem requerer treinamento.\n",
    "\n",
    "Tendo como foco a análise de textos de redes sociais, este modelo, por exemplo, é capaz de avaliar padrões como excesso de pontuações, utilização de letras maiúsculas e conjunções que podem inverter a polaridade do sentimento da mensagem (4).\n",
    "\n",
    "Em seu artigo de apresentação, o VADER foi comparado com 11 analisadores de sentimentos altamente recomendáveis (como LIWC, ANEW, SentiWordNet e outros), incluindo analisadores baseados em *machine learning* (com a utilização dos algoritmos Naive Bayes, Maximum Entropy e Support Vector Machine(SVM). Em relação a estes analisadores, o VADER obteve uma performance comparável e, em muitos casos, até melhor (3).\n",
    "\n",
    "A seguir, ilustramos a submissão de um **texto** à análise de sentimentos pelo VADER."
   ]
  },
  {
   "cell_type": "code",
   "execution_count": 80,
   "metadata": {},
   "outputs": [
    {
     "name": "stdout",
     "output_type": "stream",
     "text": [
      "{'neg': 0.0, 'neu': 0.556, 'pos': 0.444, 'compound': 0.4926}\n"
     ]
    }
   ],
   "source": [
    "from vaderSentiment.vaderSentiment import SentimentIntensityAnalyzer\n",
    "\n",
    "analyzer = SentimentIntensityAnalyzer()\n",
    "\n",
    "text = \"It was a good movie!\"\n",
    "vs = analyzer.polarity_scores(text)\n",
    "print(vs)"
   ]
  },
  {
   "cell_type": "markdown",
   "metadata": {},
   "source": [
    "A chamada ao VADER realizada no item anterior nos retorna os *scores* em quatro categorias:\n",
    "\n",
    "- **Negative**\n",
    "- **Neutral**\n",
    "- **Positive**\n",
    "- **Compound** (normalização dos *scores* computados acima)\n",
    "\n",
    "O *compound* foi utilizado como resultado das análises de textos analisados neste trabalho.\n",
    "\n",
    "A seguir, ilustramos outro exemplo de utilização do VADER, com a mesma frase, pouco modificada."
   ]
  },
  {
   "cell_type": "code",
   "execution_count": 81,
   "metadata": {},
   "outputs": [
    {
     "name": "stdout",
     "output_type": "stream",
     "text": [
      "{'neg': 0.0, 'neu': 0.496, 'pos': 0.504, 'compound': 0.6209}\n"
     ]
    }
   ],
   "source": [
    "text = \"It was a good movie!!!!!\"\n",
    "vs = analyzer.polarity_scores(text)\n",
    "print(vs)"
   ]
  },
  {
   "cell_type": "markdown",
   "metadata": {},
   "source": [
    "Notamos, no exemplo anterior, que a **repetição da pontuação de exclamação** alterou **positivamente** os resultados retornados pelo VADER.\n",
    "\n",
    "A seguir é exibido outro exemplo:"
   ]
  },
  {
   "cell_type": "code",
   "execution_count": 84,
   "metadata": {},
   "outputs": [
    {
     "name": "stdout",
     "output_type": "stream",
     "text": [
      "{'neg': 0.0, 'neu': 0.404, 'pos': 0.596, 'compound': 0.7096}\n"
     ]
    }
   ],
   "source": [
    "text = \"It was a good movie :)\"\n",
    "vs = analyzer.polarity_scores(text)\n",
    "print(vs)"
   ]
  },
  {
   "cell_type": "markdown",
   "metadata": {},
   "source": [
    "A frase dessa vez, teve as exclamações trocadas pelos **caracteres \":)\"**, que simbolizam um rosto feliz. Os resultados foram alterados **positivamente**.\n",
    "\n",
    "Por fim, é mostrado um exemplo frase que expressa desaprovação:"
   ]
  },
  {
   "cell_type": "code",
   "execution_count": 120,
   "metadata": {},
   "outputs": [
    {
     "name": "stdout",
     "output_type": "stream",
     "text": [
      "{'neg': 0.541, 'neu': 0.459, 'pos': 0.0, 'compound': -0.6917}\n"
     ]
    }
   ],
   "source": [
    "text = \"It was a TERRIBLE movie!!!\"\n",
    "vs = analyzer.polarity_scores(text)\n",
    "print(vs)"
   ]
  },
  {
   "cell_type": "markdown",
   "metadata": {},
   "source": [
    "A frase contém uma **palavra de sentido negativo escrita em maiúsculas** (que na linguagem informal das redes sociais simbiliza grito, raiva) e é finalizada com **seguidas exclamações**, tendo resultados negativos retornados pelo VADER."
   ]
  },
  {
   "cell_type": "markdown",
   "metadata": {},
   "source": [
    "### SenticNet"
   ]
  },
  {
   "cell_type": "markdown",
   "metadata": {},
   "source": [
    "O **SenticNet** é um **analisador de sentimento que detecta polaridades e reconhece emoções, utilizando-se de informações denotativas e conotativas associadas a palavras e expressões** ao invés de depender simplesmente da frequência de ocorrẽncia de palavras.\n",
    "\n",
    "A base de conhecimento do SenticNet, disponibilizada em diversas línguas, fornece um conjunto de 200.000 conceitos de linguagem natural, com definições **semânticas, *sentics* e polaridades associadas**.\n",
    "\n",
    "As **semânticas definem informações denotativas** associadas a palavras e expressões, os ***sentics* definem informações conotativas** (valores de categorização de emoções em quatro dimensões afetivas) e as **polaridades retornam um número de -1 (extremamente positiva) e 1 (extremamente negativa)**, tal como o VADER, visto anteriormente.\n",
    "\n",
    "O SenticNet pode ser associado ao termo **Sentic Computing**, paradigma multidisciplinar que foca em uma **representação semântica de conceitos de linguagem natural e estrutura da frase**, indo além da ideia de abordagens estatísticas para a análise de sentimento (3).\n",
    "\n",
    "Neste trabalho, foi utilizada a **base de conhecimento em inglês**, pois, nos testes realizados, esta base retornou mais resultados do que a base em língua portuguesa.\n",
    "\n",
    "A seguir, ilustramos a submissão de uma **palavra com sentimento positivo** à análise de sentimentos pelo SenticNet(4)."
   ]
  },
  {
   "cell_type": "code",
   "execution_count": 106,
   "metadata": {},
   "outputs": [
    {
     "name": "stdout",
     "output_type": "stream",
     "text": [
      "{'polarity_value': 'positive', 'polarity_intense': '0.83', 'moodtags': ['#joy', '#admiration'], 'sentics': {'pleasantness': '1', 'attention': '0', 'sensitivity': '0', 'aptitude': '0.66'}, 'semantics': ['tenderness', 'affection', 'kindness', 'care', 'passion']}\n"
     ]
    }
   ],
   "source": [
    "from senticnet.senticnet import SenticNet\n",
    "\n",
    "sn = SenticNet()\n",
    "text = 'love'\n",
    "concept_info = sn.concept(text)\n",
    "print(concept_info)"
   ]
  },
  {
   "cell_type": "markdown",
   "metadata": {},
   "source": [
    "Podemos detalhar os resultados acima retornados pelo SenticNet da seguinte forma:\n",
    "\n",
    "- **polarity_value**: Resultado da polaridade (positiva ou negativa);\n",
    "- **polarity_intense**: Resultado consolidado da polaridade (tomando como base todos os outros resultados denotativos e conotativos);\n",
    "- **mood_tags**: *Tags* associadas à palavra; \n",
    "- **sentics**: Sentimentos denotativos (agradabilidade, atenção, sensibilidade, aptidão);\n",
    "- **semantics**: Significados semânticos para a palavra (No exemplo: ternura, afeto, bondade, cuidado, paixão).\n",
    "\n",
    "Segue abaixo um exemplo da utilização do SenticNet para uma **palavra com sentimento negativo**:"
   ]
  },
  {
   "cell_type": "code",
   "execution_count": 111,
   "metadata": {},
   "outputs": [
    {
     "name": "stdout",
     "output_type": "stream",
     "text": [
      "{'polarity_value': 'negative', 'polarity_intense': '-0.83', 'moodtags': ['#anger', '#disgust'], 'sentics': {'pleasantness': '-0.71', 'attention': '0', 'sensitivity': '0.83', 'aptitude': '-0.96'}, 'semantics': ['angry', 'mad', 'hatred', 'anger', 'resentment']}\n"
     ]
    }
   ],
   "source": [
    "from senticnet.senticnet import SenticNet\n",
    "\n",
    "sn = SenticNet()\n",
    "text = 'hate'\n",
    "concept_info = sn.concept(text)\n",
    "print(concept_info)"
   ]
  },
  {
   "cell_type": "markdown",
   "metadata": {},
   "source": [
    "Para a realização do cálculo de sentimentos dos *tweets* deste trabalho utilizando o SenticNet, foram calculadas *scores* de sentimentos em palavras válidas presentes no texto. Este procedimento será detalhado mais adiante."
   ]
  },
  {
   "cell_type": "markdown",
   "metadata": {},
   "source": [
    "## Processamento das análises de sentimentos"
   ]
  },
  {
   "cell_type": "markdown",
   "metadata": {},
   "source": [
    "Nos itens a seguir serão abordados os procedimentos para o processamento das análises de sentimentos dos *tweets* brasileiros deste trabalho."
   ]
  },
  {
   "cell_type": "markdown",
   "metadata": {},
   "source": [
    "### Conexão ao banco de dados"
   ]
  },
  {
   "cell_type": "code",
   "execution_count": 2,
   "metadata": {},
   "outputs": [],
   "source": [
    "# Criando estrutura do banco de dados\n",
    "from pymongo import MongoClient\n",
    "\n",
    "# Conexão com o servidor do MongoDB\n",
    "client = MongoClient('localhost', 27017)\n",
    "\n",
    "# Conexão com a base de dados do mongoDB\n",
    "db = client.SpedDB\n",
    "\n",
    "# Coleção onde serão inseridos os dados\n",
    "#collection = db.tweets_brasil_test2\n",
    "collection = db.tweets_brasil"
   ]
  },
  {
   "cell_type": "markdown",
   "metadata": {},
   "source": [
    "### Funções para processamento e limpeza de textos"
   ]
  },
  {
   "cell_type": "markdown",
   "metadata": {},
   "source": [
    "As funções seguintes são utilizadas em procedimentos de **processamento** (como tokenização) e **limpeza de palavras** de textos dos *tweets* (como remoção de *stopwords*, remoção de *urls*, caracteres indesejados e outros).\n",
    "\n",
    "Estas funções foram utilizadas para o processamento da análise de sentimentos realizada pelo **SenticNet**, que **diferentemente do VADER que analisa todo o texto, realiza a análise por palavra ou expressão**. Portanto, havia a necessidade de se submeter apenas palavras \"válidas\" à análise por esta ferramenta."
   ]
  },
  {
   "cell_type": "code",
   "execution_count": 3,
   "metadata": {},
   "outputs": [
    {
     "name": "stderr",
     "output_type": "stream",
     "text": [
      "[nltk_data] Downloading package stopwords to /home/mario/nltk_data...\n",
      "[nltk_data]   Package stopwords is already up-to-date!\n",
      "[nltk_data] Downloading package punkt to /home/mario/nltk_data...\n",
      "[nltk_data]   Package punkt is already up-to-date!\n"
     ]
    },
    {
     "data": {
      "text/plain": [
       "True"
      ]
     },
     "execution_count": 3,
     "metadata": {},
     "output_type": "execute_result"
    }
   ],
   "source": [
    "import nltk\n",
    "import re\n",
    "\n",
    "from string import punctuation\n",
    "from nltk.tokenize import word_tokenize\n",
    "from nltk.tokenize import sent_tokenize\n",
    "from nltk.corpus import stopwords\n",
    "\n",
    "nltk.download('stopwords')\n",
    "nltk.download('punkt')"
   ]
  },
  {
   "cell_type": "code",
   "execution_count": 4,
   "metadata": {},
   "outputs": [],
   "source": [
    "# Função auxiliar para remoção de caracteres indesejados nos textos dos Tweets\n",
    "chars=[\"\\\"\",\"!\",\"@\",\"#\",\"$\",\"%\",\"&\",\"*\",\"(\",\")\",\"-\",\"_\",\"`\",\"'\",\"{\",\"[\",\"]\",\"}\",\"^\",\"~\",\",\",\".\",\";\",\":\",\"\\\",\",\" \"]\n",
    "\n",
    "def clean_words(words):\n",
    "    \n",
    "    new_words = []    \n",
    "    for word in words:\n",
    "         # Verificando se o caracter pertence ao ASCII\n",
    "        if(all(ord(char) < 128 for char in word)):\n",
    "            for letter in word:\n",
    "                if letter in chars:\n",
    "                    word=word.replace(letter,\"\")\n",
    "        new_words.append(word)            \n",
    "    return new_words"
   ]
  },
  {
   "cell_type": "code",
   "execution_count": 5,
   "metadata": {},
   "outputs": [],
   "source": [
    "# Função auxiliar para remover urls nos textos dos Tweets\n",
    "def clean_urls(words):   \n",
    "    \n",
    "    new_words = []    \n",
    "    for word in words:              \n",
    "        if (bool(re.match('http', word)) == False) and (bool(re.match('//tco', word)) == False) and (bool(re.match('//t.co', word)) == False) and (bool(re.match('RT', word)) == False):\n",
    "            new_words.append(word)\n",
    "    return new_words"
   ]
  },
  {
   "cell_type": "code",
   "execution_count": 6,
   "metadata": {},
   "outputs": [],
   "source": [
    "# Função para remover \"stopwords\" dos textos dos Tweets\n",
    "def remove_stopwords(words, language): \n",
    "    \n",
    "    stopwords = nltk.corpus.stopwords.words(language) + list(punctuation)    \n",
    "    new_words=[]\n",
    "    for word in words:\n",
    "        if word not in stopwords:\n",
    "            new_words.append(word)\n",
    "    return new_words"
   ]
  },
  {
   "cell_type": "code",
   "execution_count": 7,
   "metadata": {},
   "outputs": [],
   "source": [
    "# Realiza o processo de limpeza do texto\n",
    "def process_tweet(text, language):\n",
    "    words = text.split()\n",
    "    words = clean_words(words)\n",
    "    words = clean_urls(words)\n",
    "    words = remove_stopwords(words, language)\n",
    "    return words"
   ]
  },
  {
   "cell_type": "markdown",
   "metadata": {},
   "source": [
    "### Funções para tradução"
   ]
  },
  {
   "cell_type": "code",
   "execution_count": 8,
   "metadata": {},
   "outputs": [],
   "source": [
    "# Função para tradução de textos utilizando a ferramenta Googletrans\n",
    "def translate_tweet_text(tweet):\n",
    "    \n",
    "    translated = ''        \n",
    "    text = tweet['text']   \n",
    "    from_lang = tweet['lang']\n",
    "    \n",
    "    # Verificando se o texto do tweet já está escrito na língua inglesa\n",
    "    if (from_lang == 'en') or (from_lang == 'en-US'):\n",
    "        translated = text\n",
    "    else:\n",
    "        translator = Translator()\n",
    "        translated = translator.translate(text, dest='en').text\n",
    "\n",
    "    return translated"
   ]
  },
  {
   "cell_type": "markdown",
   "metadata": {},
   "source": [
    "### Seleção de *tweets* a serem analisados"
   ]
  },
  {
   "cell_type": "markdown",
   "metadata": {},
   "source": [
    "Na célula a seguir são recuperados os *tweets* aptos ao procedimento de análise de sentimentos. Estes registros são **resultados do procedimento de seleção, realizado na etapa anterior**."
   ]
  },
  {
   "cell_type": "code",
   "execution_count": 11,
   "metadata": {},
   "outputs": [],
   "source": [
    "# Recuperando tweets válidos da base\n",
    "tweets = collection.find({'text':{'$ne':None}, 'lang':'pt', 'score': {'$eq':None}, 'polarity': {'$eq':None}, '$or':[{'geo_source':'place'}, {'geo_source':'user_location'}]}, {'tweet_id':1,'lang':1,'text':1,'_id': 0}) "
   ]
  },
  {
   "cell_type": "markdown",
   "metadata": {},
   "source": [
    "### Processamento das análises de sentimentos utilizando o VADER"
   ]
  },
  {
   "cell_type": "markdown",
   "metadata": {},
   "source": [
    "A função abaixo submete **o texto** do *tweet* à análise de sentimentos pelo VADER. É necessária a **tradução prévia do texto para o inglês**, tarefa realizada pela ferramenta **Googletrans** (3).\n",
    "\n",
    "A implementação abaixo percorre a lista de registros retornada pelo banco de dados, efetua a tradução do texto, submete este dado ao VADER e atualiza o registro com o *score* de sentimento resultante."
   ]
  },
  {
   "cell_type": "code",
   "execution_count": 131,
   "metadata": {},
   "outputs": [],
   "source": [
    "# Função para o cálculo do score de sentimento de um texto utilizando a ferramenta VaderSentiment.\n",
    "def calculate_vader_scores(tweets):\n",
    "    \n",
    "    for tweet in tweets:\n",
    "                \n",
    "        # Traduzindo o texto para o inglês\n",
    "        translated_text = translate_tweet_text(tweet)\n",
    "        \n",
    "        # Efetuando o cálculo do score de sentimento para o texto\n",
    "        analyzer = SentimentIntensityAnalyzer()\n",
    "        vs = analyzer.polarity_scores(translated_text)\n",
    "        \n",
    "        # Recuperando o score e adicionando em uma nova célula do dataframe\n",
    "        collection.update_one({\"tweet_id\": tweet['tweet_id']}, {'$set':{\"score\": vs['compound']}}) "
   ]
  },
  {
   "cell_type": "code",
   "execution_count": 88,
   "metadata": {
    "scrolled": true
   },
   "outputs": [],
   "source": [
    "calculate_vader_scores(tweets)"
   ]
  },
  {
   "cell_type": "markdown",
   "metadata": {},
   "source": [
    "### Processamento das análises de sentimentos utilizando o SenticNet"
   ]
  },
  {
   "cell_type": "markdown",
   "metadata": {},
   "source": [
    "A função abaixo submete **as palavras contidas no texto** do *tweet* à análise de sentimentos pelo SenticNet. Antes dessa submissão, é necessário que se realize procedimentos no texto do tweet como: **tokenização do texto, limpeza de *urls*, remoção de *stopwords*, remoção de caracteres inválidos**. Estes procedimentos são necessários para que possamos submeter ao SenticNet somente **palavras válidas**.\n",
    "\n",
    "Observa-se que com a utilização do SenticNet, pelas suas características, **perde-se a capacidade de analisar pontuações ou caracteres comumente utilizados nas redes sociais**, diferente do ocorrido com a utilização do VADER.\n",
    "\n",
    "Adotamos como regra, com a finalidade de **diminuir a probabilidade de resultados incorretos no cálculo final dos sentimentos das frases**, que somente seriam considerados para a análise, **textos que possuíssem no mínimo metade de palavras com resultados retornados pelo SenticNet** (a ferramenta somente retorna resultados para palavras que constem em sua base de conhecimento)."
   ]
  },
  {
   "cell_type": "code",
   "execution_count": 121,
   "metadata": {},
   "outputs": [],
   "source": [
    "# Funções para o cálculo da intensidade da polaridade de um texto utilizando a ferramenta SenticNet.\n",
    "def calculate_senticnet_scores(tweets):\n",
    "    \n",
    "    for tweet in tweets:        \n",
    "        try:  \n",
    "            # Traduzindo o texto para o inglês\n",
    "            translated_text = translate_tweet_text(tweet)\n",
    "\n",
    "            # Realizando a limpeza da frase\n",
    "            words = process_tweet(translated_text, 'english')\n",
    "\n",
    "            # Efetuando o cálculo do score de sentimento para o texto\n",
    "            polarity = calculate_senticnet_words_scores(words)\n",
    "\n",
    "            # Recuperando o score e adicionando em uma nova célula do dataframe\n",
    "            collection.update_one({\"tweet_id\": tweet['tweet_id']},{'$set':{\"polarity\": polarity, \"senticnet_processed\": True}})  \n",
    "        \n",
    "        except Exception as e:\n",
    "            print(e)\n",
    "            e = sys.exc_info()[1]\n",
    "            print (\"Unexpected error:\", e)\n",
    "              "
   ]
  },
  {
   "cell_type": "code",
   "execution_count": 94,
   "metadata": {},
   "outputs": [],
   "source": [
    "# Função para realizar o cálculo de polaridades do SenticNet\n",
    "\n",
    "# Foram considerados para o cálculo somente textos em que no mínimo 50% das palavras tenham tido polaridade \n",
    "# retornada pela base de conhecimento do SenticNet em inglês).\n",
    "def calculate_senticnet_words_scores(words):\n",
    "        \n",
    "    if(len(words) > 0):\n",
    "        min_words_count = len(words)/2\n",
    "        found_words = 0\n",
    "        total_polarity_value = 0\n",
    "        language_code = 'en'\n",
    "\n",
    "        for word in words:\n",
    "            word = word.lower()\n",
    "            try:\n",
    "                sn = SenticNet('en')\n",
    "                polarity_str = sn.polarity_intense(word)\n",
    "                polarity_value = float(polarity_str)      \n",
    "                total_polarity_value = total_polarity_value + polarity_value\n",
    "                found_words = found_words + 1\n",
    "            except KeyError:\n",
    "                e = sys.exc_info()[1]\n",
    "                print (\"Word not found:\", e)\n",
    "\n",
    "        # O cálculo será considerado somente se ao menos metade das palavras forem encontradas na base de conhecimento do SenticNet\n",
    "        if found_words < min_words_count:\n",
    "            return None\n",
    "        else:\n",
    "            polarity = total_polarity_value / found_words\n",
    "            return polarity\n",
    "    else:\n",
    "        return None"
   ]
  },
  {
   "cell_type": "code",
   "execution_count": 95,
   "metadata": {},
   "outputs": [],
   "source": [
    "calculate_senticnet_scores(tweets)"
   ]
  },
  {
   "cell_type": "markdown",
   "metadata": {},
   "source": [
    "## Problemas comuns ao processo de análise de sentimentos"
   ]
  },
  {
   "cell_type": "markdown",
   "metadata": {},
   "source": [
    "**Caso 1**: Sentimento negativo retornado para frase com sentido positivo"
   ]
  },
  {
   "cell_type": "markdown",
   "metadata": {},
   "source": [
    "A imagem a seguir ilustra um *tweet* contendo uma notícia positiva acerta de descobertas ao combate do novo coronavírus. Possivelmente, a palavra \"isolado\", *isolate* na tradução para o inglês, influenciou o resultado negativo para o sentimento da frase."
   ]
  },
  {
   "cell_type": "markdown",
   "metadata": {},
   "source": [
    "![title](images/tweet1.png)"
   ]
  },
  {
   "cell_type": "code",
   "execution_count": 163,
   "metadata": {},
   "outputs": [
    {
     "data": {
      "text/plain": [
       "{'tweet_id': 1223984594057408512,\n",
       " 'created_at': datetime.datetime(2020, 2, 2, 15, 0, 42),\n",
       " 'geo_source': 'user_location',\n",
       " 'state': 'Rio de Janeiro',\n",
       " 'city': 'Rio de Janeiro',\n",
       " 'text': 'RT @o_antagonista: Cientistas italianos isolam novo coronavírus\\nhttps://t.co/ZN2ttytrGf',\n",
       " 'score': -0.2023,\n",
       " 'polarity': None}"
      ]
     },
     "execution_count": 163,
     "metadata": {},
     "output_type": "execute_result"
    }
   ],
   "source": [
    "res = collection.find_one({'tweet_id': 1223984594057408512}, {'tweet_id':1,'state':1,'city':1,'text':1,'geo_source':1,'score':1,'polarity':1,'created_at':1,'_id':0})\n",
    "res"
   ]
  },
  {
   "cell_type": "code",
   "execution_count": 132,
   "metadata": {},
   "outputs": [
    {
     "data": {
      "text/plain": [
       "'RT @o_antagonista: Italian scientists isolate new coronavirus * · * https: //t.co/ZN2ttytrGf '"
      ]
     },
     "execution_count": 132,
     "metadata": {},
     "output_type": "execute_result"
    }
   ],
   "source": [
    "from google_trans_new import google_translator \n",
    "translator = google_translator() \n",
    "translated = translator.translate(res['text'], lang_tgt='en')\n",
    "translated"
   ]
  },
  {
   "cell_type": "code",
   "execution_count": 141,
   "metadata": {},
   "outputs": [
    {
     "name": "stdout",
     "output_type": "stream",
     "text": [
      "{'neg': 1.0, 'neu': 0.0, 'pos': 0.0, 'compound': -0.2023}\n"
     ]
    }
   ],
   "source": [
    "analyzer = SentimentIntensityAnalyzer()\n",
    "vs = analyzer.polarity_scores(\"isolate\")\n",
    "print(vs)"
   ]
  },
  {
   "cell_type": "markdown",
   "metadata": {},
   "source": [
    "**Caso 2**: Sentimento positivo retornado para frase com sentido negativo"
   ]
  },
  {
   "cell_type": "markdown",
   "metadata": {},
   "source": [
    "A imagem a seguir ilustra um *tweet*, claramente negativo, que teve sentimentos positivos retornados por ambas as ferramentas. Possivelmente influenciados pelas ocorrências das palavras \"Deus\" e \"amor\", traduzidos para *God* e *love*."
   ]
  },
  {
   "cell_type": "markdown",
   "metadata": {},
   "source": [
    "![title](images/tweet2.png)"
   ]
  },
  {
   "cell_type": "code",
   "execution_count": 162,
   "metadata": {},
   "outputs": [
    {
     "data": {
      "text/plain": [
       "{'tweet_id': 1223986684112592897,\n",
       " 'created_at': datetime.datetime(2020, 2, 2, 15, 9),\n",
       " 'geo_source': 'user_location',\n",
       " 'state': 'Ceará',\n",
       " 'city': 'Graça',\n",
       " 'text': 'Meu Deus!!! E a humanidade acha tempo para corrupção, e tanta falta de amor....😪😪 https://t.co/4PSI4LvgUg',\n",
       " 'score': 0.6806,\n",
       " 'polarity': 0.23357142857142854}"
      ]
     },
     "execution_count": 162,
     "metadata": {},
     "output_type": "execute_result"
    }
   ],
   "source": [
    "res = collection.find_one({'tweet_id': 1223986684112592897}, {'tweet_id':1,'state':1,'city':1,'text':1,'geo_source':1,'score':1,'polarity':1,'created_at':1,'_id':0})\n",
    "res"
   ]
  },
  {
   "cell_type": "code",
   "execution_count": 151,
   "metadata": {},
   "outputs": [
    {
     "data": {
      "text/plain": [
       "'My God!!! And humanity finds time for corruption, and so much lack of love .... 😪😪 https://t.co/4PSI4LvgUg '"
      ]
     },
     "execution_count": 151,
     "metadata": {},
     "output_type": "execute_result"
    }
   ],
   "source": [
    "from google_trans_new import google_translator \n",
    "translator = google_translator() \n",
    "translated = translator.translate(res['text'], lang_tgt='en')\n",
    "translated"
   ]
  },
  {
   "cell_type": "code",
   "execution_count": 161,
   "metadata": {},
   "outputs": [
    {
     "name": "stdout",
     "output_type": "stream",
     "text": [
      "{'neg': 0.0, 'neu': 0.0, 'pos': 1.0, 'compound': 0.2732}\n"
     ]
    }
   ],
   "source": [
    "analyzer = SentimentIntensityAnalyzer()\n",
    "vs = analyzer.polarity_scores(\"god\")\n",
    "print(vs)"
   ]
  },
  {
   "cell_type": "code",
   "execution_count": 153,
   "metadata": {},
   "outputs": [
    {
     "name": "stdout",
     "output_type": "stream",
     "text": [
      "{'neg': 0.0, 'neu': 0.0, 'pos': 1.0, 'compound': 0.6369}\n"
     ]
    }
   ],
   "source": [
    "analyzer = SentimentIntensityAnalyzer()\n",
    "vs = analyzer.polarity_scores(\"love\")\n",
    "print(vs)"
   ]
  },
  {
   "cell_type": "code",
   "execution_count": 160,
   "metadata": {},
   "outputs": [
    {
     "name": "stdout",
     "output_type": "stream",
     "text": [
      "{'polarity_value': 'positive', 'polarity_intense': '0.864', 'moodtags': ['#joy', '#admiration'], 'sentics': {'pleasantness': '0.878', 'attention': '0', 'sensitivity': '0', 'aptitude': '0.85'}, 'semantics': ['dogma', 'goddess', 'saint', 'holy_man', 'minister']}\n"
     ]
    }
   ],
   "source": [
    "sn = SenticNet('en')\n",
    "concept_info = sn.concept(\"god\")\n",
    "print(concept_info)"
   ]
  },
  {
   "cell_type": "code",
   "execution_count": 158,
   "metadata": {},
   "outputs": [
    {
     "name": "stdout",
     "output_type": "stream",
     "text": [
      "{'polarity_value': 'positive', 'polarity_intense': '0.83', 'moodtags': ['#joy', '#admiration'], 'sentics': {'pleasantness': '1', 'attention': '0', 'sensitivity': '0', 'aptitude': '0.66'}, 'semantics': ['tenderness', 'affection', 'kindness', 'care', 'passion']}\n"
     ]
    }
   ],
   "source": [
    "sn = SenticNet('en')\n",
    "concept_info = sn.concept(\"love\")\n",
    "print(concept_info)"
   ]
  },
  {
   "cell_type": "markdown",
   "metadata": {},
   "source": [
    "**Caso 3**: Frases contendo ironia/sarcasmo"
   ]
  },
  {
   "cell_type": "markdown",
   "metadata": {},
   "source": [
    "A imagem que ilustra o próximo exemplo, contendo traços sarcásticos no texto, resultou sentimentos positivos retornados pelo VADER e pelo SenticNet (média de palavras com sentimentos retornados). Este resultado possivelmente foi influenciado pela ocorrência da palavra \"bom\", traduzido para *good*. "
   ]
  },
  {
   "cell_type": "markdown",
   "metadata": {},
   "source": [
    "![title](images/tweet3.png)"
   ]
  },
  {
   "cell_type": "code",
   "execution_count": 149,
   "metadata": {},
   "outputs": [
    {
     "data": {
      "text/plain": [
       "{'tweet_id': 1223941605037572097,\n",
       " 'created_at': datetime.datetime(2020, 2, 2, 12, 9, 53),\n",
       " 'geo_source': 'place',\n",
       " 'state': 'Ceará',\n",
       " 'city': 'Caucaia',\n",
       " 'text': '@luiscomele @folha Traz eles e deixa aí na tua casa. Bom que pega coronavirus em vc e no seu bairro inteiro.',\n",
       " 'score': 0.4019,\n",
       " 'polarity': 0.4766666666666666}"
      ]
     },
     "execution_count": 149,
     "metadata": {},
     "output_type": "execute_result"
    }
   ],
   "source": [
    "res = collection.find_one({'tweet_id': 1223941605037572097}, {'tweet_id':1,'state':1,'city':1,'text':1,'geo_source':1,'created_at':1,'score':1,'polarity':1,'_id':0})\n",
    "res"
   ]
  },
  {
   "cell_type": "code",
   "execution_count": 144,
   "metadata": {},
   "outputs": [
    {
     "data": {
      "text/plain": [
       "'@luiscomele @folha Bring them and leave them at your house. Good that it catches coronavirus in you and in your entire neighborhood. '"
      ]
     },
     "execution_count": 144,
     "metadata": {},
     "output_type": "execute_result"
    }
   ],
   "source": [
    "from google_trans_new import google_translator \n",
    "translator = google_translator() \n",
    "translated = translator.translate(res['text'], lang_tgt='en')\n",
    "translated"
   ]
  },
  {
   "cell_type": "code",
   "execution_count": 145,
   "metadata": {},
   "outputs": [
    {
     "name": "stdout",
     "output_type": "stream",
     "text": [
      "{'neg': 0.0, 'neu': 0.0, 'pos': 1.0, 'compound': 0.4404}\n"
     ]
    }
   ],
   "source": [
    "analyzer = SentimentIntensityAnalyzer()\n",
    "vs = analyzer.polarity_scores(\"good\")\n",
    "print(vs)"
   ]
  },
  {
   "cell_type": "code",
   "execution_count": 148,
   "metadata": {},
   "outputs": [
    {
     "name": "stdout",
     "output_type": "stream",
     "text": [
      "{'polarity_value': 'positive', 'polarity_intense': '0.849', 'moodtags': ['#joy', '#interest'], 'sentics': {'pleasantness': '0.922', 'attention': '0.776', 'sensitivity': '0', 'aptitude': '0'}, 'semantics': ['uncommon', 'niceness', 'great', 'hard_find', 'pleasant']}\n"
     ]
    }
   ],
   "source": [
    "sn = SenticNet('en')\n",
    "concept_info = sn.concept(\"good\")\n",
    "print(concept_info)"
   ]
  },
  {
   "cell_type": "markdown",
   "metadata": {},
   "source": [
    "A imagem a seguir ilustra uma frase, claramente irônica, que teve resultados positivos retornados pela ferramenta VADER, possivelmente influenciados pela ocorrência das palavras \"legal\" e \"parabéns\"."
   ]
  },
  {
   "cell_type": "markdown",
   "metadata": {},
   "source": [
    "![title](images/tweet4.png)"
   ]
  },
  {
   "cell_type": "code",
   "execution_count": 155,
   "metadata": {},
   "outputs": [
    {
     "data": {
      "text/plain": [
       "{'tweet_id': 1224090135706423301,\n",
       " 'created_at': datetime.datetime(2020, 2, 2, 22, 0, 5),\n",
       " 'geo_source': 'user_location',\n",
       " 'state': 'São Paulo',\n",
       " 'city': 'Campinas',\n",
       " 'text': '@Estadao Legal! Agora @jairbolsonaro vai trazer os brasileiros para disseminarem o coronavirus aqui no Brasil! Parabéns!',\n",
       " 'score': 0.7412,\n",
       " 'polarity': None}"
      ]
     },
     "execution_count": 155,
     "metadata": {},
     "output_type": "execute_result"
    }
   ],
   "source": [
    "res = collection.find_one({'tweet_id': 1224090135706423301}, {'tweet_id':1,'state':1,'city':1,'text':1,'geo_source':1,'created_at':1,'score':1,'polarity':1,'_id':0})\n",
    "res"
   ]
  },
  {
   "cell_type": "markdown",
   "metadata": {},
   "source": [
    "## Resultados - VADER X SenticNet"
   ]
  },
  {
   "cell_type": "markdown",
   "metadata": {},
   "source": [
    "Nos itens a seguir apresentamos resultados quantitativos do processamento da análise de sentimentos realizadas pelo VADER e pelo SenticNet."
   ]
  },
  {
   "cell_type": "markdown",
   "metadata": {},
   "source": [
    "### Recuperação dos resultados - VADER"
   ]
  },
  {
   "cell_type": "markdown",
   "metadata": {},
   "source": [
    "Quantidade de *tweets* recuperados:"
   ]
  },
  {
   "cell_type": "code",
   "execution_count": 40,
   "metadata": {},
   "outputs": [],
   "source": [
    "# Recuperando tweets da base\n",
    "df_vader = pd.DataFrame.from_records(collection.find({'text':{'$ne':None}, 'lang':'pt', 'score': {'$ne':None}, '$or':[{'geo_source':'place'}, {'geo_source':'user_location'}]}, {'state':1,'city':1,'lang':1,'geo_source':1,'score':1,'text':1,'tweet_id':1, '_id': 0}))"
   ]
  },
  {
   "cell_type": "code",
   "execution_count": 22,
   "metadata": {},
   "outputs": [
    {
     "data": {
      "text/plain": [
       "1219385"
      ]
     },
     "execution_count": 22,
     "metadata": {},
     "output_type": "execute_result"
    }
   ],
   "source": [
    "df_vader.shape[0]"
   ]
  },
  {
   "cell_type": "markdown",
   "metadata": {},
   "source": [
    "Métricas estatísticas:"
   ]
  },
  {
   "cell_type": "code",
   "execution_count": 23,
   "metadata": {},
   "outputs": [
    {
     "data": {
      "text/plain": [
       "count    1219385.000000\n",
       "mean          -0.043982\n",
       "std            0.431348\n",
       "min           -0.999600\n",
       "25%           -0.381800\n",
       "50%            0.000000\n",
       "75%            0.250000\n",
       "max            0.999800\n",
       "Name: score, dtype: object"
      ]
     },
     "execution_count": 23,
     "metadata": {},
     "output_type": "execute_result"
    }
   ],
   "source": [
    "df_vader[\"score\"].describe().apply(lambda x: format(x, 'f'))"
   ]
  },
  {
   "cell_type": "markdown",
   "metadata": {},
   "source": [
    "### Recuperação dos resultados - SenticNet"
   ]
  },
  {
   "cell_type": "markdown",
   "metadata": {},
   "source": [
    "Quantidade de *tweets* recuperados:"
   ]
  },
  {
   "cell_type": "code",
   "execution_count": 41,
   "metadata": {},
   "outputs": [],
   "source": [
    "# Recuperando tweets da base\n",
    "df_senticnet = pd.DataFrame.from_records(collection.find({'text':{'$ne':None}, 'lang':'pt', 'polarity': {'$ne':None}, \"senticnet_processed\": {'$eq':True}, '$or':[{'geo_source':'place'}, {'geo_source':'user_location'}]}, {'state':1,'city':1,'lang':1,'geo_source':1,'polarity':1,'text':1,'tweet_id':1,'_id': 0}))"
   ]
  },
  {
   "cell_type": "code",
   "execution_count": 35,
   "metadata": {},
   "outputs": [
    {
     "data": {
      "text/plain": [
       "448757"
      ]
     },
     "execution_count": 35,
     "metadata": {},
     "output_type": "execute_result"
    }
   ],
   "source": [
    "df_senticnet.shape[0]"
   ]
  },
  {
   "cell_type": "markdown",
   "metadata": {},
   "source": [
    "Métricas estatísticas:"
   ]
  },
  {
   "cell_type": "code",
   "execution_count": 36,
   "metadata": {
    "scrolled": true
   },
   "outputs": [
    {
     "data": {
      "text/plain": [
       "count    448757.000000\n",
       "mean          0.164842\n",
       "std           0.292482\n",
       "min          -1.000000\n",
       "25%          -0.008500\n",
       "50%           0.167833\n",
       "75%           0.351571\n",
       "max           1.000000\n",
       "Name: polarity, dtype: float64"
      ]
     },
     "execution_count": 36,
     "metadata": {},
     "output_type": "execute_result"
    }
   ],
   "source": [
    "df_senticnet['polarity'].describe()"
   ]
  },
  {
   "cell_type": "markdown",
   "metadata": {},
   "source": [
    "#### BoxPlot VaderSentiment X SenticNet"
   ]
  },
  {
   "cell_type": "code",
   "execution_count": 45,
   "metadata": {},
   "outputs": [
    {
     "data": {
      "image/png": "[encoded data removed]",
      "text/plain": [
       "<Figure size 648x360 with 1 Axes>"
      ]
     },
     "metadata": {
      "needs_background": "light"
     },
     "output_type": "display_data"
    }
   ],
   "source": [
    "result = pd.merge(df_vader, df_senticnet, on=\"tweet_id\")\n",
    "boxplot = result.boxplot(column=['score', 'polarity'], grid=True, figsize=(9, 5))"
   ]
  },
  {
   "cell_type": "markdown",
   "metadata": {},
   "source": [
    "No item anterior, que exibe o *bloxplot* dos *scores* retornados por ambas as ferramentas, percebe-se que **os resultados obtidos com o VADER apresentam-se melhor distribuídos do que os resultados provenientes da utilização do SenticNet**. Este concentra a maioria dos resultados com *scores* positivos.\n",
    "\n",
    "Nos resultados também foram vistos que o **quantitativo de registros válidos após as análises com o SenticNet foram bem inferior à quantidade de registros analisados pelo VADER** (cerca de 1/3 dos resultados deste último).\n",
    "\n",
    "Pelos dados expostos acima, e também pela característica do *VADER* de considerar elementos de linguagem informal, amplamente utilizados nas redes sociais, como repetição de pontuações e *emoticons*, por exemplo, escolhemos este modelo como o **analisador de sentimento a ter os resultados considerados neste trabalho**."
   ]
  },
  {
   "cell_type": "markdown",
   "metadata": {},
   "source": [
    "***\n",
    "**Resumo**\n",
    "\n",
    "Este *notebook* abordou as duas ferramentas de análise de sentimentos experimentadas neste trabalho, o **VADER** e o **SenticNET** apresentando suas principais características e exemplos de utilização.\n",
    "\n",
    "Ambas as ferramentas foram utilizadas para o **procedimento de análises de sentimentos dos *tweets* selecionados na etapa anterior**.\n",
    "\n",
    "Por fim, foi realizada uma comparação entre os *scores* de sentimentos de ambas por meio de quantitativos e métricas estatísticas, balizando, juntamente com outros fatores, a **escolha pelo VADER** como a ferramenta a ser utilizada para as análises a serem realizadas neste trabalho."
   ]
  },
  {
   "cell_type": "markdown",
   "metadata": {},
   "source": [
    "***\n",
    "**Fontes**"
   ]
  },
  {
   "cell_type": "markdown",
   "metadata": {},
   "source": [
    "(1) VADER: A Parsimonious Rule-based Model for Sentiment Analysis of Social Media Text\n",
    "\n",
    "(2) SenticNet 6: Ensemble Application of Symbolic and Subsymbolic AI for Sentiment Analysis\n",
    "\n",
    "(3) Free Google Translator API for Pyhton - https://pypi.org/project/googletrans/\n",
    "\n",
    "(4) SenticNet Pyhton Package - https://pypi.org/project/senticnet/"
   ]
  }
 ],
 "metadata": {
  "authors": [
   {
    "name": "Mario Gibson Maia Pinto"
   }
  ],
  "kernelspec": {
   "display_name": "Python 3",
   "language": "python",
   "name": "python3"
  },
  "language_info": {
   "codemirror_mode": {
    "name": "ipython",
    "version": 3
   },
   "file_extension": ".py",
   "mimetype": "text/x-python",
   "name": "python",
   "nbconvert_exporter": "python",
   "pygments_lexer": "ipython3",
   "version": "3.7.6"
  }
 },
 "nbformat": 4,
 "nbformat_minor": 4
}
