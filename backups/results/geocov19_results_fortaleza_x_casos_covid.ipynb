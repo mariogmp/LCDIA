{
 "cells": [
  {
   "cell_type": "markdown",
   "metadata": {},
   "source": [
    "**Fortaleza**"
   ]
  },
  {
   "cell_type": "code",
   "execution_count": 72,
   "metadata": {},
   "outputs": [],
   "source": [
    "import pandas as pd\n",
    "import matplotlib.pyplot as plt\n",
    "import datetime\n",
    "import re\n",
    "import numpy as np\n",
    "\n",
    "from statistics import mean"
   ]
  },
  {
   "cell_type": "code",
   "execution_count": 2,
   "metadata": {},
   "outputs": [],
   "source": [
    "from pymongo import MongoClient\n",
    "client = MongoClient('localhost', 27017)\n",
    "db = client.SpedDB\n",
    "collection = db.tweets_brasil"
   ]
  },
  {
   "cell_type": "code",
   "execution_count": 3,
   "metadata": {},
   "outputs": [],
   "source": [
    "city = 'Fortaleza'\n",
    "df = pd.DataFrame.from_records(collection.find({'lang': {'$ne':'und'}, 'city':city, 'score': {'$ne':None}, 'polarity': {'$ne':None}, '$or':[{'geo_source':'place'}, {'geo_source':'user_location'}]}, {'state':1,'city':1,'lang':1,'geo_source':1,'score':1,'created_at':1,'text':1,'polarity':1,'_id': 0}).sort('created_at'))"
   ]
  },
  {
   "cell_type": "code",
   "execution_count": 4,
   "metadata": {
    "scrolled": false
   },
   "outputs": [
    {
     "data": {
      "text/plain": [
       "8199"
      ]
     },
     "execution_count": 4,
     "metadata": {},
     "output_type": "execute_result"
    }
   ],
   "source": [
    "len(df)"
   ]
  },
  {
   "cell_type": "code",
   "execution_count": null,
   "metadata": {},
   "outputs": [],
   "source": [
    "df.to_excel(city+'.xlsx')"
   ]
  },
  {
   "cell_type": "code",
   "execution_count": 5,
   "metadata": {},
   "outputs": [
    {
     "data": {
      "text/html": [
       "<div>\n",
       "<style scoped>\n",
       "    .dataframe tbody tr th:only-of-type {\n",
       "        vertical-align: middle;\n",
       "    }\n",
       "\n",
       "    .dataframe tbody tr th {\n",
       "        vertical-align: top;\n",
       "    }\n",
       "\n",
       "    .dataframe thead th {\n",
       "        text-align: right;\n",
       "    }\n",
       "</style>\n",
       "<table border=\"1\" class=\"dataframe\">\n",
       "  <thead>\n",
       "    <tr style=\"text-align: right;\">\n",
       "      <th></th>\n",
       "      <th>created_at</th>\n",
       "      <th>geo_source</th>\n",
       "      <th>state</th>\n",
       "      <th>city</th>\n",
       "      <th>text</th>\n",
       "      <th>score</th>\n",
       "      <th>lang</th>\n",
       "      <th>polarity</th>\n",
       "    </tr>\n",
       "  </thead>\n",
       "  <tbody>\n",
       "    <tr>\n",
       "      <th>0</th>\n",
       "      <td>2020-02-01 10:08:44</td>\n",
       "      <td>user_location</td>\n",
       "      <td>Ceará</td>\n",
       "      <td>Fortaleza</td>\n",
       "      <td>RT @ABC: LOCKDOWN: Haunting drone footage show...</td>\n",
       "      <td>-0.4404</td>\n",
       "      <td>en</td>\n",
       "      <td>-0.589889</td>\n",
       "    </tr>\n",
       "    <tr>\n",
       "      <th>1</th>\n",
       "      <td>2020-02-02 03:12:20</td>\n",
       "      <td>user_location</td>\n",
       "      <td>Ceará</td>\n",
       "      <td>Fortaleza</td>\n",
       "      <td>RT @spectatorindex: BREAKING: First coronaviru...</td>\n",
       "      <td>-0.5994</td>\n",
       "      <td>en</td>\n",
       "      <td>-0.440800</td>\n",
       "    </tr>\n",
       "    <tr>\n",
       "      <th>2</th>\n",
       "      <td>2020-02-02 10:26:27</td>\n",
       "      <td>user_location</td>\n",
       "      <td>Ceará</td>\n",
       "      <td>Fortaleza</td>\n",
       "      <td>RT @spectatorindex: BREAKING: First coronaviru...</td>\n",
       "      <td>-0.5994</td>\n",
       "      <td>en</td>\n",
       "      <td>-0.440800</td>\n",
       "    </tr>\n",
       "    <tr>\n",
       "      <th>3</th>\n",
       "      <td>2020-02-02 11:16:39</td>\n",
       "      <td>user_location</td>\n",
       "      <td>Ceará</td>\n",
       "      <td>Fortaleza</td>\n",
       "      <td>RT @LeiaJaOnline: A notícia do falecimento foi...</td>\n",
       "      <td>-0.5994</td>\n",
       "      <td>pt</td>\n",
       "      <td>-0.066250</td>\n",
       "    </tr>\n",
       "    <tr>\n",
       "      <th>4</th>\n",
       "      <td>2020-02-02 12:14:23</td>\n",
       "      <td>user_location</td>\n",
       "      <td>Ceará</td>\n",
       "      <td>Fortaleza</td>\n",
       "      <td>RT @gazetadopovo: Primeira morte por coronavír...</td>\n",
       "      <td>-0.5994</td>\n",
       "      <td>pt</td>\n",
       "      <td>-0.568250</td>\n",
       "    </tr>\n",
       "  </tbody>\n",
       "</table>\n",
       "</div>"
      ],
      "text/plain": [
       "           created_at     geo_source  state       city  \\\n",
       "0 2020-02-01 10:08:44  user_location  Ceará  Fortaleza   \n",
       "1 2020-02-02 03:12:20  user_location  Ceará  Fortaleza   \n",
       "2 2020-02-02 10:26:27  user_location  Ceará  Fortaleza   \n",
       "3 2020-02-02 11:16:39  user_location  Ceará  Fortaleza   \n",
       "4 2020-02-02 12:14:23  user_location  Ceará  Fortaleza   \n",
       "\n",
       "                                                text   score lang  polarity  \n",
       "0  RT @ABC: LOCKDOWN: Haunting drone footage show... -0.4404   en -0.589889  \n",
       "1  RT @spectatorindex: BREAKING: First coronaviru... -0.5994   en -0.440800  \n",
       "2  RT @spectatorindex: BREAKING: First coronaviru... -0.5994   en -0.440800  \n",
       "3  RT @LeiaJaOnline: A notícia do falecimento foi... -0.5994   pt -0.066250  \n",
       "4  RT @gazetadopovo: Primeira morte por coronavír... -0.5994   pt -0.568250  "
      ]
     },
     "execution_count": 5,
     "metadata": {},
     "output_type": "execute_result"
    }
   ],
   "source": [
    "df.head()"
   ]
  },
  {
   "cell_type": "markdown",
   "metadata": {},
   "source": [
    "Média total de sentimentos - Vader"
   ]
  },
  {
   "cell_type": "code",
   "execution_count": 6,
   "metadata": {},
   "outputs": [
    {
     "data": {
      "text/plain": [
       "count    8199.000000\n",
       "mean       -0.052540\n",
       "std         0.465952\n",
       "min        -0.986000\n",
       "25%        -0.440400\n",
       "50%         0.000000\n",
       "75%         0.318200\n",
       "max         0.980900\n",
       "Name: score, dtype: float64"
      ]
     },
     "execution_count": 6,
     "metadata": {},
     "output_type": "execute_result"
    }
   ],
   "source": [
    "df['score'].describe()"
   ]
  },
  {
   "cell_type": "markdown",
   "metadata": {},
   "source": [
    "Média total de sentimentos - SenticNet"
   ]
  },
  {
   "cell_type": "code",
   "execution_count": 7,
   "metadata": {},
   "outputs": [
    {
     "data": {
      "text/plain": [
       "count    8199.000000\n",
       "mean        0.157835\n",
       "std         0.301036\n",
       "min        -0.990000\n",
       "25%        -0.014491\n",
       "50%         0.159667\n",
       "75%         0.348708\n",
       "max         1.000000\n",
       "Name: polarity, dtype: float64"
      ]
     },
     "execution_count": 7,
     "metadata": {},
     "output_type": "execute_result"
    }
   ],
   "source": [
    "df['polarity'].describe()"
   ]
  },
  {
   "cell_type": "markdown",
   "metadata": {},
   "source": [
    "Tweets por língua"
   ]
  },
  {
   "cell_type": "code",
   "execution_count": 8,
   "metadata": {},
   "outputs": [
    {
     "data": {
      "image/png": "[encoded data removed]",
      "text/plain": [
       "<Figure size 720x360 with 1 Axes>"
      ]
     },
     "metadata": {
      "needs_background": "light"
     },
     "output_type": "display_data"
    }
   ],
   "source": [
    "df.lang.value_counts()[:5].plot(kind='barh', figsize=(10, 5))\n",
    "\n",
    "for index, value in enumerate(df.lang.value_counts()[:5]):\n",
    "    plt.text(value, index, str(value), verticalalignment='center')"
   ]
  },
  {
   "cell_type": "code",
   "execution_count": null,
   "metadata": {},
   "outputs": [],
   "source": [
    "import nltk\n",
    "from wordcloud import WordCloud, STOPWORDS\n",
    "\n",
    "nltk.download('stopwords')\n",
    "\n",
    "## função para geração de nuvens de palavras a partir de uma lista de strings\n",
    "def generate_word_cloud(words_list, lower_case):\n",
    "    \n",
    "    if (len(words_list) > 0):   \n",
    "        words=\"\"\n",
    "\n",
    "        # Criando string a partir das palavras        \n",
    "        for word in words_list:\n",
    "            if (lower_case):\n",
    "                words = words + ' ' + word.lower()\n",
    "            else:\n",
    "                words = words + ' ' + word\n",
    "                \n",
    "        ## configurando stopwords para desconsiderar partículas verbais (exemplo: voltando-me)  \n",
    "        stopwords = set(STOPWORDS)\n",
    "        stopwords.update(nltk.corpus.stopwords.words('portuguese'))\n",
    "        stopwords.update(['t','https','http','co','rt','...','pra','pro','vc','pq','q','contra','tudo','covid','corona','coronavirus','coronavírus','coronavíru','coronaviru','víru','viru'])\n",
    "        \n",
    "        wordcloud = WordCloud(stopwords=stopwords, background_color=\"white\").generate(words)\n",
    "\n",
    "        plt.figure(figsize=(8,4))\n",
    "        plt.imshow(wordcloud, interpolation='bilinear')\n",
    "        plt.axis(\"off\")\n",
    "        plt.show()"
   ]
  },
  {
   "cell_type": "code",
   "execution_count": null,
   "metadata": {},
   "outputs": [],
   "source": [
    "words = list(df['text'])\n",
    "generate_word_cloud(words, True)"
   ]
  },
  {
   "cell_type": "code",
   "execution_count": null,
   "metadata": {},
   "outputs": [],
   "source": [
    "boxplot = df.boxplot(column=['score', 'polarity'], grid=True, figsize=(9, 5))"
   ]
  },
  {
   "cell_type": "code",
   "execution_count": null,
   "metadata": {},
   "outputs": [],
   "source": [
    "# Calculando coeficiente de correlação entre score e polarity (método de Pearson)\n",
    "df['score'].corr(df['polarity'])"
   ]
  },
  {
   "cell_type": "markdown",
   "metadata": {},
   "source": [
    "Funções auxiliares"
   ]
  },
  {
   "cell_type": "code",
   "execution_count": 73,
   "metadata": {},
   "outputs": [],
   "source": [
    "# Função para montar um df de Quantificadores por data a partir do df de Tweets\n",
    "def building_dates_df(df, column):\n",
    "\n",
    "    date_set = set()  \n",
    "    \n",
    "    for item in df.created_at:\n",
    "        date = datetime.datetime(item.year, item.month, item.day)\n",
    "        date_set.add(date)\n",
    "    \n",
    "    # Listas utilizadas para montagem do df\n",
    "    date_list = list(date_set)\n",
    "    date_list.sort()\n",
    "    score_mean_list = []\n",
    "        \n",
    "    # Populando quantificadores para cada dia\n",
    "    for index in date_list:\n",
    "        # Média de scores do período\n",
    "        score_mean = mean(df[column].loc[(df['created_at'].dt.year == index.year) & (df['created_at'].dt.month == index.month) & (df['created_at'].dt.day == index.day)])\n",
    "        score_mean_list.append(score_mean)\n",
    "    \n",
    "    # Dicionário utilizado como parâmetro para a montagem\n",
    "    data={'created_at': pd.Series(date_list), column + '_mean':pd.Series(score_mean_list)}\n",
    "    \n",
    "    # Criando df\n",
    "    df = pd.DataFrame(data)\n",
    "    \n",
    "    return df "
   ]
  },
  {
   "cell_type": "code",
   "execution_count": 10,
   "metadata": {},
   "outputs": [],
   "source": [
    "# Função para geração de gráficos\n",
    "def generate_graphic(x, y, label, color, xLabel, yLabel, title):\n",
    "         \n",
    "    plt.rcParams['figure.figsize'] = (18,5)\n",
    "    plt.plot(x,y,color=color, linestyle='solid', linewidth=2,label=label)\n",
    "    \n",
    "    plt.xticks(x, rotation=80)\n",
    "    plt.legend(fontsize=15)\n",
    "    plt.xlabel(xLabel,fontsize=15)\n",
    "    plt.ylabel(yLabel,fontsize=15)\n",
    "    plt.title(title)\n",
    "    plt.grid(True, linestyle='--')\n",
    "    plt.show()"
   ]
  },
  {
   "cell_type": "code",
   "execution_count": 11,
   "metadata": {},
   "outputs": [],
   "source": [
    "# Função para gerar um gráfico X outro\n",
    "def generate_vs_graphic(x, y1, y2, label1, label2, color1, color2, xLabel, yLabel, title):\n",
    "      \n",
    "    plt.rcParams['figure.figsize'] = (18,5)\n",
    "    plt.plot(x,y1,color=color1, linestyle='solid', linewidth=2,label=label1)\n",
    "    plt.plot(x,y2,color=color2, linestyle='solid', linewidth=2,label=label2)\n",
    "\n",
    "    plt.xticks(x, rotation=80)\n",
    "    plt.legend(fontsize=15)\n",
    "    plt.xlabel(xLabel,fontsize=15)\n",
    "    plt.ylabel(yLabel,fontsize=15)\n",
    "    plt.title(title)\n",
    "    plt.grid(True, linestyle='--')\n",
    "    plt.show()"
   ]
  },
  {
   "cell_type": "code",
   "execution_count": 12,
   "metadata": {},
   "outputs": [],
   "source": [
    "def autolabel(rects):\n",
    "    for rect in rects:\n",
    "        height = rect.get_height()\n",
    "        ax.annotate('{}'.format(height),\n",
    "                    xy=(rect.get_x() + rect.get_width() / 2, height),\n",
    "                    xytext=(0, 3),  # 3 points vertical offset\n",
    "                    textcoords=\"offset points\",\n",
    "                    ha='center', va='bottom')"
   ]
  },
  {
   "cell_type": "markdown",
   "metadata": {},
   "source": [
    "Média de sentimentos por dia - Vader x SenticNet"
   ]
  },
  {
   "cell_type": "code",
   "execution_count": 13,
   "metadata": {},
   "outputs": [
    {
     "data": {
      "image/png": "[encoded data removed]",
      "text/plain": [
       "<Figure size 1296x360 with 1 Axes>"
      ]
     },
     "metadata": {
      "needs_background": "light"
     },
     "output_type": "display_data"
    }
   ],
   "source": [
    "df1 = building_dates_df(df, 'score')\n",
    "df2 = building_dates_df(df, 'polarity')\n",
    "\n",
    "x = df1.created_at\n",
    "y1 = df1.score_mean\n",
    "y2 = df2.polarity_mean\n",
    "\n",
    "label1 = 'Média Vader'\n",
    "label2 = 'Média Senticnet'\n",
    "\n",
    "color1 = 'cornflowerblue'\n",
    "color2 = 'lightcoral'\n",
    "\n",
    "xLabel = 'Data'\n",
    "yLabel = 'Médias'\n",
    "\n",
    "title = 'Média Vader X Média SenticNet'\n",
    "\n",
    "generate_vs_graphic(x, y1, y2, label1, label2, color1, color2, xLabel, yLabel, title)"
   ]
  },
  {
   "cell_type": "markdown",
   "metadata": {},
   "source": [
    "Análises por período"
   ]
  },
  {
   "cell_type": "code",
   "execution_count": 14,
   "metadata": {},
   "outputs": [],
   "source": [
    "# Carregando arquivo CSV contendo casos de covid 19 do Brasil\n",
    "file = '/home/mario/Documentos/LCDIA/Analytics/Datasets/caso_full.csv'\n",
    "df_cases_brasil = pd.read_csv(file, usecols=['city', 'state', 'date', 'new_confirmed', 'new_deaths','last_available_confirmed','last_available_deaths','last_available_confirmed_per_100k_inhabitants','last_available_death_rate'])"
   ]
  },
  {
   "cell_type": "code",
   "execution_count": null,
   "metadata": {},
   "outputs": [],
   "source": [
    "# Selecionando casos da cidade analisada\n",
    "df_cases_city = df_cases_brasil.query('city == \"'+city+'\"')\n",
    "df_cases_city = df_cases_city.reset_index()\n",
    "df_cases_city.head()"
   ]
  },
  {
   "cell_type": "code",
   "execution_count": null,
   "metadata": {},
   "outputs": [],
   "source": [
    "# Data do primeiro caso \n",
    "first_case_date = df_cases_city.loc[0, 'date']\n",
    "print(first_case_date)"
   ]
  },
  {
   "cell_type": "code",
   "execution_count": null,
   "metadata": {},
   "outputs": [],
   "source": [
    "# Data da primeira morte\n",
    "result = df_cases_city.query('last_available_deaths != \"0\"')\n",
    "first_death_date = df_cases_city.loc[min(result.index), 'date']\n",
    "print(first_death_date)"
   ]
  },
  {
   "cell_type": "code",
   "execution_count": null,
   "metadata": {},
   "outputs": [],
   "source": [
    "# Data da primeira morte\n",
    "result = df_cases_city.query('last_available_deaths != \"0\"')\n",
    "first_death_date = df_cases_city.loc[min(result.index), 'date']\n",
    "print(first_death_date)"
   ]
  },
  {
   "cell_type": "markdown",
   "metadata": {},
   "source": [
    "Períodos:\n",
    "\n",
    "- Sem casos: 01/02/2020 a 15/03/2020\n",
    "- Data do primeiro caso: 16/03/2020 a 19/03/2020\n",
    "- Data do primeiro decreto de medidas restritivas (Governo Estadual): 20/03/2020"
   ]
  },
  {
   "cell_type": "markdown",
   "metadata": {},
   "source": [
    "**Análises por Períodos**"
   ]
  },
  {
   "cell_type": "markdown",
   "metadata": {},
   "source": [
    "**Média de sentimentos no primeiro intervalo**"
   ]
  },
  {
   "cell_type": "code",
   "execution_count": null,
   "metadata": {
    "scrolled": false
   },
   "outputs": [],
   "source": [
    "df_periodo1 = df.query('created_at >= \"2020-02-01 00:00:00\" and created_at <= \"2020-03-15 23:59:59\"')\n",
    "len(df_periodo1)"
   ]
  },
  {
   "cell_type": "markdown",
   "metadata": {},
   "source": [
    "**Média de sentimentos no segundo intervalo**"
   ]
  },
  {
   "cell_type": "code",
   "execution_count": null,
   "metadata": {
    "scrolled": false
   },
   "outputs": [],
   "source": [
    "df_periodo2 = df.query('created_at >= \"2020-03-16 00:00:00\" and created_at <= \"2020-03-19 23:59:59\"')\n",
    "len(df_periodo2)"
   ]
  },
  {
   "cell_type": "markdown",
   "metadata": {},
   "source": [
    "**Média de sentimentos no terceiro intervalo**"
   ]
  },
  {
   "cell_type": "code",
   "execution_count": null,
   "metadata": {
    "scrolled": true
   },
   "outputs": [],
   "source": [
    "df_periodo3 = df.query('created_at >= \"2020-03-20 00:00:00\" and created_at <= \"2020-05-01 23:59:59\"')\n",
    "len(df_periodo3)"
   ]
  },
  {
   "cell_type": "markdown",
   "metadata": {},
   "source": [
    "Gráfico - Média Valores"
   ]
  },
  {
   "cell_type": "code",
   "execution_count": null,
   "metadata": {},
   "outputs": [],
   "source": [
    "labels = ['Sem Casos', 'Após 1º caso', 'Após Medidas Restritivas']\n",
    "y1 = [mean(df_periodo1['score']), mean(df_periodo2['score']), mean(df_periodo3['score'])]\n",
    "y2 = [mean(df_periodo1['polarity']), mean(df_periodo2['polarity']), mean(df_periodo3['polarity'])]\n",
    "\n",
    "x = np.arange(len(labels))  # the label locations\n",
    "width = 0.35  # the width of the bars\n",
    "\n",
    "fig, ax = plt.subplots()\n",
    "rects1 = ax.bar(x - width/2, y1, width, label='Vader', color='cornflowerblue')\n",
    "rects2 = ax.bar(x + width/2, y2, width, label='SenticNet', color='lightcoral')\n",
    "\n",
    "# Add some text for labels, title and custom x-axis tick labels, etc.\n",
    "ax.set_ylabel('Média de Sentimentos')\n",
    "ax.set_title('Média de Sentimentos por Período')\n",
    "ax.set_xticks(x)\n",
    "ax.set_xticklabels(labels)\n",
    "ax.legend()\n",
    "\n",
    "autolabel(rects1)\n",
    "autolabel(rects2)\n",
    "\n",
    "fig.tight_layout()\n",
    "\n",
    "plt.show()"
   ]
  },
  {
   "cell_type": "markdown",
   "metadata": {},
   "source": [
    "***\n",
    "**Correlações entre médias de sentimentos e registros de casos de Covid-19**"
   ]
  },
  {
   "cell_type": "code",
   "execution_count": 122,
   "metadata": {},
   "outputs": [],
   "source": [
    "def populate_initial_dates(df_cases_city):\n",
    "    \n",
    "    from datetime import datetime, date, timedelta\n",
    "\n",
    "    # Data inicial dos registros\n",
    "    start_date = date(2020,2,1)\n",
    "\n",
    "    # Data do primeiro caso\n",
    "    first_case_str = df_cases_city.loc[0, 'date']\n",
    "    first_case_date = datetime.strptime(first_case_str, '%Y-%m-%d').date()\n",
    "\n",
    "    dates = pd.date_range(start_date, first_case_date-timedelta(days=1), freq='d')\n",
    "    dates = dates.to_pydatetime()\n",
    "\n",
    "    df_initial = pd.DataFrame(columns=list(df_cases_city.columns))\n",
    "\n",
    "    for index in range(len(dates)):\n",
    "        date_str = dates[index].strftime('%Y-%m-%d')\n",
    "        df_initial.loc[index] = [city, date_str, 0, 0, 0, 0, state_code, 0, 0]\n",
    "        #date = datetime.strptime(date_str, '%Y-%m-%d')\n",
    "        #df_initial.loc[index] = [city, dates[index], 0, 0, 0, 0, state_code, 0, 0]\n",
    "\n",
    "    df_result = pd.concat([df_initial, df_cases_city], ignore_index=True)\n",
    "    \n",
    "    return df_result;"
   ]
  },
  {
   "cell_type": "code",
   "execution_count": 118,
   "metadata": {},
   "outputs": [],
   "source": [
    "# Função para retornar todos os casos de uma cidade\n",
    "def filter_cases_city (df_cases_brasil, city, state_code):\n",
    "    \n",
    "    # Selecionando casos de Covid da cidade \n",
    "    # df_cases_city = df_cases_brasil.loc[(df_cases_brasil['city'] == city) & (df_cases_brasil['state'] == state_code) & (df_cases_brasil['date'] < '2020-05-02')]\n",
    "    \n",
    "    df_cases_city = df_cases_brasil.query('city == \"'+city+'\" and date <= \"2020-05-01 23:59:59\"')\n",
    "    df_cases_city = df_cases_city.reset_index(drop=True)\n",
    "    \n",
    "    # Populando dataframe com datas iniciais (antes dos casos de Covid)\n",
    "    df_cases_city = populate_initial_dates(df_cases_city)\n",
    "    \n",
    "    return df_cases_city"
   ]
  },
  {
   "cell_type": "code",
   "execution_count": 119,
   "metadata": {},
   "outputs": [],
   "source": [
    "# Realizando o merge do dataframe de scores x dataframe de casos\n",
    "def merge_dfs(df_scores_city, df_cases_city):\n",
    "\n",
    "    # Padronizando as colunas de datas\n",
    "    df_scores_city = df_scores_city.rename(columns={'created_at':'date'})\n",
    "\n",
    "    # Convertendo as colunas de datas para o mesmo tipo de objeto\n",
    "    df_scores_city = df_scores_city.astype({'date': str})\n",
    "    df_cases_city = df_cases_city.astype({'date': str})\n",
    "\n",
    "    # Realizando merges para recuperar período de datas em comum\n",
    "    return pd.merge(df_scores_city, df_cases_city, on='date', how='inner')"
   ]
  },
  {
   "cell_type": "code",
   "execution_count": 120,
   "metadata": {},
   "outputs": [],
   "source": [
    "def prepare_data(df_cases, df_tweets, city, state, state_code, column):\n",
    "    \n",
    "    # Filtrando registros de casos de Covid\n",
    "    df_cases_city = filter_cases_city(df_cases, city, state_code)\n",
    "\n",
    "    # Montando dataframe com a média de scores de sentimentos por data (existe uma data sem dados)\n",
    "    df_scores_city = building_dates_df(df_tweets, column)\n",
    "    #print(df_scores_city.shape[0])\n",
    "\n",
    "    # Realizando o merge dos dataframes de média de scores x dataframe de casos\n",
    "    df_merged = merge_dfs(df_scores_city, df_cases_city)\n",
    "    #print(df_merged.shape[0])\n",
    "\n",
    "    # Criando atributos derivados\n",
    "    df_merged = create_attributes(df_merged)\n",
    "    \n",
    "    return df_merged"
   ]
  },
  {
   "cell_type": "code",
   "execution_count": 121,
   "metadata": {},
   "outputs": [],
   "source": [
    "## Cálculo do percentual de crescimento de um valor no tempo\n",
    "def calculate_percent(df, column, new_column):  \n",
    "    \n",
    "    values_list = []\n",
    "    \n",
    "    is_first = True\n",
    "    last_value = 0\n",
    "    \n",
    "    for (i, row) in df.iterrows():\n",
    "        if (is_first == True):\n",
    "            is_first = False\n",
    "            last_value = row[column]\n",
    "            values_list.append(0)\n",
    "        else:\n",
    "            try:\n",
    "                percent = 100 * (((row[column] - last_value))/last_value)\n",
    "                percent = round(percent, 2)\n",
    "                values_list.append(percent)\n",
    "                last_value = row[column]\n",
    "            except ZeroDivisionError:\n",
    "                values_list.append(0)\n",
    "                last_value = row[column]\n",
    "            \n",
    "    df[new_column] = pd.Series(values_list, index = df.index)\n",
    "    \n",
    "    return df"
   ]
  },
  {
   "cell_type": "code",
   "execution_count": 123,
   "metadata": {},
   "outputs": [],
   "source": [
    "# Função para derivar novos atributos\n",
    "def create_attributes(df_merged):\n",
    "    \n",
    "    # Somando colunas new_confirmed + new_deaths (notícias ruins do dia)\n",
    "    df_merged['bad_news'] = df_merged['new_confirmed'] + df_merged['new_deaths']\n",
    "\n",
    "    # Somando colunas last_available_confirmed + last_available_deaths (notícias ruins totais)\n",
    "    df_merged['last_bad_news'] = df_merged['last_available_confirmed'] + df_merged['last_available_deaths']\n",
    "\n",
    "    # Calculando percentual de crescimento de score de sentimento em relação ao dia anterior\n",
    "    # df_merged = calculate_percent(df_merged, 'score_mean', 'score_mean_pct')\n",
    "\n",
    "    # Calculando percentual de crescimento diário de novos casos em relação ao dia anterior\n",
    "    df_merged = calculate_percent(df_merged, 'new_confirmed', 'new_confirmed_pct')\n",
    "\n",
    "    # Calculando percentual de crescimento diário de novas mortes em relação ao dia anterior\n",
    "    df_merged = calculate_percent(df_merged, 'new_deaths', 'new_deaths_pct')\n",
    "\n",
    "    # Calculando percentual de crescimento diário de novos casos em relação ao total\n",
    "    df_merged = calculate_percent(df_merged, 'last_available_confirmed', 'last_available_confirmed_pct')\n",
    "\n",
    "    # Calculando percentual de crescimento diário de novas mortes em relação ao total\n",
    "    df_merged = calculate_percent(df_merged, 'last_available_deaths', 'last_available_deaths_pct')\n",
    "\n",
    "    # Calculando percentual de crescimento diário de novas mortes por 100k habitantes em relação ao total\n",
    "    df_merged = calculate_percent(df_merged, 'last_available_confirmed_per_100k_inhabitants', 'last_available_confirmed_per_100k_inhabitants_pct')\n",
    "\n",
    "    # Calculando percentual de crescimento diário da taxa de mortalidade em relação ao total\n",
    "    df_merged = calculate_percent(df_merged, 'last_available_death_rate', 'last_available_death_rate_pct')\n",
    "\n",
    "    # Calculando percentual de crescimento de notícias ruins em relação ao dia anterior\n",
    "    df_merged = calculate_percent(df_merged, 'bad_news', 'bad_news_pct')\n",
    "\n",
    "    # Calculando percentual de crescimento de notícias ruins em relação ao total\n",
    "    df_merged = calculate_percent(df_merged, 'last_bad_news', 'last_bad_news_pct')\n",
    "    \n",
    "    return df_merged;"
   ]
  },
  {
   "cell_type": "code",
   "execution_count": 124,
   "metadata": {},
   "outputs": [],
   "source": [
    "state_code = 'CE'\n",
    "state = 'Ceará'"
   ]
  },
  {
   "cell_type": "markdown",
   "metadata": {},
   "source": [
    "Correlações Vader"
   ]
  },
  {
   "cell_type": "code",
   "execution_count": 130,
   "metadata": {},
   "outputs": [
    {
     "data": {
      "text/plain": [
       "score_mean                                           1.000000\n",
       "last_available_confirmed_per_100k_inhabitants_pct    0.045233\n",
       "last_available_confirmed_pct                         0.045233\n",
       "last_bad_news_pct                                    0.044725\n",
       "new_deaths_pct                                       0.039727\n",
       "new_confirmed_pct                                    0.020547\n",
       "bad_news_pct                                         0.017690\n",
       "last_available_deaths_pct                            0.008567\n",
       "last_available_death_rate_pct                       -0.032364\n",
       "Name: score_mean, dtype: float64"
      ]
     },
     "execution_count": 130,
     "metadata": {},
     "output_type": "execute_result"
    }
   ],
   "source": [
    "column = 'score'\n",
    "df_merged = prepare_data(df_cases_brasil, df, city, state, state_code, column)\n",
    "\n",
    "target_column = 'score_mean'\n",
    "corr_matrix = df_merged.corr()\n",
    "corr_matrix[target_column].sort_values(ascending=False)"
   ]
  },
  {
   "cell_type": "code",
   "execution_count": 131,
   "metadata": {},
   "outputs": [
    {
     "data": {
      "text/html": [
       "<div>\n",
       "<style scoped>\n",
       "    .dataframe tbody tr th:only-of-type {\n",
       "        vertical-align: middle;\n",
       "    }\n",
       "\n",
       "    .dataframe tbody tr th {\n",
       "        vertical-align: top;\n",
       "    }\n",
       "\n",
       "    .dataframe thead th {\n",
       "        text-align: right;\n",
       "    }\n",
       "</style>\n",
       "<table border=\"1\" class=\"dataframe\">\n",
       "  <thead>\n",
       "    <tr style=\"text-align: right;\">\n",
       "      <th></th>\n",
       "      <th>date</th>\n",
       "      <th>score_mean</th>\n",
       "      <th>city</th>\n",
       "      <th>last_available_confirmed</th>\n",
       "      <th>last_available_confirmed_per_100k_inhabitants</th>\n",
       "      <th>last_available_death_rate</th>\n",
       "      <th>last_available_deaths</th>\n",
       "      <th>state</th>\n",
       "      <th>new_confirmed</th>\n",
       "      <th>new_deaths</th>\n",
       "      <th>bad_news</th>\n",
       "      <th>last_bad_news</th>\n",
       "      <th>new_confirmed_pct</th>\n",
       "      <th>new_deaths_pct</th>\n",
       "      <th>last_available_confirmed_pct</th>\n",
       "      <th>last_available_deaths_pct</th>\n",
       "      <th>last_available_confirmed_per_100k_inhabitants_pct</th>\n",
       "      <th>last_available_death_rate_pct</th>\n",
       "      <th>bad_news_pct</th>\n",
       "      <th>last_bad_news_pct</th>\n",
       "    </tr>\n",
       "  </thead>\n",
       "  <tbody>\n",
       "    <tr>\n",
       "      <th>0</th>\n",
       "      <td>2020-02-01</td>\n",
       "      <td>-0.440400</td>\n",
       "      <td>Fortaleza</td>\n",
       "      <td>0</td>\n",
       "      <td>0</td>\n",
       "      <td>0</td>\n",
       "      <td>0</td>\n",
       "      <td>CE</td>\n",
       "      <td>0</td>\n",
       "      <td>0</td>\n",
       "      <td>0</td>\n",
       "      <td>0</td>\n",
       "      <td>0.00</td>\n",
       "      <td>0.00</td>\n",
       "      <td>0.00</td>\n",
       "      <td>0.00</td>\n",
       "      <td>0.00</td>\n",
       "      <td>0.00</td>\n",
       "      <td>0.00</td>\n",
       "      <td>0.00</td>\n",
       "    </tr>\n",
       "    <tr>\n",
       "      <th>1</th>\n",
       "      <td>2020-02-02</td>\n",
       "      <td>-0.364930</td>\n",
       "      <td>Fortaleza</td>\n",
       "      <td>0</td>\n",
       "      <td>0</td>\n",
       "      <td>0</td>\n",
       "      <td>0</td>\n",
       "      <td>CE</td>\n",
       "      <td>0</td>\n",
       "      <td>0</td>\n",
       "      <td>0</td>\n",
       "      <td>0</td>\n",
       "      <td>0.00</td>\n",
       "      <td>0.00</td>\n",
       "      <td>0.00</td>\n",
       "      <td>0.00</td>\n",
       "      <td>0.00</td>\n",
       "      <td>0.00</td>\n",
       "      <td>0.00</td>\n",
       "      <td>0.00</td>\n",
       "    </tr>\n",
       "    <tr>\n",
       "      <th>2</th>\n",
       "      <td>2020-02-03</td>\n",
       "      <td>0.062950</td>\n",
       "      <td>Fortaleza</td>\n",
       "      <td>0</td>\n",
       "      <td>0</td>\n",
       "      <td>0</td>\n",
       "      <td>0</td>\n",
       "      <td>CE</td>\n",
       "      <td>0</td>\n",
       "      <td>0</td>\n",
       "      <td>0</td>\n",
       "      <td>0</td>\n",
       "      <td>0.00</td>\n",
       "      <td>0.00</td>\n",
       "      <td>0.00</td>\n",
       "      <td>0.00</td>\n",
       "      <td>0.00</td>\n",
       "      <td>0.00</td>\n",
       "      <td>0.00</td>\n",
       "      <td>0.00</td>\n",
       "    </tr>\n",
       "    <tr>\n",
       "      <th>3</th>\n",
       "      <td>2020-02-04</td>\n",
       "      <td>-0.395986</td>\n",
       "      <td>Fortaleza</td>\n",
       "      <td>0</td>\n",
       "      <td>0</td>\n",
       "      <td>0</td>\n",
       "      <td>0</td>\n",
       "      <td>CE</td>\n",
       "      <td>0</td>\n",
       "      <td>0</td>\n",
       "      <td>0</td>\n",
       "      <td>0</td>\n",
       "      <td>0.00</td>\n",
       "      <td>0.00</td>\n",
       "      <td>0.00</td>\n",
       "      <td>0.00</td>\n",
       "      <td>0.00</td>\n",
       "      <td>0.00</td>\n",
       "      <td>0.00</td>\n",
       "      <td>0.00</td>\n",
       "    </tr>\n",
       "    <tr>\n",
       "      <th>4</th>\n",
       "      <td>2020-02-05</td>\n",
       "      <td>-0.164643</td>\n",
       "      <td>Fortaleza</td>\n",
       "      <td>0</td>\n",
       "      <td>0</td>\n",
       "      <td>0</td>\n",
       "      <td>0</td>\n",
       "      <td>CE</td>\n",
       "      <td>0</td>\n",
       "      <td>0</td>\n",
       "      <td>0</td>\n",
       "      <td>0</td>\n",
       "      <td>0.00</td>\n",
       "      <td>0.00</td>\n",
       "      <td>0.00</td>\n",
       "      <td>0.00</td>\n",
       "      <td>0.00</td>\n",
       "      <td>0.00</td>\n",
       "      <td>0.00</td>\n",
       "      <td>0.00</td>\n",
       "    </tr>\n",
       "    <tr>\n",
       "      <th>...</th>\n",
       "      <td>...</td>\n",
       "      <td>...</td>\n",
       "      <td>...</td>\n",
       "      <td>...</td>\n",
       "      <td>...</td>\n",
       "      <td>...</td>\n",
       "      <td>...</td>\n",
       "      <td>...</td>\n",
       "      <td>...</td>\n",
       "      <td>...</td>\n",
       "      <td>...</td>\n",
       "      <td>...</td>\n",
       "      <td>...</td>\n",
       "      <td>...</td>\n",
       "      <td>...</td>\n",
       "      <td>...</td>\n",
       "      <td>...</td>\n",
       "      <td>...</td>\n",
       "      <td>...</td>\n",
       "      <td>...</td>\n",
       "    </tr>\n",
       "    <tr>\n",
       "      <th>85</th>\n",
       "      <td>2020-04-27</td>\n",
       "      <td>-0.092864</td>\n",
       "      <td>Fortaleza</td>\n",
       "      <td>5326</td>\n",
       "      <td>198.242</td>\n",
       "      <td>0.0593</td>\n",
       "      <td>316</td>\n",
       "      <td>CE</td>\n",
       "      <td>335</td>\n",
       "      <td>21</td>\n",
       "      <td>356</td>\n",
       "      <td>5642</td>\n",
       "      <td>-25.56</td>\n",
       "      <td>-41.67</td>\n",
       "      <td>6.71</td>\n",
       "      <td>7.12</td>\n",
       "      <td>6.71</td>\n",
       "      <td>0.34</td>\n",
       "      <td>-26.75</td>\n",
       "      <td>6.73</td>\n",
       "    </tr>\n",
       "    <tr>\n",
       "      <th>86</th>\n",
       "      <td>2020-04-28</td>\n",
       "      <td>-0.058427</td>\n",
       "      <td>Fortaleza</td>\n",
       "      <td>5481</td>\n",
       "      <td>204.012</td>\n",
       "      <td>0.06</td>\n",
       "      <td>329</td>\n",
       "      <td>CE</td>\n",
       "      <td>155</td>\n",
       "      <td>13</td>\n",
       "      <td>168</td>\n",
       "      <td>5810</td>\n",
       "      <td>-53.73</td>\n",
       "      <td>-38.10</td>\n",
       "      <td>2.91</td>\n",
       "      <td>4.11</td>\n",
       "      <td>2.91</td>\n",
       "      <td>1.18</td>\n",
       "      <td>-52.81</td>\n",
       "      <td>2.98</td>\n",
       "    </tr>\n",
       "    <tr>\n",
       "      <th>87</th>\n",
       "      <td>2020-04-29</td>\n",
       "      <td>-0.109883</td>\n",
       "      <td>Fortaleza</td>\n",
       "      <td>5712</td>\n",
       "      <td>212.61</td>\n",
       "      <td>0.0611</td>\n",
       "      <td>349</td>\n",
       "      <td>CE</td>\n",
       "      <td>231</td>\n",
       "      <td>20</td>\n",
       "      <td>251</td>\n",
       "      <td>6061</td>\n",
       "      <td>49.03</td>\n",
       "      <td>53.85</td>\n",
       "      <td>4.21</td>\n",
       "      <td>6.08</td>\n",
       "      <td>4.21</td>\n",
       "      <td>1.83</td>\n",
       "      <td>49.40</td>\n",
       "      <td>4.32</td>\n",
       "    </tr>\n",
       "    <tr>\n",
       "      <th>88</th>\n",
       "      <td>2020-04-30</td>\n",
       "      <td>-0.101332</td>\n",
       "      <td>Fortaleza</td>\n",
       "      <td>5970</td>\n",
       "      <td>222.213</td>\n",
       "      <td>0.0638</td>\n",
       "      <td>381</td>\n",
       "      <td>CE</td>\n",
       "      <td>258</td>\n",
       "      <td>32</td>\n",
       "      <td>290</td>\n",
       "      <td>6351</td>\n",
       "      <td>11.69</td>\n",
       "      <td>60.00</td>\n",
       "      <td>4.52</td>\n",
       "      <td>9.17</td>\n",
       "      <td>4.52</td>\n",
       "      <td>4.42</td>\n",
       "      <td>15.54</td>\n",
       "      <td>4.78</td>\n",
       "    </tr>\n",
       "    <tr>\n",
       "      <th>89</th>\n",
       "      <td>2020-05-01</td>\n",
       "      <td>-0.069409</td>\n",
       "      <td>Fortaleza</td>\n",
       "      <td>6082</td>\n",
       "      <td>226.382</td>\n",
       "      <td>0.0679</td>\n",
       "      <td>413</td>\n",
       "      <td>CE</td>\n",
       "      <td>112</td>\n",
       "      <td>32</td>\n",
       "      <td>144</td>\n",
       "      <td>6495</td>\n",
       "      <td>-56.59</td>\n",
       "      <td>0.00</td>\n",
       "      <td>1.88</td>\n",
       "      <td>8.40</td>\n",
       "      <td>1.88</td>\n",
       "      <td>6.43</td>\n",
       "      <td>-50.34</td>\n",
       "      <td>2.27</td>\n",
       "    </tr>\n",
       "  </tbody>\n",
       "</table>\n",
       "<p>90 rows × 20 columns</p>\n",
       "</div>"
      ],
      "text/plain": [
       "          date  score_mean       city last_available_confirmed  \\\n",
       "0   2020-02-01   -0.440400  Fortaleza                        0   \n",
       "1   2020-02-02   -0.364930  Fortaleza                        0   \n",
       "2   2020-02-03    0.062950  Fortaleza                        0   \n",
       "3   2020-02-04   -0.395986  Fortaleza                        0   \n",
       "4   2020-02-05   -0.164643  Fortaleza                        0   \n",
       "..         ...         ...        ...                      ...   \n",
       "85  2020-04-27   -0.092864  Fortaleza                     5326   \n",
       "86  2020-04-28   -0.058427  Fortaleza                     5481   \n",
       "87  2020-04-29   -0.109883  Fortaleza                     5712   \n",
       "88  2020-04-30   -0.101332  Fortaleza                     5970   \n",
       "89  2020-05-01   -0.069409  Fortaleza                     6082   \n",
       "\n",
       "   last_available_confirmed_per_100k_inhabitants last_available_death_rate  \\\n",
       "0                                              0                         0   \n",
       "1                                              0                         0   \n",
       "2                                              0                         0   \n",
       "3                                              0                         0   \n",
       "4                                              0                         0   \n",
       "..                                           ...                       ...   \n",
       "85                                       198.242                    0.0593   \n",
       "86                                       204.012                      0.06   \n",
       "87                                        212.61                    0.0611   \n",
       "88                                       222.213                    0.0638   \n",
       "89                                       226.382                    0.0679   \n",
       "\n",
       "   last_available_deaths state new_confirmed new_deaths bad_news  \\\n",
       "0                      0    CE             0          0        0   \n",
       "1                      0    CE             0          0        0   \n",
       "2                      0    CE             0          0        0   \n",
       "3                      0    CE             0          0        0   \n",
       "4                      0    CE             0          0        0   \n",
       "..                   ...   ...           ...        ...      ...   \n",
       "85                   316    CE           335         21      356   \n",
       "86                   329    CE           155         13      168   \n",
       "87                   349    CE           231         20      251   \n",
       "88                   381    CE           258         32      290   \n",
       "89                   413    CE           112         32      144   \n",
       "\n",
       "   last_bad_news  new_confirmed_pct  new_deaths_pct  \\\n",
       "0              0               0.00            0.00   \n",
       "1              0               0.00            0.00   \n",
       "2              0               0.00            0.00   \n",
       "3              0               0.00            0.00   \n",
       "4              0               0.00            0.00   \n",
       "..           ...                ...             ...   \n",
       "85          5642             -25.56          -41.67   \n",
       "86          5810             -53.73          -38.10   \n",
       "87          6061              49.03           53.85   \n",
       "88          6351              11.69           60.00   \n",
       "89          6495             -56.59            0.00   \n",
       "\n",
       "    last_available_confirmed_pct  last_available_deaths_pct  \\\n",
       "0                           0.00                       0.00   \n",
       "1                           0.00                       0.00   \n",
       "2                           0.00                       0.00   \n",
       "3                           0.00                       0.00   \n",
       "4                           0.00                       0.00   \n",
       "..                           ...                        ...   \n",
       "85                          6.71                       7.12   \n",
       "86                          2.91                       4.11   \n",
       "87                          4.21                       6.08   \n",
       "88                          4.52                       9.17   \n",
       "89                          1.88                       8.40   \n",
       "\n",
       "    last_available_confirmed_per_100k_inhabitants_pct  \\\n",
       "0                                                0.00   \n",
       "1                                                0.00   \n",
       "2                                                0.00   \n",
       "3                                                0.00   \n",
       "4                                                0.00   \n",
       "..                                                ...   \n",
       "85                                               6.71   \n",
       "86                                               2.91   \n",
       "87                                               4.21   \n",
       "88                                               4.52   \n",
       "89                                               1.88   \n",
       "\n",
       "    last_available_death_rate_pct  bad_news_pct  last_bad_news_pct  \n",
       "0                            0.00          0.00               0.00  \n",
       "1                            0.00          0.00               0.00  \n",
       "2                            0.00          0.00               0.00  \n",
       "3                            0.00          0.00               0.00  \n",
       "4                            0.00          0.00               0.00  \n",
       "..                            ...           ...                ...  \n",
       "85                           0.34        -26.75               6.73  \n",
       "86                           1.18        -52.81               2.98  \n",
       "87                           1.83         49.40               4.32  \n",
       "88                           4.42         15.54               4.78  \n",
       "89                           6.43        -50.34               2.27  \n",
       "\n",
       "[90 rows x 20 columns]"
      ]
     },
     "execution_count": 131,
     "metadata": {},
     "output_type": "execute_result"
    }
   ],
   "source": [
    "df_merged"
   ]
  },
  {
   "cell_type": "markdown",
   "metadata": {},
   "source": [
    "Correlações SenticNet"
   ]
  },
  {
   "cell_type": "code",
   "execution_count": 128,
   "metadata": {},
   "outputs": [
    {
     "data": {
      "text/plain": [
       "polarity_mean                                        1.000000\n",
       "last_bad_news_pct                                    0.084575\n",
       "last_available_confirmed_per_100k_inhabitants_pct    0.084111\n",
       "last_available_confirmed_pct                         0.084111\n",
       "last_available_deaths_pct                            0.083268\n",
       "bad_news_pct                                         0.064987\n",
       "new_confirmed_pct                                    0.064341\n",
       "new_deaths_pct                                       0.060076\n",
       "last_available_death_rate_pct                        0.017482\n",
       "Name: polarity_mean, dtype: float64"
      ]
     },
     "execution_count": 128,
     "metadata": {},
     "output_type": "execute_result"
    }
   ],
   "source": [
    "column = 'polarity'\n",
    "df_merged = prepare_data(df_cases_brasil, df, city, state, state_code, column)\n",
    "\n",
    "target_column = 'polarity_mean'\n",
    "corr_matrix = df_merged.corr()\n",
    "corr_matrix[target_column].sort_values(ascending=False)"
   ]
  },
  {
   "cell_type": "markdown",
   "metadata": {},
   "source": [
    "Fontes:\n",
    "-  Decretos do Governo do Ceará com ações contra o coronavírus - https://www.ceara.gov.br/decretos-do-governo-do-ceara-com-acoes-contra-o-coronavirus/\n",
    "- CoronaVírus - https://coronavirus.ceara.gov.br/project_tag/decreto/"
   ]
  }
 ],
 "metadata": {
  "kernelspec": {
   "display_name": "Python 3",
   "language": "python",
   "name": "python3"
  },
  "language_info": {
   "codemirror_mode": {
    "name": "ipython",
    "version": 3
   },
   "file_extension": ".py",
   "mimetype": "text/x-python",
   "name": "python",
   "nbconvert_exporter": "python",
   "pygments_lexer": "ipython3",
   "version": "3.7.6"
  }
 },
 "nbformat": 4,
 "nbformat_minor": 4
}
