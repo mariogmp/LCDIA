{
 "cells": [
  {
   "cell_type": "markdown",
   "metadata": {},
   "source": [
    "**Sentimentos Vader e SenticNet x Casos Covid**"
   ]
  },
  {
   "cell_type": "markdown",
   "metadata": {},
   "source": [
    "Importações e configurações do banco de dados"
   ]
  },
  {
   "cell_type": "code",
   "execution_count": 2,
   "metadata": {},
   "outputs": [],
   "source": [
    "import pandas as pd\n",
    "import matplotlib.pyplot as plt\n",
    "import numpy as np\n",
    "import datetime\n",
    "import warnings\n",
    "import seaborn as sns\n",
    "warnings.filterwarnings('ignore')\n",
    "\n",
    "from statistics import mean"
   ]
  },
  {
   "cell_type": "code",
   "execution_count": 3,
   "metadata": {},
   "outputs": [],
   "source": [
    "from pymongo import MongoClient\n",
    "client = MongoClient('localhost', 27017)\n",
    "db = client.SpedDB\n",
    "collection = db.tweets_brasil"
   ]
  },
  {
   "cell_type": "markdown",
   "metadata": {},
   "source": [
    "**Ranking de Sentimentos utilizando Vader**"
   ]
  },
  {
   "cell_type": "code",
   "execution_count": 56,
   "metadata": {},
   "outputs": [
    {
     "data": {
      "text/plain": [
       "<matplotlib.axes._subplots.AxesSubplot at 0x7f125e42e9d0>"
      ]
     },
     "execution_count": 56,
     "metadata": {},
     "output_type": "execute_result"
    },
    {
     "data": {
      "image/png": "[encoded data removed]",
      "text/plain": [
       "<Figure size 720x720 with 1 Axes>"
      ]
     },
     "metadata": {
      "needs_background": "light"
     },
     "output_type": "display_data"
    }
   ],
   "source": [
    "# Ranking de estados por média de sentimentos (pior para o melhor)\n",
    "df2_by_score = df2.groupby('state')['score'].agg(['mean'])\n",
    "df2_by_score.sort_values(by='mean',ascending=False).plot(kind='barh', figsize=(10, 10))"
   ]
  },
  {
   "cell_type": "code",
   "execution_count": 57,
   "metadata": {},
   "outputs": [
    {
     "data": {
      "text/plain": [
       "444839"
      ]
     },
     "execution_count": 57,
     "metadata": {},
     "output_type": "execute_result"
    }
   ],
   "source": [
    "# Selecionando somente as capitais\n",
    "df_capitals = df2.query(\"city in ['Rio Branco', 'Maceió', 'Macapá', 'Manaus', 'Salvador', 'Fortaleza', 'Brasília', 'Vitória', 'Goiânia', 'São Luís', 'Cuiabá', 'Campo Grande', 'Belo Horizonte', 'Belém', 'João Pessoa', 'Curitiba', 'Recife', 'Teresina', 'Rio de Janeiro', 'Natal', 'Porto Alegre', 'Porto Velho', 'Boa Vista', 'Florianópolis', 'São Paulo', 'Aracaju', 'Palmas']\")\n",
    "df_capitals.shape[0]"
   ]
  },
  {
   "cell_type": "code",
   "execution_count": 58,
   "metadata": {},
   "outputs": [
    {
     "data": {
      "text/html": [
       "<div>\n",
       "<style scoped>\n",
       "    .dataframe tbody tr th:only-of-type {\n",
       "        vertical-align: middle;\n",
       "    }\n",
       "\n",
       "    .dataframe tbody tr th {\n",
       "        vertical-align: top;\n",
       "    }\n",
       "\n",
       "    .dataframe thead th {\n",
       "        text-align: right;\n",
       "    }\n",
       "</style>\n",
       "<table border=\"1\" class=\"dataframe\">\n",
       "  <thead>\n",
       "    <tr style=\"text-align: right;\">\n",
       "      <th></th>\n",
       "      <th>mean</th>\n",
       "    </tr>\n",
       "    <tr>\n",
       "      <th>city</th>\n",
       "      <th></th>\n",
       "    </tr>\n",
       "  </thead>\n",
       "  <tbody>\n",
       "    <tr>\n",
       "      <th>Cuiabá</th>\n",
       "      <td>-0.056800</td>\n",
       "    </tr>\n",
       "    <tr>\n",
       "      <th>Palmas</th>\n",
       "      <td>-0.056439</td>\n",
       "    </tr>\n",
       "    <tr>\n",
       "      <th>Recife</th>\n",
       "      <td>-0.054813</td>\n",
       "    </tr>\n",
       "    <tr>\n",
       "      <th>Goiânia</th>\n",
       "      <td>-0.053894</td>\n",
       "    </tr>\n",
       "    <tr>\n",
       "      <th>Manaus</th>\n",
       "      <td>-0.053719</td>\n",
       "    </tr>\n",
       "  </tbody>\n",
       "</table>\n",
       "</div>"
      ],
      "text/plain": [
       "             mean\n",
       "city             \n",
       "Cuiabá  -0.056800\n",
       "Palmas  -0.056439\n",
       "Recife  -0.054813\n",
       "Goiânia -0.053894\n",
       "Manaus  -0.053719"
      ]
     },
     "execution_count": 58,
     "metadata": {},
     "output_type": "execute_result"
    }
   ],
   "source": [
    "# Ranking das 5 estados mais \"tristes\"\n",
    "df_capitals_by_score = df_capitals.groupby('city')['score'].agg(['mean'])\n",
    "df_capitals_by_score = df_capitals_by_score.sort_values(by='mean',ascending=True)\n",
    "df_capitals_by_score_worst = df_capitals_by_score[:5]\n",
    "df_capitals_by_score_worst"
   ]
  },
  {
   "cell_type": "code",
   "execution_count": 59,
   "metadata": {},
   "outputs": [
    {
     "data": {
      "text/html": [
       "<div>\n",
       "<style scoped>\n",
       "    .dataframe tbody tr th:only-of-type {\n",
       "        vertical-align: middle;\n",
       "    }\n",
       "\n",
       "    .dataframe tbody tr th {\n",
       "        vertical-align: top;\n",
       "    }\n",
       "\n",
       "    .dataframe thead th {\n",
       "        text-align: right;\n",
       "    }\n",
       "</style>\n",
       "<table border=\"1\" class=\"dataframe\">\n",
       "  <thead>\n",
       "    <tr style=\"text-align: right;\">\n",
       "      <th></th>\n",
       "      <th>mean</th>\n",
       "    </tr>\n",
       "    <tr>\n",
       "      <th>city</th>\n",
       "      <th></th>\n",
       "    </tr>\n",
       "  </thead>\n",
       "  <tbody>\n",
       "    <tr>\n",
       "      <th>Porto Velho</th>\n",
       "      <td>-0.008655</td>\n",
       "    </tr>\n",
       "    <tr>\n",
       "      <th>Maceió</th>\n",
       "      <td>-0.012655</td>\n",
       "    </tr>\n",
       "    <tr>\n",
       "      <th>Belém</th>\n",
       "      <td>-0.020804</td>\n",
       "    </tr>\n",
       "    <tr>\n",
       "      <th>Boa Vista</th>\n",
       "      <td>-0.025339</td>\n",
       "    </tr>\n",
       "    <tr>\n",
       "      <th>Vitória</th>\n",
       "      <td>-0.029105</td>\n",
       "    </tr>\n",
       "  </tbody>\n",
       "</table>\n",
       "</div>"
      ],
      "text/plain": [
       "                 mean\n",
       "city                 \n",
       "Porto Velho -0.008655\n",
       "Maceió      -0.012655\n",
       "Belém       -0.020804\n",
       "Boa Vista   -0.025339\n",
       "Vitória     -0.029105"
      ]
     },
     "execution_count": 59,
     "metadata": {},
     "output_type": "execute_result"
    }
   ],
   "source": [
    "# Ranking das 5 estados mais \"felizes\"\n",
    "df_capitals_by_score = df_capitals.groupby('city')['score'].agg(['mean'])\n",
    "df_capitals_by_score = df_capitals_by_score.sort_values(by='mean',ascending=False)\n",
    "df_capitals_by_score_best = df_capitals_by_score[:5]\n",
    "df_capitals_by_score_best"
   ]
  },
  {
   "cell_type": "markdown",
   "metadata": {},
   "source": [
    "**Ranking de Sentimentos utilizando SenticNet**"
   ]
  },
  {
   "cell_type": "code",
   "execution_count": 60,
   "metadata": {},
   "outputs": [
    {
     "data": {
      "text/plain": [
       "<matplotlib.axes._subplots.AxesSubplot at 0x7f125e46b0d0>"
      ]
     },
     "execution_count": 60,
     "metadata": {},
     "output_type": "execute_result"
    },
    {
     "data": {
      "image/png": "[encoded data removed]",
      "text/plain": [
       "<Figure size 720x720 with 1 Axes>"
      ]
     },
     "metadata": {
      "needs_background": "light"
     },
     "output_type": "display_data"
    }
   ],
   "source": [
    "# Ranking de estados por média de sentimentos (pior para o melhor)\n",
    "df2_by_score = df2.groupby('state')['polarity'].agg(['mean'])\n",
    "df2_by_score.sort_values(by='mean',ascending=False).plot(kind='barh', figsize=(10, 10))"
   ]
  },
  {
   "cell_type": "code",
   "execution_count": 61,
   "metadata": {},
   "outputs": [
    {
     "data": {
      "text/plain": [
       "444839"
      ]
     },
     "execution_count": 61,
     "metadata": {},
     "output_type": "execute_result"
    }
   ],
   "source": [
    "# Selecionando somente as capitais\n",
    "df_capitals = df2.query(\"city in ['Rio Branco', 'Maceió', 'Macapá', 'Manaus', 'Salvador', 'Fortaleza', 'Brasília', 'Vitória', 'Goiânia', 'São Luís', 'Cuiabá', 'Campo Grande', 'Belo Horizonte', 'Belém', 'João Pessoa', 'Curitiba', 'Recife', 'Teresina', 'Rio de Janeiro', 'Natal', 'Porto Alegre', 'Porto Velho', 'Boa Vista', 'Florianópolis', 'São Paulo', 'Aracaju', 'Palmas']\")\n",
    "df_capitals.shape[0]"
   ]
  },
  {
   "cell_type": "code",
   "execution_count": 62,
   "metadata": {},
   "outputs": [
    {
     "data": {
      "text/html": [
       "<div>\n",
       "<style scoped>\n",
       "    .dataframe tbody tr th:only-of-type {\n",
       "        vertical-align: middle;\n",
       "    }\n",
       "\n",
       "    .dataframe tbody tr th {\n",
       "        vertical-align: top;\n",
       "    }\n",
       "\n",
       "    .dataframe thead th {\n",
       "        text-align: right;\n",
       "    }\n",
       "</style>\n",
       "<table border=\"1\" class=\"dataframe\">\n",
       "  <thead>\n",
       "    <tr style=\"text-align: right;\">\n",
       "      <th></th>\n",
       "      <th>mean</th>\n",
       "    </tr>\n",
       "    <tr>\n",
       "      <th>city</th>\n",
       "      <th></th>\n",
       "    </tr>\n",
       "  </thead>\n",
       "  <tbody>\n",
       "    <tr>\n",
       "      <th>Aracaju</th>\n",
       "      <td>0.089123</td>\n",
       "    </tr>\n",
       "    <tr>\n",
       "      <th>Rio de Janeiro</th>\n",
       "      <td>0.094458</td>\n",
       "    </tr>\n",
       "    <tr>\n",
       "      <th>Fortaleza</th>\n",
       "      <td>0.095666</td>\n",
       "    </tr>\n",
       "    <tr>\n",
       "      <th>Manaus</th>\n",
       "      <td>0.096295</td>\n",
       "    </tr>\n",
       "    <tr>\n",
       "      <th>Recife</th>\n",
       "      <td>0.097329</td>\n",
       "    </tr>\n",
       "  </tbody>\n",
       "</table>\n",
       "</div>"
      ],
      "text/plain": [
       "                    mean\n",
       "city                    \n",
       "Aracaju         0.089123\n",
       "Rio de Janeiro  0.094458\n",
       "Fortaleza       0.095666\n",
       "Manaus          0.096295\n",
       "Recife          0.097329"
      ]
     },
     "execution_count": 62,
     "metadata": {},
     "output_type": "execute_result"
    }
   ],
   "source": [
    "# Ranking das 5 estados mais \"tristes\"\n",
    "df_capitals_by_polarity = df_capitals.groupby('city')['polarity'].agg(['mean'])\n",
    "df_capitals_by_polarity = df_capitals_by_polarity.sort_values(by='mean',ascending=True)\n",
    "df_capitals_by_polarity_worst = df_capitals_by_polarity[:5]\n",
    "df_capitals_by_polarity_worst"
   ]
  },
  {
   "cell_type": "code",
   "execution_count": 63,
   "metadata": {},
   "outputs": [
    {
     "data": {
      "text/html": [
       "<div>\n",
       "<style scoped>\n",
       "    .dataframe tbody tr th:only-of-type {\n",
       "        vertical-align: middle;\n",
       "    }\n",
       "\n",
       "    .dataframe tbody tr th {\n",
       "        vertical-align: top;\n",
       "    }\n",
       "\n",
       "    .dataframe thead th {\n",
       "        text-align: right;\n",
       "    }\n",
       "</style>\n",
       "<table border=\"1\" class=\"dataframe\">\n",
       "  <thead>\n",
       "    <tr style=\"text-align: right;\">\n",
       "      <th></th>\n",
       "      <th>mean</th>\n",
       "    </tr>\n",
       "    <tr>\n",
       "      <th>city</th>\n",
       "      <th></th>\n",
       "    </tr>\n",
       "  </thead>\n",
       "  <tbody>\n",
       "    <tr>\n",
       "      <th>Belém</th>\n",
       "      <td>0.120412</td>\n",
       "    </tr>\n",
       "    <tr>\n",
       "      <th>Teresina</th>\n",
       "      <td>0.106837</td>\n",
       "    </tr>\n",
       "    <tr>\n",
       "      <th>São Paulo</th>\n",
       "      <td>0.105350</td>\n",
       "    </tr>\n",
       "    <tr>\n",
       "      <th>Boa Vista</th>\n",
       "      <td>0.104934</td>\n",
       "    </tr>\n",
       "    <tr>\n",
       "      <th>Porto Velho</th>\n",
       "      <td>0.104427</td>\n",
       "    </tr>\n",
       "  </tbody>\n",
       "</table>\n",
       "</div>"
      ],
      "text/plain": [
       "                 mean\n",
       "city                 \n",
       "Belém        0.120412\n",
       "Teresina     0.106837\n",
       "São Paulo    0.105350\n",
       "Boa Vista    0.104934\n",
       "Porto Velho  0.104427"
      ]
     },
     "execution_count": 63,
     "metadata": {},
     "output_type": "execute_result"
    }
   ],
   "source": [
    "# Ranking das 5 estados mais \"felizes\"\n",
    "df_capitals_by_polarity = df_capitals.groupby('city')['polarity'].agg(['mean'])\n",
    "df_capitals_by_polarity = df_capitals_by_polarity.sort_values(by='mean',ascending=False)\n",
    "df_capitals_by_polarity_best = df_capitals_by_polarity[:5]\n",
    "df_capitals_by_polarity_best"
   ]
  },
  {
   "cell_type": "markdown",
   "metadata": {},
   "source": [
    "Selecionando dados de registros com geo_source mais confiáveis (place e user_location)"
   ]
  },
  {
   "cell_type": "code",
   "execution_count": 18,
   "metadata": {},
   "outputs": [],
   "source": [
    "df2 = pd.DataFrame.from_records(collection.find({'score': {'$ne':None}, 'polarity':{'$ne':None}, '$or':[{'geo_source':'place'}, {'geo_source':'user_location'}]}, {'state':1,'city':1,'lang':1,'geo_source':1,'score':1,'created_at':1,'text':1,'polarity':1,'_id': 0}))"
   ]
  },
  {
   "cell_type": "code",
   "execution_count": 6,
   "metadata": {},
   "outputs": [
    {
     "data": {
      "text/plain": [
       "741638"
      ]
     },
     "execution_count": 6,
     "metadata": {},
     "output_type": "execute_result"
    }
   ],
   "source": [
    "df2.shape[0]"
   ]
  },
  {
   "cell_type": "markdown",
   "metadata": {},
   "source": [
    "Funções auxiliares para dataframes"
   ]
  },
  {
   "cell_type": "code",
   "execution_count": 19,
   "metadata": {},
   "outputs": [],
   "source": [
    "# Função para montar um df de Quantificadores por data a partir do df de Tweets\n",
    "def building_dates_df(df, column):\n",
    "\n",
    "    date_set = set()  \n",
    "    \n",
    "    for item in df.created_at:\n",
    "        date = datetime.datetime(item.year, item.month, item.day)\n",
    "        date_set.add(date)\n",
    "    \n",
    "    # Listas utilizadas para montagem do df\n",
    "    date_list = list(date_set)\n",
    "    date_list.sort()\n",
    "    score_mean_list = []\n",
    "        \n",
    "    # Populando quantificadores para cada dia\n",
    "    for index in date_list:\n",
    "        # Média de scores do período\n",
    "        score_mean = mean(df[column].loc[(df['created_at'].dt.year == index.year) & (df['created_at'].dt.month == index.month) & (df['created_at'].dt.day == index.day)])\n",
    "        score_mean_list.append(score_mean)\n",
    "    \n",
    "    # Dicionário utilizado como parâmetro para a montagem\n",
    "    column_mean = column + '_mean'\n",
    "    data={'created_at': pd.Series(date_list),column_mean:pd.Series(score_mean_list)}\n",
    "    \n",
    "    # Criando df\n",
    "    df = pd.DataFrame(data)\n",
    "    \n",
    "    return df "
   ]
  },
  {
   "cell_type": "code",
   "execution_count": 20,
   "metadata": {},
   "outputs": [],
   "source": [
    "# Função para retornar todos os casos de uma cidade\n",
    "def filter_cases_city (df_cases_brasil, city, state_code):\n",
    "    \n",
    "    df_cases_city = df_cases_brasil.loc[(df_cases_brasil['city'] == city) & (df_cases_brasil['state'] == state_code) & (df_cases_brasil['date'] < '2020-05-02')]\n",
    "    df_cases_city = df_cases_city.reset_index(drop=True)\n",
    "    \n",
    "    return df_cases_city"
   ]
  },
  {
   "cell_type": "code",
   "execution_count": 21,
   "metadata": {},
   "outputs": [],
   "source": [
    "# Função para retornar os tweets a partir da data do primeiro caso de covid na cidade\n",
    "def filter_tweets_city(df_cases_city, df_tweets, city, state):\n",
    "    \n",
    "    # Retornando a data do primeiro caso de Covid\n",
    "    date_str = df_cases_city.loc[0, 'date']\n",
    "    datetime_str = date_str + ' 00:00:00'\n",
    "    \n",
    "    # Selecionando tweets a partir da data do primeiro caso\n",
    "    query_str = \"city == '\"+city+\"' and state == '\"+state+\"' and created_at >= '\"+datetime_str+\"'\";  \n",
    "    \n",
    "    return df_tweets.query(query_str)"
   ]
  },
  {
   "cell_type": "code",
   "execution_count": 22,
   "metadata": {},
   "outputs": [],
   "source": [
    "# Realizando o merge do dataframe de scores x dataframe de casos\n",
    "def merge_dfs(df_scores_city, df_cases_city):\n",
    "\n",
    "    # Padronizando as colunas de datas\n",
    "    df_scores_city = df_scores_city.rename(columns={'created_at':'date'})\n",
    "\n",
    "    # Convertendo as colunas de datas para o mesmo tipo de objeto\n",
    "    df_scores_city = df_scores_city.astype({'date': str})\n",
    "    df_cases_city = df_cases_city.astype({'date': str})\n",
    "\n",
    "    # Realizando merges para recuperar período de datas em comum\n",
    "    return pd.merge(df_scores_city, df_cases_city, on='date', how='inner')"
   ]
  },
  {
   "cell_type": "code",
   "execution_count": 23,
   "metadata": {},
   "outputs": [],
   "source": [
    "# Função para derivar novos atributos\n",
    "def create_attributes(df_merged):\n",
    "    \n",
    "    # Somando colunas new_confirmed + new_deaths (notícias ruins do dia)\n",
    "    df_merged['bad_news'] = df_merged['new_confirmed'] + df_merged['new_deaths']\n",
    "\n",
    "    # Somando colunas last_available_confirmed + last_available_deaths (notícias ruins totais)\n",
    "    df_merged['last_bad_news'] = df_merged['last_available_confirmed'] + df_merged['last_available_deaths']\n",
    "\n",
    "    # Calculando percentual de crescimento de score de sentimento em relação ao dia anterior\n",
    "    # df_merged = calculate_percent(df_merged, 'score_mean', 'score_mean_pct')\n",
    "\n",
    "    # Calculando percentual de crescimento diário de novos casos em relação ao dia anterior\n",
    "    df_merged = calculate_percent(df_merged, 'new_confirmed', 'new_confirmed_pct')\n",
    "\n",
    "    # Calculando percentual de crescimento diário de novas mortes em relação ao dia anterior\n",
    "    df_merged = calculate_percent(df_merged, 'new_deaths', 'new_deaths_pct')\n",
    "\n",
    "    # Calculando percentual de crescimento diário de novos casos em relação ao total\n",
    "    df_merged = calculate_percent(df_merged, 'last_available_confirmed', 'last_available_confirmed_pct')\n",
    "\n",
    "    # Calculando percentual de crescimento diário de novas mortes em relação ao total\n",
    "    df_merged = calculate_percent(df_merged, 'last_available_deaths', 'last_available_deaths_pct')\n",
    "\n",
    "    # Calculando percentual de crescimento diário de novas mortes por 100k habitantes em relação ao total\n",
    "    df_merged = calculate_percent(df_merged, 'last_available_confirmed_per_100k_inhabitants', 'last_available_confirmed_per_100k_inhabitants_pct')\n",
    "\n",
    "    # Calculando percentual de crescimento diário da taxa de mortalidade em relação ao total\n",
    "    df_merged = calculate_percent(df_merged, 'last_available_death_rate', 'last_available_death_rate_pct')\n",
    "\n",
    "    # Calculando percentual de crescimento de notícias ruins em relação ao dia anterior\n",
    "    df_merged = calculate_percent(df_merged, 'bad_news', 'bad_news_pct')\n",
    "\n",
    "    # Calculando percentual de crescimento de notícias ruins em relação ao total\n",
    "    df_merged = calculate_percent(df_merged, 'last_bad_news', 'last_bad_news_pct')\n",
    "    \n",
    "    return df_merged;"
   ]
  },
  {
   "cell_type": "markdown",
   "metadata": {},
   "source": [
    "Funções auxiliares para gráficos"
   ]
  },
  {
   "cell_type": "code",
   "execution_count": 24,
   "metadata": {},
   "outputs": [],
   "source": [
    "# Função para geração de gráficos\n",
    "def generate_graphic(df, x, y, label, color, xLabel, yLabel, title):\n",
    "    \n",
    "    plt.rcParams['figure.figsize'] = (18,9)\n",
    "    plt.plot(x,y,color=color, linestyle='solid', linewidth=2,label=label)\n",
    "    \n",
    "    plt.xticks(x, rotation=80)\n",
    "    plt.legend(fontsize=15)\n",
    "    plt.xlabel(xLabel,fontsize=15)\n",
    "    plt.ylabel(yLabel,fontsize=15)\n",
    "    plt.title(title)\n",
    "    plt.grid(True, linestyle='--')\n",
    "    plt.show()"
   ]
  },
  {
   "cell_type": "code",
   "execution_count": 25,
   "metadata": {},
   "outputs": [],
   "source": [
    "# Função para gerar um gráfico X outro\n",
    "def generate_vs_graphic(date, x, y1, y2, label1, label2, color1, color2, xLabel, title):\n",
    "    \n",
    "    plt.rcParams['figure.figsize'] = (18,9)\n",
    "    plt.plot(x,y1,color=color1, linestyle='solid', linewidth=2,label=label1)\n",
    "    plt.plot(x,y2,color=color2, linestyle='solid', linewidth=2,label=label2)\n",
    "\n",
    "    plt.xticks(date, rotation=80)\n",
    "    plt.legend(fontsize=15)\n",
    "    plt.xlabel(xLabel,fontsize=15)\n",
    "    plt.title(title)\n",
    "    plt.grid(True, linestyle='--')\n",
    "    plt.show()"
   ]
  },
  {
   "cell_type": "code",
   "execution_count": 26,
   "metadata": {},
   "outputs": [],
   "source": [
    "# Função para gerar scatter plot\n",
    "def generate_scatter(x, y, x_name, y_name):\n",
    "    \n",
    "    plt.figure(figsize=(8, 4), dpi=80)\n",
    "    plt.scatter(x, y)\n",
    "    plt.title(x_name + \" X \" + y_name)\n",
    "    plt.xlabel(x_name)\n",
    "    plt.ylabel(y_name)\n",
    "    \n",
    "    return plt"
   ]
  },
  {
   "cell_type": "markdown",
   "metadata": {},
   "source": [
    "Funções auxiliares para o cálculo de atributos"
   ]
  },
  {
   "cell_type": "code",
   "execution_count": 27,
   "metadata": {},
   "outputs": [],
   "source": [
    "## Cálculo do percentual de crescimento de um valor no tempo\n",
    "def calculate_percent(df, column, new_column):  \n",
    "    \n",
    "    values_list = []\n",
    "    \n",
    "    is_first = True\n",
    "    last_value = 0\n",
    "    \n",
    "    for (i, row) in df.iterrows():\n",
    "        if (is_first == True):\n",
    "            is_first = False\n",
    "            last_value = row[column]\n",
    "            values_list.append(0)\n",
    "        else:\n",
    "            try:\n",
    "                percent = 100 * (((row[column] - last_value))/last_value)\n",
    "                percent = round(percent, 2)\n",
    "                values_list.append(percent)\n",
    "                last_value = row[column]\n",
    "            except ZeroDivisionError:\n",
    "                values_list.append(0)\n",
    "                last_value = row[column]\n",
    "            \n",
    "    df[new_column] = pd.Series(values_list, index = df.index)\n",
    "    \n",
    "    return df"
   ]
  },
  {
   "cell_type": "markdown",
   "metadata": {},
   "source": [
    "Funções auxiliares para correlações"
   ]
  },
  {
   "cell_type": "code",
   "execution_count": 28,
   "metadata": {},
   "outputs": [],
   "source": [
    "def best_column_corr(corr_matrix):\n",
    "    return corr_matrix.index[1]"
   ]
  },
  {
   "cell_type": "code",
   "execution_count": 29,
   "metadata": {},
   "outputs": [],
   "source": [
    "def prepare_data(df_cases, df_tweets, city, state, state_code, column):\n",
    "    \n",
    "    # Filtrando registros de casos de Covid\n",
    "    df_cases_city = filter_cases_city(df_cases, city, state_code)\n",
    "    #print(df_cases_city.shape[0])\n",
    "\n",
    "    # Filtrando tweets a partir da data do primeiro caso registrado\n",
    "    df_tweets_city = filter_tweets_city(df_cases_city, df_tweets, city, state)\n",
    "    #print(df_tweets_city.shape[0])\n",
    "\n",
    "    # Montando dataframe com a média de scores de sentimentos por data (existe uma data sem dados)\n",
    "    df_scores_city = building_dates_df(df_tweets_city, column)\n",
    "    #print(df_scores_city.shape[0])\n",
    "\n",
    "    # Realizando o merge dos dataframes de média de scores x dataframe de casos\n",
    "    df_merged = merge_dfs(df_scores_city, df_cases_city)\n",
    "    #print(df_merged.shape[0])\n",
    "\n",
    "    # Criando atributos derivados\n",
    "    df_merged = create_attributes(df_merged)\n",
    "    \n",
    "    return df_merged"
   ]
  },
  {
   "cell_type": "markdown",
   "metadata": {},
   "source": [
    "**Casos de Covid-19 no Brasil**"
   ]
  },
  {
   "cell_type": "markdown",
   "metadata": {},
   "source": [
    "Carregando dados do brasil.io"
   ]
  },
  {
   "cell_type": "code",
   "execution_count": 4,
   "metadata": {},
   "outputs": [],
   "source": [
    "# Carregando arquivo CSV contendo casos de covid 19 do Brasil\n",
    "file = '/home/mario/Documentos/LCDIA/Analytics/Datasets/caso_full.csv'\n",
    "df_cases_brasil = pd.read_csv(file, usecols=['city', 'state', 'date', 'new_confirmed', 'new_deaths','last_available_confirmed','last_available_deaths','last_available_confirmed_per_100k_inhabitants','last_available_death_rate'])"
   ]
  },
  {
   "cell_type": "code",
   "execution_count": 118,
   "metadata": {},
   "outputs": [
    {
     "data": {
      "text/html": [
       "<div>\n",
       "<style scoped>\n",
       "    .dataframe tbody tr th:only-of-type {\n",
       "        vertical-align: middle;\n",
       "    }\n",
       "\n",
       "    .dataframe tbody tr th {\n",
       "        vertical-align: top;\n",
       "    }\n",
       "\n",
       "    .dataframe thead th {\n",
       "        text-align: right;\n",
       "    }\n",
       "</style>\n",
       "<table border=\"1\" class=\"dataframe\">\n",
       "  <thead>\n",
       "    <tr style=\"text-align: right;\">\n",
       "      <th></th>\n",
       "      <th>city</th>\n",
       "      <th>date</th>\n",
       "      <th>last_available_confirmed</th>\n",
       "      <th>last_available_confirmed_per_100k_inhabitants</th>\n",
       "      <th>last_available_death_rate</th>\n",
       "      <th>last_available_deaths</th>\n",
       "      <th>state</th>\n",
       "      <th>new_confirmed</th>\n",
       "      <th>new_deaths</th>\n",
       "    </tr>\n",
       "  </thead>\n",
       "  <tbody>\n",
       "    <tr>\n",
       "      <th>0</th>\n",
       "      <td>São Paulo</td>\n",
       "      <td>2020-02-25</td>\n",
       "      <td>1</td>\n",
       "      <td>0.00811</td>\n",
       "      <td>0.0</td>\n",
       "      <td>0</td>\n",
       "      <td>SP</td>\n",
       "      <td>1</td>\n",
       "      <td>0</td>\n",
       "    </tr>\n",
       "    <tr>\n",
       "      <th>1</th>\n",
       "      <td>NaN</td>\n",
       "      <td>2020-02-25</td>\n",
       "      <td>1</td>\n",
       "      <td>0.00216</td>\n",
       "      <td>0.0</td>\n",
       "      <td>0</td>\n",
       "      <td>SP</td>\n",
       "      <td>1</td>\n",
       "      <td>0</td>\n",
       "    </tr>\n",
       "    <tr>\n",
       "      <th>2</th>\n",
       "      <td>São Paulo</td>\n",
       "      <td>2020-02-26</td>\n",
       "      <td>1</td>\n",
       "      <td>0.00811</td>\n",
       "      <td>0.0</td>\n",
       "      <td>0</td>\n",
       "      <td>SP</td>\n",
       "      <td>0</td>\n",
       "      <td>0</td>\n",
       "    </tr>\n",
       "    <tr>\n",
       "      <th>3</th>\n",
       "      <td>NaN</td>\n",
       "      <td>2020-02-26</td>\n",
       "      <td>1</td>\n",
       "      <td>0.00216</td>\n",
       "      <td>0.0</td>\n",
       "      <td>0</td>\n",
       "      <td>SP</td>\n",
       "      <td>0</td>\n",
       "      <td>0</td>\n",
       "    </tr>\n",
       "    <tr>\n",
       "      <th>4</th>\n",
       "      <td>São Paulo</td>\n",
       "      <td>2020-02-27</td>\n",
       "      <td>1</td>\n",
       "      <td>0.00811</td>\n",
       "      <td>0.0</td>\n",
       "      <td>0</td>\n",
       "      <td>SP</td>\n",
       "      <td>0</td>\n",
       "      <td>0</td>\n",
       "    </tr>\n",
       "  </tbody>\n",
       "</table>\n",
       "</div>"
      ],
      "text/plain": [
       "        city        date  last_available_confirmed  \\\n",
       "0  São Paulo  2020-02-25                         1   \n",
       "1        NaN  2020-02-25                         1   \n",
       "2  São Paulo  2020-02-26                         1   \n",
       "3        NaN  2020-02-26                         1   \n",
       "4  São Paulo  2020-02-27                         1   \n",
       "\n",
       "   last_available_confirmed_per_100k_inhabitants  last_available_death_rate  \\\n",
       "0                                        0.00811                        0.0   \n",
       "1                                        0.00216                        0.0   \n",
       "2                                        0.00811                        0.0   \n",
       "3                                        0.00216                        0.0   \n",
       "4                                        0.00811                        0.0   \n",
       "\n",
       "   last_available_deaths state  new_confirmed  new_deaths  \n",
       "0                      0    SP              1           0  \n",
       "1                      0    SP              1           0  \n",
       "2                      0    SP              0           0  \n",
       "3                      0    SP              0           0  \n",
       "4                      0    SP              0           0  "
      ]
     },
     "execution_count": 118,
     "metadata": {},
     "output_type": "execute_result"
    }
   ],
   "source": [
    "df_cases_brasil.head()"
   ]
  },
  {
   "cell_type": "code",
   "execution_count": 5,
   "metadata": {},
   "outputs": [
    {
     "name": "stdout",
     "output_type": "stream",
     "text": [
      "<class 'pandas.core.frame.DataFrame'>\n",
      "RangeIndex: 886533 entries, 0 to 886532\n",
      "Data columns (total 9 columns):\n",
      " #   Column                                         Non-Null Count   Dtype  \n",
      "---  ------                                         --------------   -----  \n",
      " 0   city                                           880670 non-null  object \n",
      " 1   date                                           886533 non-null  object \n",
      " 2   last_available_confirmed                       886533 non-null  int64  \n",
      " 3   last_available_confirmed_per_100k_inhabitants  869244 non-null  float64\n",
      " 4   last_available_death_rate                      886533 non-null  float64\n",
      " 5   last_available_deaths                          886533 non-null  int64  \n",
      " 6   state                                          886533 non-null  object \n",
      " 7   new_confirmed                                  886533 non-null  int64  \n",
      " 8   new_deaths                                     886533 non-null  int64  \n",
      "dtypes: float64(2), int64(4), object(3)\n",
      "memory usage: 60.9+ MB\n"
     ]
    }
   ],
   "source": [
    "df_cases_brasil.info()"
   ]
  },
  {
   "cell_type": "markdown",
   "metadata": {},
   "source": [
    "Correlações - Vader"
   ]
  },
  {
   "cell_type": "code",
   "execution_count": 30,
   "metadata": {},
   "outputs": [],
   "source": [
    "df_scores_brasil = building_dates_df(df2, 'score')\n",
    "df_merged_brasil = merge_dfs(df_scores_brasil, df_cases_brasil)\n",
    "df_merged_brasil = create_attributes(df_merged_brasil)"
   ]
  },
  {
   "cell_type": "code",
   "execution_count": 31,
   "metadata": {},
   "outputs": [
    {
     "data": {
      "text/plain": [
       "score_mean                                           1.000000\n",
       "new_deaths_pct                                       0.002919\n",
       "last_available_death_rate_pct                       -0.000106\n",
       "last_available_confirmed_per_100k_inhabitants_pct   -0.000822\n",
       "new_confirmed_pct                                   -0.002348\n",
       "Name: score_mean, dtype: float64"
      ]
     },
     "execution_count": 31,
     "metadata": {},
     "output_type": "execute_result"
    }
   ],
   "source": [
    "target_column = 'score_mean'\n",
    "corr_matrix = df_merged_brasil.corr()\n",
    "corr_matrix[target_column].sort_values(ascending=False).head()"
   ]
  },
  {
   "cell_type": "markdown",
   "metadata": {},
   "source": [
    "Correlações - SentiNet"
   ]
  },
  {
   "cell_type": "code",
   "execution_count": 32,
   "metadata": {},
   "outputs": [],
   "source": [
    "df_polarities_brasil = building_dates_df(df2, 'polarity')\n",
    "df_merged_brasil = merge_dfs(df_polarities_brasil, df_cases_brasil)\n",
    "df_merged_brasil = create_attributes(df_merged_brasil)"
   ]
  },
  {
   "cell_type": "code",
   "execution_count": 33,
   "metadata": {},
   "outputs": [
    {
     "data": {
      "text/plain": [
       "polarity_mean                1.000000\n",
       "last_available_death_rate    0.021988\n",
       "new_deaths_pct               0.008926\n",
       "last_bad_news_pct            0.000144\n",
       "last_available_deaths        0.000055\n",
       "Name: polarity_mean, dtype: float64"
      ]
     },
     "execution_count": 33,
     "metadata": {},
     "output_type": "execute_result"
    }
   ],
   "source": [
    "target_column = 'polarity_mean'\n",
    "corr_matrix = df_merged_brasil.corr()\n",
    "corr_matrix[target_column].sort_values(ascending=False).head()"
   ]
  },
  {
   "cell_type": "code",
   "execution_count": 34,
   "metadata": {},
   "outputs": [],
   "source": [
    "df_tweets = df2"
   ]
  },
  {
   "cell_type": "markdown",
   "metadata": {},
   "source": [
    "**5 cidades com piores scores - Vader**"
   ]
  },
  {
   "cell_type": "markdown",
   "metadata": {},
   "source": [
    "**Cuiabá (MT)**"
   ]
  },
  {
   "cell_type": "code",
   "execution_count": 35,
   "metadata": {
    "scrolled": true
   },
   "outputs": [
    {
     "data": {
      "text/plain": [
       "score_mean                   1.000000\n",
       "last_available_death_rate    0.198320\n",
       "last_available_deaths        0.184615\n",
       "new_confirmed_pct            0.086244\n",
       "last_bad_news_pct            0.084945\n",
       "Name: score_mean, dtype: float64"
      ]
     },
     "execution_count": 35,
     "metadata": {},
     "output_type": "execute_result"
    }
   ],
   "source": [
    "city = 'Cuiabá'\n",
    "state_code = 'MT'\n",
    "state = 'Mato Grosso'\n",
    "column = 'score'\n",
    "\n",
    "df_merged = prepare_data(df_cases_brasil, df_tweets, city, state, state_code, column)\n",
    "\n",
    "target_column = 'score_mean'\n",
    "corr_matrix = df_merged.corr()\n",
    "corr_matrix[target_column].sort_values(ascending=False).head()"
   ]
  },
  {
   "cell_type": "code",
   "execution_count": 36,
   "metadata": {},
   "outputs": [],
   "source": [
    "# best_column = best_column_corr(corr_matrix)\n",
    "\n",
    "# plt = generate_scatter(df_merged[target_column].array, df_merged[best_column].array, target_column, best_column)\n",
    "# plt.show()"
   ]
  },
  {
   "cell_type": "markdown",
   "metadata": {},
   "source": [
    "**Palmas (TO)**"
   ]
  },
  {
   "cell_type": "code",
   "execution_count": 37,
   "metadata": {},
   "outputs": [
    {
     "data": {
      "text/plain": [
       "score_mean                                           1.000000\n",
       "last_available_confirmed_per_100k_inhabitants_pct    0.040629\n",
       "last_available_confirmed_pct                         0.040629\n",
       "last_bad_news_pct                                    0.029899\n",
       "new_deaths_pct                                      -0.088994\n",
       "Name: score_mean, dtype: float64"
      ]
     },
     "execution_count": 37,
     "metadata": {},
     "output_type": "execute_result"
    }
   ],
   "source": [
    "df_tweets = df2\n",
    "city = 'Palmas'\n",
    "state_code = 'TO'\n",
    "state = 'Tocantins'\n",
    "column = 'score'\n",
    "\n",
    "df_merged = prepare_data(df_cases_brasil, df_tweets, city, state, state_code, column)\n",
    "\n",
    "target_column = 'score_mean'\n",
    "corr_matrix = df_merged.corr()\n",
    "corr_matrix[target_column].sort_values(ascending=False).head()"
   ]
  },
  {
   "cell_type": "markdown",
   "metadata": {},
   "source": [
    "**Recife (PE)**"
   ]
  },
  {
   "cell_type": "code",
   "execution_count": 38,
   "metadata": {},
   "outputs": [
    {
     "data": {
      "text/plain": [
       "score_mean                       1.000000\n",
       "last_available_death_rate_pct    0.107334\n",
       "new_deaths_pct                   0.074044\n",
       "last_bad_news_pct                0.041424\n",
       "last_available_confirmed_pct     0.040216\n",
       "Name: score_mean, dtype: float64"
      ]
     },
     "execution_count": 38,
     "metadata": {},
     "output_type": "execute_result"
    }
   ],
   "source": [
    "city = 'Recife'\n",
    "state_code = 'PE'\n",
    "state = 'Pernambuco'\n",
    "column = 'score'\n",
    "\n",
    "df_merged = prepare_data(df_cases_brasil, df_tweets, city, state, state_code, column)\n",
    "\n",
    "target_column = 'score_mean'\n",
    "corr_matrix = df_merged.corr()\n",
    "corr_matrix[target_column].sort_values(ascending=False).head()"
   ]
  },
  {
   "cell_type": "markdown",
   "metadata": {},
   "source": [
    "**Goiânia (GO)**"
   ]
  },
  {
   "cell_type": "code",
   "execution_count": 39,
   "metadata": {},
   "outputs": [
    {
     "data": {
      "text/plain": [
       "score_mean                                           1.000000\n",
       "last_bad_news_pct                                    0.237754\n",
       "last_available_confirmed_per_100k_inhabitants_pct    0.236608\n",
       "last_available_confirmed_pct                         0.236608\n",
       "new_deaths_pct                                       0.181506\n",
       "Name: score_mean, dtype: float64"
      ]
     },
     "execution_count": 39,
     "metadata": {},
     "output_type": "execute_result"
    }
   ],
   "source": [
    "city = 'Goiânia'\n",
    "state_code = 'GO'\n",
    "state = 'Goiás'\n",
    "column = 'score'\n",
    "\n",
    "df_merged = prepare_data(df_cases_brasil, df_tweets, city, state, state_code, column)\n",
    "\n",
    "target_column = 'score_mean'\n",
    "corr_matrix = df_merged.corr()\n",
    "corr_matrix[target_column].sort_values(ascending=False).head()"
   ]
  },
  {
   "cell_type": "markdown",
   "metadata": {},
   "source": [
    "**Manaus (AM)**"
   ]
  },
  {
   "cell_type": "code",
   "execution_count": 40,
   "metadata": {},
   "outputs": [
    {
     "data": {
      "text/plain": [
       "score_mean                                           1.000000\n",
       "last_available_confirmed_pct                         0.091354\n",
       "last_available_confirmed_per_100k_inhabitants_pct    0.091350\n",
       "last_bad_news_pct                                    0.091304\n",
       "new_deaths_pct                                       0.041668\n",
       "Name: score_mean, dtype: float64"
      ]
     },
     "execution_count": 40,
     "metadata": {},
     "output_type": "execute_result"
    }
   ],
   "source": [
    "city = 'Manaus'\n",
    "state_code = 'AM'\n",
    "state = 'Amazonas'\n",
    "column = 'score'\n",
    "\n",
    "df_merged = prepare_data(df_cases_brasil, df_tweets, city, state, state_code, column)\n",
    "\n",
    "target_column = 'score_mean'\n",
    "corr_matrix = df_merged.corr()\n",
    "corr_matrix[target_column].sort_values(ascending=False).head()"
   ]
  },
  {
   "cell_type": "markdown",
   "metadata": {},
   "source": [
    "**5 cidades com melhores scores**"
   ]
  },
  {
   "cell_type": "markdown",
   "metadata": {},
   "source": [
    "**Porto Velho (RO)**"
   ]
  },
  {
   "cell_type": "code",
   "execution_count": 65,
   "metadata": {},
   "outputs": [
    {
     "data": {
      "text/plain": [
       "score_mean                                           1.000000\n",
       "last_available_confirmed_per_100k_inhabitants_pct    0.306568\n",
       "last_available_confirmed_pct                         0.306568\n",
       "last_bad_news_pct                                    0.287361\n",
       "new_confirmed                                        0.006624\n",
       "Name: score_mean, dtype: float64"
      ]
     },
     "execution_count": 65,
     "metadata": {},
     "output_type": "execute_result"
    }
   ],
   "source": [
    "city = 'Porto Velho'\n",
    "state_code = 'RO'\n",
    "state = 'Rondônia'\n",
    "column = 'score'\n",
    "\n",
    "df_merged = prepare_data(df_cases_brasil, df_tweets, city, state, state_code, column)\n",
    "\n",
    "target_column = 'score_mean'\n",
    "corr_matrix = df_merged.corr()\n",
    "corr_matrix[target_column].sort_values(ascending=False).head()\n",
    "\n",
    "# Criando atributos derivados\n",
    "# df_merged = create_attributes(df_merged)"
   ]
  },
  {
   "cell_type": "markdown",
   "metadata": {},
   "source": [
    "**Maceió (AL)**"
   ]
  },
  {
   "cell_type": "code",
   "execution_count": 66,
   "metadata": {},
   "outputs": [
    {
     "data": {
      "text/plain": [
       "score_mean                       1.000000\n",
       "last_available_death_rate_pct    0.064049\n",
       "bad_news_pct                     0.054644\n",
       "new_confirmed_pct                0.034240\n",
       "new_deaths_pct                   0.020952\n",
       "Name: score_mean, dtype: float64"
      ]
     },
     "execution_count": 66,
     "metadata": {},
     "output_type": "execute_result"
    }
   ],
   "source": [
    "city = 'Maceió'\n",
    "state_code = 'AL'\n",
    "state = 'Alagoas'\n",
    "column = 'score'\n",
    "\n",
    "df_merged = prepare_data(df_cases_brasil, df_tweets, city, state, state_code, column)\n",
    "\n",
    "target_column = 'score_mean'\n",
    "corr_matrix = df_merged.corr()\n",
    "corr_matrix[target_column].sort_values(ascending=False).head()"
   ]
  },
  {
   "cell_type": "markdown",
   "metadata": {},
   "source": [
    "**Belém (PA)**"
   ]
  },
  {
   "cell_type": "code",
   "execution_count": 43,
   "metadata": {},
   "outputs": [
    {
     "data": {
      "text/plain": [
       "score_mean                                       1.000000\n",
       "last_available_deaths                            0.289466\n",
       "last_bad_news                                    0.244310\n",
       "last_available_confirmed_per_100k_inhabitants    0.240456\n",
       "last_available_confirmed                         0.240456\n",
       "Name: score_mean, dtype: float64"
      ]
     },
     "execution_count": 43,
     "metadata": {},
     "output_type": "execute_result"
    }
   ],
   "source": [
    "city = 'Belém'\n",
    "state_code = 'PA'\n",
    "state = 'Pará'\n",
    "column = 'score'\n",
    "\n",
    "df_merged = prepare_data(df_cases_brasil, df_tweets, city, state, state_code, column)\n",
    "\n",
    "target_column = 'score_mean'\n",
    "corr_matrix = df_merged.corr()\n",
    "corr_matrix[target_column].sort_values(ascending=False).head()"
   ]
  },
  {
   "cell_type": "markdown",
   "metadata": {},
   "source": [
    "**Boa Vista (RR)**"
   ]
  },
  {
   "cell_type": "code",
   "execution_count": 67,
   "metadata": {},
   "outputs": [
    {
     "data": {
      "text/plain": [
       "score_mean                                           1.000000\n",
       "new_deaths_pct                                       0.194580\n",
       "last_available_confirmed_pct                        -0.011304\n",
       "last_available_confirmed_per_100k_inhabitants_pct   -0.011304\n",
       "last_bad_news_pct                                   -0.015971\n",
       "Name: score_mean, dtype: float64"
      ]
     },
     "execution_count": 67,
     "metadata": {},
     "output_type": "execute_result"
    }
   ],
   "source": [
    "city = 'Boa Vista'\n",
    "state_code = 'RR'\n",
    "state = 'Roraima'\n",
    "column = 'score'\n",
    "\n",
    "df_merged = prepare_data(df_cases_brasil, df_tweets, city, state, state_code, column)\n",
    "\n",
    "target_column = 'score_mean'\n",
    "corr_matrix = df_merged.corr()\n",
    "corr_matrix[target_column].sort_values(ascending=False).head()"
   ]
  },
  {
   "cell_type": "markdown",
   "metadata": {},
   "source": [
    "**Vitória (ES)**"
   ]
  },
  {
   "cell_type": "code",
   "execution_count": 68,
   "metadata": {},
   "outputs": [
    {
     "data": {
      "text/plain": [
       "score_mean                                       1.000000\n",
       "last_available_deaths                            0.162907\n",
       "last_bad_news                                    0.153336\n",
       "last_available_confirmed_per_100k_inhabitants    0.152974\n",
       "last_available_confirmed                         0.152974\n",
       "Name: score_mean, dtype: float64"
      ]
     },
     "execution_count": 68,
     "metadata": {},
     "output_type": "execute_result"
    }
   ],
   "source": [
    "city = 'Vitória'\n",
    "state_code = 'ES'\n",
    "state = 'Espírito Santo'\n",
    "column = 'score'\n",
    "\n",
    "df_merged = prepare_data(df_cases_brasil, df_tweets, city, state, state_code, column)\n",
    "\n",
    "target_column = 'score_mean'\n",
    "corr_matrix = df_merged.corr()\n",
    "corr_matrix[target_column].sort_values(ascending=False).head()"
   ]
  },
  {
   "cell_type": "markdown",
   "metadata": {},
   "source": [
    "**5 cidades com piores scores - SenticNet**"
   ]
  },
  {
   "cell_type": "markdown",
   "metadata": {},
   "source": [
    "**Aracaju (SE)**"
   ]
  },
  {
   "cell_type": "code",
   "execution_count": 46,
   "metadata": {},
   "outputs": [
    {
     "data": {
      "text/plain": [
       "polarity_mean            1.000000\n",
       "bad_news_pct             0.267820\n",
       "last_available_deaths    0.257061\n",
       "new_confirmed_pct        0.233055\n",
       "new_deaths               0.185588\n",
       "Name: polarity_mean, dtype: float64"
      ]
     },
     "execution_count": 46,
     "metadata": {},
     "output_type": "execute_result"
    }
   ],
   "source": [
    "city = 'Aracaju'\n",
    "state_code = 'SE'\n",
    "state = 'Sergipe'\n",
    "column = 'polarity'\n",
    "\n",
    "df_merged = prepare_data(df_cases_brasil, df_tweets, city, state, state_code, column)\n",
    "\n",
    "target_column = 'polarity_mean'\n",
    "corr_matrix = df_merged.corr()\n",
    "corr_matrix[target_column].sort_values(ascending=False).head()"
   ]
  },
  {
   "cell_type": "markdown",
   "metadata": {},
   "source": [
    "**Rio de Janeiro (RJ)**"
   ]
  },
  {
   "cell_type": "code",
   "execution_count": 47,
   "metadata": {},
   "outputs": [
    {
     "data": {
      "text/plain": [
       "polarity_mean                                    1.000000\n",
       "last_available_death_rate                        0.414931\n",
       "last_available_confirmed_per_100k_inhabitants    0.285729\n",
       "last_available_confirmed                         0.285729\n",
       "last_bad_news                                    0.283309\n",
       "Name: polarity_mean, dtype: float64"
      ]
     },
     "execution_count": 47,
     "metadata": {},
     "output_type": "execute_result"
    }
   ],
   "source": [
    "city = 'Rio de Janeiro'\n",
    "state_code = 'RJ'\n",
    "state = 'Rio de Janeiro'\n",
    "column = 'polarity'\n",
    "\n",
    "df_merged = prepare_data(df_cases_brasil, df_tweets, city, state, state_code, column)\n",
    "\n",
    "target_column = 'polarity_mean'\n",
    "corr_matrix = df_merged.corr()\n",
    "corr_matrix[target_column].sort_values(ascending=False).head()"
   ]
  },
  {
   "cell_type": "markdown",
   "metadata": {},
   "source": [
    "**Fortaleza (CE)**"
   ]
  },
  {
   "cell_type": "code",
   "execution_count": 48,
   "metadata": {},
   "outputs": [
    {
     "data": {
      "text/plain": [
       "polarity_mean                                    1.000000\n",
       "last_available_death_rate                        0.222517\n",
       "last_available_deaths                            0.202657\n",
       "last_bad_news                                    0.197810\n",
       "last_available_confirmed_per_100k_inhabitants    0.197427\n",
       "Name: polarity_mean, dtype: float64"
      ]
     },
     "execution_count": 48,
     "metadata": {},
     "output_type": "execute_result"
    }
   ],
   "source": [
    "city = 'Fortaleza'\n",
    "state_code = 'CE'\n",
    "state = 'Ceará'\n",
    "column = 'polarity'\n",
    "\n",
    "df_merged = prepare_data(df_cases_brasil, df_tweets, city, state, state_code, column)\n",
    "\n",
    "target_column = 'polarity_mean'\n",
    "corr_matrix = df_merged.corr()\n",
    "corr_matrix[target_column].sort_values(ascending=False).head()"
   ]
  },
  {
   "cell_type": "markdown",
   "metadata": {},
   "source": [
    "**Manaus (AM)**"
   ]
  },
  {
   "cell_type": "code",
   "execution_count": 49,
   "metadata": {},
   "outputs": [
    {
     "data": {
      "text/plain": [
       "polarity_mean                1.000000\n",
       "new_deaths_pct               0.224067\n",
       "last_available_death_rate    0.218351\n",
       "new_confirmed                0.196883\n",
       "bad_news                     0.183013\n",
       "Name: polarity_mean, dtype: float64"
      ]
     },
     "execution_count": 49,
     "metadata": {},
     "output_type": "execute_result"
    }
   ],
   "source": [
    "city = 'Manaus'\n",
    "state_code = 'AM'\n",
    "state = 'Amazonas'\n",
    "column = 'polarity'\n",
    "\n",
    "df_merged = prepare_data(df_cases_brasil, df_tweets, city, state, state_code, column)\n",
    "\n",
    "target_column = 'polarity_mean'\n",
    "corr_matrix = df_merged.corr()\n",
    "corr_matrix[target_column].sort_values(ascending=False).head()"
   ]
  },
  {
   "cell_type": "markdown",
   "metadata": {},
   "source": [
    "**Recife (PE)**"
   ]
  },
  {
   "cell_type": "code",
   "execution_count": 50,
   "metadata": {},
   "outputs": [
    {
     "data": {
      "text/plain": [
       "polarity_mean                                    1.000000\n",
       "last_available_death_rate_pct                    0.226020\n",
       "last_available_confirmed_per_100k_inhabitants    0.171963\n",
       "last_available_confirmed                         0.171963\n",
       "last_bad_news                                    0.171338\n",
       "Name: polarity_mean, dtype: float64"
      ]
     },
     "execution_count": 50,
     "metadata": {},
     "output_type": "execute_result"
    }
   ],
   "source": [
    "city = 'Recife'\n",
    "state_code = 'PE'\n",
    "state = 'Pernambuco'\n",
    "column = 'polarity'\n",
    "\n",
    "df_merged = prepare_data(df_cases_brasil, df_tweets, city, state, state_code, column)\n",
    "\n",
    "target_column = 'polarity_mean'\n",
    "corr_matrix = df_merged.corr()\n",
    "corr_matrix[target_column].sort_values(ascending=False).head()"
   ]
  },
  {
   "cell_type": "markdown",
   "metadata": {},
   "source": [
    "**5 cidades com melhores scores - SenticNet**"
   ]
  },
  {
   "cell_type": "markdown",
   "metadata": {},
   "source": [
    "**Belém (PA)**"
   ]
  },
  {
   "cell_type": "code",
   "execution_count": 51,
   "metadata": {},
   "outputs": [
    {
     "data": {
      "text/plain": [
       "polarity_mean                                        1.000000\n",
       "last_bad_news_pct                                    0.215817\n",
       "last_available_confirmed_pct                         0.215593\n",
       "last_available_confirmed_per_100k_inhabitants_pct    0.215580\n",
       "new_deaths                                           0.117057\n",
       "Name: polarity_mean, dtype: float64"
      ]
     },
     "execution_count": 51,
     "metadata": {},
     "output_type": "execute_result"
    }
   ],
   "source": [
    "city = 'Belém'\n",
    "state_code = 'PA'\n",
    "state = 'Pará'\n",
    "column = 'polarity'\n",
    "\n",
    "df_merged = prepare_data(df_cases_brasil, df_tweets, city, state, state_code, column)\n",
    "\n",
    "target_column = 'polarity_mean'\n",
    "corr_matrix = df_merged.corr()\n",
    "corr_matrix[target_column].sort_values(ascending=False).head()"
   ]
  },
  {
   "cell_type": "markdown",
   "metadata": {},
   "source": [
    "**Teresina (PI)**"
   ]
  },
  {
   "cell_type": "code",
   "execution_count": 52,
   "metadata": {},
   "outputs": [
    {
     "data": {
      "text/plain": [
       "polarity_mean                1.000000\n",
       "last_available_deaths_pct    0.193599\n",
       "last_available_deaths        0.169172\n",
       "new_confirmed_pct            0.163340\n",
       "bad_news_pct                 0.151306\n",
       "Name: polarity_mean, dtype: float64"
      ]
     },
     "execution_count": 52,
     "metadata": {},
     "output_type": "execute_result"
    }
   ],
   "source": [
    "city = 'Teresina'\n",
    "state_code = 'PI'\n",
    "state = 'Piauí'\n",
    "column = 'polarity'\n",
    "\n",
    "df_merged = prepare_data(df_cases_brasil, df_tweets, city, state, state_code, column)\n",
    "\n",
    "target_column = 'polarity_mean'\n",
    "corr_matrix = df_merged.corr()\n",
    "corr_matrix[target_column].sort_values(ascending=False).head()"
   ]
  },
  {
   "cell_type": "markdown",
   "metadata": {},
   "source": [
    "**São Paulo (SP)**"
   ]
  },
  {
   "cell_type": "code",
   "execution_count": 53,
   "metadata": {},
   "outputs": [
    {
     "data": {
      "text/plain": [
       "polarity_mean                                    1.000000\n",
       "last_available_death_rate                        0.356047\n",
       "new_confirmed                                    0.238779\n",
       "bad_news                                         0.236023\n",
       "last_available_confirmed_per_100k_inhabitants    0.198324\n",
       "Name: polarity_mean, dtype: float64"
      ]
     },
     "execution_count": 53,
     "metadata": {},
     "output_type": "execute_result"
    }
   ],
   "source": [
    "city = 'São Paulo'\n",
    "state_code = 'SP'\n",
    "state = 'São Paulo'\n",
    "column = 'polarity'\n",
    "\n",
    "df_merged = prepare_data(df_cases_brasil, df_tweets, city, state, state_code, column)\n",
    "\n",
    "target_column = 'polarity_mean'\n",
    "corr_matrix = df_merged.corr()\n",
    "corr_matrix[target_column].sort_values(ascending=False).head()"
   ]
  },
  {
   "cell_type": "markdown",
   "metadata": {},
   "source": [
    "**Boa Vista (RR)**"
   ]
  },
  {
   "cell_type": "code",
   "execution_count": 54,
   "metadata": {},
   "outputs": [
    {
     "data": {
      "text/plain": [
       "polarity_mean                                    1.000000\n",
       "new_confirmed                                    0.203407\n",
       "bad_news                                         0.197252\n",
       "last_available_confirmed                         0.088701\n",
       "last_available_confirmed_per_100k_inhabitants    0.088701\n",
       "Name: polarity_mean, dtype: float64"
      ]
     },
     "execution_count": 54,
     "metadata": {},
     "output_type": "execute_result"
    }
   ],
   "source": [
    "city = 'Boa Vista'\n",
    "state_code = 'RR'\n",
    "state = 'Roraima'\n",
    "column = 'polarity'\n",
    "\n",
    "df_merged = prepare_data(df_cases_brasil, df_tweets, city, state, state_code, column)\n",
    "\n",
    "target_column = 'polarity_mean'\n",
    "corr_matrix = df_merged.corr()\n",
    "corr_matrix[target_column].sort_values(ascending=False).head()"
   ]
  },
  {
   "cell_type": "markdown",
   "metadata": {},
   "source": [
    "**Porto Velho (RO)**"
   ]
  },
  {
   "cell_type": "code",
   "execution_count": 55,
   "metadata": {},
   "outputs": [
    {
     "data": {
      "text/plain": [
       "polarity_mean        1.000000\n",
       "new_confirmed        0.216583\n",
       "bad_news             0.197030\n",
       "new_confirmed_pct    0.162463\n",
       "bad_news_pct         0.137704\n",
       "Name: polarity_mean, dtype: float64"
      ]
     },
     "execution_count": 55,
     "metadata": {},
     "output_type": "execute_result"
    }
   ],
   "source": [
    "city = 'Porto Velho'\n",
    "state_code = 'RO'\n",
    "state = 'Rondônia'\n",
    "column = 'polarity'\n",
    "\n",
    "df_merged = prepare_data(df_cases_brasil, df_tweets, city, state, state_code, column)\n",
    "\n",
    "target_column = 'polarity_mean'\n",
    "corr_matrix = df_merged.corr()\n",
    "corr_matrix[target_column].sort_values(ascending=False).head()"
   ]
  },
  {
   "cell_type": "code",
   "execution_count": null,
   "metadata": {},
   "outputs": [],
   "source": []
  }
 ],
 "metadata": {
  "kernelspec": {
   "display_name": "Python 3",
   "language": "python",
   "name": "python3"
  },
  "language_info": {
   "codemirror_mode": {
    "name": "ipython",
    "version": 3
   },
   "file_extension": ".py",
   "mimetype": "text/x-python",
   "name": "python",
   "nbconvert_exporter": "python",
   "pygments_lexer": "ipython3",
   "version": "3.7.6"
  }
 },
 "nbformat": 4,
 "nbformat_minor": 4
}
