{
 "cells": [
  {
   "cell_type": "code",
   "execution_count": 13,
   "metadata": {},
   "outputs": [
    {
     "name": "stderr",
     "output_type": "stream",
     "text": [
      "[nltk_data] Downloading package stopwords to /home/mario/nltk_data...\n",
      "[nltk_data]   Package stopwords is already up-to-date!\n",
      "[nltk_data] Downloading package punkt to /home/mario/nltk_data...\n",
      "[nltk_data]   Package punkt is already up-to-date!\n"
     ]
    },
    {
     "data": {
      "text/plain": [
       "True"
      ]
     },
     "execution_count": 13,
     "metadata": {},
     "output_type": "execute_result"
    }
   ],
   "source": [
    "import nltk\n",
    "import re\n",
    "\n",
    "from string import punctuation\n",
    "from nltk.tokenize import word_tokenize\n",
    "from nltk.tokenize import sent_tokenize\n",
    "from nltk.corpus import stopwords\n",
    "\n",
    "nltk.download('stopwords')\n",
    "nltk.download('punkt')"
   ]
  },
  {
   "cell_type": "code",
   "execution_count": 14,
   "metadata": {},
   "outputs": [],
   "source": [
    "# Função auxiliar para remover caracteres indesejados nos textos dos Tweets\n",
    "chars=[\"\\\"\",\"!\",\"@\",\"#\",\"$\",\"%\",\"&\",\"*\",\"(\",\")\",\"-\",\"_\",\"`\",\"'\",\"{\",\"[\",\"]\",\"}\",\"^\",\"~\",\",\",\".\",\";\",\":\",\"\\\",\",\" \"]\n",
    "\n",
    "def clean_words(words):  \n",
    "    new_words = []    \n",
    "    for word in words:\n",
    "         # Verificando se o caracter pertence ao ASCII\n",
    "        if(all(ord(char) < 128 for char in word)):\n",
    "            for letter in word:\n",
    "                if letter in chars:\n",
    "                    word=word.replace(letter,\"\")\n",
    "        new_words.append(word)            \n",
    "    return new_words"
   ]
  },
  {
   "cell_type": "code",
   "execution_count": 15,
   "metadata": {},
   "outputs": [],
   "source": [
    "# Função auxiliar para remover urls nos textos dos Tweets\n",
    "def clean_urls(words):   \n",
    "    new_words = []    \n",
    "    for word in words:              \n",
    "        if (bool(re.match('http', word)) == False) and (bool(re.match('//tco', word)) == False) and (bool(re.match('//t.co', word)) == False) and (bool(re.match('RT', word)) == False):\n",
    "            new_words.append(word)\n",
    "    return new_words"
   ]
  },
  {
   "cell_type": "code",
   "execution_count": 16,
   "metadata": {},
   "outputs": [],
   "source": [
    "# Função para remover \"stopwords\" dos textos dos Tweets\n",
    "def remove_stopwords(words, language): \n",
    "    stopwords = nltk.corpus.stopwords.words(language) + list(punctuation)    \n",
    "    new_words=[]\n",
    "    for word in words:\n",
    "        if word not in stopwords:\n",
    "            new_words.append(word)\n",
    "    return new_words"
   ]
  },
  {
   "cell_type": "code",
   "execution_count": 17,
   "metadata": {},
   "outputs": [],
   "source": [
    "# Realiza o processo de limpeza do texto\n",
    "def process_tweet(text, language):\n",
    "    words = text.split()\n",
    "    words = clean_words(words)\n",
    "    words = clean_urls(words)\n",
    "    words = remove_stopwords(words, language)\n",
    "    return words"
   ]
  }
 ],
 "metadata": {
  "kernelspec": {
   "display_name": "Python 3",
   "language": "python",
   "name": "python3"
  },
  "language_info": {
   "codemirror_mode": {
    "name": "ipython",
    "version": 3
   },
   "file_extension": ".py",
   "mimetype": "text/x-python",
   "name": "python",
   "nbconvert_exporter": "python",
   "pygments_lexer": "ipython3",
   "version": "3.7.6"
  }
 },
 "nbformat": 4,
 "nbformat_minor": 4
}
