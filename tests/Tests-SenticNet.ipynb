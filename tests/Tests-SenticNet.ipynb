{
 "cells": [
  {
   "cell_type": "code",
   "execution_count": 1,
   "metadata": {},
   "outputs": [
    {
     "name": "stdout",
     "output_type": "stream",
     "text": [
      "{'polarity_value': 'positive', 'polarity_intense': '0.822', 'moodtags': ['#joy', '#surprise'], 'sentics': {'pleasantness': '0.931', 'attention': '-0.82', 'sensitivity': '0', 'aptitude': '0.709'}, 'semantics': ['light', 'aureole', 'radiance', 'visible_light', 'visible_radiation']}\n"
     ]
    }
   ],
   "source": [
    "from senticnet.senticnet import SenticNet\n",
    "sn = SenticNet()\n",
    "text = 'corona'\n",
    "concept_info = sn.concept(text)\n",
    "print(concept_info)"
   ]
  },
  {
   "cell_type": "code",
   "execution_count": 3,
   "metadata": {},
   "outputs": [
    {
     "ename": "KeyError",
     "evalue": "'corona_virus'",
     "output_type": "error",
     "traceback": [
      "\u001b[0;31m---------------------------------------------------------------------------\u001b[0m",
      "\u001b[0;31mKeyError\u001b[0m                                  Traceback (most recent call last)",
      "\u001b[0;32m<ipython-input-3-e967cd8a7a5b>\u001b[0m in \u001b[0;36m<module>\u001b[0;34m\u001b[0m\n\u001b[1;32m      2\u001b[0m \u001b[0msn\u001b[0m \u001b[0;34m=\u001b[0m \u001b[0mSenticNet\u001b[0m\u001b[0;34m(\u001b[0m\u001b[0;34m)\u001b[0m\u001b[0;34m\u001b[0m\u001b[0;34m\u001b[0m\u001b[0m\n\u001b[1;32m      3\u001b[0m \u001b[0mtext\u001b[0m \u001b[0;34m=\u001b[0m \u001b[0;34m'corona_virus'\u001b[0m\u001b[0;34m\u001b[0m\u001b[0;34m\u001b[0m\u001b[0m\n\u001b[0;32m----> 4\u001b[0;31m \u001b[0mconcept_info\u001b[0m \u001b[0;34m=\u001b[0m \u001b[0msn\u001b[0m\u001b[0;34m.\u001b[0m\u001b[0mconcept\u001b[0m\u001b[0;34m(\u001b[0m\u001b[0mtext\u001b[0m\u001b[0;34m)\u001b[0m\u001b[0;34m\u001b[0m\u001b[0;34m\u001b[0m\u001b[0m\n\u001b[0m\u001b[1;32m      5\u001b[0m \u001b[0mprint\u001b[0m\u001b[0;34m(\u001b[0m\u001b[0mconcept_info\u001b[0m\u001b[0;34m)\u001b[0m\u001b[0;34m\u001b[0m\u001b[0;34m\u001b[0m\u001b[0m\n",
      "\u001b[0;32m~/anaconda3/lib/python3.7/site-packages/senticnet/senticnet.py\u001b[0m in \u001b[0;36mconcept\u001b[0;34m(self, concept)\u001b[0m\n\u001b[1;32m     19\u001b[0m         \u001b[0mresult\u001b[0m \u001b[0;34m=\u001b[0m \u001b[0;34m{\u001b[0m\u001b[0;34m}\u001b[0m\u001b[0;34m\u001b[0m\u001b[0;34m\u001b[0m\u001b[0m\n\u001b[1;32m     20\u001b[0m \u001b[0;34m\u001b[0m\u001b[0m\n\u001b[0;32m---> 21\u001b[0;31m         \u001b[0mresult\u001b[0m\u001b[0;34m[\u001b[0m\u001b[0;34m\"polarity_value\"\u001b[0m\u001b[0;34m]\u001b[0m \u001b[0;34m=\u001b[0m \u001b[0mself\u001b[0m\u001b[0;34m.\u001b[0m\u001b[0mpolarity_value\u001b[0m\u001b[0;34m(\u001b[0m\u001b[0mconcept\u001b[0m\u001b[0;34m)\u001b[0m\u001b[0;34m\u001b[0m\u001b[0;34m\u001b[0m\u001b[0m\n\u001b[0m\u001b[1;32m     22\u001b[0m         \u001b[0mresult\u001b[0m\u001b[0;34m[\u001b[0m\u001b[0;34m\"polarity_intense\"\u001b[0m\u001b[0;34m]\u001b[0m \u001b[0;34m=\u001b[0m \u001b[0mself\u001b[0m\u001b[0;34m.\u001b[0m\u001b[0mpolarity_intense\u001b[0m\u001b[0;34m(\u001b[0m\u001b[0mconcept\u001b[0m\u001b[0;34m)\u001b[0m\u001b[0;34m\u001b[0m\u001b[0;34m\u001b[0m\u001b[0m\n\u001b[1;32m     23\u001b[0m         \u001b[0mresult\u001b[0m\u001b[0;34m[\u001b[0m\u001b[0;34m\"moodtags\"\u001b[0m\u001b[0;34m]\u001b[0m \u001b[0;34m=\u001b[0m \u001b[0mself\u001b[0m\u001b[0;34m.\u001b[0m\u001b[0mmoodtags\u001b[0m\u001b[0;34m(\u001b[0m\u001b[0mconcept\u001b[0m\u001b[0;34m)\u001b[0m\u001b[0;34m\u001b[0m\u001b[0;34m\u001b[0m\u001b[0m\n",
      "\u001b[0;32m~/anaconda3/lib/python3.7/site-packages/senticnet/senticnet.py\u001b[0m in \u001b[0;36mpolarity_value\u001b[0;34m(self, concept)\u001b[0m\n\u001b[1;32m     55\u001b[0m         \"\"\"\n\u001b[1;32m     56\u001b[0m         \u001b[0mconcept\u001b[0m \u001b[0;34m=\u001b[0m \u001b[0mconcept\u001b[0m\u001b[0;34m.\u001b[0m\u001b[0mreplace\u001b[0m\u001b[0;34m(\u001b[0m\u001b[0;34m\" \"\u001b[0m\u001b[0;34m,\u001b[0m \u001b[0;34m\"_\"\u001b[0m\u001b[0;34m)\u001b[0m\u001b[0;34m\u001b[0m\u001b[0;34m\u001b[0m\u001b[0m\n\u001b[0;32m---> 57\u001b[0;31m         \u001b[0mconcept_info\u001b[0m \u001b[0;34m=\u001b[0m \u001b[0mself\u001b[0m\u001b[0;34m.\u001b[0m\u001b[0mdata\u001b[0m\u001b[0;34m[\u001b[0m\u001b[0mconcept\u001b[0m\u001b[0;34m]\u001b[0m\u001b[0;34m\u001b[0m\u001b[0;34m\u001b[0m\u001b[0m\n\u001b[0m\u001b[1;32m     58\u001b[0m \u001b[0;34m\u001b[0m\u001b[0m\n\u001b[1;32m     59\u001b[0m         \u001b[0;32mreturn\u001b[0m \u001b[0mconcept_info\u001b[0m\u001b[0;34m[\u001b[0m\u001b[0;36m6\u001b[0m\u001b[0;34m]\u001b[0m\u001b[0;34m\u001b[0m\u001b[0;34m\u001b[0m\u001b[0m\n",
      "\u001b[0;31mKeyError\u001b[0m: 'corona_virus'"
     ]
    }
   ],
   "source": [
    "from senticnet.senticnet import SenticNet\n",
    "sn = SenticNet()\n",
    "text = 'corona_virus'\n",
    "concept_info = sn.concept(text)\n",
    "print(concept_info)"
   ]
  },
  {
   "cell_type": "code",
   "execution_count": 1,
   "metadata": {},
   "outputs": [
    {
     "name": "stdout",
     "output_type": "stream",
     "text": [
      "{'polarity_value': 'positive', 'polarity_intense': '0.287', 'moodtags': ['#joy', '#interest'], 'sentics': {'pleasantness': '0.494', 'attention': '0.673', 'sensitivity': '-0.26', 'aptitude': '0.25'}, 'semantics': ['adorably', 'lovingly', 'fondly', 'endearingly', 'devotedness']}\n"
     ]
    }
   ],
   "source": [
    "from senticnet.senticnet import SenticNet\n",
    "sn = SenticNet()\n",
    "text = 'loving'\n",
    "concept_info = sn.concept(text)\n",
    "print(concept_info)"
   ]
  },
  {
   "cell_type": "code",
   "execution_count": 2,
   "metadata": {},
   "outputs": [
    {
     "name": "stdout",
     "output_type": "stream",
     "text": [
      "{'polarity_value': 'positive', 'polarity_intense': '0.83', 'moodtags': ['#joy', '#admiration'], 'sentics': {'pleasantness': '1', 'attention': '0', 'sensitivity': '0', 'aptitude': '0.66'}, 'semantics': ['tenderness', 'affection', 'kindness', 'care', 'passion']}\n"
     ]
    }
   ],
   "source": [
    "from senticnet.senticnet import SenticNet\n",
    "sn = SenticNet()\n",
    "text = 'love'\n",
    "concept_info = sn.concept(text)\n",
    "print(concept_info)"
   ]
  },
  {
   "cell_type": "code",
   "execution_count": 3,
   "metadata": {},
   "outputs": [
    {
     "name": "stdout",
     "output_type": "stream",
     "text": [
      "{'polarity_value': 'positive', 'polarity_intense': '0.782', 'moodtags': ['#surprise', '#admiration'], 'sentics': {'pleasantness': '0.634', 'attention': '-0.73', 'sensitivity': '0', 'aptitude': '0.974'}, 'semantics': ['decompression', 'cryptography', 'decipherment', 'secret_writing', 'steganography']}\n"
     ]
    }
   ],
   "source": [
    "from senticnet.senticnet import SenticNet\n",
    "sn = SenticNet()\n",
    "text = 'coding'\n",
    "concept_info = sn.concept(text)\n",
    "print(concept_info)"
   ]
  },
  {
   "cell_type": "code",
   "execution_count": 6,
   "metadata": {},
   "outputs": [
    {
     "name": "stdout",
     "output_type": "stream",
     "text": [
      "{'polarity_value': 'negative', 'polarity_intense': '-0.82', 'moodtags': ['#anger', '#disgust'], 'sentics': {'pleasantness': '0', 'attention': '0', 'sensitivity': '0.747', 'aptitude': '-0.90'}, 'semantics': ['conceit', 'amour_propre', 'self_pride', 'egotism', 'self-importance']}\n"
     ]
    }
   ],
   "source": [
    "from senticnet.senticnet import SenticNet\n",
    "sn = SenticNet()\n",
    "text = 'self love'\n",
    "concept_info = sn.concept(text)\n",
    "print(concept_info)"
   ]
  },
  {
   "cell_type": "code",
   "execution_count": 7,
   "metadata": {},
   "outputs": [
    {
     "name": "stdout",
     "output_type": "stream",
     "text": [
      "{'polarity_value': 'positive', 'polarity_intense': '0.854', 'moodtags': ['#joy', '#interest'], 'sentics': {'pleasantness': '0.825', 'attention': '0.883', 'sensitivity': '0', 'aptitude': '0'}, 'semantics': ['ego', 'research', 'messageid', 'symposium', 'behavior']}\n"
     ]
    }
   ],
   "source": [
    "from senticnet.senticnet import SenticNet\n",
    "sn = SenticNet()\n",
    "text = 'self'\n",
    "concept_info = sn.concept(text)\n",
    "print(concept_info)"
   ]
  },
  {
   "cell_type": "code",
   "execution_count": 8,
   "metadata": {},
   "outputs": [
    {
     "name": "stdout",
     "output_type": "stream",
     "text": [
      "{'polarity_value': 'positive', 'polarity_intense': '0.83', 'moodtags': ['#joy', '#admiration'], 'sentics': {'pleasantness': '1', 'attention': '0', 'sensitivity': '0', 'aptitude': '0.66'}, 'semantics': ['tenderness', 'affection', 'kindness', 'care', 'passion']}\n"
     ]
    }
   ],
   "source": [
    "from senticnet.senticnet import SenticNet\n",
    "sn = SenticNet()\n",
    "text = 'love'\n",
    "concept_info = sn.concept(text)\n",
    "print(concept_info)"
   ]
  },
  {
   "cell_type": "code",
   "execution_count": null,
   "metadata": {},
   "outputs": [],
   "source": []
  }
 ],
 "metadata": {
  "kernelspec": {
   "display_name": "Python 3",
   "language": "python",
   "name": "python3"
  },
  "language_info": {
   "codemirror_mode": {
    "name": "ipython",
    "version": 3
   },
   "file_extension": ".py",
   "mimetype": "text/x-python",
   "name": "python",
   "nbconvert_exporter": "python",
   "pygments_lexer": "ipython3",
   "version": "3.7.6"
  }
 },
 "nbformat": 4,
 "nbformat_minor": 4
}
