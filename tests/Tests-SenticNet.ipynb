{
 "cells": [
  {
   "cell_type": "code",
   "execution_count": 4,
   "metadata": {},
   "outputs": [],
   "source": [
    "# Ferramenta VaderSentiment\n",
    "from vaderSentiment.vaderSentiment import SentimentIntensityAnalyzer\n",
    "\n",
    "# Requisições a webservices\n",
    "import requests"
   ]
  },
  {
   "cell_type": "code",
   "execution_count": 5,
   "metadata": {},
   "outputs": [],
   "source": [
    "def translate_row_text(row):\n",
    "        \n",
    "    text = row['full_text']\n",
    "    \n",
    "    from_lang = row['lang']\n",
    "    to_lang = \"en\"\n",
    "    \n",
    "    # Verificando se o texto do tweet já está escrito na língua inglesa\n",
    "    if (from_lang == \"en\") or (from_lang == \"en-US\"):\n",
    "        translation = row['full_text']\n",
    "        \n",
    "    else:  \n",
    "        api_url = \"http://mymemory.translated.net/api/get?de={}&q={}&langpair={}|{}\".format('mariogmp@gmail.com',text, from_lang, to_lang)\n",
    "        hdrs = {'User-Agent': 'Mozilla/5.0 (X11; Linux x86_64) AppleWebKit/537.11 (KHTML, like Gecko) Chrome/23.0.1271.64 Safari/537.11',\n",
    "                'Accept': 'text/html,application/xhtml+xml,application/xml;q=0.9,*/*;q=0.8',\n",
    "                'Accept-Charset': 'ISO-8859-1,utf-8;q=0.7,*;q=0.3',\n",
    "                'Accept-Encoding': 'none',\n",
    "                'Accept-Language': 'en-US,en;q=0.8',\n",
    "                'Connection': 'keep-alive'}\n",
    "        response = requests.get(api_url, headers=hdrs)\n",
    "        response_json = json.loads(response.text)\n",
    "        translation = response_json[\"responseData\"][\"translatedText\"]\n",
    "\n",
    "    return translation"
   ]
  },
  {
   "cell_type": "code",
   "execution_count": 6,
   "metadata": {},
   "outputs": [],
   "source": [
    "def calculate_scores(tweets):\n",
    "\n",
    "    for tweet in tweets:\n",
    "                \n",
    "        # Traduzindo o texto para o inglês\n",
    "        translated_text = translate_row_text(row)\n",
    "        translated_text = tweet['text']  \n",
    "        \n",
    "        # Efetuando o cálculo do score de sentimento para o texto\n",
    "        analyzer = SentimentIntensityAnalyzer()\n",
    "        vs = analyzer.polarity_scores(translated_text)\n",
    "        \n",
    "        # Recuperando o score e adicionando em uma nova célula do dataframe\n",
    "        collection.update_one({\"tweet_id\": tweet['tweet_id']}, {'$set':{\"score\": vs['compound']}})      "
   ]
  },
  {
   "cell_type": "code",
   "execution_count": null,
   "metadata": {},
   "outputs": [],
   "source": []
  }
 ],
 "metadata": {
  "kernelspec": {
   "display_name": "Python 3",
   "language": "python",
   "name": "python3"
  },
  "language_info": {
   "codemirror_mode": {
    "name": "ipython",
    "version": 3
   },
   "file_extension": ".py",
   "mimetype": "text/x-python",
   "name": "python",
   "nbconvert_exporter": "python",
   "pygments_lexer": "ipython3",
   "version": "3.7.6"
  }
 },
 "nbformat": 4,
 "nbformat_minor": 4
}
