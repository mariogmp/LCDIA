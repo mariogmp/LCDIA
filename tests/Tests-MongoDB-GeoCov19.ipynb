{
 "cells": [
  {
   "cell_type": "code",
   "execution_count": 1,
   "metadata": {},
   "outputs": [],
   "source": [
    "import pandas as pd"
   ]
  },
  {
   "cell_type": "code",
   "execution_count": 2,
   "metadata": {},
   "outputs": [],
   "source": [
    "# Criando estrutura do banco de dados\n",
    "from pymongo import MongoClient\n",
    "\n",
    "# Conexão com o servidor do MongoDB\n",
    "clienteDB = MongoClient('localhost', 27017)\n",
    "\n",
    "# Conexão com a base de dados do mongoDB\n",
    "banco = clienteDB.SpedDB\n",
    "\n",
    "# Coleção onde serão inseridos os dados\n",
    "colecao = banco.tweets_brasil\n",
    "#colecao_senticnet = banco.senticnet"
   ]
  },
  {
   "cell_type": "code",
   "execution_count": 2,
   "metadata": {},
   "outputs": [
    {
     "name": "stderr",
     "output_type": "stream",
     "text": [
      "/home/mario/anaconda3/lib/python3.7/site-packages/ipykernel_launcher.py:1: DeprecationWarning: collection_names is deprecated. Use list_collection_names instead.\n",
      "  \"\"\"Entry point for launching an IPython kernel.\n"
     ]
    },
    {
     "data": {
      "text/plain": [
       "['tweets_brasil_test2', 'tweets_brasil', 'tweets_brasil_test']"
      ]
     },
     "execution_count": 2,
     "metadata": {},
     "output_type": "execute_result"
    }
   ],
   "source": [
    "banco.collection_names()"
   ]
  },
  {
   "cell_type": "code",
   "execution_count": 30,
   "metadata": {},
   "outputs": [
    {
     "name": "stdout",
     "output_type": "stream",
     "text": [
      "Database: SpedDB\n",
      "Objects: 6198569\n",
      "Collections: 4\n",
      "Size: 1985219.216796875 MB\n"
     ]
    }
   ],
   "source": [
    "# Tamanho da colecao\n",
    "call = banco.command(\"dbstats\")\n",
    "database = call['db']\n",
    "datasize = call['dataSize'] / 1024\n",
    "objects = call['objects']\n",
    "colletions = call['collections']\n",
    "\n",
    "#print('\\n')\n",
    "print('Database:', str(database))\n",
    "print('Objects:', str(objects))\n",
    "print('Collections:', str(collections))\n",
    "print('Size:', str(datasize) + ' MB')"
   ]
  },
  {
   "cell_type": "code",
   "execution_count": 3,
   "metadata": {},
   "outputs": [
    {
     "name": "stderr",
     "output_type": "stream",
     "text": [
      "/home/mario/anaconda3/lib/python3.7/site-packages/ipykernel_launcher.py:1: DeprecationWarning: update is deprecated. Use replace_one, update_one or update_many instead.\n",
      "  \"\"\"Entry point for launching an IPython kernel.\n"
     ]
    }
   ],
   "source": [
    "colecao.update({}, {'$unset': {'period':1}}, multi=True);"
   ]
  },
  {
   "cell_type": "code",
   "execution_count": 2,
   "metadata": {
    "scrolled": true
   },
   "outputs": [
    {
     "name": "stdout",
     "output_type": "stream",
     "text": [
      "{'_id': ObjectId('5f501410da596ab0c7238d33'), 'tweet_id': 1223411745500188672, 'created_at': datetime.datetime(2020, 2, 1, 1, 4, 24), 'user_id': '3266862206', 'geo_source': 'user_location', 'state': 'São Paulo', 'city': 'Santos', 'text': 'RT @choogarrie: Filipino hospitality is a kind of hospitality that will bring us to the hospital. #coronavirus', 'score': 0.0, 'lang': 'en', 'period': '2020_02_01'}\n"
     ]
    }
   ],
   "source": [
    "oneResult = colecao.find_one({\"tweet_id\": 1223411745500188672})\n",
    "print(oneResult)"
   ]
  },
  {
   "cell_type": "code",
   "execution_count": 26,
   "metadata": {},
   "outputs": [
    {
     "name": "stdout",
     "output_type": "stream",
     "text": [
      "{'_id': ObjectId('5f516a87f36a535f7d870497'), 'tweet_id': 1223401567224725506, 'created_at': datetime.datetime(2020, 2, 1, 0, 23, 57), 'geo_source': 'place', 'state': 'Paraná', 'city': 'Curitiba', 'text': '@CGTNOfficial Confirmed #coronavirus cases in #China rises over 10,000 as of the end of Jan. 31, according to the National Health Commission Saturday:\\n\\n- 11,821 confirmed cases, including 13 in HK, 7 in Macao, and 10 in Taiwan \\n\\n- 259 deaths \\n\\n- 17,988 suspected cases \\n\\n- 243 discharged', 'lang': 'en', 'score': -0.2263}\n"
     ]
    }
   ],
   "source": [
    "oneResult = colecao.find_one({\"tweet_id\": 1223401567224725506})\n",
    "print(oneResult)"
   ]
  },
  {
   "cell_type": "code",
   "execution_count": 8,
   "metadata": {},
   "outputs": [
    {
     "name": "stdout",
     "output_type": "stream",
     "text": [
      "1897145\n"
     ]
    }
   ],
   "source": [
    "# Total de tweets considerados no trabalho\n",
    "oneResult = colecao.count_documents({'text': {'$ne':None}, '$or':[{'geo_source':'place'}, {'geo_source':'user_location'}]})\n",
    "print(oneResult)"
   ]
  },
  {
   "cell_type": "code",
   "execution_count": 9,
   "metadata": {},
   "outputs": [
    {
     "name": "stdout",
     "output_type": "stream",
     "text": [
      "1897145\n"
     ]
    }
   ],
   "source": [
    "# Total de scores do Vader calculados\n",
    "oneResult = colecao.count_documents({'text': {'$ne':None}, 'score': {'$ne':None}, '$or':[{'geo_source':'place'}, {'geo_source':'user_location'}]})\n",
    "print(oneResult)"
   ]
  },
  {
   "cell_type": "code",
   "execution_count": 33,
   "metadata": {},
   "outputs": [
    {
     "name": "stdout",
     "output_type": "stream",
     "text": [
      "{'_id': ObjectId('5f501410da596ab0c7238d30'), 'tweet_id': 1223401567224725506, 'created_at': datetime.datetime(2020, 2, 1, 0, 23, 57), 'user_id': '128917051', 'geo_source': 'place', 'state': 'Paraná', 'city': 'Curitiba', 'text': '@CGTNOfficial Confirmed #coronavirus cases in #China rises over 10,000 as of the end of Jan. 31, according to the National Health Commission Saturday:\\n\\n- 11,821 confirmed cases, including 13 in HK, 7 in Macao, and 10 in Taiwan \\n\\n- 259 deaths \\n\\n- 17,988 suspected cases \\n\\n- 243 discharged', 'score': -0.2263, 'lang': 'en', 'polarity': None}\n"
     ]
    }
   ],
   "source": [
    "oneResult = colecao.find_one({'text': {'$ne':None}, 'score': {'$ne':None}, '$or':[{'geo_source':'place'}, {'geo_source':'user_location'}]})\n",
    "print(oneResult)"
   ]
  },
  {
   "cell_type": "code",
   "execution_count": 68,
   "metadata": {
    "scrolled": true
   },
   "outputs": [
    {
     "name": "stdout",
     "output_type": "stream",
     "text": [
      "6186812\n"
     ]
    }
   ],
   "source": [
    "oneResult = colecao.count_documents({})\n",
    "print(oneResult)"
   ]
  },
  {
   "cell_type": "code",
   "execution_count": 69,
   "metadata": {},
   "outputs": [
    {
     "name": "stdout",
     "output_type": "stream",
     "text": [
      "0\n"
     ]
    }
   ],
   "source": [
    "oneResult = colecao.count_documents({\"geo_source\": None})\n",
    "print(oneResult)"
   ]
  },
  {
   "cell_type": "code",
   "execution_count": 41,
   "metadata": {},
   "outputs": [
    {
     "name": "stdout",
     "output_type": "stream",
     "text": [
      "1155310\n"
     ]
    }
   ],
   "source": [
    "oneResult = colecao.count_documents({\"lang\": None})\n",
    "print(oneResult)"
   ]
  },
  {
   "cell_type": "code",
   "execution_count": 94,
   "metadata": {},
   "outputs": [
    {
     "name": "stdout",
     "output_type": "stream",
     "text": [
      "{'_id': ObjectId('5f501410da596ab0c72390da'), 'tweet_id': 1223914556868759554, 'created_at': datetime.datetime(2020, 2, 2, 10, 22, 24), 'user_id': '28878672', 'geo_source': 'user_location', 'state': 'Minas Gerais', 'city': 'Varginha', 'text': 'RT @DCM_online: Ano novo chinês em São Paulo tem preocupação com coronavírus https://t.co/BugJPg81Hl', 'score': -0.4215, 'lang': 'pt', 'period': '2020_02_02'}\n"
     ]
    }
   ],
   "source": [
    "oneResult = colecao.find_one({\"lang\": 'pt'})\n",
    "print(oneResult)"
   ]
  },
  {
   "cell_type": "code",
   "execution_count": 23,
   "metadata": {},
   "outputs": [
    {
     "name": "stdout",
     "output_type": "stream",
     "text": [
      "5031502\n"
     ]
    }
   ],
   "source": [
    "oneResult = colecao.count_documents({\"text\": {'$ne':None}})\n",
    "print(oneResult)"
   ]
  },
  {
   "cell_type": "code",
   "execution_count": 2,
   "metadata": {},
   "outputs": [
    {
     "name": "stdout",
     "output_type": "stream",
     "text": [
      "520651\n"
     ]
    }
   ],
   "source": [
    "oneResult = colecao.count_documents({\"lang\": 'en'})\n",
    "print(oneResult)"
   ]
  },
  {
   "cell_type": "code",
   "execution_count": 4,
   "metadata": {},
   "outputs": [
    {
     "name": "stdout",
     "output_type": "stream",
     "text": [
      "5666161\n"
     ]
    }
   ],
   "source": [
    "oneResult = colecao.count_documents({\"score\": {'$eq':None}})\n",
    "print(oneResult)"
   ]
  },
  {
   "cell_type": "code",
   "execution_count": 3,
   "metadata": {},
   "outputs": [
    {
     "name": "stdout",
     "output_type": "stream",
     "text": [
      "2817646\n"
     ]
    }
   ],
   "source": [
    "oneResult = colecao.count_documents({\"text\": {'$ne':None}, \"score\": {'$eq':None}})\n",
    "print(oneResult)"
   ]
  },
  {
   "cell_type": "code",
   "execution_count": 5,
   "metadata": {},
   "outputs": [
    {
     "name": "stdout",
     "output_type": "stream",
     "text": [
      "596448\n"
     ]
    }
   ],
   "source": [
    "oneResult = colecao.count_documents({\"text\": {'$ne':None}, \"score\": {'$eq':None}, \"lang\": 'pt'})\n",
    "print(oneResult)"
   ]
  },
  {
   "cell_type": "code",
   "execution_count": 269,
   "metadata": {},
   "outputs": [
    {
     "name": "stdout",
     "output_type": "stream",
     "text": [
      "{'_id': ObjectId('5f5014b4da596ab0c7297778'), 'tweet_id': 1232828365708636161, 'created_at': datetime.datetime(2020, 2, 27, 0, 42, 41), 'user_id': '705089630765449219', 'geo_source': 'tweet_text', 'state': 'Rio de Janeiro', 'city': 'Rio de Janeiro', 'text': 'RT @porrarandas: Pq se depender da saúde pública brasileira... Todos terão acesso a tratamento gratuita e caso necessário será feito uma ca…', 'score': None, 'lang': 'pt', 'period': '2020_02_27'}\n"
     ]
    }
   ],
   "source": [
    "oneResult = colecao.find_one({\"text\": {'$ne':None}, \"score\": {'$eq':None}, \"lang\": 'pt'})\n",
    "print(oneResult)"
   ]
  },
  {
   "cell_type": "code",
   "execution_count": 242,
   "metadata": {},
   "outputs": [
    {
     "name": "stdout",
     "output_type": "stream",
     "text": [
      "0\n"
     ]
    }
   ],
   "source": [
    "oneResult = colecao.count_documents({\"text\": {'$ne':None}, \"score\": {'$eq':None}, \"geo_source\": 'place'})\n",
    "print(oneResult)"
   ]
  },
  {
   "cell_type": "code",
   "execution_count": 212,
   "metadata": {
    "scrolled": true
   },
   "outputs": [
    {
     "data": {
      "text/plain": [
       "115418"
      ]
     },
     "execution_count": 212,
     "metadata": {},
     "output_type": "execute_result"
    }
   ],
   "source": [
    "--115418"
   ]
  },
  {
   "cell_type": "code",
   "execution_count": 267,
   "metadata": {},
   "outputs": [
    {
     "name": "stdout",
     "output_type": "stream",
     "text": [
      "0\n"
     ]
    }
   ],
   "source": [
    "oneResult = colecao.count_documents({\"text\": {'$ne':None}, \"score\": {'$eq':None}, \"geo_source\": 'user_location'})\n",
    "print(oneResult)"
   ]
  },
  {
   "cell_type": "code",
   "execution_count": 198,
   "metadata": {},
   "outputs": [
    {
     "data": {
      "text/plain": [
       "1479994"
      ]
     },
     "execution_count": 198,
     "metadata": {},
     "output_type": "execute_result"
    }
   ],
   "source": [
    "--1463540 (554 por minuto)\n",
    "--1479994"
   ]
  },
  {
   "cell_type": "code",
   "execution_count": 133,
   "metadata": {},
   "outputs": [],
   "source": [
    "from googletrans import Translator\n",
    "\n",
    "translator = Translator()\n",
    "\n",
    "def translate_tweet_text(tweet):\n",
    "        \n",
    "    text = tweet['text']   \n",
    "    from_lang = tweet['lang']\n",
    "    \n",
    "    # Verificando se o texto do tweet já está escrito na língua inglesa\n",
    "    if (from_lang == 'en') or (from_lang == 'en-US'):\n",
    "        translation = text\n",
    "    else:\n",
    "        t = translator.translate(text, dest='en')\n",
    "\n",
    "    return t.text"
   ]
  },
  {
   "cell_type": "code",
   "execution_count": 65,
   "metadata": {},
   "outputs": [],
   "source": [
    "# Ferramenta VaderSentiment\n",
    "from vaderSentiment.vaderSentiment import SentimentIntensityAnalyzer\n",
    "import time\n",
    "\n",
    "def calculate_scores(tweets):\n",
    "\n",
    "    for tweet in tweets:\n",
    "        \n",
    "        inicio_total = time.time()\n",
    "        \n",
    "        inicio = time.time()\n",
    "        # Traduzindo o texto para o inglês\n",
    "        translated_text = translate_tweet_text(tweet)\n",
    "        fim = time.time()\n",
    "        print(fim-inicio)\n",
    "        \n",
    "        # Efetuando o cálculo do score de sentimento para o texto\n",
    "        inicio = time.time()\n",
    "        analyzer = SentimentIntensityAnalyzer()\n",
    "        vs = analyzer.polarity_scores(translated_text)\n",
    "        fim = time.time()\n",
    "        print(fim-inicio)\n",
    "        \n",
    "        # Recuperando o score e adicionando em uma nova célula do dataframe\n",
    "        inicio = time.time()\n",
    "        colecao.update_one({\"tweet_id\": tweet['tweet_id']}, {'$set':{\"score\": vs['compound']}})   \n",
    "        fim = time.time()\n",
    "        print(fim-inicio)\n",
    "        \n",
    "        fim_total = time.time()\n",
    "        print(\"total: \"+str(fim_total - inicio_total))"
   ]
  },
  {
   "cell_type": "code",
   "execution_count": 153,
   "metadata": {},
   "outputs": [],
   "source": [
    "tweets_ne_en = colecao.find({\"text\": {'$ne':None}, \"score\": {'$eq':None}})"
   ]
  },
  {
   "cell_type": "code",
   "execution_count": 166,
   "metadata": {},
   "outputs": [
    {
     "name": "stdout",
     "output_type": "stream",
     "text": [
      "0\n",
      "2\n",
      "4\n"
     ]
    }
   ],
   "source": [
    "for item in range(0, 5, 1):\n",
    "    print(item)"
   ]
  },
  {
   "cell_type": "code",
   "execution_count": 149,
   "metadata": {},
   "outputs": [
    {
     "name": "stdout",
     "output_type": "stream",
     "text": [
      "1.0145576000213623\n",
      "0.04079842567443848\n",
      "0.0014655590057373047\n",
      "total: 1.057250738143921\n"
     ]
    }
   ],
   "source": [
    "tweet = colecao.find_one({\"text\": {'$ne':None}, \"score\": {'$eq':None}})\n",
    "\n",
    "tweets = []\n",
    "tweets.append(tweet)\n",
    "\n",
    "calculate_scores(tweets)"
   ]
  },
  {
   "cell_type": "markdown",
   "metadata": {},
   "source": [
    "Teste de performance com o googletrans"
   ]
  },
  {
   "cell_type": "code",
   "execution_count": 5,
   "metadata": {},
   "outputs": [
    {
     "ename": "AttributeError",
     "evalue": "'NoneType' object has no attribute 'group'",
     "output_type": "error",
     "traceback": [
      "\u001b[0;31m---------------------------------------------------------------------------\u001b[0m",
      "\u001b[0;31mAttributeError\u001b[0m                            Traceback (most recent call last)",
      "\u001b[0;32m<ipython-input-5-487861b5d38c>\u001b[0m in \u001b[0;36m<module>\u001b[0;34m\u001b[0m\n\u001b[1;32m      5\u001b[0m \u001b[0mtranslator\u001b[0m \u001b[0;34m=\u001b[0m \u001b[0mTranslator\u001b[0m\u001b[0;34m(\u001b[0m\u001b[0;34m)\u001b[0m\u001b[0;34m\u001b[0m\u001b[0;34m\u001b[0m\u001b[0m\n\u001b[1;32m      6\u001b[0m \u001b[0mtext\u001b[0m \u001b[0;34m=\u001b[0m \u001b[0;34m'Ano novo chinês em São Paulo tem preocupação com coronavírus'\u001b[0m\u001b[0;34m\u001b[0m\u001b[0;34m\u001b[0m\u001b[0m\n\u001b[0;32m----> 7\u001b[0;31m \u001b[0mtranslation\u001b[0m \u001b[0;34m=\u001b[0m \u001b[0mtranslator\u001b[0m\u001b[0;34m.\u001b[0m\u001b[0mtranslate\u001b[0m\u001b[0;34m(\u001b[0m\u001b[0mtext\u001b[0m\u001b[0;34m,\u001b[0m \u001b[0mdest\u001b[0m\u001b[0;34m=\u001b[0m\u001b[0;34m'en'\u001b[0m\u001b[0;34m)\u001b[0m\u001b[0;34m\u001b[0m\u001b[0;34m\u001b[0m\u001b[0m\n\u001b[0m\u001b[1;32m      8\u001b[0m \u001b[0mfim\u001b[0m \u001b[0;34m=\u001b[0m \u001b[0mtime\u001b[0m\u001b[0;34m.\u001b[0m\u001b[0mtime\u001b[0m\u001b[0;34m(\u001b[0m\u001b[0;34m)\u001b[0m\u001b[0;34m\u001b[0m\u001b[0;34m\u001b[0m\u001b[0m\n\u001b[1;32m      9\u001b[0m \u001b[0mprint\u001b[0m\u001b[0;34m(\u001b[0m\u001b[0mfim\u001b[0m \u001b[0;34m-\u001b[0m \u001b[0minicio\u001b[0m\u001b[0;34m)\u001b[0m\u001b[0;34m\u001b[0m\u001b[0;34m\u001b[0m\u001b[0m\n",
      "\u001b[0;32m~/anaconda3/lib/python3.7/site-packages/googletrans/client.py\u001b[0m in \u001b[0;36mtranslate\u001b[0;34m(self, text, dest, src)\u001b[0m\n\u001b[1;32m    170\u001b[0m \u001b[0;34m\u001b[0m\u001b[0m\n\u001b[1;32m    171\u001b[0m         \u001b[0morigin\u001b[0m \u001b[0;34m=\u001b[0m \u001b[0mtext\u001b[0m\u001b[0;34m\u001b[0m\u001b[0;34m\u001b[0m\u001b[0m\n\u001b[0;32m--> 172\u001b[0;31m         \u001b[0mdata\u001b[0m \u001b[0;34m=\u001b[0m \u001b[0mself\u001b[0m\u001b[0;34m.\u001b[0m\u001b[0m_translate\u001b[0m\u001b[0;34m(\u001b[0m\u001b[0mtext\u001b[0m\u001b[0;34m,\u001b[0m \u001b[0mdest\u001b[0m\u001b[0;34m,\u001b[0m \u001b[0msrc\u001b[0m\u001b[0;34m)\u001b[0m\u001b[0;34m\u001b[0m\u001b[0;34m\u001b[0m\u001b[0m\n\u001b[0m\u001b[1;32m    173\u001b[0m \u001b[0;34m\u001b[0m\u001b[0m\n\u001b[1;32m    174\u001b[0m         \u001b[0;31m# this code will be updated when the format is changed.\u001b[0m\u001b[0;34m\u001b[0m\u001b[0;34m\u001b[0m\u001b[0;34m\u001b[0m\u001b[0m\n",
      "\u001b[0;32m~/anaconda3/lib/python3.7/site-packages/googletrans/client.py\u001b[0m in \u001b[0;36m_translate\u001b[0;34m(self, text, dest, src)\u001b[0m\n\u001b[1;32m     73\u001b[0m             \u001b[0mtext\u001b[0m \u001b[0;34m=\u001b[0m \u001b[0mtext\u001b[0m\u001b[0;34m.\u001b[0m\u001b[0mdecode\u001b[0m\u001b[0;34m(\u001b[0m\u001b[0;34m'utf-8'\u001b[0m\u001b[0;34m)\u001b[0m\u001b[0;34m\u001b[0m\u001b[0;34m\u001b[0m\u001b[0m\n\u001b[1;32m     74\u001b[0m \u001b[0;34m\u001b[0m\u001b[0m\n\u001b[0;32m---> 75\u001b[0;31m         \u001b[0mtoken\u001b[0m \u001b[0;34m=\u001b[0m \u001b[0mself\u001b[0m\u001b[0;34m.\u001b[0m\u001b[0mtoken_acquirer\u001b[0m\u001b[0;34m.\u001b[0m\u001b[0mdo\u001b[0m\u001b[0;34m(\u001b[0m\u001b[0mtext\u001b[0m\u001b[0;34m)\u001b[0m\u001b[0;34m\u001b[0m\u001b[0;34m\u001b[0m\u001b[0m\n\u001b[0m\u001b[1;32m     76\u001b[0m         params = utils.build_params(query=text, src=src, dest=dest,\n\u001b[1;32m     77\u001b[0m                                     token=token)\n",
      "\u001b[0;32m~/anaconda3/lib/python3.7/site-packages/googletrans/gtoken.py\u001b[0m in \u001b[0;36mdo\u001b[0;34m(self, text)\u001b[0m\n\u001b[1;32m    184\u001b[0m \u001b[0;34m\u001b[0m\u001b[0m\n\u001b[1;32m    185\u001b[0m     \u001b[0;32mdef\u001b[0m \u001b[0mdo\u001b[0m\u001b[0;34m(\u001b[0m\u001b[0mself\u001b[0m\u001b[0;34m,\u001b[0m \u001b[0mtext\u001b[0m\u001b[0;34m)\u001b[0m\u001b[0;34m:\u001b[0m\u001b[0;34m\u001b[0m\u001b[0;34m\u001b[0m\u001b[0m\n\u001b[0;32m--> 186\u001b[0;31m         \u001b[0mself\u001b[0m\u001b[0;34m.\u001b[0m\u001b[0m_update\u001b[0m\u001b[0;34m(\u001b[0m\u001b[0;34m)\u001b[0m\u001b[0;34m\u001b[0m\u001b[0;34m\u001b[0m\u001b[0m\n\u001b[0m\u001b[1;32m    187\u001b[0m         \u001b[0mtk\u001b[0m \u001b[0;34m=\u001b[0m \u001b[0mself\u001b[0m\u001b[0;34m.\u001b[0m\u001b[0macquire\u001b[0m\u001b[0;34m(\u001b[0m\u001b[0mtext\u001b[0m\u001b[0;34m)\u001b[0m\u001b[0;34m\u001b[0m\u001b[0;34m\u001b[0m\u001b[0m\n\u001b[1;32m    188\u001b[0m         \u001b[0;32mreturn\u001b[0m \u001b[0mtk\u001b[0m\u001b[0;34m\u001b[0m\u001b[0;34m\u001b[0m\u001b[0m\n",
      "\u001b[0;32m~/anaconda3/lib/python3.7/site-packages/googletrans/gtoken.py\u001b[0m in \u001b[0;36m_update\u001b[0;34m(self)\u001b[0m\n\u001b[1;32m     63\u001b[0m \u001b[0;34m\u001b[0m\u001b[0m\n\u001b[1;32m     64\u001b[0m         \u001b[0;31m# this will be the same as python code after stripping out a reserved word 'var'\u001b[0m\u001b[0;34m\u001b[0m\u001b[0;34m\u001b[0m\u001b[0;34m\u001b[0m\u001b[0m\n\u001b[0;32m---> 65\u001b[0;31m         \u001b[0mcode\u001b[0m \u001b[0;34m=\u001b[0m \u001b[0municode\u001b[0m\u001b[0;34m(\u001b[0m\u001b[0mself\u001b[0m\u001b[0;34m.\u001b[0m\u001b[0mRE_TKK\u001b[0m\u001b[0;34m.\u001b[0m\u001b[0msearch\u001b[0m\u001b[0;34m(\u001b[0m\u001b[0mr\u001b[0m\u001b[0;34m.\u001b[0m\u001b[0mtext\u001b[0m\u001b[0;34m)\u001b[0m\u001b[0;34m.\u001b[0m\u001b[0mgroup\u001b[0m\u001b[0;34m(\u001b[0m\u001b[0;36m1\u001b[0m\u001b[0;34m)\u001b[0m\u001b[0;34m)\u001b[0m\u001b[0;34m.\u001b[0m\u001b[0mreplace\u001b[0m\u001b[0;34m(\u001b[0m\u001b[0;34m'var '\u001b[0m\u001b[0;34m,\u001b[0m \u001b[0;34m''\u001b[0m\u001b[0;34m)\u001b[0m\u001b[0;34m\u001b[0m\u001b[0;34m\u001b[0m\u001b[0m\n\u001b[0m\u001b[1;32m     66\u001b[0m         \u001b[0;31m# unescape special ascii characters such like a \\x3d(=)\u001b[0m\u001b[0;34m\u001b[0m\u001b[0;34m\u001b[0m\u001b[0;34m\u001b[0m\u001b[0m\n\u001b[1;32m     67\u001b[0m         \u001b[0;32mif\u001b[0m \u001b[0mPY3\u001b[0m\u001b[0;34m:\u001b[0m  \u001b[0;31m# pragma: no cover\u001b[0m\u001b[0;34m\u001b[0m\u001b[0;34m\u001b[0m\u001b[0m\n",
      "\u001b[0;31mAttributeError\u001b[0m: 'NoneType' object has no attribute 'group'"
     ]
    }
   ],
   "source": [
    "from googletrans import Translator\n",
    "translator = Translator()\n",
    "import time\n",
    "inicio = time.time()\n",
    "translator = Translator()\n",
    "text = 'Ano novo chinês em São Paulo tem preocupação com coronavírus'\n",
    "translation = translator.translate(text, dest='en')\n",
    "fim = time.time()\n",
    "print(fim - inicio)"
   ]
  },
  {
   "cell_type": "code",
   "execution_count": 122,
   "metadata": {},
   "outputs": [
    {
     "name": "stdout",
     "output_type": "stream",
     "text": [
      "0.01494455337524414\n",
      "1.1009504795074463\n",
      "1.1180510520935059\n"
     ]
    }
   ],
   "source": [
    "inicio_total = time.time()\n",
    "\n",
    "inicio = time.time()\n",
    "translator = Translator()\n",
    "fim = time.time()\n",
    "print(fim - inicio)\n",
    "\n",
    "inicio = time.time()\n",
    "text = 'Ano novo chinês em São Paulo tem preocupação com coronavírus'\n",
    "translation = translator.translate(text, dest='en')\n",
    "fim = time.time()\n",
    "print(fim - inicio)\n",
    "\n",
    "fim_total = time.time()\n",
    "print(fim_total - inicio_total)"
   ]
  },
  {
   "cell_type": "code",
   "execution_count": 123,
   "metadata": {},
   "outputs": [
    {
     "name": "stdout",
     "output_type": "stream",
     "text": [
      "0.017850160598754883\n",
      "0.9355518817901611\n",
      "0.9540419578552246\n"
     ]
    }
   ],
   "source": [
    "inicio_total = time.time()\n",
    "\n",
    "inicio = time.time()\n",
    "translator = Translator()\n",
    "fim = time.time()\n",
    "print(fim - inicio)\n",
    "\n",
    "inicio = time.time()\n",
    "text = 'Ano novo chinês em São Paulo tem preocupação com coronavírus'\n",
    "translation = translator.translate(text, src='pt', dest='en')\n",
    "fim = time.time()\n",
    "print(fim - inicio)\n",
    "\n",
    "fim_total = time.time()\n",
    "print(fim_total - inicio_total)"
   ]
  },
  {
   "cell_type": "code",
   "execution_count": 104,
   "metadata": {},
   "outputs": [
    {
     "name": "stdout",
     "output_type": "stream",
     "text": [
      "10.18322229385376\n"
     ]
    }
   ],
   "source": [
    "inicio = time.time()\n",
    "text = 'Ano novo chinês em São Paulo tem preocupação com coronavírus'\n",
    "translator = Translator()\n",
    "translation = translator.translate(text, dest='en')\n",
    "translator = Translator()\n",
    "translation = translator.translate(text, dest='en')\n",
    "translator = Translator()\n",
    "translation = translator.translate(text, dest='en')\n",
    "translator = Translator()\n",
    "translation = translator.translate(text, dest='en')\n",
    "translator = Translator()\n",
    "translation = translator.translate(text, dest='en')\n",
    "translator = Translator()\n",
    "translation = translator.translate(text, dest='en')\n",
    "translator = Translator()\n",
    "translation = translator.translate(text, dest='en')\n",
    "translator = Translator()\n",
    "translation = translator.translate(text, dest='en')\n",
    "translator = Translator()\n",
    "translation = translator.translate(text, dest='en')\n",
    "translator = Translator()\n",
    "translation = translator.translate(text, dest='en')\n",
    "fim = time.time()\n",
    "print(fim - inicio)"
   ]
  },
  {
   "cell_type": "code",
   "execution_count": 126,
   "metadata": {},
   "outputs": [
    {
     "name": "stdout",
     "output_type": "stream",
     "text": [
      "6.202183485031128\n"
     ]
    }
   ],
   "source": [
    "inicio = time.time()\n",
    "translator = Translator()\n",
    "\n",
    "text = 'Ano novo chinês em São Paulo tem preocupação com coronavírus'\n",
    "translation = translator.translate(text, dest='en')\n",
    "translation = translator.translate(text, dest='en')\n",
    "translation = translator.translate(text, dest='en')\n",
    "translation = translator.translate(text, dest='en')\n",
    "translation = translator.translate(text, dest='en')\n",
    "translation = translator.translate(text, dest='en')\n",
    "translation = translator.translate(text, dest='en')\n",
    "translation = translator.translate(text, dest='en')\n",
    "translation = translator.translate(text, dest='en')\n",
    "translation = translator.translate(text, dest='en')\n",
    "translation = translator.translate(text, dest='en')\n",
    "fim = time.time()\n",
    "print(fim - inicio)"
   ]
  },
  {
   "cell_type": "code",
   "execution_count": 127,
   "metadata": {},
   "outputs": [
    {
     "name": "stdout",
     "output_type": "stream",
     "text": [
      "5.840054750442505\n"
     ]
    }
   ],
   "source": [
    "inicio = time.time()\n",
    "translator = Translator()\n",
    "text = 'Ano novo chinês em São Paulo tem preocupação com coronavírus'\n",
    "translations = translator.translate([text,text,text,text,text,text,text,text,text,text], dest='en')\n",
    "#for translation in translations:\n",
    "#    print(translation.origin, ' -> ', translation.text)\n",
    "fim = time.time()\n",
    "print(fim - inicio)"
   ]
  },
  {
   "cell_type": "code",
   "execution_count": 14,
   "metadata": {},
   "outputs": [
    {
     "data": {
      "text/plain": [
       "{'_id_': {'v': 2, 'key': [('_id', 1)], 'ns': 'SpedDB.tweets_brasil'},\n",
       " 'tweet_id_1': {'v': 2,\n",
       "  'key': [('tweet_id', 1)],\n",
       "  'ns': 'SpedDB.tweets_brasil'},\n",
       " 'state_1': {'v': 2, 'key': [('state', 1)], 'ns': 'SpedDB.tweets_brasil'},\n",
       " 'city_1': {'v': 2, 'key': [('city', 1)], 'ns': 'SpedDB.tweets_brasil'},\n",
       " 'lang_1': {'v': 2, 'key': [('lang', 1)], 'ns': 'SpedDB.tweets_brasil'},\n",
       " 'geo_source_1': {'v': 2,\n",
       "  'key': [('geo_source', 1)],\n",
       "  'ns': 'SpedDB.tweets_brasil'},\n",
       " 'period_1': {'v': 2, 'key': [('period', 1)], 'ns': 'SpedDB.tweets_brasil'}}"
      ]
     },
     "execution_count": 14,
     "metadata": {},
     "output_type": "execute_result"
    }
   ],
   "source": [
    "--4505295\n",
    "\n",
    "colecao.index_information()"
   ]
  },
  {
   "cell_type": "code",
   "execution_count": null,
   "metadata": {},
   "outputs": [],
   "source": []
  },
  {
   "cell_type": "code",
   "execution_count": null,
   "metadata": {},
   "outputs": [],
   "source": [
    "total = colecao.count_documents({\"text\": {'$ne':None}})\n",
    "print('Total: '+str(total))"
   ]
  },
  {
   "cell_type": "code",
   "execution_count": 38,
   "metadata": {},
   "outputs": [],
   "source": [
    "def search_text(text):\n",
    "    res = colecao.count_documents({'text':{'$regex':text, '$options':'i'}})\n",
    "    print(text + ': '+str(res))"
   ]
  },
  {
   "cell_type": "code",
   "execution_count": 42,
   "metadata": {},
   "outputs": [
    {
     "name": "stdout",
     "output_type": "stream",
     "text": [
      "bolsonaro: 158092\n",
      "lula: 11747\n",
      "dilma: 2592\n",
      "weintraub: 1154\n",
      "guedes: 5115\n",
      "impeachment: 4171\n",
      "rodrigo maia: 2573\n",
      "maia: 15874\n",
      "mandetta: 22638\n",
      "ciro: 3293\n",
      "doria: 15147\n",
      "globo: 28388\n",
      "drauzio: 2982\n",
      "varella: 2783\n",
      "stf: 8481\n",
      "bozo: 5427\n",
      "crivella: 1047\n",
      "gripezinha: 6469\n",
      "pronunciamento: 3340\n",
      "capitão corona: 6506\n",
      "china: 137514\n",
      "PT: 117605\n",
      "PSL: 2826\n",
      "aliança pelo brasil: 51\n",
      "cloroquina: 42935\n",
      "trump: 76072\n"
     ]
    }
   ],
   "source": [
    "search_text('bolsonaro')\n",
    "search_text('lula')\n",
    "search_text('dilma')\n",
    "search_text('weintraub')\n",
    "search_text('guedes')\n",
    "search_text('impeachment')\n",
    "search_text('rodrigo maia')\n",
    "search_text('maia')\n",
    "search_text('mandetta')\n",
    "search_text('ciro')\n",
    "search_text('doria')\n",
    "search_text('globo')\n",
    "search_text('drauzio')\n",
    "search_text('varella')\n",
    "search_text('stf')\n",
    "search_text('bozo')\n",
    "search_text('crivella')\n",
    "search_text('gripezinha')\n",
    "search_text('pronunciamento')\n",
    "search_text('capitão corona')\n",
    "search_text('china')\n",
    "search_text('PT')\n",
    "search_text('PSL')\n",
    "search_text('aliança pelo brasil')\n",
    "search_text('cloroquina')\n",
    "search_text('trump')"
   ]
  },
  {
   "cell_type": "code",
   "execution_count": 41,
   "metadata": {},
   "outputs": [
    {
     "name": "stdout",
     "output_type": "stream",
     "text": [
      "fechadocombolsonaro: 1302\n",
      "unidoscombolsonaro: 173\n",
      "lulanacadeia: 110\n",
      "foramaia: 1758\n",
      "obrasilnaovaiparar: 32\n",
      "bolsonarogenocida: 2209\n",
      "ciroacertou: 0\n",
      "vamospararobrasil: 28\n",
      "ditaduranuncamais: 100\n",
      "coronavoucher: 134\n",
      "nasruas5deabril: 70\n",
      "desculpejairmaseuvou: 237\n",
      "luladoria: 59\n",
      "pagalogobolsonaro: 128\n",
      "desliguedaglobo: 35\n",
      "pronunciamento: 3340\n",
      "bolsonaroacabou: 654\n",
      "globolixo: 2013\n",
      "boicoteaglobo: 2\n",
      "bolsonaroinfectado: 450\n",
      "bolsonaroday: 1147\n",
      "happybirthdaybolsonaro: 12\n",
      "obrasiltemquepararbolsonaro: 276\n"
     ]
    }
   ],
   "source": [
    "search_text('fechadocombolsonaro')\n",
    "search_text('unidoscombolsonaro')\n",
    "search_text('lulanacadeia')\n",
    "search_text('foramaia')\n",
    "search_text('obrasilnaovaiparar')\n",
    "search_text('bolsonarogenocida')\n",
    "search_text('ciroacertou')\n",
    "search_text('vamospararobrasil')\n",
    "search_text('ditaduranuncamais')\n",
    "search_text('coronavoucher')\n",
    "search_text('nasruas5deabril')\n",
    "search_text('desculpejairmaseuvou')\n",
    "search_text('luladoria')\n",
    "search_text('pagalogobolsonaro')\n",
    "search_text('desliguedaglobo')\n",
    "search_text('pronunciamento')\n",
    "search_text('bolsonaroacabou')\n",
    "search_text('globolixo')\n",
    "search_text('boicoteaglobo')\n",
    "search_text('bolsonaroinfectado')\n",
    "search_text('bolsonaroday')\n",
    "search_text('happybirthdaybolsonaro')\n",
    "search_text('obrasiltemquepararbolsonaro')"
   ]
  },
  {
   "cell_type": "code",
   "execution_count": null,
   "metadata": {},
   "outputs": [],
   "source": []
  },
  {
   "cell_type": "markdown",
   "metadata": {},
   "source": [
    "### Processamento com SenticNet"
   ]
  },
  {
   "cell_type": "code",
   "execution_count": 66,
   "metadata": {},
   "outputs": [
    {
     "name": "stdout",
     "output_type": "stream",
     "text": [
      "1897145\n"
     ]
    }
   ],
   "source": [
    "# Total de scores do SenticNet processados\n",
    "oneResult = colecao.count_documents({'senticnet_processed':True})\n",
    "print(oneResult) ##1251332 18:06"
   ]
  },
  {
   "cell_type": "code",
   "execution_count": 67,
   "metadata": {},
   "outputs": [
    {
     "name": "stdout",
     "output_type": "stream",
     "text": [
      "741638\n"
     ]
    }
   ],
   "source": [
    "# Total de scores do SenticNet processados e calculados\n",
    "oneResult = colecao.count_documents({'senticnet_processed':True, 'polarity':{'$ne':None}})\n",
    "print(oneResult) ##66246"
   ]
  },
  {
   "cell_type": "code",
   "execution_count": 68,
   "metadata": {},
   "outputs": [
    {
     "name": "stdout",
     "output_type": "stream",
     "text": [
      "225126\n"
     ]
    }
   ],
   "source": [
    "# Dados com resultados distintos\n",
    "res1 = colecao.count_documents({'polarity':{'$ne':None}, 'score':{'$gt':0}, 'polarity':{'$lt':0}})\n",
    "res2 = colecao.count_documents({'polarity':{'$ne':None}, 'score':{'$lt':0}, 'polarity':{'$gt':0}})\n",
    "print(str(res1+res2))"
   ]
  },
  {
   "cell_type": "code",
   "execution_count": null,
   "metadata": {},
   "outputs": [],
   "source": []
  },
  {
   "cell_type": "code",
   "execution_count": 101,
   "metadata": {},
   "outputs": [
    {
     "name": "stdout",
     "output_type": "stream",
     "text": [
      "{'_id': ObjectId('5f501411da596ab0c7239179'), 'tweet_id': 1224038272260870149, 'created_at': datetime.datetime(2020, 2, 2, 18, 34), 'user_id': '1345387975', 'geo_source': 'place', 'state': 'Bahia', 'city': 'Juazeiro', 'text': '@schistadf sim mulher o coronavirus tem é medo', 'score': 0.4019, 'lang': 'pt', 'polarity': 0.19560000000000002, 'senticnet_processed': True}\n"
     ]
    }
   ],
   "source": [
    "oneResult = colecao.find_one({'polarity':{'$ne':None}, 'senticnet_processed':True})\n",
    "print(oneResult)"
   ]
  },
  {
   "cell_type": "code",
   "execution_count": 133,
   "metadata": {},
   "outputs": [
    {
     "name": "stdout",
     "output_type": "stream",
     "text": [
      "{'_id': ObjectId('5f501413da596ab0c723a643'), 'tweet_id': 1224041793672699904, 'created_at': datetime.datetime(2020, 2, 2, 18, 47, 59), 'user_id': '1178485399603298304', 'geo_source': 'place', 'state': 'Rio de Janeiro', 'city': 'Rio de Janeiro', 'text': 'Coronavirus: Thailand registers treatment success with drug cocktail https://t.co/GDcEzL1V2b', 'score': 0.5719, 'lang': 'en', 'polarity': -0.0034285714285714236, 'senticnet_processed': True}\n"
     ]
    }
   ],
   "source": [
    "oneResult = colecao.find_one({'polarity':{'$ne':None}, 'senticnet_processed':True, 'score':{'$gt':0}, 'polarity':{'$lt':0}})\n",
    "print(oneResult)"
   ]
  },
  {
   "cell_type": "code",
   "execution_count": 134,
   "metadata": {},
   "outputs": [
    {
     "name": "stdout",
     "output_type": "stream",
     "text": [
      "{'_id': ObjectId('5f501411da596ab0c723932d'), 'tweet_id': 1224008746541731840, 'created_at': datetime.datetime(2020, 2, 2, 16, 36, 40), 'user_id': '811857528', 'geo_source': 'place', 'state': 'Goiás', 'city': 'Caldas Novas', 'text': 'meu deus que ÓDIO https://t.co/0b8g9T7lPe', 'score': -0.516, 'lang': 'pt', 'polarity': 0.017000000000000015, 'senticnet_processed': True}\n"
     ]
    }
   ],
   "source": [
    "oneResult = colecao.find_one({'polarity':{'$ne':None}, 'senticnet_processed':True, 'score':{'$lt':0}, 'polarity':{'$gt':0}})\n",
    "print(oneResult)"
   ]
  },
  {
   "cell_type": "code",
   "execution_count": 39,
   "metadata": {},
   "outputs": [
    {
     "name": "stdout",
     "output_type": "stream",
     "text": [
      "0\n"
     ]
    }
   ],
   "source": [
    "# Total de scores do SenticNet não calculados\n",
    "oneResult = colecao.count_documents({'text':{'$ne':None}, \"senticnet_processed\": {'$eq':None}, 'score': {'$ne':None}, '$or':[{'geo_source':'place'}, {'geo_source':'user_location'}]})\n",
    "print(oneResult)"
   ]
  },
  {
   "cell_type": "code",
   "execution_count": 72,
   "metadata": {},
   "outputs": [
    {
     "name": "stdout",
     "output_type": "stream",
     "text": [
      "1155507\n"
     ]
    }
   ],
   "source": [
    "# Tweets que tiveram SenticNet processados mas foram desconsiderados\n",
    "oneResult = colecao.count_documents({'text':{'$ne':None}, \"senticnet_processed\": {'$eq':True}, 'polarity': {'$eq':None}, '$or':[{'geo_source':'place'}, {'geo_source':'user_location'}]})     \n",
    "print(oneResult)"
   ]
  },
  {
   "cell_type": "code",
   "execution_count": 11,
   "metadata": {},
   "outputs": [
    {
     "ename": "AttributeError",
     "evalue": "'NoneType' object has no attribute 'group'",
     "output_type": "error",
     "traceback": [
      "\u001b[0;31m---------------------------------------------------------------------------\u001b[0m",
      "\u001b[0;31mAttributeError\u001b[0m                            Traceback (most recent call last)",
      "\u001b[0;32m<ipython-input-11-6e2fb4ac0765>\u001b[0m in \u001b[0;36m<module>\u001b[0;34m\u001b[0m\n\u001b[1;32m      2\u001b[0m \u001b[0mtranslator\u001b[0m \u001b[0;34m=\u001b[0m \u001b[0mTranslator\u001b[0m\u001b[0;34m(\u001b[0m\u001b[0;34m)\u001b[0m\u001b[0;34m\u001b[0m\u001b[0;34m\u001b[0m\u001b[0m\n\u001b[1;32m      3\u001b[0m \u001b[0mtext\u001b[0m \u001b[0;34m=\u001b[0m \u001b[0;34m'Ano novo chinês em São Paulo tem preocupação com coronavírus'\u001b[0m\u001b[0;34m\u001b[0m\u001b[0;34m\u001b[0m\u001b[0m\n\u001b[0;32m----> 4\u001b[0;31m \u001b[0mtranslation\u001b[0m \u001b[0;34m=\u001b[0m \u001b[0mtranslator\u001b[0m\u001b[0;34m.\u001b[0m\u001b[0mtranslate\u001b[0m\u001b[0;34m(\u001b[0m\u001b[0mtext\u001b[0m\u001b[0;34m,\u001b[0m \u001b[0mdest\u001b[0m\u001b[0;34m=\u001b[0m\u001b[0;34m'en'\u001b[0m\u001b[0;34m)\u001b[0m\u001b[0;34m\u001b[0m\u001b[0;34m\u001b[0m\u001b[0m\n\u001b[0m\u001b[1;32m      5\u001b[0m \u001b[0mtranslation\u001b[0m\u001b[0;34m\u001b[0m\u001b[0;34m\u001b[0m\u001b[0m\n",
      "\u001b[0;32m~/anaconda3/lib/python3.7/site-packages/googletrans/client.py\u001b[0m in \u001b[0;36mtranslate\u001b[0;34m(self, text, dest, src, **kwargs)\u001b[0m\n\u001b[1;32m    180\u001b[0m \u001b[0;34m\u001b[0m\u001b[0m\n\u001b[1;32m    181\u001b[0m         \u001b[0morigin\u001b[0m \u001b[0;34m=\u001b[0m \u001b[0mtext\u001b[0m\u001b[0;34m\u001b[0m\u001b[0;34m\u001b[0m\u001b[0m\n\u001b[0;32m--> 182\u001b[0;31m         \u001b[0mdata\u001b[0m \u001b[0;34m=\u001b[0m \u001b[0mself\u001b[0m\u001b[0;34m.\u001b[0m\u001b[0m_translate\u001b[0m\u001b[0;34m(\u001b[0m\u001b[0mtext\u001b[0m\u001b[0;34m,\u001b[0m \u001b[0mdest\u001b[0m\u001b[0;34m,\u001b[0m \u001b[0msrc\u001b[0m\u001b[0;34m,\u001b[0m \u001b[0mkwargs\u001b[0m\u001b[0;34m)\u001b[0m\u001b[0;34m\u001b[0m\u001b[0;34m\u001b[0m\u001b[0m\n\u001b[0m\u001b[1;32m    183\u001b[0m \u001b[0;34m\u001b[0m\u001b[0m\n\u001b[1;32m    184\u001b[0m         \u001b[0;31m# this code will be updated when the format is changed.\u001b[0m\u001b[0;34m\u001b[0m\u001b[0;34m\u001b[0m\u001b[0;34m\u001b[0m\u001b[0m\n",
      "\u001b[0;32m~/anaconda3/lib/python3.7/site-packages/googletrans/client.py\u001b[0m in \u001b[0;36m_translate\u001b[0;34m(self, text, dest, src, override)\u001b[0m\n\u001b[1;32m     76\u001b[0m \u001b[0;34m\u001b[0m\u001b[0m\n\u001b[1;32m     77\u001b[0m     \u001b[0;32mdef\u001b[0m \u001b[0m_translate\u001b[0m\u001b[0;34m(\u001b[0m\u001b[0mself\u001b[0m\u001b[0;34m,\u001b[0m \u001b[0mtext\u001b[0m\u001b[0;34m,\u001b[0m \u001b[0mdest\u001b[0m\u001b[0;34m,\u001b[0m \u001b[0msrc\u001b[0m\u001b[0;34m,\u001b[0m \u001b[0moverride\u001b[0m\u001b[0;34m)\u001b[0m\u001b[0;34m:\u001b[0m\u001b[0;34m\u001b[0m\u001b[0;34m\u001b[0m\u001b[0m\n\u001b[0;32m---> 78\u001b[0;31m         \u001b[0mtoken\u001b[0m \u001b[0;34m=\u001b[0m \u001b[0mself\u001b[0m\u001b[0;34m.\u001b[0m\u001b[0mtoken_acquirer\u001b[0m\u001b[0;34m.\u001b[0m\u001b[0mdo\u001b[0m\u001b[0;34m(\u001b[0m\u001b[0mtext\u001b[0m\u001b[0;34m)\u001b[0m\u001b[0;34m\u001b[0m\u001b[0;34m\u001b[0m\u001b[0m\n\u001b[0m\u001b[1;32m     79\u001b[0m         params = utils.build_params(query=text, src=src, dest=dest,\n\u001b[1;32m     80\u001b[0m                                     token=token, override=override)\n",
      "\u001b[0;32m~/anaconda3/lib/python3.7/site-packages/googletrans/gtoken.py\u001b[0m in \u001b[0;36mdo\u001b[0;34m(self, text)\u001b[0m\n\u001b[1;32m    192\u001b[0m \u001b[0;34m\u001b[0m\u001b[0m\n\u001b[1;32m    193\u001b[0m     \u001b[0;32mdef\u001b[0m \u001b[0mdo\u001b[0m\u001b[0;34m(\u001b[0m\u001b[0mself\u001b[0m\u001b[0;34m,\u001b[0m \u001b[0mtext\u001b[0m\u001b[0;34m)\u001b[0m\u001b[0;34m:\u001b[0m\u001b[0;34m\u001b[0m\u001b[0;34m\u001b[0m\u001b[0m\n\u001b[0;32m--> 194\u001b[0;31m         \u001b[0mself\u001b[0m\u001b[0;34m.\u001b[0m\u001b[0m_update\u001b[0m\u001b[0;34m(\u001b[0m\u001b[0;34m)\u001b[0m\u001b[0;34m\u001b[0m\u001b[0;34m\u001b[0m\u001b[0m\n\u001b[0m\u001b[1;32m    195\u001b[0m         \u001b[0mtk\u001b[0m \u001b[0;34m=\u001b[0m \u001b[0mself\u001b[0m\u001b[0;34m.\u001b[0m\u001b[0macquire\u001b[0m\u001b[0;34m(\u001b[0m\u001b[0mtext\u001b[0m\u001b[0;34m)\u001b[0m\u001b[0;34m\u001b[0m\u001b[0;34m\u001b[0m\u001b[0m\n\u001b[1;32m    196\u001b[0m         \u001b[0;32mreturn\u001b[0m \u001b[0mtk\u001b[0m\u001b[0;34m\u001b[0m\u001b[0;34m\u001b[0m\u001b[0m\n",
      "\u001b[0;32m~/anaconda3/lib/python3.7/site-packages/googletrans/gtoken.py\u001b[0m in \u001b[0;36m_update\u001b[0;34m(self)\u001b[0m\n\u001b[1;32m     60\u001b[0m \u001b[0;34m\u001b[0m\u001b[0m\n\u001b[1;32m     61\u001b[0m         \u001b[0;31m# this will be the same as python code after stripping out a reserved word 'var'\u001b[0m\u001b[0;34m\u001b[0m\u001b[0;34m\u001b[0m\u001b[0;34m\u001b[0m\u001b[0m\n\u001b[0;32m---> 62\u001b[0;31m         \u001b[0mcode\u001b[0m \u001b[0;34m=\u001b[0m \u001b[0mself\u001b[0m\u001b[0;34m.\u001b[0m\u001b[0mRE_TKK\u001b[0m\u001b[0;34m.\u001b[0m\u001b[0msearch\u001b[0m\u001b[0;34m(\u001b[0m\u001b[0mr\u001b[0m\u001b[0;34m.\u001b[0m\u001b[0mtext\u001b[0m\u001b[0;34m)\u001b[0m\u001b[0;34m.\u001b[0m\u001b[0mgroup\u001b[0m\u001b[0;34m(\u001b[0m\u001b[0;36m1\u001b[0m\u001b[0;34m)\u001b[0m\u001b[0;34m.\u001b[0m\u001b[0mreplace\u001b[0m\u001b[0;34m(\u001b[0m\u001b[0;34m'var '\u001b[0m\u001b[0;34m,\u001b[0m \u001b[0;34m''\u001b[0m\u001b[0;34m)\u001b[0m\u001b[0;34m\u001b[0m\u001b[0;34m\u001b[0m\u001b[0m\n\u001b[0m\u001b[1;32m     63\u001b[0m         \u001b[0;31m# unescape special ascii characters such like a \\x3d(=)\u001b[0m\u001b[0;34m\u001b[0m\u001b[0;34m\u001b[0m\u001b[0;34m\u001b[0m\u001b[0m\n\u001b[1;32m     64\u001b[0m         \u001b[0mcode\u001b[0m \u001b[0;34m=\u001b[0m \u001b[0mcode\u001b[0m\u001b[0;34m.\u001b[0m\u001b[0mencode\u001b[0m\u001b[0;34m(\u001b[0m\u001b[0;34m)\u001b[0m\u001b[0;34m.\u001b[0m\u001b[0mdecode\u001b[0m\u001b[0;34m(\u001b[0m\u001b[0;34m'unicode-escape'\u001b[0m\u001b[0;34m)\u001b[0m\u001b[0;34m\u001b[0m\u001b[0;34m\u001b[0m\u001b[0m\n",
      "\u001b[0;31mAttributeError\u001b[0m: 'NoneType' object has no attribute 'group'"
     ]
    }
   ],
   "source": [
    "from googletrans import Translator\n",
    "translator = Translator()\n",
    "text = 'Ano novo chinês em São Paulo tem preocupação com coronavírus'\n",
    "translation = translator.translate(text, dest='en')\n",
    "translation"
   ]
  },
  {
   "cell_type": "code",
   "execution_count": 9,
   "metadata": {},
   "outputs": [
    {
     "name": "stdout",
     "output_type": "stream",
     "text": [
      "7\n"
     ]
    }
   ],
   "source": [
    "# Total de scores do SenticNet que faltam ser reprocessados\n",
    "oneResult = colecao.count_documents({\"senticnet_processed\": True, 'senticnet_reprocessed': {'$eq':None}, 'polarity': {'$ne':None}})\n",
    "print(oneResult)"
   ]
  },
  {
   "cell_type": "code",
   "execution_count": 53,
   "metadata": {},
   "outputs": [
    {
     "name": "stdout",
     "output_type": "stream",
     "text": [
      "0\n"
     ]
    }
   ],
   "source": [
    "oneResult = tweets = colecao.count_documents({'text':{'$ne':None}, 'lang':'pt', 'score': {'$eq':None}, \"senticnet_processed\": {'$eq':None}, '$or':[{'geo_source':'place'}, {'geo_source':'user_location'}]})\n",
    "print(oneResult)"
   ]
  },
  {
   "cell_type": "code",
   "execution_count": 69,
   "metadata": {},
   "outputs": [],
   "source": [
    "from datetime import datetime\n",
    "import pandas as pd\n",
    "\n",
    "start = datetime(2020, 3, 31, 0, 0, 0)\n",
    "end = datetime(2020, 3, 31, 23, 59, 59)\n",
    "\n",
    "query = {'text':{'$ne':None}, 'translated_text':{'$ne':None}, 'lang':'pt', 'created_at': {'$lt': end, '$gte': start}, '$or':[{'geo_source':'place'}, {'geo_source':'user_location'}]}\n",
    "\n",
    "df = pd.DataFrame.from_records(colecao.find(query, {'state':1,'city':1,'lang':1,'geo_source':1,'score':1,'created_at':1,'text':1, 'translated_text': 1, '_id': 0}).sort('created_at'))"
   ]
  },
  {
   "cell_type": "code",
   "execution_count": 70,
   "metadata": {},
   "outputs": [
    {
     "data": {
      "text/html": [
       "<div>\n",
       "<style scoped>\n",
       "    .dataframe tbody tr th:only-of-type {\n",
       "        vertical-align: middle;\n",
       "    }\n",
       "\n",
       "    .dataframe tbody tr th {\n",
       "        vertical-align: top;\n",
       "    }\n",
       "\n",
       "    .dataframe thead th {\n",
       "        text-align: right;\n",
       "    }\n",
       "</style>\n",
       "<table border=\"1\" class=\"dataframe\">\n",
       "  <thead>\n",
       "    <tr style=\"text-align: right;\">\n",
       "      <th></th>\n",
       "      <th>created_at</th>\n",
       "      <th>geo_source</th>\n",
       "      <th>state</th>\n",
       "      <th>city</th>\n",
       "      <th>text</th>\n",
       "      <th>lang</th>\n",
       "      <th>score</th>\n",
       "      <th>translated_text</th>\n",
       "    </tr>\n",
       "  </thead>\n",
       "  <tbody>\n",
       "    <tr>\n",
       "      <th>0</th>\n",
       "      <td>2020-03-31 00:00:03</td>\n",
       "      <td>user_location</td>\n",
       "      <td>Maranhão</td>\n",
       "      <td>São Luís</td>\n",
       "      <td>RT @oatila: Na UnB e IMT/USP hoje :)\\nSó pra m...</td>\n",
       "      <td>pt</td>\n",
       "      <td>0.0</td>\n",
       "      <td>RT @oatila: At UnB and IMT / USP today :)&amp;#10;...</td>\n",
       "    </tr>\n",
       "    <tr>\n",
       "      <th>1</th>\n",
       "      <td>2020-03-31 00:00:19</td>\n",
       "      <td>user_location</td>\n",
       "      <td>Paraná</td>\n",
       "      <td>Curitiba</td>\n",
       "      <td>RT @lcoutinho: #1 O dever do jornalista é duvi...</td>\n",
       "      <td>pt</td>\n",
       "      <td>0.0</td>\n",
       "      <td>RT @lcoutinho: # 1 The journalist&amp;#39;s duty i...</td>\n",
       "    </tr>\n",
       "    <tr>\n",
       "      <th>2</th>\n",
       "      <td>2020-03-31 00:00:22</td>\n",
       "      <td>user_location</td>\n",
       "      <td>Piauí</td>\n",
       "      <td>Teresina</td>\n",
       "      <td>RT @dcucomics: gente o CANSAÇO que o bonner fa...</td>\n",
       "      <td>pt</td>\n",
       "      <td>0.0</td>\n",
       "      <td>RT @dcucomics: folks the CANSAÇO that bonner t...</td>\n",
       "    </tr>\n",
       "    <tr>\n",
       "      <th>3</th>\n",
       "      <td>2020-03-31 00:00:44</td>\n",
       "      <td>user_location</td>\n",
       "      <td>Rio de Janeiro</td>\n",
       "      <td>Rio de Janeiro</td>\n",
       "      <td>Em Madri, na #Espanha, abrimos duas unidades d...</td>\n",
       "      <td>pt</td>\n",
       "      <td>0.0</td>\n",
       "      <td>In Madrid, in #Espanha, we opened two temporar...</td>\n",
       "    </tr>\n",
       "    <tr>\n",
       "      <th>4</th>\n",
       "      <td>2020-03-31 00:00:52</td>\n",
       "      <td>user_location</td>\n",
       "      <td>Rio de Janeiro</td>\n",
       "      <td>Rio de Janeiro</td>\n",
       "      <td>@mairaamarinho Tão comparando com ajuda a víti...</td>\n",
       "      <td>pt</td>\n",
       "      <td>0.0</td>\n",
       "      <td>@mairaamarinho So comparing with help to victi...</td>\n",
       "    </tr>\n",
       "  </tbody>\n",
       "</table>\n",
       "</div>"
      ],
      "text/plain": [
       "           created_at     geo_source           state            city  \\\n",
       "0 2020-03-31 00:00:03  user_location        Maranhão        São Luís   \n",
       "1 2020-03-31 00:00:19  user_location          Paraná        Curitiba   \n",
       "2 2020-03-31 00:00:22  user_location           Piauí        Teresina   \n",
       "3 2020-03-31 00:00:44  user_location  Rio de Janeiro  Rio de Janeiro   \n",
       "4 2020-03-31 00:00:52  user_location  Rio de Janeiro  Rio de Janeiro   \n",
       "\n",
       "                                                text lang  score  \\\n",
       "0  RT @oatila: Na UnB e IMT/USP hoje :)\\nSó pra m...   pt    0.0   \n",
       "1  RT @lcoutinho: #1 O dever do jornalista é duvi...   pt    0.0   \n",
       "2  RT @dcucomics: gente o CANSAÇO que o bonner fa...   pt    0.0   \n",
       "3  Em Madri, na #Espanha, abrimos duas unidades d...   pt    0.0   \n",
       "4  @mairaamarinho Tão comparando com ajuda a víti...   pt    0.0   \n",
       "\n",
       "                                     translated_text  \n",
       "0  RT @oatila: At UnB and IMT / USP today :)&#10;...  \n",
       "1  RT @lcoutinho: # 1 The journalist&#39;s duty i...  \n",
       "2  RT @dcucomics: folks the CANSAÇO that bonner t...  \n",
       "3  In Madrid, in #Espanha, we opened two temporar...  \n",
       "4  @mairaamarinho So comparing with help to victi...  "
      ]
     },
     "execution_count": 70,
     "metadata": {},
     "output_type": "execute_result"
    }
   ],
   "source": [
    "df.head()"
   ]
  },
  {
   "cell_type": "code",
   "execution_count": 15,
   "metadata": {},
   "outputs": [],
   "source": [
    "from datetime import datetime\n",
    "\n",
    "start = datetime(2020, 3, 31, 0, 0, 0)\n",
    "end = datetime(2020, 3, 31, 23, 59, 59)\n",
    "\n",
    "df = pd.DataFrame.from_records(colecao.find({'text':{'$ne':None}, 'score':{'$ne':0}, 'lang':'pt', 'created_at': {'$lt': end, '$gte': start}, '$or':[{'geo_source':'place'}, {'geo_source':'user_location'}]}, {'tweet_id':1,'lang':1,'text':1,'score':1, 'translated_text':1, '_id': 0}))"
   ]
  },
  {
   "cell_type": "code",
   "execution_count": 6,
   "metadata": {},
   "outputs": [
    {
     "data": {
      "text/plain": [
       "3712"
      ]
     },
     "execution_count": 6,
     "metadata": {},
     "output_type": "execute_result"
    }
   ],
   "source": [
    "colecao.count_documents({'text':{'$ne':None}, 'score':{'$ne':0}, 'lang':'pt', 'created_at': {'$lt': end, '$gte': start}, '$or':[{'geo_source':'place'}, {'geo_source':'user_location'}]}) "
   ]
  }
 ],
 "metadata": {
  "kernelspec": {
   "display_name": "Python 3",
   "language": "python",
   "name": "python3"
  },
  "language_info": {
   "codemirror_mode": {
    "name": "ipython",
    "version": 3
   },
   "file_extension": ".py",
   "mimetype": "text/x-python",
   "name": "python",
   "nbconvert_exporter": "python",
   "pygments_lexer": "ipython3",
   "version": "3.7.6"
  }
 },
 "nbformat": 4,
 "nbformat_minor": 4
}
