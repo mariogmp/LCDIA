{
 "cells": [
  {
   "cell_type": "code",
   "execution_count": 69,
   "metadata": {},
   "outputs": [],
   "source": [
    "# Criando estrutura do banco de dados\n",
    "from pymongo import MongoClient\n",
    "\n",
    "# Conexão com o servidor do MongoDB\n",
    "clienteDB = MongoClient('localhost', 27017)\n",
    "\n",
    "# Conexão com a base de dados do mongoDB\n",
    "banco = clienteDB.SpedDB\n",
    "\n",
    "# Coleção onde serão inseridos os dados\n",
    "colecao = banco.tweets_brasil\n",
    "colecao_senticnet = banco.senticnet"
   ]
  },
  {
   "cell_type": "code",
   "execution_count": 29,
   "metadata": {},
   "outputs": [
    {
     "name": "stderr",
     "output_type": "stream",
     "text": [
      "/home/mario/anaconda3/lib/python3.7/site-packages/ipykernel_launcher.py:1: DeprecationWarning: collection_names is deprecated. Use list_collection_names instead.\n",
      "  \"\"\"Entry point for launching an IPython kernel.\n"
     ]
    },
    {
     "data": {
      "text/plain": [
       "['tweets_brasil', 'tweets', 'tweetsteste', 'tweets_brasil_test']"
      ]
     },
     "execution_count": 29,
     "metadata": {},
     "output_type": "execute_result"
    }
   ],
   "source": [
    "banco.collection_names()"
   ]
  },
  {
   "cell_type": "code",
   "execution_count": 30,
   "metadata": {},
   "outputs": [
    {
     "name": "stdout",
     "output_type": "stream",
     "text": [
      "Database: SpedDB\n",
      "Objects: 6198569\n",
      "Collections: 4\n",
      "Size: 1985219.216796875 MB\n"
     ]
    }
   ],
   "source": [
    "# Tamanho da colecao\n",
    "call = banco.command(\"dbstats\")\n",
    "database = call['db']\n",
    "datasize = call['dataSize'] / 1024\n",
    "objects = call['objects']\n",
    "colletions = call['collections']\n",
    "\n",
    "#print('\\n')\n",
    "print('Database:', str(database))\n",
    "print('Objects:', str(objects))\n",
    "print('Collections:', str(collections))\n",
    "print('Size:', str(datasize) + ' MB')"
   ]
  },
  {
   "cell_type": "code",
   "execution_count": 3,
   "metadata": {},
   "outputs": [
    {
     "name": "stderr",
     "output_type": "stream",
     "text": [
      "/home/mario/anaconda3/lib/python3.7/site-packages/ipykernel_launcher.py:1: DeprecationWarning: update is deprecated. Use replace_one, update_one or update_many instead.\n",
      "  \"\"\"Entry point for launching an IPython kernel.\n"
     ]
    }
   ],
   "source": [
    "colecao.update({}, {'$unset': {'period':1}}, multi=True);"
   ]
  },
  {
   "cell_type": "code",
   "execution_count": 2,
   "metadata": {
    "scrolled": true
   },
   "outputs": [
    {
     "name": "stdout",
     "output_type": "stream",
     "text": [
      "{'_id': ObjectId('5f501410da596ab0c7238d33'), 'tweet_id': 1223411745500188672, 'created_at': datetime.datetime(2020, 2, 1, 1, 4, 24), 'user_id': '3266862206', 'geo_source': 'user_location', 'state': 'São Paulo', 'city': 'Santos', 'text': 'RT @choogarrie: Filipino hospitality is a kind of hospitality that will bring us to the hospital. #coronavirus', 'score': 0.0, 'lang': 'en', 'period': '2020_02_01'}\n"
     ]
    }
   ],
   "source": [
    "oneResult = colecao.find_one({\"tweet_id\": 1223411745500188672})\n",
    "print(oneResult)"
   ]
  },
  {
   "cell_type": "code",
   "execution_count": 26,
   "metadata": {},
   "outputs": [
    {
     "name": "stdout",
     "output_type": "stream",
     "text": [
      "{'_id': ObjectId('5f516a87f36a535f7d870497'), 'tweet_id': 1223401567224725506, 'created_at': datetime.datetime(2020, 2, 1, 0, 23, 57), 'geo_source': 'place', 'state': 'Paraná', 'city': 'Curitiba', 'text': '@CGTNOfficial Confirmed #coronavirus cases in #China rises over 10,000 as of the end of Jan. 31, according to the National Health Commission Saturday:\\n\\n- 11,821 confirmed cases, including 13 in HK, 7 in Macao, and 10 in Taiwan \\n\\n- 259 deaths \\n\\n- 17,988 suspected cases \\n\\n- 243 discharged', 'lang': 'en', 'score': -0.2263}\n"
     ]
    }
   ],
   "source": [
    "oneResult = colecao.find_one({\"tweet_id\": 1223401567224725506})\n",
    "print(oneResult)"
   ]
  },
  {
   "cell_type": "code",
   "execution_count": 8,
   "metadata": {},
   "outputs": [
    {
     "name": "stdout",
     "output_type": "stream",
     "text": [
      "1897145\n"
     ]
    }
   ],
   "source": [
    "# Total de tweets considerados no trabalho\n",
    "oneResult = colecao.count_documents({'text': {'$ne':None}, '$or':[{'geo_source':'place'}, {'geo_source':'user_location'}]})\n",
    "print(oneResult)"
   ]
  },
  {
   "cell_type": "code",
   "execution_count": 9,
   "metadata": {},
   "outputs": [
    {
     "name": "stdout",
     "output_type": "stream",
     "text": [
      "1897145\n"
     ]
    }
   ],
   "source": [
    "# Total de scores do Vader calculados\n",
    "oneResult = colecao.count_documents({'text': {'$ne':None}, 'score': {'$ne':None}, '$or':[{'geo_source':'place'}, {'geo_source':'user_location'}]})\n",
    "print(oneResult)"
   ]
  },
  {
   "cell_type": "code",
   "execution_count": 33,
   "metadata": {},
   "outputs": [
    {
     "name": "stdout",
     "output_type": "stream",
     "text": [
      "{'_id': ObjectId('5f501410da596ab0c7238d30'), 'tweet_id': 1223401567224725506, 'created_at': datetime.datetime(2020, 2, 1, 0, 23, 57), 'user_id': '128917051', 'geo_source': 'place', 'state': 'Paraná', 'city': 'Curitiba', 'text': '@CGTNOfficial Confirmed #coronavirus cases in #China rises over 10,000 as of the end of Jan. 31, according to the National Health Commission Saturday:\\n\\n- 11,821 confirmed cases, including 13 in HK, 7 in Macao, and 10 in Taiwan \\n\\n- 259 deaths \\n\\n- 17,988 suspected cases \\n\\n- 243 discharged', 'score': -0.2263, 'lang': 'en', 'polarity': None}\n"
     ]
    }
   ],
   "source": [
    "oneResult = colecao.find_one({'text': {'$ne':None}, 'score': {'$ne':None}, '$or':[{'geo_source':'place'}, {'geo_source':'user_location'}]})\n",
    "print(oneResult)"
   ]
  },
  {
   "cell_type": "code",
   "execution_count": 68,
   "metadata": {
    "scrolled": true
   },
   "outputs": [
    {
     "name": "stdout",
     "output_type": "stream",
     "text": [
      "6186812\n"
     ]
    }
   ],
   "source": [
    "oneResult = colecao.count_documents({})\n",
    "print(oneResult)"
   ]
  },
  {
   "cell_type": "code",
   "execution_count": 69,
   "metadata": {},
   "outputs": [
    {
     "name": "stdout",
     "output_type": "stream",
     "text": [
      "0\n"
     ]
    }
   ],
   "source": [
    "oneResult = colecao.count_documents({\"geo_source\": None})\n",
    "print(oneResult)"
   ]
  },
  {
   "cell_type": "code",
   "execution_count": 41,
   "metadata": {},
   "outputs": [
    {
     "name": "stdout",
     "output_type": "stream",
     "text": [
      "1155310\n"
     ]
    }
   ],
   "source": [
    "oneResult = colecao.count_documents({\"lang\": None})\n",
    "print(oneResult)"
   ]
  },
  {
   "cell_type": "code",
   "execution_count": 94,
   "metadata": {},
   "outputs": [
    {
     "name": "stdout",
     "output_type": "stream",
     "text": [
      "{'_id': ObjectId('5f501410da596ab0c72390da'), 'tweet_id': 1223914556868759554, 'created_at': datetime.datetime(2020, 2, 2, 10, 22, 24), 'user_id': '28878672', 'geo_source': 'user_location', 'state': 'Minas Gerais', 'city': 'Varginha', 'text': 'RT @DCM_online: Ano novo chinês em São Paulo tem preocupação com coronavírus https://t.co/BugJPg81Hl', 'score': -0.4215, 'lang': 'pt', 'period': '2020_02_02'}\n"
     ]
    }
   ],
   "source": [
    "oneResult = colecao.find_one({\"lang\": 'pt'})\n",
    "print(oneResult)"
   ]
  },
  {
   "cell_type": "code",
   "execution_count": 23,
   "metadata": {},
   "outputs": [
    {
     "name": "stdout",
     "output_type": "stream",
     "text": [
      "5031502\n"
     ]
    }
   ],
   "source": [
    "oneResult = colecao.count_documents({\"text\": {'$ne':None}})\n",
    "print(oneResult)"
   ]
  },
  {
   "cell_type": "code",
   "execution_count": 2,
   "metadata": {},
   "outputs": [
    {
     "name": "stdout",
     "output_type": "stream",
     "text": [
      "520651\n"
     ]
    }
   ],
   "source": [
    "oneResult = colecao.count_documents({\"lang\": 'en'})\n",
    "print(oneResult)"
   ]
  },
  {
   "cell_type": "code",
   "execution_count": 4,
   "metadata": {},
   "outputs": [
    {
     "name": "stdout",
     "output_type": "stream",
     "text": [
      "5666161\n"
     ]
    }
   ],
   "source": [
    "oneResult = colecao.count_documents({\"score\": {'$eq':None}})\n",
    "print(oneResult)"
   ]
  },
  {
   "cell_type": "code",
   "execution_count": 173,
   "metadata": {},
   "outputs": [
    {
     "name": "stdout",
     "output_type": "stream",
     "text": [
      "4399008\n"
     ]
    }
   ],
   "source": [
    "oneResult = colecao.count_documents({\"text\": {'$ne':None}, \"score\": {'$eq':None}})\n",
    "print(oneResult)"
   ]
  },
  {
   "cell_type": "code",
   "execution_count": 268,
   "metadata": {},
   "outputs": [
    {
     "name": "stdout",
     "output_type": "stream",
     "text": [
      "577877\n"
     ]
    }
   ],
   "source": [
    "oneResult = colecao.count_documents({\"text\": {'$ne':None}, \"score\": {'$eq':None}, \"lang\": 'pt'})\n",
    "print(oneResult)"
   ]
  },
  {
   "cell_type": "code",
   "execution_count": 269,
   "metadata": {},
   "outputs": [
    {
     "name": "stdout",
     "output_type": "stream",
     "text": [
      "{'_id': ObjectId('5f5014b4da596ab0c7297778'), 'tweet_id': 1232828365708636161, 'created_at': datetime.datetime(2020, 2, 27, 0, 42, 41), 'user_id': '705089630765449219', 'geo_source': 'tweet_text', 'state': 'Rio de Janeiro', 'city': 'Rio de Janeiro', 'text': 'RT @porrarandas: Pq se depender da saúde pública brasileira... Todos terão acesso a tratamento gratuita e caso necessário será feito uma ca…', 'score': None, 'lang': 'pt', 'period': '2020_02_27'}\n"
     ]
    }
   ],
   "source": [
    "oneResult = colecao.find_one({\"text\": {'$ne':None}, \"score\": {'$eq':None}, \"lang\": 'pt'})\n",
    "print(oneResult)"
   ]
  },
  {
   "cell_type": "code",
   "execution_count": 242,
   "metadata": {},
   "outputs": [
    {
     "name": "stdout",
     "output_type": "stream",
     "text": [
      "0\n"
     ]
    }
   ],
   "source": [
    "oneResult = colecao.count_documents({\"text\": {'$ne':None}, \"score\": {'$eq':None}, \"geo_source\": 'place'})\n",
    "print(oneResult)"
   ]
  },
  {
   "cell_type": "code",
   "execution_count": 212,
   "metadata": {
    "scrolled": true
   },
   "outputs": [
    {
     "data": {
      "text/plain": [
       "115418"
      ]
     },
     "execution_count": 212,
     "metadata": {},
     "output_type": "execute_result"
    }
   ],
   "source": [
    "--115418"
   ]
  },
  {
   "cell_type": "code",
   "execution_count": 267,
   "metadata": {},
   "outputs": [
    {
     "name": "stdout",
     "output_type": "stream",
     "text": [
      "0\n"
     ]
    }
   ],
   "source": [
    "oneResult = colecao.count_documents({\"text\": {'$ne':None}, \"score\": {'$eq':None}, \"geo_source\": 'user_location'})\n",
    "print(oneResult)"
   ]
  },
  {
   "cell_type": "code",
   "execution_count": 198,
   "metadata": {},
   "outputs": [
    {
     "data": {
      "text/plain": [
       "1479994"
      ]
     },
     "execution_count": 198,
     "metadata": {},
     "output_type": "execute_result"
    }
   ],
   "source": [
    "--1463540 (554 por minuto)\n",
    "--1479994"
   ]
  },
  {
   "cell_type": "code",
   "execution_count": 133,
   "metadata": {},
   "outputs": [],
   "source": [
    "from googletrans import Translator\n",
    "\n",
    "translator = Translator()\n",
    "\n",
    "def translate_tweet_text(tweet):\n",
    "        \n",
    "    text = tweet['text']   \n",
    "    from_lang = tweet['lang']\n",
    "    \n",
    "    # Verificando se o texto do tweet já está escrito na língua inglesa\n",
    "    if (from_lang == 'en') or (from_lang == 'en-US'):\n",
    "        translation = text\n",
    "    else:\n",
    "        t = translator.translate(text, dest='en')\n",
    "\n",
    "    return t.text"
   ]
  },
  {
   "cell_type": "code",
   "execution_count": 65,
   "metadata": {},
   "outputs": [],
   "source": [
    "# Ferramenta VaderSentiment\n",
    "from vaderSentiment.vaderSentiment import SentimentIntensityAnalyzer\n",
    "import time\n",
    "\n",
    "def calculate_scores(tweets):\n",
    "\n",
    "    for tweet in tweets:\n",
    "        \n",
    "        inicio_total = time.time()\n",
    "        \n",
    "        inicio = time.time()\n",
    "        # Traduzindo o texto para o inglês\n",
    "        translated_text = translate_tweet_text(tweet)\n",
    "        fim = time.time()\n",
    "        print(fim-inicio)\n",
    "        \n",
    "        # Efetuando o cálculo do score de sentimento para o texto\n",
    "        inicio = time.time()\n",
    "        analyzer = SentimentIntensityAnalyzer()\n",
    "        vs = analyzer.polarity_scores(translated_text)\n",
    "        fim = time.time()\n",
    "        print(fim-inicio)\n",
    "        \n",
    "        # Recuperando o score e adicionando em uma nova célula do dataframe\n",
    "        inicio = time.time()\n",
    "        colecao.update_one({\"tweet_id\": tweet['tweet_id']}, {'$set':{\"score\": vs['compound']}})   \n",
    "        fim = time.time()\n",
    "        print(fim-inicio)\n",
    "        \n",
    "        fim_total = time.time()\n",
    "        print(\"total: \"+str(fim_total - inicio_total))"
   ]
  },
  {
   "cell_type": "code",
   "execution_count": 153,
   "metadata": {},
   "outputs": [],
   "source": [
    "tweets_ne_en = colecao.find({\"text\": {'$ne':None}, \"score\": {'$eq':None}})"
   ]
  },
  {
   "cell_type": "code",
   "execution_count": 166,
   "metadata": {},
   "outputs": [
    {
     "name": "stdout",
     "output_type": "stream",
     "text": [
      "0\n",
      "2\n",
      "4\n"
     ]
    }
   ],
   "source": [
    "for item in range(0, 5, 1):\n",
    "    print(item)"
   ]
  },
  {
   "cell_type": "code",
   "execution_count": 149,
   "metadata": {},
   "outputs": [
    {
     "name": "stdout",
     "output_type": "stream",
     "text": [
      "1.0145576000213623\n",
      "0.04079842567443848\n",
      "0.0014655590057373047\n",
      "total: 1.057250738143921\n"
     ]
    }
   ],
   "source": [
    "tweet = colecao.find_one({\"text\": {'$ne':None}, \"score\": {'$eq':None}})\n",
    "\n",
    "tweets = []\n",
    "tweets.append(tweet)\n",
    "\n",
    "calculate_scores(tweets)"
   ]
  },
  {
   "cell_type": "markdown",
   "metadata": {},
   "source": [
    "Teste de performance com o googletrans"
   ]
  },
  {
   "cell_type": "code",
   "execution_count": 99,
   "metadata": {},
   "outputs": [
    {
     "name": "stdout",
     "output_type": "stream",
     "text": [
      "1.0278315544128418\n"
     ]
    }
   ],
   "source": [
    "inicio = time.time()\n",
    "translator = Translator()\n",
    "text = 'Ano novo chinês em São Paulo tem preocupação com coronavírus'\n",
    "translation = translator.translate(text, dest='en')\n",
    "fim = time.time()\n",
    "print(fim - inicio)"
   ]
  },
  {
   "cell_type": "code",
   "execution_count": 122,
   "metadata": {},
   "outputs": [
    {
     "name": "stdout",
     "output_type": "stream",
     "text": [
      "0.01494455337524414\n",
      "1.1009504795074463\n",
      "1.1180510520935059\n"
     ]
    }
   ],
   "source": [
    "inicio_total = time.time()\n",
    "\n",
    "inicio = time.time()\n",
    "translator = Translator()\n",
    "fim = time.time()\n",
    "print(fim - inicio)\n",
    "\n",
    "inicio = time.time()\n",
    "text = 'Ano novo chinês em São Paulo tem preocupação com coronavírus'\n",
    "translation = translator.translate(text, dest='en')\n",
    "fim = time.time()\n",
    "print(fim - inicio)\n",
    "\n",
    "fim_total = time.time()\n",
    "print(fim_total - inicio_total)"
   ]
  },
  {
   "cell_type": "code",
   "execution_count": 123,
   "metadata": {},
   "outputs": [
    {
     "name": "stdout",
     "output_type": "stream",
     "text": [
      "0.017850160598754883\n",
      "0.9355518817901611\n",
      "0.9540419578552246\n"
     ]
    }
   ],
   "source": [
    "inicio_total = time.time()\n",
    "\n",
    "inicio = time.time()\n",
    "translator = Translator()\n",
    "fim = time.time()\n",
    "print(fim - inicio)\n",
    "\n",
    "inicio = time.time()\n",
    "text = 'Ano novo chinês em São Paulo tem preocupação com coronavírus'\n",
    "translation = translator.translate(text, src='pt', dest='en')\n",
    "fim = time.time()\n",
    "print(fim - inicio)\n",
    "\n",
    "fim_total = time.time()\n",
    "print(fim_total - inicio_total)"
   ]
  },
  {
   "cell_type": "code",
   "execution_count": 104,
   "metadata": {},
   "outputs": [
    {
     "name": "stdout",
     "output_type": "stream",
     "text": [
      "10.18322229385376\n"
     ]
    }
   ],
   "source": [
    "inicio = time.time()\n",
    "text = 'Ano novo chinês em São Paulo tem preocupação com coronavírus'\n",
    "translator = Translator()\n",
    "translation = translator.translate(text, dest='en')\n",
    "translator = Translator()\n",
    "translation = translator.translate(text, dest='en')\n",
    "translator = Translator()\n",
    "translation = translator.translate(text, dest='en')\n",
    "translator = Translator()\n",
    "translation = translator.translate(text, dest='en')\n",
    "translator = Translator()\n",
    "translation = translator.translate(text, dest='en')\n",
    "translator = Translator()\n",
    "translation = translator.translate(text, dest='en')\n",
    "translator = Translator()\n",
    "translation = translator.translate(text, dest='en')\n",
    "translator = Translator()\n",
    "translation = translator.translate(text, dest='en')\n",
    "translator = Translator()\n",
    "translation = translator.translate(text, dest='en')\n",
    "translator = Translator()\n",
    "translation = translator.translate(text, dest='en')\n",
    "fim = time.time()\n",
    "print(fim - inicio)"
   ]
  },
  {
   "cell_type": "code",
   "execution_count": 126,
   "metadata": {},
   "outputs": [
    {
     "name": "stdout",
     "output_type": "stream",
     "text": [
      "6.202183485031128\n"
     ]
    }
   ],
   "source": [
    "inicio = time.time()\n",
    "translator = Translator()\n",
    "\n",
    "text = 'Ano novo chinês em São Paulo tem preocupação com coronavírus'\n",
    "translation = translator.translate(text, dest='en')\n",
    "translation = translator.translate(text, dest='en')\n",
    "translation = translator.translate(text, dest='en')\n",
    "translation = translator.translate(text, dest='en')\n",
    "translation = translator.translate(text, dest='en')\n",
    "translation = translator.translate(text, dest='en')\n",
    "translation = translator.translate(text, dest='en')\n",
    "translation = translator.translate(text, dest='en')\n",
    "translation = translator.translate(text, dest='en')\n",
    "translation = translator.translate(text, dest='en')\n",
    "translation = translator.translate(text, dest='en')\n",
    "fim = time.time()\n",
    "print(fim - inicio)"
   ]
  },
  {
   "cell_type": "code",
   "execution_count": 127,
   "metadata": {},
   "outputs": [
    {
     "name": "stdout",
     "output_type": "stream",
     "text": [
      "5.840054750442505\n"
     ]
    }
   ],
   "source": [
    "inicio = time.time()\n",
    "translator = Translator()\n",
    "text = 'Ano novo chinês em São Paulo tem preocupação com coronavírus'\n",
    "translations = translator.translate([text,text,text,text,text,text,text,text,text,text], dest='en')\n",
    "#for translation in translations:\n",
    "#    print(translation.origin, ' -> ', translation.text)\n",
    "fim = time.time()\n",
    "print(fim - inicio)"
   ]
  },
  {
   "cell_type": "code",
   "execution_count": 14,
   "metadata": {},
   "outputs": [
    {
     "data": {
      "text/plain": [
       "{'_id_': {'v': 2, 'key': [('_id', 1)], 'ns': 'SpedDB.tweets_brasil'},\n",
       " 'tweet_id_1': {'v': 2,\n",
       "  'key': [('tweet_id', 1)],\n",
       "  'ns': 'SpedDB.tweets_brasil'},\n",
       " 'state_1': {'v': 2, 'key': [('state', 1)], 'ns': 'SpedDB.tweets_brasil'},\n",
       " 'city_1': {'v': 2, 'key': [('city', 1)], 'ns': 'SpedDB.tweets_brasil'},\n",
       " 'lang_1': {'v': 2, 'key': [('lang', 1)], 'ns': 'SpedDB.tweets_brasil'},\n",
       " 'geo_source_1': {'v': 2,\n",
       "  'key': [('geo_source', 1)],\n",
       "  'ns': 'SpedDB.tweets_brasil'},\n",
       " 'period_1': {'v': 2, 'key': [('period', 1)], 'ns': 'SpedDB.tweets_brasil'}}"
      ]
     },
     "execution_count": 14,
     "metadata": {},
     "output_type": "execute_result"
    }
   ],
   "source": [
    "--4505295\n",
    "\n",
    "colecao.index_information()"
   ]
  },
  {
   "cell_type": "code",
   "execution_count": null,
   "metadata": {},
   "outputs": [],
   "source": []
  },
  {
   "cell_type": "code",
   "execution_count": null,
   "metadata": {},
   "outputs": [],
   "source": [
    "total = colecao.count_documents({\"text\": {'$ne':None}})\n",
    "print('Total: '+str(total))"
   ]
  },
  {
   "cell_type": "code",
   "execution_count": 38,
   "metadata": {},
   "outputs": [],
   "source": [
    "def search_text(text):\n",
    "    res = colecao.count_documents({'text':{'$regex':text, '$options':'i'}})\n",
    "    print(text + ': '+str(res))"
   ]
  },
  {
   "cell_type": "code",
   "execution_count": 42,
   "metadata": {},
   "outputs": [
    {
     "name": "stdout",
     "output_type": "stream",
     "text": [
      "bolsonaro: 158092\n",
      "lula: 11747\n",
      "dilma: 2592\n",
      "weintraub: 1154\n",
      "guedes: 5115\n",
      "impeachment: 4171\n",
      "rodrigo maia: 2573\n",
      "maia: 15874\n",
      "mandetta: 22638\n",
      "ciro: 3293\n",
      "doria: 15147\n",
      "globo: 28388\n",
      "drauzio: 2982\n",
      "varella: 2783\n",
      "stf: 8481\n",
      "bozo: 5427\n",
      "crivella: 1047\n",
      "gripezinha: 6469\n",
      "pronunciamento: 3340\n",
      "capitão corona: 6506\n",
      "china: 137514\n",
      "PT: 117605\n",
      "PSL: 2826\n",
      "aliança pelo brasil: 51\n",
      "cloroquina: 42935\n",
      "trump: 76072\n"
     ]
    }
   ],
   "source": [
    "search_text('bolsonaro')\n",
    "search_text('lula')\n",
    "search_text('dilma')\n",
    "search_text('weintraub')\n",
    "search_text('guedes')\n",
    "search_text('impeachment')\n",
    "search_text('rodrigo maia')\n",
    "search_text('maia')\n",
    "search_text('mandetta')\n",
    "search_text('ciro')\n",
    "search_text('doria')\n",
    "search_text('globo')\n",
    "search_text('drauzio')\n",
    "search_text('varella')\n",
    "search_text('stf')\n",
    "search_text('bozo')\n",
    "search_text('crivella')\n",
    "search_text('gripezinha')\n",
    "search_text('pronunciamento')\n",
    "search_text('capitão corona')\n",
    "search_text('china')\n",
    "search_text('PT')\n",
    "search_text('PSL')\n",
    "search_text('aliança pelo brasil')\n",
    "search_text('cloroquina')\n",
    "search_text('trump')"
   ]
  },
  {
   "cell_type": "code",
   "execution_count": 41,
   "metadata": {},
   "outputs": [
    {
     "name": "stdout",
     "output_type": "stream",
     "text": [
      "fechadocombolsonaro: 1302\n",
      "unidoscombolsonaro: 173\n",
      "lulanacadeia: 110\n",
      "foramaia: 1758\n",
      "obrasilnaovaiparar: 32\n",
      "bolsonarogenocida: 2209\n",
      "ciroacertou: 0\n",
      "vamospararobrasil: 28\n",
      "ditaduranuncamais: 100\n",
      "coronavoucher: 134\n",
      "nasruas5deabril: 70\n",
      "desculpejairmaseuvou: 237\n",
      "luladoria: 59\n",
      "pagalogobolsonaro: 128\n",
      "desliguedaglobo: 35\n",
      "pronunciamento: 3340\n",
      "bolsonaroacabou: 654\n",
      "globolixo: 2013\n",
      "boicoteaglobo: 2\n",
      "bolsonaroinfectado: 450\n",
      "bolsonaroday: 1147\n",
      "happybirthdaybolsonaro: 12\n",
      "obrasiltemquepararbolsonaro: 276\n"
     ]
    }
   ],
   "source": [
    "search_text('fechadocombolsonaro')\n",
    "search_text('unidoscombolsonaro')\n",
    "search_text('lulanacadeia')\n",
    "search_text('foramaia')\n",
    "search_text('obrasilnaovaiparar')\n",
    "search_text('bolsonarogenocida')\n",
    "search_text('ciroacertou')\n",
    "search_text('vamospararobrasil')\n",
    "search_text('ditaduranuncamais')\n",
    "search_text('coronavoucher')\n",
    "search_text('nasruas5deabril')\n",
    "search_text('desculpejairmaseuvou')\n",
    "search_text('luladoria')\n",
    "search_text('pagalogobolsonaro')\n",
    "search_text('desliguedaglobo')\n",
    "search_text('pronunciamento')\n",
    "search_text('bolsonaroacabou')\n",
    "search_text('globolixo')\n",
    "search_text('boicoteaglobo')\n",
    "search_text('bolsonaroinfectado')\n",
    "search_text('bolsonaroday')\n",
    "search_text('happybirthdaybolsonaro')\n",
    "search_text('obrasiltemquepararbolsonaro')"
   ]
  },
  {
   "cell_type": "code",
   "execution_count": null,
   "metadata": {},
   "outputs": [],
   "source": []
  },
  {
   "cell_type": "markdown",
   "metadata": {},
   "source": [
    "### Processamento com SenticNet"
   ]
  },
  {
   "cell_type": "code",
   "execution_count": 66,
   "metadata": {},
   "outputs": [
    {
     "name": "stdout",
     "output_type": "stream",
     "text": [
      "1897145\n"
     ]
    }
   ],
   "source": [
    "# Total de scores do SenticNet processados\n",
    "oneResult = colecao.count_documents({'senticnet_processed':True})\n",
    "print(oneResult) ##1251332 18:06"
   ]
  },
  {
   "cell_type": "code",
   "execution_count": 67,
   "metadata": {},
   "outputs": [
    {
     "name": "stdout",
     "output_type": "stream",
     "text": [
      "741638\n"
     ]
    }
   ],
   "source": [
    "# Total de scores do SenticNet processados e calculados\n",
    "oneResult = colecao.count_documents({'senticnet_processed':True, 'polarity':{'$ne':None}})\n",
    "print(oneResult) ##66246"
   ]
  },
  {
   "cell_type": "code",
   "execution_count": 68,
   "metadata": {},
   "outputs": [
    {
     "name": "stdout",
     "output_type": "stream",
     "text": [
      "225126\n"
     ]
    }
   ],
   "source": [
    "# Dados com resultados distintos\n",
    "res1 = colecao.count_documents({'polarity':{'$ne':None}, 'score':{'$gt':0}, 'polarity':{'$lt':0}})\n",
    "res2 = colecao.count_documents({'polarity':{'$ne':None}, 'score':{'$lt':0}, 'polarity':{'$gt':0}})\n",
    "print(str(res1+res2))"
   ]
  },
  {
   "cell_type": "code",
   "execution_count": null,
   "metadata": {},
   "outputs": [],
   "source": []
  },
  {
   "cell_type": "code",
   "execution_count": 101,
   "metadata": {},
   "outputs": [
    {
     "name": "stdout",
     "output_type": "stream",
     "text": [
      "{'_id': ObjectId('5f501411da596ab0c7239179'), 'tweet_id': 1224038272260870149, 'created_at': datetime.datetime(2020, 2, 2, 18, 34), 'user_id': '1345387975', 'geo_source': 'place', 'state': 'Bahia', 'city': 'Juazeiro', 'text': '@schistadf sim mulher o coronavirus tem é medo', 'score': 0.4019, 'lang': 'pt', 'polarity': 0.19560000000000002, 'senticnet_processed': True}\n"
     ]
    }
   ],
   "source": [
    "oneResult = colecao.find_one({'polarity':{'$ne':None}, 'senticnet_processed':True})\n",
    "print(oneResult)"
   ]
  },
  {
   "cell_type": "code",
   "execution_count": 133,
   "metadata": {},
   "outputs": [
    {
     "name": "stdout",
     "output_type": "stream",
     "text": [
      "{'_id': ObjectId('5f501413da596ab0c723a643'), 'tweet_id': 1224041793672699904, 'created_at': datetime.datetime(2020, 2, 2, 18, 47, 59), 'user_id': '1178485399603298304', 'geo_source': 'place', 'state': 'Rio de Janeiro', 'city': 'Rio de Janeiro', 'text': 'Coronavirus: Thailand registers treatment success with drug cocktail https://t.co/GDcEzL1V2b', 'score': 0.5719, 'lang': 'en', 'polarity': -0.0034285714285714236, 'senticnet_processed': True}\n"
     ]
    }
   ],
   "source": [
    "oneResult = colecao.find_one({'polarity':{'$ne':None}, 'senticnet_processed':True, 'score':{'$gt':0}, 'polarity':{'$lt':0}})\n",
    "print(oneResult)"
   ]
  },
  {
   "cell_type": "code",
   "execution_count": 134,
   "metadata": {},
   "outputs": [
    {
     "name": "stdout",
     "output_type": "stream",
     "text": [
      "{'_id': ObjectId('5f501411da596ab0c723932d'), 'tweet_id': 1224008746541731840, 'created_at': datetime.datetime(2020, 2, 2, 16, 36, 40), 'user_id': '811857528', 'geo_source': 'place', 'state': 'Goiás', 'city': 'Caldas Novas', 'text': 'meu deus que ÓDIO https://t.co/0b8g9T7lPe', 'score': -0.516, 'lang': 'pt', 'polarity': 0.017000000000000015, 'senticnet_processed': True}\n"
     ]
    }
   ],
   "source": [
    "oneResult = colecao.find_one({'polarity':{'$ne':None}, 'senticnet_processed':True, 'score':{'$lt':0}, 'polarity':{'$gt':0}})\n",
    "print(oneResult)"
   ]
  },
  {
   "cell_type": "code",
   "execution_count": 65,
   "metadata": {},
   "outputs": [
    {
     "name": "stdout",
     "output_type": "stream",
     "text": [
      "0\n"
     ]
    }
   ],
   "source": [
    "# Total de scores do SenticNet não calculados\n",
    "oneResult = colecao.count_documents({'text':{'$ne':None}, \"senticnet_processed\": {'$eq':None}, 'score': {'$ne':None}, '$or':[{'geo_source':'place'}, {'geo_source':'user_location'}]})\n",
    "print(oneResult)"
   ]
  },
  {
   "cell_type": "code",
   "execution_count": 140,
   "metadata": {},
   "outputs": [
    {
     "name": "stdout",
     "output_type": "stream",
     "text": [
      "{'_id': ObjectId('5f93fd18ee98c2cba7c62d01'), 'word': 'year', 'polarity': -0.74}\n"
     ]
    }
   ],
   "source": [
    "oneResult = colecao_senticnet.find_one({})\n",
    "print(oneResult)"
   ]
  },
  {
   "cell_type": "code",
   "execution_count": 20,
   "metadata": {},
   "outputs": [],
   "source": [
    "# # Número de palavras inseridas no banco local do SenticNet\n",
    "# oneResult = colecao_senticnet.count_documents({})\n",
    "# print(oneResult)"
   ]
  },
  {
   "cell_type": "code",
   "execution_count": 72,
   "metadata": {},
   "outputs": [
    {
     "name": "stdout",
     "output_type": "stream",
     "text": [
      "1155507\n"
     ]
    }
   ],
   "source": [
    "# Tweets que tiveram SenticNet processados mas foram desconsiderados\n",
    "oneResult = colecao.count_documents({'text':{'$ne':None}, \"senticnet_processed\": {'$eq':True}, 'polarity': {'$eq':None}, '$or':[{'geo_source':'place'}, {'geo_source':'user_location'}]})     \n",
    "print(oneResult)"
   ]
  },
  {
   "cell_type": "code",
   "execution_count": null,
   "metadata": {},
   "outputs": [],
   "source": []
  }
 ],
 "metadata": {
  "kernelspec": {
   "display_name": "Python 3",
   "language": "python",
   "name": "python3"
  },
  "language_info": {
   "codemirror_mode": {
    "name": "ipython",
    "version": 3
   },
   "file_extension": ".py",
   "mimetype": "text/x-python",
   "name": "python",
   "nbconvert_exporter": "python",
   "pygments_lexer": "ipython3",
   "version": "3.7.6"
  }
 },
 "nbformat": 4,
 "nbformat_minor": 4
}
