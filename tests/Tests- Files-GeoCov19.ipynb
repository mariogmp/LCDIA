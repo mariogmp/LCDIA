{
 "cells": [
  {
   "cell_type": "code",
   "execution_count": 4,
   "metadata": {
    "scrolled": true
   },
   "outputs": [],
   "source": [
    "# Biblioteca que permite a abertura iterativa do arquivo JSON (não o carrega totalmente na memória)\n",
    "import json\n",
    "\n",
    "import pandas as pd\n",
    "\n",
    "import os\n",
    "\n",
    "import numpy as np"
   ]
  },
  {
   "cell_type": "code",
   "execution_count": 5,
   "metadata": {
    "scrolled": true
   },
   "outputs": [],
   "source": [
    "# Definindo varíaveis de pastas\n",
    "\n",
    "# Diretório base\n",
    "home = '/home/mario/Arquivos'\n",
    "dados = '/media/mario/Dados1/Arquivos'\n",
    "\n",
    "# Diretório dos arquivos zip \n",
    "zip_dir = dados + '/input/geo'\n",
    "\n",
    "# Diretório de descompactação dos arquivos zip (arquivos json)\n",
    "json_dir = dados + '/output/json'\n",
    "\n",
    "# Diretório dos arquivos json com geolocalizações brasileiras processados a partir dos zips descompactados\n",
    "geo_dir = home + '/output/geo'\n",
    "\n",
    "# Diretório dos arquivos de ids\n",
    "ids_dir = home + '/output/ids'\n",
    "\n",
    "# Diretório de downloads realizados pelo Twarc\n",
    "downloads_dir = home + '/downloads'\n",
    "\n",
    "# Diretório de tweets com textos\n",
    "tweets_dir = home + '/output/tweets'"
   ]
  },
  {
   "cell_type": "code",
   "execution_count": 6,
   "metadata": {
    "scrolled": true
   },
   "outputs": [],
   "source": [
    "def list_files(dir, type):\n",
    "    \n",
    "    caminhos = [os.path.join(dir, nome) for nome in os.listdir(dir)]\n",
    "    arquivos = [arq for arq in caminhos if os.path.isfile(arq)]\n",
    "    valid_files = [arq for arq in arquivos if arq.lower().endswith(type)]\n",
    "                \n",
    "    return sorted(valid_files)"
   ]
  },
  {
   "cell_type": "code",
   "execution_count": 7,
   "metadata": {
    "scrolled": true
   },
   "outputs": [],
   "source": [
    "def count_items(files):\n",
    "    \n",
    "    count = 0\n",
    "    for file in files:\n",
    "        print(file)\n",
    "        for line in open(file, 'r'):\n",
    "            tweet = json.loads(line)\n",
    "            count = count + 1\n",
    "    print(count)\n",
    "        "
   ]
  },
  {
   "cell_type": "code",
   "execution_count": 8,
   "metadata": {
    "scrolled": true
   },
   "outputs": [
    {
     "name": "stdout",
     "output_type": "stream",
     "text": [
      "/home/mario/Arquivos/downloads/tweets_2020-02-01.json\n",
      "/home/mario/Arquivos/downloads/tweets_2020-02-02.json\n",
      "/home/mario/Arquivos/downloads/tweets_2020-02-03.json\n",
      "/home/mario/Arquivos/downloads/tweets_2020-02-04.json\n",
      "/home/mario/Arquivos/downloads/tweets_2020-02-05.json\n",
      "/home/mario/Arquivos/downloads/tweets_2020-02-06.json\n",
      "/home/mario/Arquivos/downloads/tweets_2020-02-07.json\n",
      "/home/mario/Arquivos/downloads/tweets_2020-02-08.json\n",
      "/home/mario/Arquivos/downloads/tweets_2020-02-09.json\n",
      "/home/mario/Arquivos/downloads/tweets_2020-02-10.json\n",
      "/home/mario/Arquivos/downloads/tweets_2020-02-11.json\n",
      "/home/mario/Arquivos/downloads/tweets_2020-02-12.json\n",
      "/home/mario/Arquivos/downloads/tweets_2020-02-13.json\n",
      "/home/mario/Arquivos/downloads/tweets_2020-02-14.json\n",
      "/home/mario/Arquivos/downloads/tweets_2020-02-15.json\n",
      "/home/mario/Arquivos/downloads/tweets_2020-02-16.json\n",
      "/home/mario/Arquivos/downloads/tweets_2020-02-17.json\n",
      "/home/mario/Arquivos/downloads/tweets_2020-02-18.json\n",
      "/home/mario/Arquivos/downloads/tweets_2020-02-19.json\n",
      "/home/mario/Arquivos/downloads/tweets_2020-02-20.json\n",
      "/home/mario/Arquivos/downloads/tweets_2020-02-21.json\n",
      "/home/mario/Arquivos/downloads/tweets_2020-02-22.json\n",
      "/home/mario/Arquivos/downloads/tweets_2020-02-23.json\n",
      "/home/mario/Arquivos/downloads/tweets_2020-02-24.json\n",
      "/home/mario/Arquivos/downloads/tweets_2020-02-25.json\n",
      "/home/mario/Arquivos/downloads/tweets_2020-02-26.json\n",
      "/home/mario/Arquivos/downloads/tweets_2020-02-27.json\n",
      "/home/mario/Arquivos/downloads/tweets_2020-02-28.json\n",
      "/home/mario/Arquivos/downloads/tweets_2020-02-29.json\n",
      "/home/mario/Arquivos/downloads/tweets_2020-03-01.json\n",
      "/home/mario/Arquivos/downloads/tweets_2020-03-02.json\n",
      "/home/mario/Arquivos/downloads/tweets_2020-03-03.json\n",
      "/home/mario/Arquivos/downloads/tweets_2020-03-04.json\n",
      "/home/mario/Arquivos/downloads/tweets_2020-03-05.json\n",
      "/home/mario/Arquivos/downloads/tweets_2020-03-06.json\n",
      "/home/mario/Arquivos/downloads/tweets_2020-03-07.json\n",
      "/home/mario/Arquivos/downloads/tweets_2020-03-08.json\n",
      "/home/mario/Arquivos/downloads/tweets_2020-03-09.json\n",
      "/home/mario/Arquivos/downloads/tweets_2020-03-10.json\n",
      "/home/mario/Arquivos/downloads/tweets_2020-03-11.json\n",
      "/home/mario/Arquivos/downloads/tweets_2020-03-12.json\n",
      "/home/mario/Arquivos/downloads/tweets_2020-03-13.json\n",
      "/home/mario/Arquivos/downloads/tweets_2020-03-14.json\n",
      "/home/mario/Arquivos/downloads/tweets_2020-03-15.json\n",
      "/home/mario/Arquivos/downloads/tweets_2020-03-16.json\n",
      "/home/mario/Arquivos/downloads/tweets_2020-03-17.json\n",
      "/home/mario/Arquivos/downloads/tweets_2020-03-18.json\n",
      "/home/mario/Arquivos/downloads/tweets_2020-03-19.json\n",
      "/home/mario/Arquivos/downloads/tweets_2020-03-20.json\n",
      "/home/mario/Arquivos/downloads/tweets_2020-03-21.json\n",
      "/home/mario/Arquivos/downloads/tweets_2020-03-22.json\n",
      "/home/mario/Arquivos/downloads/tweets_2020-03-23.json\n",
      "/home/mario/Arquivos/downloads/tweets_2020-03-24.json\n",
      "/home/mario/Arquivos/downloads/tweets_2020-03-25.json\n",
      "/home/mario/Arquivos/downloads/tweets_2020-03-26.json\n",
      "/home/mario/Arquivos/downloads/tweets_2020-03-27.json\n",
      "/home/mario/Arquivos/downloads/tweets_2020-03-28.json\n",
      "/home/mario/Arquivos/downloads/tweets_2020-03-29.json\n",
      "/home/mario/Arquivos/downloads/tweets_2020-03-30.json\n",
      "/home/mario/Arquivos/downloads/tweets_2020-04-01.json\n",
      "/home/mario/Arquivos/downloads/tweets_2020-04-02.json\n",
      "/home/mario/Arquivos/downloads/tweets_2020-04-03.json\n",
      "/home/mario/Arquivos/downloads/tweets_2020-04-04.json\n",
      "/home/mario/Arquivos/downloads/tweets_2020-04-05.json\n",
      "/home/mario/Arquivos/downloads/tweets_2020-04-06.json\n",
      "/home/mario/Arquivos/downloads/tweets_2020-04-07.json\n",
      "/home/mario/Arquivos/downloads/tweets_2020-04-08.json\n",
      "/home/mario/Arquivos/downloads/tweets_2020-04-09.json\n",
      "/home/mario/Arquivos/downloads/tweets_2020-04-10.json\n",
      "/home/mario/Arquivos/downloads/tweets_2020-04-11.json\n",
      "/home/mario/Arquivos/downloads/tweets_2020-04-12.json\n",
      "/home/mario/Arquivos/downloads/tweets_2020-04-13.json\n",
      "/home/mario/Arquivos/downloads/tweets_2020-04-14.json\n",
      "/home/mario/Arquivos/downloads/tweets_2020-04-15.json\n",
      "/home/mario/Arquivos/downloads/tweets_2020-04-16.json\n",
      "/home/mario/Arquivos/downloads/tweets_2020-04-17.json\n",
      "/home/mario/Arquivos/downloads/tweets_2020-04-18.json\n",
      "/home/mario/Arquivos/downloads/tweets_2020-04-19.json\n",
      "/home/mario/Arquivos/downloads/tweets_2020-04-20.json\n",
      "/home/mario/Arquivos/downloads/tweets_2020-04-21.json\n",
      "/home/mario/Arquivos/downloads/tweets_2020-04-22.json\n",
      "/home/mario/Arquivos/downloads/tweets_2020-04-23.json\n",
      "/home/mario/Arquivos/downloads/tweets_2020-04-24.json\n",
      "/home/mario/Arquivos/downloads/tweets_2020-04-25.json\n",
      "/home/mario/Arquivos/downloads/tweets_2020-04-26.json\n",
      "/home/mario/Arquivos/downloads/tweets_2020-04-27.json\n",
      "/home/mario/Arquivos/downloads/tweets_2020-04-28.json\n",
      "/home/mario/Arquivos/downloads/tweets_2020-04-29.json\n",
      "/home/mario/Arquivos/downloads/tweets_2020-04-30.json\n",
      "/home/mario/Arquivos/downloads/tweets_2020-05-01.json\n",
      "5031502\n"
     ]
    }
   ],
   "source": [
    "files = list_files(downloads_dir, '.json')\n",
    "count_items(files)"
   ]
  },
  {
   "cell_type": "code",
   "execution_count": null,
   "metadata": {
    "scrolled": true
   },
   "outputs": [],
   "source": []
  }
 ],
 "metadata": {
  "kernelspec": {
   "display_name": "Python 3",
   "language": "python",
   "name": "python3"
  },
  "language_info": {
   "codemirror_mode": {
    "name": "ipython",
    "version": 3
   },
   "file_extension": ".py",
   "mimetype": "text/x-python",
   "name": "python",
   "nbconvert_exporter": "python",
   "pygments_lexer": "ipython3",
   "version": "3.7.6"
  }
 },
 "nbformat": 4,
 "nbformat_minor": 4
}
