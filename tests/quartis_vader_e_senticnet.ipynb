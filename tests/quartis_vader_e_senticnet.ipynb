{
 "cells": [
  {
   "cell_type": "code",
   "execution_count": null,
   "metadata": {},
   "outputs": [],
   "source": [
    "p1 = df_vader['score'].describe()['min']\n",
    "p2 = df_vader['score'].describe()['25%']\n",
    "p3 = df_vader['score'].describe()['50%']\n",
    "p4 = df_vader['score'].describe()['75%']\n",
    "p5 = df_vader['score'].describe()['max']\n",
    "\n",
    "df_quartil_1 = df_vader.loc[(df_vader['score'] >= p1) & (df_vader['score'] < p2)]\n",
    "df_quartil_2 = df_vader.loc[(df_vader['score'] >= p2) & (df_vader['score'] < p3)]\n",
    "df_quartil_3 = df_vader.loc[(df_vader['score'] >= p3) & (df_vader['score'] < p4)]\n",
    "df_quartil_4 = df_vader.loc[(df_vader['score'] >= p4) & (df_vader['score'] <= p5)]\n",
    "\n",
    "total_quartil_1_vader = len(df_quartil_1)\n",
    "total_quartil_2_vader = len(df_quartil_2)\n",
    "total_quartil_3_vader = len(df_quartil_3)\n",
    "total_quartil_4_vader = len(df_quartil_4)\n",
    "\n",
    "print(p1, p2, p3, p4, p5)\n",
    "print(total_quartil_1_vader, total_quartil_2_vader, total_quartil_3_vader, total_quartil_4_vader)"
   ]
  },
  {
   "cell_type": "code",
   "execution_count": null,
   "metadata": {},
   "outputs": [],
   "source": [
    "p1 = df_senticnet['polarity'].describe()['min']\n",
    "p2 = df_senticnet['polarity'].describe()['25%']\n",
    "p3 = df_senticnet['polarity'].describe()['50%']\n",
    "p4 = df_senticnet['polarity'].describe()['75%']\n",
    "p5 = df_senticnet['polarity'].describe()['max']\n",
    "\n",
    "df_quartil_1 = df_senticnet.loc[(df_senticnet['polarity'] >= p1) & (df_senticnet['polarity'] < p2)]\n",
    "df_quartil_2 = df_senticnet.loc[(df_senticnet['polarity'] >= p2) & (df_senticnet['polarity'] < p3)]\n",
    "df_quartil_3 = df_senticnet.loc[(df_senticnet['polarity'] >= p3) & (df_senticnet['polarity'] < p4)]\n",
    "df_quartil_4 = df_senticnet.loc[(df_senticnet['polarity'] >= p4) & (df_senticnet['polarity'] <= p5)]\n",
    "\n",
    "total_quartil_1_senticnet = len(df_quartil_1)\n",
    "total_quartil_2_senticnet = len(df_quartil_2)\n",
    "total_quartil_3_senticnet = len(df_quartil_3)\n",
    "total_quartil_4_senticnet = len(df_quartil_4)\n",
    "\n",
    "print(p1, p2, p3, p4, p5)\n",
    "print(total_quartil_1_senticnet, total_quartil_2_senticnet, total_quartil_3_senticnet, total_quartil_4_senticnet)"
   ]
  }
 ],
 "metadata": {
  "kernelspec": {
   "display_name": "Python 3",
   "language": "python",
   "name": "python3"
  },
  "language_info": {
   "codemirror_mode": {
    "name": "ipython",
    "version": 3
   },
   "file_extension": ".py",
   "mimetype": "text/x-python",
   "name": "python",
   "nbconvert_exporter": "python",
   "pygments_lexer": "ipython3",
   "version": "3.7.6"
  }
 },
 "nbformat": 4,
 "nbformat_minor": 4
}
