{
 "cells": [
  {
   "cell_type": "code",
   "execution_count": 19,
   "metadata": {},
   "outputs": [
    {
     "name": "stdout",
     "output_type": "stream",
     "text": [
      "The history saving thread hit an unexpected error (OperationalError('no such table: history')).History will not be written to the database.\n"
     ]
    }
   ],
   "source": [
    "# Importando módulos internos\n",
    "import geocov19_functions_db as fdb\n",
    "import geocov19_functions_tweets as ftweets\n",
    "import geocov19_functions_text as ftext\n",
    "\n",
    "# Importando módulos externos\n",
    "import pandas as pd"
   ]
  },
  {
   "cell_type": "code",
   "execution_count": 20,
   "metadata": {},
   "outputs": [],
   "source": [
    "# Criando estrutura do banco de dados\n",
    "from pymongo import MongoClient\n",
    "\n",
    "# Conexão com o servidor do MongoDB\n",
    "clienteDB = MongoClient('localhost', 27017)\n",
    "\n",
    "# Conexão com a base de dados do mongoDB\n",
    "banco = clienteDB.SpedDB\n",
    "\n",
    "# Coleção onde serão inseridos os dados\n",
    "collection = banco.tweets_brasil"
   ]
  },
  {
   "cell_type": "code",
   "execution_count": 21,
   "metadata": {},
   "outputs": [],
   "source": [
    "from google_trans_new import google_translator  \n",
    "\n",
    "translator = google_translator()  \n",
    "\n",
    "def translate_tweet_text_new(tweet):\n",
    "    \n",
    "    translated = ''\n",
    "        \n",
    "    text = tweet['text']   \n",
    "    from_lang = tweet['lang']\n",
    "    \n",
    "    # Verificando se o texto do tweet já está escrito na língua inglesa\n",
    "    if (from_lang == 'en') or (from_lang == 'en-US'):\n",
    "        translated = text\n",
    "    else:\n",
    "        translated = translator.translate(text, lang_tgt='en')\n",
    "\n",
    "    return translated"
   ]
  },
  {
   "cell_type": "code",
   "execution_count": 22,
   "metadata": {},
   "outputs": [],
   "source": [
    "import sys\n",
    "\n",
    "# Ferramenta SenticNet\n",
    "def calculate_polarities(tweets):\n",
    "        \n",
    "    for tweet in tweets:        \n",
    "        try:                 \n",
    "            # Traduzindo o texto para o inglês\n",
    "            # translated_text = translate_tweet_text(tweet)\n",
    "            translated_text = translate_tweet_text_new(tweet)\n",
    "\n",
    "            # Realizando a limpeza da frase\n",
    "            words = ftext.process_tweet(translated_text, 'english')\n",
    "\n",
    "            # Efetuando o cálculo do score de sentimento para o texto\n",
    "            polarity = calculate_words_polarities(words)\n",
    "\n",
    "            # Recuperando o score e adicionando em uma nova célula do dataframe\n",
    "            collection.update_one({\"tweet_id\": tweet['tweet_id']},{'$set':{\"polarity\": polarity, \"senticnet_reprocessed\": True}})  \n",
    "        \n",
    "        except Exception as e:\n",
    "            e = sys.exc_info()[1]\n",
    "            print (\"Unexpected error:\", e)\n",
    "              "
   ]
  },
  {
   "cell_type": "code",
   "execution_count": 23,
   "metadata": {},
   "outputs": [],
   "source": [
    "from senticnet.senticnet import SenticNet\n",
    "\n",
    "def calculate_words_polarities(words):\n",
    "    \n",
    "    if(len(words) > 0):\n",
    "        min_words_count = len(words)/2\n",
    "        #not_found_words_count = 0\n",
    "        found_words = 0\n",
    "        total_polarity_value = 0\n",
    "        language_code = 'en'\n",
    "\n",
    "        for word in words:\n",
    "            word = word.lower()\n",
    "            try:\n",
    "                sn = SenticNet('en')\n",
    "                polarity_str = sn.polarity_intense(word)\n",
    "                #print(word + ': ' + polarity_str)\n",
    "                polarity_value = float(polarity_str)      \n",
    "                total_polarity_value = total_polarity_value + polarity_value\n",
    "                found_words = found_words + 1\n",
    "            except KeyError:\n",
    "                e = sys.exc_info()[1]\n",
    "                #print (\"Unexpected error:\", e)\n",
    "                #not_found_words_count = not_found_words_count + 1\n",
    "\n",
    "        # O cálculo será considerado somente se ao menos metade das palavras forem encontradas na base de conhecimento do SenticNet\n",
    "        #if not_found_words_count > min_words_count:\n",
    "        if found_words < min_words_count:\n",
    "            return None\n",
    "        else:\n",
    "            #print(found_words)\n",
    "            polarity = total_polarity_value / found_words\n",
    "            #print(polarity)\n",
    "            return polarity\n",
    "    else:\n",
    "        return None"
   ]
  },
  {
   "cell_type": "code",
   "execution_count": 25,
   "metadata": {},
   "outputs": [],
   "source": [
    "state = 'Tocantins'\n",
    "results = collection.find({'state':state, \"senticnet_processed\": True, \"senticnet_reprocessed\": {'$eq':None}, 'polarity': {'$ne':None}}, {'tweet_id':1,'lang':1,'text':1,'_id': 0});\n",
    "calculate_polarities(results)"
   ]
  },
  {
   "cell_type": "code",
   "execution_count": null,
   "metadata": {},
   "outputs": [],
   "source": []
  }
 ],
 "metadata": {
  "kernelspec": {
   "display_name": "Python 3",
   "language": "python",
   "name": "python3"
  },
  "language_info": {
   "codemirror_mode": {
    "name": "ipython",
    "version": 3
   },
   "file_extension": ".py",
   "mimetype": "text/x-python",
   "name": "python",
   "nbconvert_exporter": "python",
   "pygments_lexer": "ipython3",
   "version": "3.7.6"
  }
 },
 "nbformat": 4,
 "nbformat_minor": 4
}
