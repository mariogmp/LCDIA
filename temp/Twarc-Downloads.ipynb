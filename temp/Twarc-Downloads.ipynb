{
 "cells": [
  {
   "cell_type": "markdown",
   "metadata": {},
   "source": [
    "Fevereiro"
   ]
  },
  {
   "cell_type": "code",
   "execution_count": 5,
   "metadata": {},
   "outputs": [],
   "source": [
    "!twarc hydrate /media/mario/Dados1/Arquivos/output/ids/geo_2020-02-29_ids.csv > /home/mario/Arquivos/tweets_2020-02-29.json"
   ]
  },
  {
   "cell_type": "markdown",
   "metadata": {},
   "source": [
    "Março"
   ]
  },
  {
   "cell_type": "code",
   "execution_count": 6,
   "metadata": {},
   "outputs": [],
   "source": [
    "!twarc hydrate /media/mario/Dados1/Arquivos/output/ids/geo_2020-03-01_ids.csv > /home/mario/Arquivos/tweets_2020-03-01.json\n",
    "!twarc hydrate /media/mario/Dados1/Arquivos/output/ids/geo_2020-03-02_ids.csv > /home/mario/Arquivos/tweets_2020-03-02.json\n",
    "!twarc hydrate /media/mario/Dados1/Arquivos/output/ids/geo_2020-03-03_ids.csv > /home/mario/Arquivos/tweets_2020-03-03.json\n",
    "!twarc hydrate /media/mario/Dados1/Arquivos/output/ids/geo_2020-03-04_ids.csv > /home/mario/Arquivos/tweets_2020-03-04.json\n",
    "!twarc hydrate /media/mario/Dados1/Arquivos/output/ids/geo_2020-03-05_ids.csv > /home/mario/Arquivos/tweets_2020-03-05.json\n",
    "!twarc hydrate /media/mario/Dados1/Arquivos/output/ids/geo_2020-03-06_ids.csv > /home/mario/Arquivos/tweets_2020-03-06.json\n",
    "!twarc hydrate /media/mario/Dados1/Arquivos/output/ids/geo_2020-03-07_ids.csv > /home/mario/Arquivos/tweets_2020-03-07.json\n",
    "!twarc hydrate /media/mario/Dados1/Arquivos/output/ids/geo_2020-03-08_ids.csv > /home/mario/Arquivos/tweets_2020-03-08.json\n",
    "!twarc hydrate /media/mario/Dados1/Arquivos/output/ids/geo_2020-03-09_ids.csv > /home/mario/Arquivos/tweets_2020-03-09.json\n",
    "!twarc hydrate /media/mario/Dados1/Arquivos/output/ids/geo_2020-03-10_ids.csv > /home/mario/Arquivos/tweets_2020-03-10.json\n",
    "!twarc hydrate /media/mario/Dados1/Arquivos/output/ids/geo_2020-03-11_ids.csv > /home/mario/Arquivos/tweets_2020-03-11.json\n",
    "!twarc hydrate /media/mario/Dados1/Arquivos/output/ids/geo_2020-03-12_ids.csv > /home/mario/Arquivos/tweets_2020-03-12.json\n",
    "!twarc hydrate /media/mario/Dados1/Arquivos/output/ids/geo_2020-03-13_ids.csv > /home/mario/Arquivos/tweets_2020-03-13.json\n",
    "!twarc hydrate /media/mario/Dados1/Arquivos/output/ids/geo_2020-03-14_ids.csv > /home/mario/Arquivos/tweets_2020-03-14.json\n",
    "!twarc hydrate /media/mario/Dados1/Arquivos/output/ids/geo_2020-03-15_ids.csv > /home/mario/Arquivos/tweets_2020-03-15.json\n",
    "!twarc hydrate /media/mario/Dados1/Arquivos/output/ids/geo_2020-03-16_ids.csv > /home/mario/Arquivos/tweets_2020-03-16.json\n",
    "!twarc hydrate /media/mario/Dados1/Arquivos/output/ids/geo_2020-03-17_ids.csv > /home/mario/Arquivos/tweets_2020-03-17.json\n",
    "!twarc hydrate /media/mario/Dados1/Arquivos/output/ids/geo_2020-03-18_ids.csv > /home/mario/Arquivos/tweets_2020-03-18.json\n",
    "!twarc hydrate /media/mario/Dados1/Arquivos/output/ids/geo_2020-03-19_ids.csv > /home/mario/Arquivos/tweets_2020-03-19.json\n",
    "!twarc hydrate /media/mario/Dados1/Arquivos/output/ids/geo_2020-03-20_ids.csv > /home/mario/Arquivos/tweets_2020-03-20.json\n",
    "!twarc hydrate /media/mario/Dados1/Arquivos/output/ids/geo_2020-03-21_ids.csv > /home/mario/Arquivos/tweets_2020-03-21.json\n",
    "!twarc hydrate /media/mario/Dados1/Arquivos/output/ids/geo_2020-03-22_ids.csv > /home/mario/Arquivos/tweets_2020-03-22.json\n",
    "!twarc hydrate /media/mario/Dados1/Arquivos/output/ids/geo_2020-03-23_ids.csv > /home/mario/Arquivos/tweets_2020-03-23.json\n",
    "!twarc hydrate /media/mario/Dados1/Arquivos/output/ids/geo_2020-03-24_ids.csv > /home/mario/Arquivos/tweets_2020-03-24.json\n",
    "!twarc hydrate /media/mario/Dados1/Arquivos/output/ids/geo_2020-03-25_ids.csv > /home/mario/Arquivos/tweets_2020-03-25.json\n",
    "!twarc hydrate /media/mario/Dados1/Arquivos/output/ids/geo_2020-03-26_ids.csv > /home/mario/Arquivos/tweets_2020-03-26.json\n",
    "!twarc hydrate /media/mario/Dados1/Arquivos/output/ids/geo_2020-03-27_ids.csv > /home/mario/Arquivos/tweets_2020-03-27.json\n",
    "!twarc hydrate /media/mario/Dados1/Arquivos/output/ids/geo_2020-03-28_ids.csv > /home/mario/Arquivos/tweets_2020-03-28.json\n",
    "!twarc hydrate /media/mario/Dados1/Arquivos/output/ids/geo_2020-03-29_ids.csv > /home/mario/Arquivos/tweets_2020-03-29.json\n",
    "!twarc hydrate /media/mario/Dados1/Arquivos/output/ids/geo_2020-03-30_ids.csv > /home/mario/Arquivos/tweets_2020-03-30.json"
   ]
  },
  {
   "cell_type": "markdown",
   "metadata": {},
   "source": [
    "Abril"
   ]
  },
  {
   "cell_type": "code",
   "execution_count": 7,
   "metadata": {},
   "outputs": [],
   "source": [
    "!twarc hydrate /media/mario/Dados1/Arquivos/output/ids/geo_2020-04-01_ids.csv > /home/mario/Arquivos/tweets_2020-04-01.json\n",
    "!twarc hydrate /media/mario/Dados1/Arquivos/output/ids/geo_2020-04-02_ids.csv > /home/mario/Arquivos/tweets_2020-04-02.json\n",
    "!twarc hydrate /media/mario/Dados1/Arquivos/output/ids/geo_2020-04-03_ids.csv > /home/mario/Arquivos/tweets_2020-04-03.json\n",
    "!twarc hydrate /media/mario/Dados1/Arquivos/output/ids/geo_2020-04-04_ids.csv > /home/mario/Arquivos/tweets_2020-04-04.json\n",
    "!twarc hydrate /media/mario/Dados1/Arquivos/output/ids/geo_2020-04-05_ids.csv > /home/mario/Arquivos/tweets_2020-04-05.json\n",
    "!twarc hydrate /media/mario/Dados1/Arquivos/output/ids/geo_2020-04-06_ids.csv > /home/mario/Arquivos/tweets_2020-04-06.json\n",
    "!twarc hydrate /media/mario/Dados1/Arquivos/output/ids/geo_2020-04-07_ids.csv > /home/mario/Arquivos/tweets_2020-04-07.json\n",
    "!twarc hydrate /media/mario/Dados1/Arquivos/output/ids/geo_2020-04-08_ids.csv > /home/mario/Arquivos/tweets_2020-04-08.json\n",
    "!twarc hydrate /media/mario/Dados1/Arquivos/output/ids/geo_2020-04-09_ids.csv > /home/mario/Arquivos/tweets_2020-04-09.json\n",
    "!twarc hydrate /media/mario/Dados1/Arquivos/output/ids/geo_2020-04-10_ids.csv > /home/mario/Arquivos/tweets_2020-04-10.json\n",
    "!twarc hydrate /media/mario/Dados1/Arquivos/output/ids/geo_2020-04-11_ids.csv > /home/mario/Arquivos/tweets_2020-04-11.json\n",
    "!twarc hydrate /media/mario/Dados1/Arquivos/output/ids/geo_2020-04-12_ids.csv > /home/mario/Arquivos/tweets_2020-04-12.json\n",
    "!twarc hydrate /media/mario/Dados1/Arquivos/output/ids/geo_2020-04-13_ids.csv > /home/mario/Arquivos/tweets_2020-04-13.json\n",
    "!twarc hydrate /media/mario/Dados1/Arquivos/output/ids/geo_2020-04-14_ids.csv > /home/mario/Arquivos/tweets_2020-04-14.json\n",
    "!twarc hydrate /media/mario/Dados1/Arquivos/output/ids/geo_2020-04-15_ids.csv > /home/mario/Arquivos/tweets_2020-04-15.json\n",
    "!twarc hydrate /media/mario/Dados1/Arquivos/output/ids/geo_2020-04-16_ids.csv > /home/mario/Arquivos/tweets_2020-04-16.json\n",
    "!twarc hydrate /media/mario/Dados1/Arquivos/output/ids/geo_2020-04-17_ids.csv > /home/mario/Arquivos/tweets_2020-04-17.json\n",
    "!twarc hydrate /media/mario/Dados1/Arquivos/output/ids/geo_2020-04-18_ids.csv > /home/mario/Arquivos/tweets_2020-04-18.json\n",
    "!twarc hydrate /media/mario/Dados1/Arquivos/output/ids/geo_2020-04-19_ids.csv > /home/mario/Arquivos/tweets_2020-04-19.json\n",
    "!twarc hydrate /media/mario/Dados1/Arquivos/output/ids/geo_2020-04-20_ids.csv > /home/mario/Arquivos/tweets_2020-04-20.json\n",
    "!twarc hydrate /media/mario/Dados1/Arquivos/output/ids/geo_2020-04-21_ids.csv > /home/mario/Arquivos/tweets_2020-04-21.json\n",
    "!twarc hydrate /media/mario/Dados1/Arquivos/output/ids/geo_2020-04-22_ids.csv > /home/mario/Arquivos/tweets_2020-04-22.json\n",
    "!twarc hydrate /media/mario/Dados1/Arquivos/output/ids/geo_2020-04-23_ids.csv > /home/mario/Arquivos/tweets_2020-04-23.json\n",
    "!twarc hydrate /media/mario/Dados1/Arquivos/output/ids/geo_2020-04-24_ids.csv > /home/mario/Arquivos/tweets_2020-04-24.json\n",
    "!twarc hydrate /media/mario/Dados1/Arquivos/output/ids/geo_2020-04-25_ids.csv > /home/mario/Arquivos/tweets_2020-04-25.json\n",
    "!twarc hydrate /media/mario/Dados1/Arquivos/output/ids/geo_2020-04-26_ids.csv > /home/mario/Arquivos/tweets_2020-04-26.json\n",
    "!twarc hydrate /media/mario/Dados1/Arquivos/output/ids/geo_2020-04-27_ids.csv > /home/mario/Arquivos/tweets_2020-04-27.json\n",
    "!twarc hydrate /media/mario/Dados1/Arquivos/output/ids/geo_2020-04-28_ids.csv > /home/mario/Arquivos/tweets_2020-04-28.json\n",
    "!twarc hydrate /media/mario/Dados1/Arquivos/output/ids/geo_2020-04-29_ids.csv > /home/mario/Arquivos/tweets_2020-04-29.json\n",
    "!twarc hydrate /media/mario/Dados1/Arquivos/output/ids/geo_2020-04-30_ids.csv > /home/mario/Arquivos/tweets_2020-04-30.json"
   ]
  },
  {
   "cell_type": "markdown",
   "metadata": {},
   "source": [
    "Maio"
   ]
  },
  {
   "cell_type": "code",
   "execution_count": 8,
   "metadata": {},
   "outputs": [],
   "source": [
    "!twarc hydrate /media/mario/Dados1/Arquivos/output/ids/geo_2020-05-01_ids.csv > /home/mario/Arquivos/tweets_2020-05-01.json"
   ]
  },
  {
   "cell_type": "code",
   "execution_count": null,
   "metadata": {},
   "outputs": [],
   "source": []
  }
 ],
 "metadata": {
  "kernelspec": {
   "display_name": "Python 3",
   "language": "python",
   "name": "python3"
  },
  "language_info": {
   "codemirror_mode": {
    "name": "ipython",
    "version": 3
   },
   "file_extension": ".py",
   "mimetype": "text/x-python",
   "name": "python",
   "nbconvert_exporter": "python",
   "pygments_lexer": "ipython3",
   "version": "3.7.6"
  }
 },
 "nbformat": 4,
 "nbformat_minor": 4
}
