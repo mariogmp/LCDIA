{
 "cells": [
  {
   "cell_type": "markdown",
   "metadata": {},
   "source": [
    "# Análise de sentimentos de tweets brasileiros nos períodos anterior e inicial da pandemia de Covid-19\n",
    "***"
   ]
  },
  {
   "cell_type": "markdown",
   "metadata": {},
   "source": [
    "<img style=\"float: left;\" src=\"images/menu_selecao.png\" width=\"800\" height=\"500\">"
   ]
  },
  {
   "cell_type": "markdown",
   "metadata": {},
   "source": [
    "## II - Seleção de Tweets"
   ]
  },
  {
   "cell_type": "markdown",
   "metadata": {},
   "source": [
    "Na etapa anterior, foi realizada a extração de tweets com localizações brasileiras, o *hydrate* de seus textos e o armazenamento destes conteúdos em um banco de dados MongoDB.\n",
    "\n",
    "Nesta etapa, será executado procedimento de **seleção de *tweets***, dentre os *tweets* resultantes da etapa anterior. Este *notebook* abordará os passos realizados para esta seleção, as investigações realizadas na base de dados que motivaram este procedimento e seus resultados finais. \n",
    "\n",
    "A imagem a seguir ilustra os passos realizados para a execução do procedimento citado. Estes passos serão abordados adiante mais detalhadamente."
   ]
  },
  {
   "cell_type": "markdown",
   "metadata": {},
   "source": [
    "<img style=\"float: left;\" src=\"images/fluxo_selecao.png\" width=600>"
   ]
  },
  {
   "cell_type": "markdown",
   "metadata": {},
   "source": [
    "***\n",
    "### Importações gerais"
   ]
  },
  {
   "cell_type": "code",
   "execution_count": 1,
   "metadata": {},
   "outputs": [],
   "source": [
    "import pandas as pd\n",
    "import matplotlib.pyplot as plt\n",
    "import numpy as np\n",
    "import datetime\n",
    "import seaborn as sns\n",
    "\n",
    "from statistics import mean\n",
    "\n",
    "import warnings\n",
    "warnings.filterwarnings('ignore')"
   ]
  },
  {
   "cell_type": "markdown",
   "metadata": {},
   "source": [
    "### Configurações iniciais"
   ]
  },
  {
   "cell_type": "markdown",
   "metadata": {},
   "source": [
    "#### Conexão ao banco de dados"
   ]
  },
  {
   "cell_type": "code",
   "execution_count": 2,
   "metadata": {},
   "outputs": [],
   "source": [
    "# Criando estrutura do banco de dados\n",
    "from pymongo import MongoClient\n",
    "\n",
    "# Conexão com o servidor do MongoDB\n",
    "client = MongoClient('localhost', 27017)\n",
    "\n",
    "# Conexão com a base de dados do mongoDB\n",
    "db = client.SpedDB\n",
    "\n",
    "# Coleção onde serão inseridos os dados\n",
    "collection = db.tweets_brasil"
   ]
  },
  {
   "cell_type": "markdown",
   "metadata": {},
   "source": [
    "***\n",
    "### Totalização de Tweets"
   ]
  },
  {
   "cell_type": "markdown",
   "metadata": {},
   "source": [
    "Na célula abaixo é calculada a **quantidade total de *tweets* com localizações brasileiras** presentes na base de dados, resultantes da etapa anterior:"
   ]
  },
  {
   "cell_type": "code",
   "execution_count": 3,
   "metadata": {},
   "outputs": [
    {
     "data": {
      "text/plain": [
       "6281690"
      ]
     },
     "execution_count": 3,
     "metadata": {},
     "output_type": "execute_result"
    }
   ],
   "source": [
    "step_1_count = collection.count_documents({})\n",
    "step_1_count"
   ]
  },
  {
   "cell_type": "markdown",
   "metadata": {},
   "source": [
    "No passo seguinte, serão selecionados **somente os *tweets* que tiveram seus conteúdos retornados** durante o processo de *hydrate*. Neste processo, nem todos os *tweets* são retornados pois eles podem, por exemplo, terem sido apagados. Esta, então, trata-se da **primeira seleção** realizada por este trabalho.\n",
    "\n",
    "Os dados são montados em um *dataframe* para facilitar a visualização e investigação dos resultados."
   ]
  },
  {
   "cell_type": "code",
   "execution_count": null,
   "metadata": {},
   "outputs": [],
   "source": [
    "df_1 = pd.DataFrame.from_records(collection.find({'text': {'$ne':None}, 'lang': {'$ne':None}}, {'state':1,'city':1,'lang':1,'geo_source':1,'text':1,'created_at':1,'_id': 0}))"
   ]
  },
  {
   "cell_type": "markdown",
   "metadata": {},
   "source": [
    "Abaixo segue a **quantidade total de tweets** após a primeira seleção:"
   ]
  },
  {
   "cell_type": "code",
   "execution_count": 9,
   "metadata": {},
   "outputs": [
    {
     "data": {
      "text/plain": [
       "5104854"
      ]
     },
     "execution_count": 9,
     "metadata": {},
     "output_type": "execute_result"
    }
   ],
   "source": [
    "len(df_1)"
   ]
  },
  {
   "cell_type": "code",
   "execution_count": 10,
   "metadata": {},
   "outputs": [
    {
     "data": {
      "text/html": [
       "<div>\n",
       "<style scoped>\n",
       "    .dataframe tbody tr th:only-of-type {\n",
       "        vertical-align: middle;\n",
       "    }\n",
       "\n",
       "    .dataframe tbody tr th {\n",
       "        vertical-align: top;\n",
       "    }\n",
       "\n",
       "    .dataframe thead th {\n",
       "        text-align: right;\n",
       "    }\n",
       "</style>\n",
       "<table border=\"1\" class=\"dataframe\">\n",
       "  <thead>\n",
       "    <tr style=\"text-align: right;\">\n",
       "      <th></th>\n",
       "      <th>geo_source</th>\n",
       "      <th>state</th>\n",
       "      <th>city</th>\n",
       "      <th>text</th>\n",
       "      <th>lang</th>\n",
       "    </tr>\n",
       "  </thead>\n",
       "  <tbody>\n",
       "    <tr>\n",
       "      <th>0</th>\n",
       "      <td>tweet_text</td>\n",
       "      <td>Rio Grande do Sul</td>\n",
       "      <td>Porto Alegre</td>\n",
       "      <td>🙋‍♂️#Eritrea @Ministersaleh @T_Gerahtu @ytmn2 ...</td>\n",
       "      <td>am</td>\n",
       "    </tr>\n",
       "    <tr>\n",
       "      <th>1</th>\n",
       "      <td>tweet_text</td>\n",
       "      <td>Sergipe</td>\n",
       "      <td>Aracaju</td>\n",
       "      <td>@hawelti ኣንታ ንስኻን ከማኻን ጎይታኹም ዲክታተር ኢሳኢኣስ፡ካባኹም ...</td>\n",
       "      <td>am</td>\n",
       "    </tr>\n",
       "    <tr>\n",
       "      <th>2</th>\n",
       "      <td>tweet_text</td>\n",
       "      <td>Rio Grande do Sul</td>\n",
       "      <td>Bagé</td>\n",
       "      <td>ስጋ እንዳይወደደብን ለበአል ገዝተን ካላስቀመጥን ቻይናውያን ወደ ፍየልና ...</td>\n",
       "      <td>am</td>\n",
       "    </tr>\n",
       "    <tr>\n",
       "      <th>3</th>\n",
       "      <td>tweet_text</td>\n",
       "      <td>São Paulo</td>\n",
       "      <td>Praia Grande</td>\n",
       "      <td>RT @AltayeEthiopia: አገሩ ና ህዝቡን የሚወድ ትሁት ልጅ ነበር...</td>\n",
       "      <td>am</td>\n",
       "    </tr>\n",
       "    <tr>\n",
       "      <th>4</th>\n",
       "      <td>tweet_text</td>\n",
       "      <td>Sergipe</td>\n",
       "      <td>Aracaju</td>\n",
       "      <td>ሓሶት #Eritrea መንነት ሒዝኩም still ወጻኢ ተቀሚጥኩም፣ሓንጎልኩም...</td>\n",
       "      <td>am</td>\n",
       "    </tr>\n",
       "    <tr>\n",
       "      <th>...</th>\n",
       "      <td>...</td>\n",
       "      <td>...</td>\n",
       "      <td>...</td>\n",
       "      <td>...</td>\n",
       "      <td>...</td>\n",
       "    </tr>\n",
       "    <tr>\n",
       "      <th>5104849</th>\n",
       "      <td>tweet_text</td>\n",
       "      <td>Espírito Santo</td>\n",
       "      <td>Serra</td>\n",
       "      <td>RT @shijianxingzou: 佛州参议员Rick Scott要求调查WHO总干事谭...</td>\n",
       "      <td>zh</td>\n",
       "    </tr>\n",
       "    <tr>\n",
       "      <th>5104850</th>\n",
       "      <td>tweet_text</td>\n",
       "      <td>Espírito Santo</td>\n",
       "      <td>Serra</td>\n",
       "      <td>@shuijingxs2 新冠肺炎源头追逐进展，赴武汉比赛女赛车手老公也出现在武汉并且他在胡...</td>\n",
       "      <td>zh</td>\n",
       "    </tr>\n",
       "    <tr>\n",
       "      <th>5104851</th>\n",
       "      <td>tweet_text</td>\n",
       "      <td>Espírito Santo</td>\n",
       "      <td>Serra</td>\n",
       "      <td>RT @Bridge__z: 医学专家朱塞佩·雷穆齐说，意大利冠状病毒去年12月甚至11月在...</td>\n",
       "      <td>zh</td>\n",
       "    </tr>\n",
       "    <tr>\n",
       "      <th>5104852</th>\n",
       "      <td>tweet_text</td>\n",
       "      <td>Espírito Santo</td>\n",
       "      <td>Serra</td>\n",
       "      <td>RT @maggie140135733: Kyle Bass said:\\n\\n习近平和秘书...</td>\n",
       "      <td>zh</td>\n",
       "    </tr>\n",
       "    <tr>\n",
       "      <th>5104853</th>\n",
       "      <td>tweet_text</td>\n",
       "      <td>Rio Grande do Sul</td>\n",
       "      <td>Chuí</td>\n",
       "      <td>没有证据表明人传人能洗吗？我只是问问，我不了解\\n反正影响是无法挽回了，WHO早就被锤爆了 ...</td>\n",
       "      <td>zh</td>\n",
       "    </tr>\n",
       "  </tbody>\n",
       "</table>\n",
       "<p>5104854 rows × 5 columns</p>\n",
       "</div>"
      ],
      "text/plain": [
       "         geo_source              state          city  \\\n",
       "0        tweet_text  Rio Grande do Sul  Porto Alegre   \n",
       "1        tweet_text            Sergipe       Aracaju   \n",
       "2        tweet_text  Rio Grande do Sul          Bagé   \n",
       "3        tweet_text          São Paulo  Praia Grande   \n",
       "4        tweet_text            Sergipe       Aracaju   \n",
       "...             ...                ...           ...   \n",
       "5104849  tweet_text     Espírito Santo         Serra   \n",
       "5104850  tweet_text     Espírito Santo         Serra   \n",
       "5104851  tweet_text     Espírito Santo         Serra   \n",
       "5104852  tweet_text     Espírito Santo         Serra   \n",
       "5104853  tweet_text  Rio Grande do Sul          Chuí   \n",
       "\n",
       "                                                      text lang  \n",
       "0        🙋‍♂️#Eritrea @Ministersaleh @T_Gerahtu @ytmn2 ...   am  \n",
       "1        @hawelti ኣንታ ንስኻን ከማኻን ጎይታኹም ዲክታተር ኢሳኢኣስ፡ካባኹም ...   am  \n",
       "2        ስጋ እንዳይወደደብን ለበአል ገዝተን ካላስቀመጥን ቻይናውያን ወደ ፍየልና ...   am  \n",
       "3        RT @AltayeEthiopia: አገሩ ና ህዝቡን የሚወድ ትሁት ልጅ ነበር...   am  \n",
       "4        ሓሶት #Eritrea መንነት ሒዝኩም still ወጻኢ ተቀሚጥኩም፣ሓንጎልኩም...   am  \n",
       "...                                                    ...  ...  \n",
       "5104849  RT @shijianxingzou: 佛州参议员Rick Scott要求调查WHO总干事谭...   zh  \n",
       "5104850  @shuijingxs2 新冠肺炎源头追逐进展，赴武汉比赛女赛车手老公也出现在武汉并且他在胡...   zh  \n",
       "5104851  RT @Bridge__z: 医学专家朱塞佩·雷穆齐说，意大利冠状病毒去年12月甚至11月在...   zh  \n",
       "5104852  RT @maggie140135733: Kyle Bass said:\\n\\n习近平和秘书...   zh  \n",
       "5104853  没有证据表明人传人能洗吗？我只是问问，我不了解\\n反正影响是无法挽回了，WHO早就被锤爆了 ...   zh  \n",
       "\n",
       "[5104854 rows x 5 columns]"
      ]
     },
     "execution_count": 10,
     "metadata": {},
     "output_type": "execute_result"
    }
   ],
   "source": [
    "df_1"
   ]
  },
  {
   "cell_type": "markdown",
   "metadata": {},
   "source": [
    "***\n",
    "### Investigação por atributos"
   ]
  },
  {
   "cell_type": "markdown",
   "metadata": {},
   "source": [
    "Nesta seção, serão abordadas as investigações que foram realizadas levando em consideração alguns atributos dos *tweets*."
   ]
  },
  {
   "cell_type": "markdown",
   "metadata": {},
   "source": [
    "#### Distribuição de tweets por *geo_source*"
   ]
  },
  {
   "cell_type": "markdown",
   "metadata": {},
   "source": [
    "Como visto anteriormente, **o atributo *geo_source* sinaliza qual a origem da localização**, dentre as localizações possíveis, foi considerada para se determinar a localização de um *tweet*.\n",
    "\n",
    "Existem 4 origens de localizações possíveis listadas a seguir por ordem de confiabilidade (1):\n",
    "- ***coordinates***: Localização obtida pela coordenada GPS do aparelho do usuário;\n",
    "- ***place*** : Localização sugerida pelo Twitter para o *tweet* do usuário (exemplo: rua, local turístico, prédio famoso, etc);\n",
    "- ***user_location***: Localização obtida através do perfil do usuário. É um campo texto livre e podem conter locais válidos ou não (Ex: Fortaleza, Terra do Sol, Marte).\n",
    "- ***tweet_texts***: São localizações obtidas a partir dos textos dos usuários. Cada registro da base do GeoCov19 pode ter uma ou mais localizações (cada citação a um local corresponde a uma localização). Cada local pode possuir diversos níveis de granularidade (ex: país, estado, cidade), sendo o menor, o nível de cidade.\n",
    "\n",
    "Na base de dados do GeoCoV19, menos de 2% dos registros possuíam o *geo_source* como *coordinates*, o mais confiável (1). Dentre os registros com localizações brasileiras selecionados, nenhum registro com essa característica foi encontrado.\n",
    "\n",
    "O gráfico a seguir lista o quantitativo de registros por tipo de origem de localização."
   ]
  },
  {
   "cell_type": "code",
   "execution_count": 6,
   "metadata": {},
   "outputs": [
    {
     "data": {
      "image/png": "[encoded data removed]",
      "text/plain": [
       "<Figure size 576x216 with 1 Axes>"
      ]
     },
     "metadata": {
      "needs_background": "light"
     },
     "output_type": "display_data"
    }
   ],
   "source": [
    "df_1.geo_source.value_counts().plot(kind='barh', figsize=(8, 3), title = 'Distribuição de tweets por \"geo_source\"', color='lightsteelblue')\n",
    "\n",
    "for index, value in enumerate(df_1.geo_source.value_counts()):\n",
    "    plt.text(value, index, str(value), verticalalignment='center')"
   ]
  },
  {
   "cell_type": "markdown",
   "metadata": {},
   "source": [
    "**Investigação de registros com *geo_source* do tipo *tweet_text***"
   ]
  },
  {
   "cell_type": "markdown",
   "metadata": {},
   "source": [
    "Tendo como base os quantitativos gerados acima e sabendo-se que as localizações com *geo_source* do tipo *tweet_text* possuem menor nível de confiabilidade, durante a realização deste trabalho, os registros com essa característica tiveram atenção diferenciada a fim de que pudessem ser notadas eventuais inconsistências.\n",
    "\n",
    "Nas células a seguir são abordados casos, notados durante o andamento do trabalho, de localizações que, claramente, não correspondiam à localizações corretas ou reais."
   ]
  },
  {
   "cell_type": "markdown",
   "metadata": {},
   "source": [
    "**Primeiro caso**: Localização retirada do texto não se trata de uma local real de fato.\n",
    "\n",
    "No exemplo a seguir, o *tweet* foi classificado pelo GeoCov19 como sendo localizado na cidade de Sério-RS. \n",
    "\n",
    "Na verdade, o texto faz referência à palavra \"sério\", mas não se trata de uma denominação de localização."
   ]
  },
  {
   "cell_type": "code",
   "execution_count": 18,
   "metadata": {},
   "outputs": [
    {
     "data": {
      "text/plain": [
       "{'tweet_id': 1224037143707820032,\n",
       " 'geo_source': 'tweet_text',\n",
       " 'state': 'Rio Grande do Sul',\n",
       " 'city': 'Sério',\n",
       " 'text': 'Tratam o assunto como coisa séria mas parece que a coisa é séria mesmo.Já apareceu vídeos em que mostram psessoas em pé e de repente morrem.Sério. https://t.co/VXUmwj42QD',\n",
       " 'lang': 'pt'}"
      ]
     },
     "execution_count": 18,
     "metadata": {},
     "output_type": "execute_result"
    }
   ],
   "source": [
    "collection.find_one({'tweet_id': 1224037143707820032}, {'tweet_id':1,'state':1,'city':1,'lang':1, 'text': 1, 'geo_source':1,'_id': 0})"
   ]
  },
  {
   "cell_type": "markdown",
   "metadata": {},
   "source": [
    "No exemplo a seguir ocorre o mesmo caso do item anterior, dessa vez com a palavra \"própria\" que foi associada à cidade de Propriá-SE."
   ]
  },
  {
   "cell_type": "code",
   "execution_count": 19,
   "metadata": {},
   "outputs": [
    {
     "data": {
      "text/plain": [
       "{'tweet_id': 1223985314122866688,\n",
       " 'geo_source': 'tweet_text',\n",
       " 'state': 'Sergipe',\n",
       " 'city': 'Propriá',\n",
       " 'text': 'Ai gente eu ficaria mto assustada pq imagina tar doente e ainda passar pra sua própria família https://t.co/Ts3McS63la',\n",
       " 'lang': 'pt'}"
      ]
     },
     "execution_count": 19,
     "metadata": {},
     "output_type": "execute_result"
    }
   ],
   "source": [
    "collection.find_one({'tweet_id': 1223985314122866688}, {'tweet_id':1,'state':1,'city':1,'lang':1, 'text': 1, 'geo_source':1,'_id': 0})"
   ]
  },
  {
   "cell_type": "markdown",
   "metadata": {},
   "source": [
    "**Segundo caso**: Localização retirada do texto se trata de um local, mas a localização considerada foi incorreta."
   ]
  },
  {
   "cell_type": "markdown",
   "metadata": {},
   "source": [
    "Neste exemplo, o texto faz referência à cidade de Rio do Sul - SC mas a localização considerada foi Rio de Janeiro-RJ."
   ]
  },
  {
   "cell_type": "code",
   "execution_count": 20,
   "metadata": {},
   "outputs": [
    {
     "data": {
      "text/plain": [
       "{'tweet_id': 1224091646968635392,\n",
       " 'geo_source': 'tweet_text',\n",
       " 'state': 'Rio de Janeiro',\n",
       " 'city': 'Rio de Janeiro',\n",
       " 'text': 'RT @DCM_online: Surge segundo caso de Coronavirus em SC, no Rio do Sul https://t.co/mqWJxSIdHP',\n",
       " 'lang': 'pt'}"
      ]
     },
     "execution_count": 20,
     "metadata": {},
     "output_type": "execute_result"
    }
   ],
   "source": [
    "collection.find_one({'tweet_id': 1224091646968635392}, {'tweet_id':1,'state':1,'city':1,'lang':1,'text': 1,'geo_source':1,'_id': 0})"
   ]
  },
  {
   "cell_type": "markdown",
   "metadata": {},
   "source": [
    "Nesta outro exemplo, o conteúdo do texto sugere que o usuário encontra-se em Campos-SP, mas a palavra \"Rio\", identificada como a cidade de Rio de Janeiro-RJ, também é citada."
   ]
  },
  {
   "cell_type": "code",
   "execution_count": 22,
   "metadata": {
    "scrolled": true
   },
   "outputs": [
    {
     "data": {
      "text/plain": [
       "{'tweet_id': 1224078306141790211,\n",
       " 'geo_source': 'tweet_text',\n",
       " 'state': 'Rio de Janeiro',\n",
       " 'city': 'Rio de Janeiro',\n",
       " 'text': '@peumnzscrf Não.   é se esses malucos  trazer o coronavirus pro Rio  ?\\nPRA chegar em Campos é um tiro rsrs\\n\\nObs: zueira 😂',\n",
       " 'lang': 'pt'}"
      ]
     },
     "execution_count": 22,
     "metadata": {},
     "output_type": "execute_result"
    }
   ],
   "source": [
    "collection.find_one({'tweet_id': 1224078306141790211}, {'tweet_id':1,'state':1,'city':1,'lang':1,'text': 1,'geo_source':1,'_id': 0})"
   ]
  },
  {
   "cell_type": "markdown",
   "metadata": {},
   "source": [
    "Baseados nos casos mostrados acima, foi resolvido que os ***tweets* com origem de localização *tweet_text* também seriam desconsiderados**, resultando assim na **segunda seleção** realizada na base de registros brasileiros.\n",
    "\n",
    "A célula a seguir filtra os registros citados e totaliza novamente a quantidade de tweets selecionados."
   ]
  },
  {
   "cell_type": "code",
   "execution_count": 6,
   "metadata": {},
   "outputs": [
    {
     "data": {
      "text/plain": [
       "1921272"
      ]
     },
     "execution_count": 6,
     "metadata": {},
     "output_type": "execute_result"
    }
   ],
   "source": [
    "df_2 = df_1.query(\"geo_source != 'tweet_text'\")\n",
    "df_2.shape[0]"
   ]
  },
  {
   "cell_type": "markdown",
   "metadata": {},
   "source": [
    "#### Investigação de tweets por língua"
   ]
  },
  {
   "cell_type": "markdown",
   "metadata": {},
   "source": [
    "O gráfico a seguir exibe os **idiomas mais contabilizados na base de registros**. O idioma do texto do *tweet* é informado pelo atributo *lang*, provido pelo Twitter (2) no processo de *hydrate*."
   ]
  },
  {
   "cell_type": "code",
   "execution_count": 23,
   "metadata": {},
   "outputs": [
    {
     "data": {
      "image/png": "[encoded data removed]",
      "text/plain": [
       "<Figure size 576x288 with 1 Axes>"
      ]
     },
     "metadata": {
      "needs_background": "light"
     },
     "output_type": "display_data"
    }
   ],
   "source": [
    "df_2.lang.value_counts()[:10].plot(kind='barh', figsize=(8, 4), title = 'Distribuição de tweets por língua', color='lightsteelblue')\n",
    "\n",
    "for index, value in enumerate(df_2.lang.value_counts()[:10]):\n",
    "    plt.text(value, index, str(value), verticalalignment='center')"
   ]
  },
  {
   "cell_type": "markdown",
   "metadata": {},
   "source": [
    "De acordo com o gráfico acima que lista os 10 idiomas mais presentes na base de registros, além do português(pt), existem *tweets* escritos em espanhol(es), inglês(en), catalão(ca), idioma indefindo(*undefined*), francês(fr), italiano(it) e outros."
   ]
  },
  {
   "cell_type": "markdown",
   "metadata": {},
   "source": [
    "#### O caso da cidade de São Paulo-SP"
   ]
  },
  {
   "cell_type": "markdown",
   "metadata": {},
   "source": [
    "Durante o andamento deste trabalho, foi notado que a cidade de São Paulo possuía demasiadamente registros em línguas diferentes do português. \n",
    "\n",
    "Nos passos abaixo, segue um exemplo de registros de *tweets* da cidade de São Paulo e a totalização de registros por língua."
   ]
  },
  {
   "cell_type": "code",
   "execution_count": 23,
   "metadata": {},
   "outputs": [
    {
     "data": {
      "text/html": [
       "<div>\n",
       "<style scoped>\n",
       "    .dataframe tbody tr th:only-of-type {\n",
       "        vertical-align: middle;\n",
       "    }\n",
       "\n",
       "    .dataframe tbody tr th {\n",
       "        vertical-align: top;\n",
       "    }\n",
       "\n",
       "    .dataframe thead th {\n",
       "        text-align: right;\n",
       "    }\n",
       "</style>\n",
       "<table border=\"1\" class=\"dataframe\">\n",
       "  <thead>\n",
       "    <tr style=\"text-align: right;\">\n",
       "      <th></th>\n",
       "      <th>geo_source</th>\n",
       "      <th>state</th>\n",
       "      <th>city</th>\n",
       "      <th>text</th>\n",
       "      <th>lang</th>\n",
       "    </tr>\n",
       "  </thead>\n",
       "  <tbody>\n",
       "    <tr>\n",
       "      <th>26</th>\n",
       "      <td>user_location</td>\n",
       "      <td>São Paulo</td>\n",
       "      <td>São Paulo</td>\n",
       "      <td>RT @rimbougamra1: موقف طريف بالأمس للاعب #يوفن...</td>\n",
       "      <td>ar</td>\n",
       "    </tr>\n",
       "    <tr>\n",
       "      <th>36</th>\n",
       "      <td>user_location</td>\n",
       "      <td>São Paulo</td>\n",
       "      <td>São Paulo</td>\n",
       "      <td>RT @1imec: إلى الله | ♥️ .\\n\\nكل الناس تكلّمت ...</td>\n",
       "      <td>ar</td>\n",
       "    </tr>\n",
       "    <tr>\n",
       "      <th>54</th>\n",
       "      <td>user_location</td>\n",
       "      <td>São Paulo</td>\n",
       "      <td>São Paulo</td>\n",
       "      <td>RT @Elcalcio_: اكتشف أطباء في مستشفى باسكال في...</td>\n",
       "      <td>ar</td>\n",
       "    </tr>\n",
       "    <tr>\n",
       "      <th>193</th>\n",
       "      <td>user_location</td>\n",
       "      <td>São Paulo</td>\n",
       "      <td>São Paulo</td>\n",
       "      <td>RT @Azuri99: نشروا أطباء الايطاليين صورهم قائل...</td>\n",
       "      <td>ar</td>\n",
       "    </tr>\n",
       "    <tr>\n",
       "      <th>204</th>\n",
       "      <td>user_location</td>\n",
       "      <td>São Paulo</td>\n",
       "      <td>São Paulo</td>\n",
       "      <td>RT @mobeid: لمثلها نرفع القبعات احتراما\\nموظفة...</td>\n",
       "      <td>ar</td>\n",
       "    </tr>\n",
       "  </tbody>\n",
       "</table>\n",
       "</div>"
      ],
      "text/plain": [
       "        geo_source      state       city  \\\n",
       "26   user_location  São Paulo  São Paulo   \n",
       "36   user_location  São Paulo  São Paulo   \n",
       "54   user_location  São Paulo  São Paulo   \n",
       "193  user_location  São Paulo  São Paulo   \n",
       "204  user_location  São Paulo  São Paulo   \n",
       "\n",
       "                                                  text lang  \n",
       "26   RT @rimbougamra1: موقف طريف بالأمس للاعب #يوفن...   ar  \n",
       "36   RT @1imec: إلى الله | ♥️ .\\n\\nكل الناس تكلّمت ...   ar  \n",
       "54   RT @Elcalcio_: اكتشف أطباء في مستشفى باسكال في...   ar  \n",
       "193  RT @Azuri99: نشروا أطباء الايطاليين صورهم قائل...   ar  \n",
       "204  RT @mobeid: لمثلها نرفع القبعات احتراما\\nموظفة...   ar  "
      ]
     },
     "execution_count": 23,
     "metadata": {},
     "output_type": "execute_result"
    }
   ],
   "source": [
    "df_sp = df_2.query(\"city == 'São Paulo'\")\n",
    "df_sp.head()"
   ]
  },
  {
   "cell_type": "code",
   "execution_count": 19,
   "metadata": {},
   "outputs": [
    {
     "data": {
      "image/png": "[encoded data removed]",
      "text/plain": [
       "<Figure size 576x216 with 1 Axes>"
      ]
     },
     "metadata": {
      "needs_background": "light"
     },
     "output_type": "display_data"
    }
   ],
   "source": [
    "df_sp.lang.value_counts()[:5].plot(kind='barh', figsize=(8, 3), title = 'Distribuição de tweets por língua - São Paulo-SP', color='lightsteelblue')\n",
    "\n",
    "for index, value in enumerate(df_sp.lang.value_counts()[:5]):\n",
    "    plt.text(value, index, str(value), verticalalignment='center')"
   ]
  },
  {
   "cell_type": "markdown",
   "metadata": {},
   "source": [
    "Foi observado que na cidade investigada, o português, língua nativa, era somente a 4ª língua mais utilizada (atrás até do Catalão) o que levou à desconfiança de que a maioria dos registros dessa cidade não correspondiam de fato à localizações brasileiras. \n",
    "\n",
    "Na célula abaixo totalizamos em porcentagem o total de registros em língua portuguesa identificados na base, o que reforça a desconfiança citada anteriormente."
   ]
  },
  {
   "cell_type": "code",
   "execution_count": 16,
   "metadata": {},
   "outputs": [
    {
     "data": {
      "text/plain": [
       "4.615565760037678"
      ]
     },
     "execution_count": 16,
     "metadata": {},
     "output_type": "execute_result"
    }
   ],
   "source": [
    "(df_sp.query(\"lang == 'pt'\").shape[0]/df_sp.shape[0])*100"
   ]
  },
  {
   "cell_type": "markdown",
   "metadata": {},
   "source": [
    "Tendo como base o caso citado acima, optou-se por utilizar **somente *tweets* em língua portuguesa**, como uma forma de diminuir a probabilidade de considerar registros referentes à localizações não-brasileiras. \n",
    "\n",
    "Outro fator determinante para esta decisão foi o intuito de se utilizar funções de ***processamento de linguagem natural* em resultados de análises de sentimentos brasileiros**. Este trabalho decidiu por focar a utilização desses recursos no idioma português.\n",
    "\n",
    "Sendo assim, é realizada a **terceira seleção** na base de registros deste trabalho, executada na célula a seguir."
   ]
  },
  {
   "cell_type": "code",
   "execution_count": 32,
   "metadata": {},
   "outputs": [
    {
     "data": {
      "text/plain": [
       "1219385"
      ]
     },
     "execution_count": 32,
     "metadata": {},
     "output_type": "execute_result"
    }
   ],
   "source": [
    "df_3 = df_2.query(\"lang == 'pt'\")\n",
    "df_3.shape[0]"
   ]
  },
  {
   "cell_type": "markdown",
   "metadata": {},
   "source": [
    "Na célula a seguir é exibido um *dataframe* com alguns registros resultantes do processo final de seleção:"
   ]
  },
  {
   "cell_type": "code",
   "execution_count": 25,
   "metadata": {
    "scrolled": true
   },
   "outputs": [
    {
     "data": {
      "text/html": [
       "<div>\n",
       "<style scoped>\n",
       "    .dataframe tbody tr th:only-of-type {\n",
       "        vertical-align: middle;\n",
       "    }\n",
       "\n",
       "    .dataframe tbody tr th {\n",
       "        vertical-align: top;\n",
       "    }\n",
       "\n",
       "    .dataframe thead th {\n",
       "        text-align: right;\n",
       "    }\n",
       "</style>\n",
       "<table border=\"1\" class=\"dataframe\">\n",
       "  <thead>\n",
       "    <tr style=\"text-align: right;\">\n",
       "      <th></th>\n",
       "      <th>geo_source</th>\n",
       "      <th>state</th>\n",
       "      <th>city</th>\n",
       "      <th>text</th>\n",
       "      <th>lang</th>\n",
       "    </tr>\n",
       "  </thead>\n",
       "  <tbody>\n",
       "    <tr>\n",
       "      <th>3152778</th>\n",
       "      <td>user_location</td>\n",
       "      <td>Minas Gerais</td>\n",
       "      <td>Varginha</td>\n",
       "      <td>RT @DCM_online: Ano novo chinês em São Paulo t...</td>\n",
       "      <td>pt</td>\n",
       "    </tr>\n",
       "    <tr>\n",
       "      <th>3152779</th>\n",
       "      <td>tweet_text</td>\n",
       "      <td>Rio Grande do Sul</td>\n",
       "      <td>Sério</td>\n",
       "      <td>As mídias amenizando o #coronavirus por causa ...</td>\n",
       "      <td>pt</td>\n",
       "    </tr>\n",
       "    <tr>\n",
       "      <th>3152780</th>\n",
       "      <td>tweet_text</td>\n",
       "      <td>Rio Grande do Sul</td>\n",
       "      <td>Santa Maria</td>\n",
       "      <td>RT @digital_explora: #CORONAVIRUS #CHINA/#WUHA...</td>\n",
       "      <td>pt</td>\n",
       "    </tr>\n",
       "    <tr>\n",
       "      <th>3152781</th>\n",
       "      <td>user_location</td>\n",
       "      <td>Ceará</td>\n",
       "      <td>Fortaleza</td>\n",
       "      <td>RT @Miltonneves: Só piora. Isso não tá parecen...</td>\n",
       "      <td>pt</td>\n",
       "    </tr>\n",
       "    <tr>\n",
       "      <th>3152782</th>\n",
       "      <td>user_location</td>\n",
       "      <td>São Paulo</td>\n",
       "      <td>Ribeirão Preto</td>\n",
       "      <td>RT @barbaragancia: O banana do Ernesto Araújo ...</td>\n",
       "      <td>pt</td>\n",
       "    </tr>\n",
       "    <tr>\n",
       "      <th>...</th>\n",
       "      <td>...</td>\n",
       "      <td>...</td>\n",
       "      <td>...</td>\n",
       "      <td>...</td>\n",
       "      <td>...</td>\n",
       "    </tr>\n",
       "    <tr>\n",
       "      <th>4984168</th>\n",
       "      <td>user_location</td>\n",
       "      <td>Paraná</td>\n",
       "      <td>Curitiba</td>\n",
       "      <td>@GeekAsmatica Meu coração parou por um segundo...</td>\n",
       "      <td>pt</td>\n",
       "    </tr>\n",
       "    <tr>\n",
       "      <th>4984169</th>\n",
       "      <td>tweet_text</td>\n",
       "      <td>São Paulo</td>\n",
       "      <td>São Paulo</td>\n",
       "      <td>RT @Antena1Rio: Boa tarde, amigo ouvinte. Vamo...</td>\n",
       "      <td>pt</td>\n",
       "    </tr>\n",
       "    <tr>\n",
       "      <th>4984170</th>\n",
       "      <td>user_location</td>\n",
       "      <td>Minas Gerais</td>\n",
       "      <td>Belo Horizonte</td>\n",
       "      <td>O bombardeio é diário e ininterrupto. Praticam...</td>\n",
       "      <td>pt</td>\n",
       "    </tr>\n",
       "    <tr>\n",
       "      <th>4984171</th>\n",
       "      <td>user_location</td>\n",
       "      <td>Rio de Janeiro</td>\n",
       "      <td>Belford Roxo</td>\n",
       "      <td>Vamos falar dessa nova ffc gente, chega de Cor...</td>\n",
       "      <td>pt</td>\n",
       "    </tr>\n",
       "    <tr>\n",
       "      <th>4984172</th>\n",
       "      <td>user_location</td>\n",
       "      <td>Amazonas</td>\n",
       "      <td>Manaus</td>\n",
       "      <td>RT @miguelgomes37: @luizhileia Muito bom. Uma ...</td>\n",
       "      <td>pt</td>\n",
       "    </tr>\n",
       "  </tbody>\n",
       "</table>\n",
       "<p>1831395 rows × 5 columns</p>\n",
       "</div>"
      ],
      "text/plain": [
       "            geo_source              state            city  \\\n",
       "3152778  user_location       Minas Gerais        Varginha   \n",
       "3152779     tweet_text  Rio Grande do Sul           Sério   \n",
       "3152780     tweet_text  Rio Grande do Sul     Santa Maria   \n",
       "3152781  user_location              Ceará       Fortaleza   \n",
       "3152782  user_location          São Paulo  Ribeirão Preto   \n",
       "...                ...                ...             ...   \n",
       "4984168  user_location             Paraná        Curitiba   \n",
       "4984169     tweet_text          São Paulo       São Paulo   \n",
       "4984170  user_location       Minas Gerais  Belo Horizonte   \n",
       "4984171  user_location     Rio de Janeiro    Belford Roxo   \n",
       "4984172  user_location           Amazonas          Manaus   \n",
       "\n",
       "                                                      text lang  \n",
       "3152778  RT @DCM_online: Ano novo chinês em São Paulo t...   pt  \n",
       "3152779  As mídias amenizando o #coronavirus por causa ...   pt  \n",
       "3152780  RT @digital_explora: #CORONAVIRUS #CHINA/#WUHA...   pt  \n",
       "3152781  RT @Miltonneves: Só piora. Isso não tá parecen...   pt  \n",
       "3152782  RT @barbaragancia: O banana do Ernesto Araújo ...   pt  \n",
       "...                                                    ...  ...  \n",
       "4984168  @GeekAsmatica Meu coração parou por um segundo...   pt  \n",
       "4984169  RT @Antena1Rio: Boa tarde, amigo ouvinte. Vamo...   pt  \n",
       "4984170  O bombardeio é diário e ininterrupto. Praticam...   pt  \n",
       "4984171  Vamos falar dessa nova ffc gente, chega de Cor...   pt  \n",
       "4984172  RT @miguelgomes37: @luizhileia Muito bom. Uma ...   pt  \n",
       "\n",
       "[1831395 rows x 5 columns]"
      ]
     },
     "execution_count": 25,
     "metadata": {},
     "output_type": "execute_result"
    }
   ],
   "source": [
    "df_3"
   ]
  },
  {
   "cell_type": "markdown",
   "metadata": {},
   "source": [
    "***\n",
    "### Resumo"
   ]
  },
  {
   "cell_type": "markdown",
   "metadata": {},
   "source": [
    "Este *notebook* abordou o processo de **seleção dos *tweets*** extraídos na etapa anterior. Este processo teve como finalidade **desconsiderar registros que não possuíam textos retornados pelo processo de *hydrate*** e **melhorar a probabilidade de que os registros selecionados fossem realmente de localizações brasileiras**.\n",
    "\n",
    "Foram mostrados diversos casos em que as **localizações não eram, certamente ou possivelmente, as reais ou corretas**. Estes casos foram observados durante a manipulação dos dados no decorrer do andamento deste trabalho."
   ]
  },
  {
   "cell_type": "markdown",
   "metadata": {},
   "source": [
    "***\n",
    "### Fontes"
   ]
  },
  {
   "cell_type": "markdown",
   "metadata": {},
   "source": [
    "(1) GeoCoV19: A Dataset of Hundreds of Millions ofMultilingual COVID-19 Tweets with Location Information\n",
    "\n",
    "(2) Twitter API Documentation - https://developer.twitter.com/en/docs"
   ]
  }
 ],
 "metadata": {
  "kernelspec": {
   "display_name": "Python 3",
   "language": "python",
   "name": "python3"
  },
  "language_info": {
   "codemirror_mode": {
    "name": "ipython",
    "version": 3
   },
   "file_extension": ".py",
   "mimetype": "text/x-python",
   "name": "python",
   "nbconvert_exporter": "python",
   "pygments_lexer": "ipython3",
   "version": "3.7.6"
  }
 },
 "nbformat": 4,
 "nbformat_minor": 4
}
