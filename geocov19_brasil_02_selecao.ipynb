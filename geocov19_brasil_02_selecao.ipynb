{
 "cells": [
  {
   "cell_type": "markdown",
   "metadata": {},
   "source": [
    "# Análise de sentimentos de tweets brasileiros nos períodos anterior e inicial da pandemia de Covid-19\n",
    "***"
   ]
  },
  {
   "cell_type": "markdown",
   "metadata": {},
   "source": [
    "<img style=\"float: left;\" src=\"images/menu_selecao.png\" width=\"800\" height=\"500\">"
   ]
  },
  {
   "cell_type": "markdown",
   "metadata": {},
   "source": [
    "## II - Seleção de Tweets"
   ]
  },
  {
   "cell_type": "markdown",
   "metadata": {},
   "source": [
    "Na etapa anterior, foi realizada a extração de tweets com localizações brasileiras, o *hydrate* de seus textos e o armazenamento destes conteúdos em um banco de dados MongoDB.\n",
    "\n",
    "Nesta etapa, será executado procedimento de **seleção de *tweets***, dentre os *tweets* resultantes da etapa anterior. Este *notebook* abordará os passos realizados para esta seleção, as investigações realizadas na base de dados que motivaram este procedimento e seus resultados finais. "
   ]
  },
  {
   "cell_type": "markdown",
   "metadata": {},
   "source": [
    "***\n",
    "### Importações gerais"
   ]
  },
  {
   "cell_type": "code",
   "execution_count": 1,
   "metadata": {},
   "outputs": [],
   "source": [
    "import pandas as pd\n",
    "import matplotlib.pyplot as plt\n",
    "import numpy as np\n",
    "import datetime\n",
    "import seaborn as sns\n",
    "\n",
    "from statistics import mean\n",
    "\n",
    "import warnings\n",
    "warnings.filterwarnings('ignore')"
   ]
  },
  {
   "cell_type": "markdown",
   "metadata": {},
   "source": [
    "### Configurações iniciais"
   ]
  },
  {
   "cell_type": "markdown",
   "metadata": {},
   "source": [
    "#### Conexão ao banco de dados"
   ]
  },
  {
   "cell_type": "code",
   "execution_count": 2,
   "metadata": {},
   "outputs": [],
   "source": [
    "# Criando estrutura do banco de dados\n",
    "from pymongo import MongoClient\n",
    "\n",
    "# Conexão com o servidor do MongoDB\n",
    "client = MongoClient('localhost', 27017)\n",
    "\n",
    "# Conexão com a base de dados do mongoDB\n",
    "db = client.SpedDB\n",
    "\n",
    "# Coleção onde serão inseridos os dados\n",
    "collection = db.tweets_brasil"
   ]
  },
  {
   "cell_type": "markdown",
   "metadata": {},
   "source": [
    "***\n",
    "### Totalização de Tweets"
   ]
  },
  {
   "cell_type": "markdown",
   "metadata": {},
   "source": [
    "Na célula abaixo é calculada a **quantidade total de *tweets* com localizações brasileiras** presentes na base de dados, resultantes da etapa anterior:"
   ]
  },
  {
   "cell_type": "code",
   "execution_count": 3,
   "metadata": {},
   "outputs": [
    {
     "data": {
      "text/plain": [
       "6281690"
      ]
     },
     "execution_count": 3,
     "metadata": {},
     "output_type": "execute_result"
    }
   ],
   "source": [
    "collection.count_documents({})"
   ]
  },
  {
   "cell_type": "markdown",
   "metadata": {},
   "source": [
    "No passo seguinte, serão selecionados **somente os *tweets* que tiveram seus conteúdos retornados** durante o processo de *hydrate*. Neste processo, nem todos os *tweets* são retornados pois eles podem, por exemplo, terem sido apagados. Esta, então, trata-se da **primeira seleção** realizada por este trabalho.\n",
    "\n",
    "Os dados são montados em um *dataframe* para facilitar a visualização e investigação dos resultados."
   ]
  },
  {
   "cell_type": "code",
   "execution_count": 3,
   "metadata": {},
   "outputs": [],
   "source": [
    "df_1 = pd.DataFrame.from_records(collection.find({'text': {'$ne':None}, 'lang': {'$ne':None}}, {'state':1,'city':1,'lang':1,'geo_source':1,'text':1,'created_at':1,'_id': 0}))"
   ]
  },
  {
   "cell_type": "code",
   "execution_count": 11,
   "metadata": {},
   "outputs": [],
   "source": [
    "df_1 = df_1.sort_values(by='created_at')\n",
    "df_1 = df_1.reset_index(drop=True)"
   ]
  },
  {
   "cell_type": "markdown",
   "metadata": {},
   "source": [
    "Abaixo seguem um recorte dos dados filtrados e a **quantidade total de tweets** após a primeira seleção:"
   ]
  },
  {
   "cell_type": "code",
   "execution_count": 13,
   "metadata": {},
   "outputs": [
    {
     "data": {
      "text/html": [
       "<div>\n",
       "<style scoped>\n",
       "    .dataframe tbody tr th:only-of-type {\n",
       "        vertical-align: middle;\n",
       "    }\n",
       "\n",
       "    .dataframe tbody tr th {\n",
       "        vertical-align: top;\n",
       "    }\n",
       "\n",
       "    .dataframe thead th {\n",
       "        text-align: right;\n",
       "    }\n",
       "</style>\n",
       "<table border=\"1\" class=\"dataframe\">\n",
       "  <thead>\n",
       "    <tr style=\"text-align: right;\">\n",
       "      <th></th>\n",
       "      <th>created_at</th>\n",
       "      <th>geo_source</th>\n",
       "      <th>state</th>\n",
       "      <th>city</th>\n",
       "      <th>text</th>\n",
       "      <th>lang</th>\n",
       "    </tr>\n",
       "  </thead>\n",
       "  <tbody>\n",
       "    <tr>\n",
       "      <th>0</th>\n",
       "      <td>2020-02-01 00:01:02</td>\n",
       "      <td>user_location</td>\n",
       "      <td>Paraíba</td>\n",
       "      <td>João Pessoa</td>\n",
       "      <td>RT @popplioikawa: the flu: *results in 500,000...</td>\n",
       "      <td>en</td>\n",
       "    </tr>\n",
       "    <tr>\n",
       "      <th>1</th>\n",
       "      <td>2020-02-01 00:05:38</td>\n",
       "      <td>tweet_text</td>\n",
       "      <td>Rio de Janeiro</td>\n",
       "      <td>Rio de Janeiro</td>\n",
       "      <td>RT @EmoryRollins: Tune in to the Emory Alumni ...</td>\n",
       "      <td>en</td>\n",
       "    </tr>\n",
       "    <tr>\n",
       "      <th>2</th>\n",
       "      <td>2020-02-01 00:09:54</td>\n",
       "      <td>tweet_text</td>\n",
       "      <td>Minas Gerais</td>\n",
       "      <td>Belo Horizonte</td>\n",
       "      <td>@happeehour is there a chance po ba na ma post...</td>\n",
       "      <td>en</td>\n",
       "    </tr>\n",
       "    <tr>\n",
       "      <th>3</th>\n",
       "      <td>2020-02-01 00:12:20</td>\n",
       "      <td>tweet_text</td>\n",
       "      <td>Santa Catarina</td>\n",
       "      <td>Modelo</td>\n",
       "      <td>Nigga what this I hear about corona virus? Jus...</td>\n",
       "      <td>en</td>\n",
       "    </tr>\n",
       "    <tr>\n",
       "      <th>4</th>\n",
       "      <td>2020-02-01 00:13:01</td>\n",
       "      <td>user_location</td>\n",
       "      <td>Minas Gerais</td>\n",
       "      <td>Belo Horizonte</td>\n",
       "      <td>It's a great honor to contribute with this bea...</td>\n",
       "      <td>en</td>\n",
       "    </tr>\n",
       "  </tbody>\n",
       "</table>\n",
       "</div>"
      ],
      "text/plain": [
       "           created_at     geo_source           state            city  \\\n",
       "0 2020-02-01 00:01:02  user_location         Paraíba     João Pessoa   \n",
       "1 2020-02-01 00:05:38     tweet_text  Rio de Janeiro  Rio de Janeiro   \n",
       "2 2020-02-01 00:09:54     tweet_text    Minas Gerais  Belo Horizonte   \n",
       "3 2020-02-01 00:12:20     tweet_text  Santa Catarina          Modelo   \n",
       "4 2020-02-01 00:13:01  user_location    Minas Gerais  Belo Horizonte   \n",
       "\n",
       "                                                text lang  \n",
       "0  RT @popplioikawa: the flu: *results in 500,000...   en  \n",
       "1  RT @EmoryRollins: Tune in to the Emory Alumni ...   en  \n",
       "2  @happeehour is there a chance po ba na ma post...   en  \n",
       "3  Nigga what this I hear about corona virus? Jus...   en  \n",
       "4  It's a great honor to contribute with this bea...   en  "
      ]
     },
     "execution_count": 13,
     "metadata": {},
     "output_type": "execute_result"
    }
   ],
   "source": [
    "df_1.head()"
   ]
  },
  {
   "cell_type": "code",
   "execution_count": 12,
   "metadata": {},
   "outputs": [
    {
     "data": {
      "text/plain": [
       "5104854"
      ]
     },
     "execution_count": 12,
     "metadata": {},
     "output_type": "execute_result"
    }
   ],
   "source": [
    "len(df_1)"
   ]
  },
  {
   "cell_type": "markdown",
   "metadata": {},
   "source": [
    "***\n",
    "### Investigação por atributos"
   ]
  },
  {
   "cell_type": "markdown",
   "metadata": {},
   "source": [
    "Nesta seção, serão abordadas as investigações que foram realizadas levando em consideração alguns atributos dos *tweets*."
   ]
  },
  {
   "cell_type": "markdown",
   "metadata": {},
   "source": [
    "#### Distribuição de tweets por *geo_source*"
   ]
  },
  {
   "cell_type": "markdown",
   "metadata": {},
   "source": [
    "Como visto anteriormente, **o atributo *geo_source* sinaliza qual a origem da localização**, dentre as localizações possíveis, foi considerada para se determinar a localização de um *tweet*.\n",
    "\n",
    "Existem 4 origens de localizações possíveis listadas a seguir por ordem de confiabilidade (1):\n",
    "- ***coordinates***: Localização obtida pela coordenada GPS do aparelho do usuário;\n",
    "- ***place*** : Localização sugerida pelo Twitter para o *tweet* do usuário (exemplo: rua, local turístico, prédio famoso, etc);\n",
    "- ***user_location***: Localização obtida através do perfil do usuário. É um campo texto livre e podem conter locais válidos ou não (Ex: Fortaleza, Terra do Sol, Marte).\n",
    "- ***tweet_texts***: São localizações obtidas a partir dos textos dos usuários. Cada registro da base do GeoCov19 pode ter uma ou mais localizações (cada citação a um local corresponde a uma localização). Cada local pode possuir diversos níveis de granularidade (ex: país, estado, cidade), sendo o menor, o nível de cidade.\n",
    "\n",
    "Na base de dados do GeoCoV19, menos de 2% dos registros possuíam o *geo_source* como *coordinates*, o mais confiável (1). Dentre os registros com localizações brasileiras selecionados, nenhum registro com essa característica foi encontrado.\n",
    "\n",
    "O gráfico a seguir lista o quantitativo de registros por tipo de origem de localização."
   ]
  },
  {
   "cell_type": "code",
   "execution_count": 23,
   "metadata": {},
   "outputs": [
    {
     "data": {
      "image/png": "[encoded data removed]",
      "text/plain": [
       "<Figure size 576x144 with 1 Axes>"
      ]
     },
     "metadata": {
      "needs_background": "light"
     },
     "output_type": "display_data"
    }
   ],
   "source": [
    "df_1.geo_source.value_counts().plot(kind='barh', figsize=(8, 2), title = 'Distribuição de tweets por \"geo_source\"', color='lightsteelblue')\n",
    "\n",
    "for index, value in enumerate(df_1.geo_source.value_counts()):\n",
    "    plt.text(value, index, str(value), verticalalignment='center')"
   ]
  },
  {
   "cell_type": "markdown",
   "metadata": {},
   "source": [
    "**Investigação de registros com *geo_source* do tipo *tweet_text***"
   ]
  },
  {
   "cell_type": "markdown",
   "metadata": {},
   "source": [
    "Tendo como base os quantitativos gerados acima e sabendo-se que as localizações com *geo_source* do tipo *tweet_text* possuem menor nível de confiabilidade, durante a realização deste trabalho, os registros com essa característica tiveram atenção diferenciada a fim de que pudessem ser notadas eventuais inconsistências.\n",
    "\n",
    "Nas células a seguir são abordados casos, notados durante o andamento do trabalho, de localizações que, claramente, não correspondiam à localizações corretas ou reais."
   ]
  },
  {
   "cell_type": "markdown",
   "metadata": {},
   "source": [
    "**Primeiro caso**: Localização retirada do texto não se trata de uma local real de fato.\n",
    "\n",
    "No exemplo a seguir, o *tweet* foi classificado pelo GeoCov19 como sendo localizado na cidade de Sério-RS. \n",
    "\n",
    "Na verdade, o texto faz referência à palavra \"sério\", mas não se trata de uma denominação de localização."
   ]
  },
  {
   "cell_type": "code",
   "execution_count": 15,
   "metadata": {},
   "outputs": [
    {
     "data": {
      "text/plain": [
       "{'tweet_id': 1224037143707820032,\n",
       " 'geo_source': 'tweet_text',\n",
       " 'state': 'Rio Grande do Sul',\n",
       " 'city': 'Sério',\n",
       " 'text': 'Tratam o assunto como coisa séria mas parece que a coisa é séria mesmo.Já apareceu vídeos em que mostram psessoas em pé e de repente morrem.Sério. https://t.co/VXUmwj42QD',\n",
       " 'lang': 'pt'}"
      ]
     },
     "execution_count": 15,
     "metadata": {},
     "output_type": "execute_result"
    }
   ],
   "source": [
    "collection.find_one({'tweet_id': 1224037143707820032}, {'tweet_id':1,'state':1,'city':1,'lang':1, 'text': 1, 'geo_source':1,'_id': 0})"
   ]
  },
  {
   "cell_type": "markdown",
   "metadata": {},
   "source": [
    "No exemplo a seguir ocorre o mesmo caso do item anterior, dessa vez com a palavra \"própria\" que foi associada à cidade de Propriá-SE."
   ]
  },
  {
   "cell_type": "code",
   "execution_count": 16,
   "metadata": {},
   "outputs": [
    {
     "data": {
      "text/plain": [
       "{'tweet_id': 1223985314122866688,\n",
       " 'geo_source': 'tweet_text',\n",
       " 'state': 'Sergipe',\n",
       " 'city': 'Propriá',\n",
       " 'text': 'Ai gente eu ficaria mto assustada pq imagina tar doente e ainda passar pra sua própria família https://t.co/Ts3McS63la',\n",
       " 'lang': 'pt'}"
      ]
     },
     "execution_count": 16,
     "metadata": {},
     "output_type": "execute_result"
    }
   ],
   "source": [
    "collection.find_one({'tweet_id': 1223985314122866688}, {'tweet_id':1,'state':1,'city':1,'lang':1, 'text': 1, 'geo_source':1,'_id': 0})"
   ]
  },
  {
   "cell_type": "markdown",
   "metadata": {},
   "source": [
    "**Segundo caso**: Localização retirada do texto se trata de um local, mas a localização considerada foi incorreta."
   ]
  },
  {
   "cell_type": "markdown",
   "metadata": {},
   "source": [
    "Neste exemplo, o texto faz referência à cidade de Rio do Sul - SC mas a localização considerada foi Rio de Janeiro-RJ."
   ]
  },
  {
   "cell_type": "code",
   "execution_count": 17,
   "metadata": {},
   "outputs": [
    {
     "data": {
      "text/plain": [
       "{'tweet_id': 1224091646968635392,\n",
       " 'geo_source': 'tweet_text',\n",
       " 'state': 'Rio de Janeiro',\n",
       " 'city': 'Rio de Janeiro',\n",
       " 'text': 'RT @DCM_online: Surge segundo caso de Coronavirus em SC, no Rio do Sul https://t.co/mqWJxSIdHP',\n",
       " 'lang': 'pt'}"
      ]
     },
     "execution_count": 17,
     "metadata": {},
     "output_type": "execute_result"
    }
   ],
   "source": [
    "collection.find_one({'tweet_id': 1224091646968635392}, {'tweet_id':1,'state':1,'city':1,'lang':1,'text': 1,'geo_source':1,'_id': 0})"
   ]
  },
  {
   "cell_type": "markdown",
   "metadata": {},
   "source": [
    "Nesta outro exemplo, o conteúdo do texto sugere que o usuário encontra-se em Campos-SP, mas a palavra \"Rio\", identificada como a cidade de Rio de Janeiro-RJ, também é citada."
   ]
  },
  {
   "cell_type": "code",
   "execution_count": 18,
   "metadata": {
    "scrolled": true
   },
   "outputs": [
    {
     "data": {
      "text/plain": [
       "{'tweet_id': 1224078306141790211,\n",
       " 'geo_source': 'tweet_text',\n",
       " 'state': 'Rio de Janeiro',\n",
       " 'city': 'Rio de Janeiro',\n",
       " 'text': '@peumnzscrf Não.   é se esses malucos  trazer o coronavirus pro Rio  ?\\nPRA chegar em Campos é um tiro rsrs\\n\\nObs: zueira 😂',\n",
       " 'lang': 'pt'}"
      ]
     },
     "execution_count": 18,
     "metadata": {},
     "output_type": "execute_result"
    }
   ],
   "source": [
    "collection.find_one({'tweet_id': 1224078306141790211}, {'tweet_id':1,'state':1,'city':1,'lang':1,'text': 1,'geo_source':1,'_id': 0})"
   ]
  },
  {
   "cell_type": "markdown",
   "metadata": {},
   "source": [
    "Baseados nos casos mostrados acima, foi resolvido que os ***tweets* com origem de localização *tweet_text* também seriam desconsiderados**, resultando assim na **segunda seleção** realizada na base de registros brasileiros.\n",
    "\n",
    "Os itens a seguir filtram os registros citados, exibem um recorte destes e totalizam novamente a quantidade de tweets selecionados:"
   ]
  },
  {
   "cell_type": "code",
   "execution_count": 20,
   "metadata": {},
   "outputs": [
    {
     "data": {
      "text/plain": [
       "1921272"
      ]
     },
     "execution_count": 20,
     "metadata": {},
     "output_type": "execute_result"
    }
   ],
   "source": [
    "df_2 = df_1.query(\"geo_source != 'tweet_text'\")\n",
    "df_2 = df_2.reset_index(drop=True)"
   ]
  },
  {
   "cell_type": "code",
   "execution_count": 21,
   "metadata": {},
   "outputs": [
    {
     "data": {
      "text/html": [
       "<div>\n",
       "<style scoped>\n",
       "    .dataframe tbody tr th:only-of-type {\n",
       "        vertical-align: middle;\n",
       "    }\n",
       "\n",
       "    .dataframe tbody tr th {\n",
       "        vertical-align: top;\n",
       "    }\n",
       "\n",
       "    .dataframe thead th {\n",
       "        text-align: right;\n",
       "    }\n",
       "</style>\n",
       "<table border=\"1\" class=\"dataframe\">\n",
       "  <thead>\n",
       "    <tr style=\"text-align: right;\">\n",
       "      <th></th>\n",
       "      <th>created_at</th>\n",
       "      <th>geo_source</th>\n",
       "      <th>state</th>\n",
       "      <th>city</th>\n",
       "      <th>text</th>\n",
       "      <th>lang</th>\n",
       "    </tr>\n",
       "  </thead>\n",
       "  <tbody>\n",
       "    <tr>\n",
       "      <th>0</th>\n",
       "      <td>2020-02-01 00:01:02</td>\n",
       "      <td>user_location</td>\n",
       "      <td>Paraíba</td>\n",
       "      <td>João Pessoa</td>\n",
       "      <td>RT @popplioikawa: the flu: *results in 500,000...</td>\n",
       "      <td>en</td>\n",
       "    </tr>\n",
       "    <tr>\n",
       "      <th>1</th>\n",
       "      <td>2020-02-01 00:13:01</td>\n",
       "      <td>user_location</td>\n",
       "      <td>Minas Gerais</td>\n",
       "      <td>Belo Horizonte</td>\n",
       "      <td>It's a great honor to contribute with this bea...</td>\n",
       "      <td>en</td>\n",
       "    </tr>\n",
       "    <tr>\n",
       "      <th>2</th>\n",
       "      <td>2020-02-01 00:15:19</td>\n",
       "      <td>user_location</td>\n",
       "      <td>São Paulo</td>\n",
       "      <td>Lagoinha</td>\n",
       "      <td>RT @mrnaross: Can there be a Simpsons episode ...</td>\n",
       "      <td>en</td>\n",
       "    </tr>\n",
       "    <tr>\n",
       "      <th>3</th>\n",
       "      <td>2020-02-01 00:15:29</td>\n",
       "      <td>user_location</td>\n",
       "      <td>Pernambuco</td>\n",
       "      <td>Moreno</td>\n",
       "      <td>RT @popplioikawa: the flu: *results in 500,000...</td>\n",
       "      <td>en</td>\n",
       "    </tr>\n",
       "    <tr>\n",
       "      <th>4</th>\n",
       "      <td>2020-02-01 00:16:42</td>\n",
       "      <td>user_location</td>\n",
       "      <td>São Paulo</td>\n",
       "      <td>Santos</td>\n",
       "      <td>RT @choculate: Really appreciated the humanity...</td>\n",
       "      <td>en</td>\n",
       "    </tr>\n",
       "  </tbody>\n",
       "</table>\n",
       "</div>"
      ],
      "text/plain": [
       "           created_at     geo_source         state            city  \\\n",
       "0 2020-02-01 00:01:02  user_location       Paraíba     João Pessoa   \n",
       "1 2020-02-01 00:13:01  user_location  Minas Gerais  Belo Horizonte   \n",
       "2 2020-02-01 00:15:19  user_location     São Paulo        Lagoinha   \n",
       "3 2020-02-01 00:15:29  user_location    Pernambuco          Moreno   \n",
       "4 2020-02-01 00:16:42  user_location     São Paulo          Santos   \n",
       "\n",
       "                                                text lang  \n",
       "0  RT @popplioikawa: the flu: *results in 500,000...   en  \n",
       "1  It's a great honor to contribute with this bea...   en  \n",
       "2  RT @mrnaross: Can there be a Simpsons episode ...   en  \n",
       "3  RT @popplioikawa: the flu: *results in 500,000...   en  \n",
       "4  RT @choculate: Really appreciated the humanity...   en  "
      ]
     },
     "execution_count": 21,
     "metadata": {},
     "output_type": "execute_result"
    }
   ],
   "source": [
    "df_2.head()"
   ]
  },
  {
   "cell_type": "code",
   "execution_count": 24,
   "metadata": {},
   "outputs": [
    {
     "data": {
      "text/plain": [
       "1921272"
      ]
     },
     "execution_count": 24,
     "metadata": {},
     "output_type": "execute_result"
    }
   ],
   "source": [
    "len(df_2)"
   ]
  },
  {
   "cell_type": "markdown",
   "metadata": {},
   "source": [
    "#### Investigação de tweets por língua"
   ]
  },
  {
   "cell_type": "markdown",
   "metadata": {},
   "source": [
    "O gráfico a seguir exibe os **idiomas mais contabilizados na base de registros**. O idioma do texto do *tweet* é informado pelo atributo *lang*, provido pelo Twitter (2) no processo de *hydrate*."
   ]
  },
  {
   "cell_type": "code",
   "execution_count": 53,
   "metadata": {},
   "outputs": [
    {
     "data": {
      "image/png": "[encoded data removed]",
      "text/plain": [
       "<Figure size 576x288 with 1 Axes>"
      ]
     },
     "metadata": {
      "needs_background": "light"
     },
     "output_type": "display_data"
    }
   ],
   "source": [
    "df_2.lang.value_counts()[:10].sort_values().plot(kind='barh', figsize=(8, 4), title = 'Distribuição de tweets por língua', color='lightsteelblue')\n",
    "\n",
    "for index, value in enumerate(df_2.lang.value_counts()[:10].sort_values()):\n",
    "    plt.text(value, index, str(value), verticalalignment='center')"
   ]
  },
  {
   "cell_type": "markdown",
   "metadata": {},
   "source": [
    "De acordo com o gráfico acima que lista os 10 idiomas mais presentes na base de registros, além do português(pt), existem *tweets* escritos em espanhol(es), inglês(en), catalão(ca), idioma indefindo(*undefined*), francês(fr), italiano(it) e outros."
   ]
  },
  {
   "cell_type": "markdown",
   "metadata": {},
   "source": [
    "#### O caso da cidade de São Paulo-SP"
   ]
  },
  {
   "cell_type": "markdown",
   "metadata": {},
   "source": [
    "Durante o andamento deste trabalho, foi notado que a cidade de São Paulo possuía demasiadamente registros em línguas diferentes do português. \n",
    "\n",
    "Nos passos abaixo, segue um exemplo de registros de *tweets* da cidade de São Paulo e a totalização de registros por língua."
   ]
  },
  {
   "cell_type": "code",
   "execution_count": 55,
   "metadata": {},
   "outputs": [
    {
     "data": {
      "text/html": [
       "<div>\n",
       "<style scoped>\n",
       "    .dataframe tbody tr th:only-of-type {\n",
       "        vertical-align: middle;\n",
       "    }\n",
       "\n",
       "    .dataframe tbody tr th {\n",
       "        vertical-align: top;\n",
       "    }\n",
       "\n",
       "    .dataframe thead th {\n",
       "        text-align: right;\n",
       "    }\n",
       "</style>\n",
       "<table border=\"1\" class=\"dataframe\">\n",
       "  <thead>\n",
       "    <tr style=\"text-align: right;\">\n",
       "      <th></th>\n",
       "      <th>created_at</th>\n",
       "      <th>geo_source</th>\n",
       "      <th>state</th>\n",
       "      <th>city</th>\n",
       "      <th>text</th>\n",
       "      <th>lang</th>\n",
       "    </tr>\n",
       "  </thead>\n",
       "  <tbody>\n",
       "    <tr>\n",
       "      <th>37</th>\n",
       "      <td>2020-02-01 01:15:04</td>\n",
       "      <td>user_location</td>\n",
       "      <td>São Paulo</td>\n",
       "      <td>São Paulo</td>\n",
       "      <td>📢An AI Virus Warning System, Mac Malware, and ...</td>\n",
       "      <td>en</td>\n",
       "    </tr>\n",
       "    <tr>\n",
       "      <th>59</th>\n",
       "      <td>2020-02-01 01:57:03</td>\n",
       "      <td>user_location</td>\n",
       "      <td>São Paulo</td>\n",
       "      <td>São Paulo</td>\n",
       "      <td>RT @cnni: The Wuhan coronavirus outbreak has k...</td>\n",
       "      <td>en</td>\n",
       "    </tr>\n",
       "    <tr>\n",
       "      <th>62</th>\n",
       "      <td>2020-02-01 02:12:25</td>\n",
       "      <td>user_location</td>\n",
       "      <td>São Paulo</td>\n",
       "      <td>São Paulo</td>\n",
       "      <td>RT @ChinaDaily: The Chinese Center for Disease...</td>\n",
       "      <td>en</td>\n",
       "    </tr>\n",
       "    <tr>\n",
       "      <th>72</th>\n",
       "      <td>2020-02-01 02:27:23</td>\n",
       "      <td>user_location</td>\n",
       "      <td>São Paulo</td>\n",
       "      <td>São Paulo</td>\n",
       "      <td>RT @popplioikawa: the flu: *results in 500,000...</td>\n",
       "      <td>en</td>\n",
       "    </tr>\n",
       "    <tr>\n",
       "      <th>130</th>\n",
       "      <td>2020-02-01 05:39:02</td>\n",
       "      <td>user_location</td>\n",
       "      <td>São Paulo</td>\n",
       "      <td>São Paulo</td>\n",
       "      <td>RT @TrollFootball: How the Corona Virus starte...</td>\n",
       "      <td>en</td>\n",
       "    </tr>\n",
       "  </tbody>\n",
       "</table>\n",
       "</div>"
      ],
      "text/plain": [
       "             created_at     geo_source      state       city  \\\n",
       "37  2020-02-01 01:15:04  user_location  São Paulo  São Paulo   \n",
       "59  2020-02-01 01:57:03  user_location  São Paulo  São Paulo   \n",
       "62  2020-02-01 02:12:25  user_location  São Paulo  São Paulo   \n",
       "72  2020-02-01 02:27:23  user_location  São Paulo  São Paulo   \n",
       "130 2020-02-01 05:39:02  user_location  São Paulo  São Paulo   \n",
       "\n",
       "                                                  text lang  \n",
       "37   📢An AI Virus Warning System, Mac Malware, and ...   en  \n",
       "59   RT @cnni: The Wuhan coronavirus outbreak has k...   en  \n",
       "62   RT @ChinaDaily: The Chinese Center for Disease...   en  \n",
       "72   RT @popplioikawa: the flu: *results in 500,000...   en  \n",
       "130  RT @TrollFootball: How the Corona Virus starte...   en  "
      ]
     },
     "execution_count": 55,
     "metadata": {},
     "output_type": "execute_result"
    }
   ],
   "source": [
    "df_sp = df_2.query(\"city == 'São Paulo'\")\n",
    "df_sp.head()"
   ]
  },
  {
   "cell_type": "code",
   "execution_count": 56,
   "metadata": {},
   "outputs": [
    {
     "data": {
      "image/png": "[encoded data removed]",
      "text/plain": [
       "<Figure size 576x216 with 1 Axes>"
      ]
     },
     "metadata": {
      "needs_background": "light"
     },
     "output_type": "display_data"
    }
   ],
   "source": [
    "df_sp.lang.value_counts()[:5].sort_values().plot(kind='barh', figsize=(8, 3), title = 'Distribuição de tweets por língua - São Paulo-SP', color='lightsteelblue')\n",
    "\n",
    "for index, value in enumerate(df_sp.lang.value_counts()[:5].sort_values()):\n",
    "    plt.text(value, index, str(value), verticalalignment='center')"
   ]
  },
  {
   "cell_type": "markdown",
   "metadata": {},
   "source": [
    "Foi observado que na cidade investigada, o português, língua nativa, era somente a 4ª língua mais utilizada (atrás até do Catalão) o que levou à desconfiança de que a maioria dos registros dessa cidade não correspondiam de fato à localizações brasileiras. \n",
    "\n",
    "Na célula abaixo totalizamos em porcentagem o total de registros em língua portuguesa identificados na base, o que reforça a desconfiança citada anteriormente."
   ]
  },
  {
   "cell_type": "code",
   "execution_count": 16,
   "metadata": {},
   "outputs": [
    {
     "data": {
      "text/plain": [
       "4.615565760037678"
      ]
     },
     "execution_count": 16,
     "metadata": {},
     "output_type": "execute_result"
    }
   ],
   "source": [
    "(df_sp.query(\"lang == 'pt'\").shape[0]/df_sp.shape[0])*100"
   ]
  },
  {
   "cell_type": "markdown",
   "metadata": {},
   "source": [
    "Tendo como base o caso citado acima, optou-se por utilizar **somente *tweets* em língua portuguesa**, como uma forma de diminuir a probabilidade de considerar registros referentes à localizações não-brasileiras. \n",
    "\n",
    "Outro fator determinante para esta decisão foi o intuito de se utilizar funções de ***processamento de linguagem natural* em resultados de análises de sentimentos brasileiros**. Este trabalho decidiu por focar a utilização desses recursos no idioma português.\n",
    "\n",
    "Sendo assim, é realizada a **terceira seleção** na base de registros deste trabalho, executada na célula a seguir."
   ]
  },
  {
   "cell_type": "code",
   "execution_count": 25,
   "metadata": {},
   "outputs": [],
   "source": [
    "df_3 = df_2.query(\"lang == 'pt'\")\n",
    "df_3 = df_3.reset_index(drop=True)"
   ]
  },
  {
   "cell_type": "markdown",
   "metadata": {},
   "source": [
    "Os itens seguintes exibem um recorte dos registros resultantes e a sua totalização ao final do processo seleção:"
   ]
  },
  {
   "cell_type": "code",
   "execution_count": 28,
   "metadata": {
    "scrolled": false
   },
   "outputs": [
    {
     "data": {
      "text/html": [
       "<div>\n",
       "<style scoped>\n",
       "    .dataframe tbody tr th:only-of-type {\n",
       "        vertical-align: middle;\n",
       "    }\n",
       "\n",
       "    .dataframe tbody tr th {\n",
       "        vertical-align: top;\n",
       "    }\n",
       "\n",
       "    .dataframe thead th {\n",
       "        text-align: right;\n",
       "    }\n",
       "</style>\n",
       "<table border=\"1\" class=\"dataframe\">\n",
       "  <thead>\n",
       "    <tr style=\"text-align: right;\">\n",
       "      <th></th>\n",
       "      <th>created_at</th>\n",
       "      <th>geo_source</th>\n",
       "      <th>state</th>\n",
       "      <th>city</th>\n",
       "      <th>text</th>\n",
       "      <th>lang</th>\n",
       "    </tr>\n",
       "  </thead>\n",
       "  <tbody>\n",
       "    <tr>\n",
       "      <th>0</th>\n",
       "      <td>2020-02-02 09:32:32</td>\n",
       "      <td>user_location</td>\n",
       "      <td>Piauí</td>\n",
       "      <td>Amarante</td>\n",
       "      <td>RT @FuturasPromess: RTT ou amanhã acordas com ...</td>\n",
       "      <td>pt</td>\n",
       "    </tr>\n",
       "    <tr>\n",
       "      <th>1</th>\n",
       "      <td>2020-02-02 09:33:28</td>\n",
       "      <td>user_location</td>\n",
       "      <td>São Paulo</td>\n",
       "      <td>Sorocaba</td>\n",
       "      <td>RT @revistasuper: #SuperLidas A doença surgiu ...</td>\n",
       "      <td>pt</td>\n",
       "    </tr>\n",
       "    <tr>\n",
       "      <th>2</th>\n",
       "      <td>2020-02-02 09:34:20</td>\n",
       "      <td>user_location</td>\n",
       "      <td>Piauí</td>\n",
       "      <td>Amarante</td>\n",
       "      <td>RT @FuturasPromess: RTT ou amanhã acordas com ...</td>\n",
       "      <td>pt</td>\n",
       "    </tr>\n",
       "    <tr>\n",
       "      <th>3</th>\n",
       "      <td>2020-02-02 09:38:24</td>\n",
       "      <td>user_location</td>\n",
       "      <td>Paraíba</td>\n",
       "      <td>João Pessoa</td>\n",
       "      <td>RT @lelispatricia: Olavo de Carvalho é o “guru...</td>\n",
       "      <td>pt</td>\n",
       "    </tr>\n",
       "    <tr>\n",
       "      <th>4</th>\n",
       "      <td>2020-02-02 09:39:50</td>\n",
       "      <td>user_location</td>\n",
       "      <td>São Paulo</td>\n",
       "      <td>Conchas</td>\n",
       "      <td>RT @da_goiabeira: Passam a vida criticando a c...</td>\n",
       "      <td>pt</td>\n",
       "    </tr>\n",
       "  </tbody>\n",
       "</table>\n",
       "</div>"
      ],
      "text/plain": [
       "           created_at     geo_source      state         city  \\\n",
       "0 2020-02-02 09:32:32  user_location      Piauí     Amarante   \n",
       "1 2020-02-02 09:33:28  user_location  São Paulo     Sorocaba   \n",
       "2 2020-02-02 09:34:20  user_location      Piauí     Amarante   \n",
       "3 2020-02-02 09:38:24  user_location    Paraíba  João Pessoa   \n",
       "4 2020-02-02 09:39:50  user_location  São Paulo      Conchas   \n",
       "\n",
       "                                                text lang  \n",
       "0  RT @FuturasPromess: RTT ou amanhã acordas com ...   pt  \n",
       "1  RT @revistasuper: #SuperLidas A doença surgiu ...   pt  \n",
       "2  RT @FuturasPromess: RTT ou amanhã acordas com ...   pt  \n",
       "3  RT @lelispatricia: Olavo de Carvalho é o “guru...   pt  \n",
       "4  RT @da_goiabeira: Passam a vida criticando a c...   pt  "
      ]
     },
     "execution_count": 28,
     "metadata": {},
     "output_type": "execute_result"
    }
   ],
   "source": [
    "df_3.head()"
   ]
  },
  {
   "cell_type": "code",
   "execution_count": 26,
   "metadata": {},
   "outputs": [
    {
     "data": {
      "text/plain": [
       "1219385"
      ]
     },
     "execution_count": 26,
     "metadata": {},
     "output_type": "execute_result"
    }
   ],
   "source": [
    "len(df_3)"
   ]
  },
  {
   "cell_type": "markdown",
   "metadata": {},
   "source": [
    "***\n",
    "#### Nota\n",
    "\n",
    "Observa-se que, após esta última seleção não constam mais nos resultados registros referentes ao primeiro dia (01/02/2020). De fato, neste dia, não existem *tweets* que obedeçam aos critérios de possuírem textos não vazios, *geo_source* diferente de *tweet_text* (localização não considerada a partir do contéudo do texto) e *lang* igual a *pt* (escritos em língua portuguesa), como pode é confirmado na consulta a seguir:"
   ]
  },
  {
   "cell_type": "code",
   "execution_count": 31,
   "metadata": {},
   "outputs": [
    {
     "data": {
      "text/plain": [
       "0"
      ]
     },
     "execution_count": 31,
     "metadata": {},
     "output_type": "execute_result"
    }
   ],
   "source": [
    "from datetime import datetime\n",
    "\n",
    "start = datetime(2020, 2, 1, 0, 0, 0)\n",
    "end = datetime(2020, 2, 1, 23, 59, 59)\n",
    "\n",
    "query = \n",
    "\n",
    "collection.count_documents({'text':{'$ne':None}, 'lang':'pt', 'created_at': {'$lt': end, '$gte': start}, '$or':[{'geo_source':'place'}, {'geo_source':'user_location'}]}) "
   ]
  },
  {
   "cell_type": "markdown",
   "metadata": {},
   "source": [
    "Nos itens a seguir, são carregados todos os registros referentes ao dia 01/02/2020 da base de dados de *tweets*, desconsiderando todas as filtragens realizadas no processo de seleçao realizado neste *notebook*. Conforme ilustrado no gráfico adiante, para o dia análisado, o banco de dados somente possui *tweets* escritos em língua inglesa e por este motivo estes registros não fizeram parte do conjunto final do processo de seleção."
   ]
  },
  {
   "cell_type": "code",
   "execution_count": 41,
   "metadata": {
    "scrolled": true
   },
   "outputs": [],
   "source": [
    "df_01_02_2020 = pd.DataFrame.from_records(collection.find({'text':{'$ne':None}, 'created_at': {'$lt': end, '$gte': start}}, {'state':1,'city':1,'lang':1,'geo_source':1,'text':1,'created_at':1,'_id': 0}))"
   ]
  },
  {
   "cell_type": "code",
   "execution_count": 42,
   "metadata": {},
   "outputs": [
    {
     "data": {
      "image/png": "[encoded data removed]",
      "text/plain": [
       "<Figure size 576x72 with 1 Axes>"
      ]
     },
     "metadata": {
      "needs_background": "light"
     },
     "output_type": "display_data"
    }
   ],
   "source": [
    "df_01_02_2020.lang.value_counts()[:10].plot(kind='barh', figsize=(8, 1), title = 'Distribuição de tweets por língua - 01/02/2020', color='lightsteelblue')\n",
    "\n",
    "for index, value in enumerate(df_01_02_2020.lang.value_counts()[:10]):\n",
    "    plt.text(value, index, str(value), verticalalignment='center')"
   ]
  },
  {
   "cell_type": "markdown",
   "metadata": {},
   "source": [
    "A imagem a seguir ilustra, resumidamente, os passos realizados para a execução do procedimento de seleção realizado neste *notebook*."
   ]
  },
  {
   "cell_type": "markdown",
   "metadata": {},
   "source": [
    "<img style=\"float: left;\" src=\"images/fluxo_selecao.png\">"
   ]
  },
  {
   "cell_type": "markdown",
   "metadata": {},
   "source": [
    "***\n",
    "### Resumo"
   ]
  },
  {
   "cell_type": "markdown",
   "metadata": {},
   "source": [
    "Este *notebook* abordou o processo de **seleção dos *tweets*** extraídos na etapa anterior. Este processo teve como finalidade **desconsiderar registros que não possuíam textos retornados pelo processo de *hydrate*** e **melhorar a probabilidade de que os registros selecionados fossem realmente de localizações brasileiras**.\n",
    "\n",
    "Foram mostrados diversos casos em que as **localizações não eram**, certamente ou possivelmente, **as reais ou corretas**. Estes casos foram observados durante a manipulação dos dados no decorrer do andamento deste trabalho."
   ]
  },
  {
   "cell_type": "markdown",
   "metadata": {},
   "source": [
    "***\n",
    "### Fontes"
   ]
  },
  {
   "cell_type": "markdown",
   "metadata": {},
   "source": [
    "(1) GeoCoV19: A Dataset of Hundreds of Millions ofMultilingual COVID-19 Tweets with Location Information\n",
    "\n",
    "(2) Twitter API Documentation - https://developer.twitter.com/en/docs"
   ]
  }
 ],
 "metadata": {
  "kernelspec": {
   "display_name": "Python 3",
   "language": "python",
   "name": "python3"
  },
  "language_info": {
   "codemirror_mode": {
    "name": "ipython",
    "version": 3
   },
   "file_extension": ".py",
   "mimetype": "text/x-python",
   "name": "python",
   "nbconvert_exporter": "python",
   "pygments_lexer": "ipython3",
   "version": "3.7.6"
  }
 },
 "nbformat": 4,
 "nbformat_minor": 4
}
