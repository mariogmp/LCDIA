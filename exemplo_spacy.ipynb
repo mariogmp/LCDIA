{
 "cells": [
  {
   "cell_type": "code",
   "execution_count": 3,
   "metadata": {},
   "outputs": [],
   "source": [
    "import spacy"
   ]
  },
  {
   "cell_type": "code",
   "execution_count": 4,
   "metadata": {},
   "outputs": [],
   "source": [
    "nlp = spacy.load(\"pt_core_news_sm\")\n",
    "nlp2 = spacy.load(\"/home/mario/Documentos/LCDIA/Analytics/Backup-Notebooks/tests/modelo_teste.md\")"
   ]
  },
  {
   "cell_type": "code",
   "execution_count": 5,
   "metadata": {},
   "outputs": [
    {
     "name": "stdout",
     "output_type": "stream",
     "text": [
      "Mandetta MISC\n"
     ]
    }
   ],
   "source": [
    "text = 'O ministro da saúde Mandetta divulgou informações importantes.'\n",
    "\n",
    "spacy_res = nlp(text)\n",
    "for ent in spacy_res.ents:\n",
    "    print(ent,ent.label_)"
   ]
  },
  {
   "cell_type": "code",
   "execution_count": 6,
   "metadata": {},
   "outputs": [
    {
     "name": "stdout",
     "output_type": "stream",
     "text": [
      "Mandetta PERSON\n"
     ]
    }
   ],
   "source": [
    "text = 'O ministro da saúde Mandetta divulgou informações importantes.'\n",
    "\n",
    "spacy_res = nlp2(text)\n",
    "for ent in spacy_res.ents:\n",
    "    print(ent,ent.label_)"
   ]
  },
  {
   "cell_type": "code",
   "execution_count": null,
   "metadata": {},
   "outputs": [],
   "source": []
  }
 ],
 "metadata": {
  "kernelspec": {
   "display_name": "Python 3",
   "language": "python",
   "name": "python3"
  },
  "language_info": {
   "codemirror_mode": {
    "name": "ipython",
    "version": 3
   },
   "file_extension": ".py",
   "mimetype": "text/x-python",
   "name": "python",
   "nbconvert_exporter": "python",
   "pygments_lexer": "ipython3",
   "version": "3.7.6"
  }
 },
 "nbformat": 4,
 "nbformat_minor": 4
}
