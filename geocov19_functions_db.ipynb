{
 "cells": [
  {
   "cell_type": "code",
   "execution_count": 3,
   "metadata": {},
   "outputs": [],
   "source": [
    "import json\n",
    "import geocov19_functions_util as geoutil"
   ]
  },
  {
   "cell_type": "code",
   "execution_count": 4,
   "metadata": {},
   "outputs": [],
   "source": [
    "def create_db(collection, json_files):\n",
    "     \n",
    "    for file in json_files: \n",
    "        print('Criando tweets do arquivo '+file)\n",
    "        with open(file) as json_file: \n",
    "            tweets = json.load(json_file)  \n",
    "            for tweet in tweets:\n",
    "                date = geoutil.str_to_datetime(tweet['created_at'])\n",
    "                tweet['created_at'] = date\n",
    "                tweet['period'] = str(date.year) + \"_\" + str(date.month).zfill(2)\n",
    "                tweet['text'] = None\n",
    "                tweet['lang'] = None\n",
    "                tweet['score'] = None\n",
    "                collection.insert_one(tweet)"
   ]
  },
  {
   "cell_type": "code",
   "execution_count": 5,
   "metadata": {},
   "outputs": [],
   "source": [
    "def update_tweets_db(collection, json_files):\n",
    "    \n",
    "    for file in json_files:\n",
    "    \n",
    "        print('Atualizando tweets do arquivo '+file)\n",
    "        for line in open(file, 'r'):\n",
    "            tweet = json.loads(line)\n",
    "            collection.update_one({\"tweet_id\": tweet['id']}, {'$set':{\"text\": tweet['full_text'], \"lang\": tweet['lang']}})"
   ]
  },
  {
   "cell_type": "code",
   "execution_count": 6,
   "metadata": {},
   "outputs": [],
   "source": [
    "def create_index(collection, column):\n",
    "    collection.create_index(column)"
   ]
  }
 ],
 "metadata": {
  "kernelspec": {
   "display_name": "Python 3",
   "language": "python",
   "name": "python3"
  },
  "language_info": {
   "codemirror_mode": {
    "name": "ipython",
    "version": 3
   },
   "file_extension": ".py",
   "mimetype": "text/x-python",
   "name": "python",
   "nbconvert_exporter": "python",
   "pygments_lexer": "ipython3",
   "version": "3.7.6"
  }
 },
 "nbformat": 4,
 "nbformat_minor": 4
}
